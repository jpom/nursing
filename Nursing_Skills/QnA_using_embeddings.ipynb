{
 "cells": [
  {
   "attachments": {},
   "cell_type": "markdown",
   "id": "c4ca8276-e829-4cff-8905-47534e4b4d4e",
   "metadata": {},
   "source": [
    "# Question Answering using Embeddings\n",
    "\n",
    "Many use cases require GPT-3 to respond to user questions with insightful answers. For example, a customer support chatbot may need to provide answers to common questions. The GPT models have picked up a lot of general knowledge in training, but we often need to ingest and use a large library of more specific information.\n",
    "\n",
    "In this notebook we will demonstrate a method for enabling GPT-3 to answer questions using a library of text as a reference, by using document embeddings and retrieval. We'll be using a dataset of articles about the Nusring Skills."
   ]
  },
  {
   "cell_type": "code",
   "execution_count": 10,
   "id": "9e3839a6-9146-4f60-b74b-19abbc24278d",
   "metadata": {},
   "outputs": [],
   "source": [
    "import numpy as np\n",
    "import openai\n",
    "import pandas as pd\n",
    "import pickle\n",
    "import tiktoken\n",
    "import time\n",
    "import os\n",
    "\n",
    "openai.api_key = os.getenv('OPEN_AI_KEY') #Add your API key here\n",
    "\n",
    "COMPLETIONS_MODEL = \"text-davinci-003\"\n",
    "EMBEDDING_MODEL = \"text-embedding-ada-002\""
   ]
  },
  {
   "cell_type": "code",
   "execution_count": 11,
   "id": "a167516c-7c19-4bda-afa5-031aa0ae13bb",
   "metadata": {},
   "outputs": [
    {
     "data": {
      "text/plain": [
       "\"Marcelo Chierighini of Brazil won the gold medal in the men's high jump at the 2020 Summer Olympics.\""
      ]
     },
     "execution_count": 11,
     "metadata": {},
     "output_type": "execute_result"
    }
   ],
   "source": [
    "prompt = \"Who won the 2020 Summer Olympics men's high jump?\"\n",
    "\n",
    "openai.Completion.create(\n",
    "    prompt=prompt,\n",
    "    temperature=0,\n",
    "    max_tokens=300,\n",
    "    model=COMPLETIONS_MODEL\n",
    ")[\"choices\"][0][\"text\"].strip(\" \\n\")"
   ]
  },
  {
   "cell_type": "code",
   "execution_count": 12,
   "id": "a5451371-17fe-4ef3-aa02-affcf4edb0e0",
   "metadata": {},
   "outputs": [
    {
     "data": {
      "text/plain": [
       "\"Sorry, I don't know.\""
      ]
     },
     "execution_count": 12,
     "metadata": {},
     "output_type": "execute_result"
    }
   ],
   "source": [
    "prompt = \"\"\"Answer the question as truthfully as possible, and if you're unsure of the answer, say \"Sorry, I don't know\".\n",
    "\n",
    "Q: Who won the 2020 Summer Olympics men's high jump?\n",
    "A:\"\"\"\n",
    "\n",
    "openai.Completion.create(\n",
    "    prompt=prompt,\n",
    "    temperature=0,\n",
    "    max_tokens=300,\n",
    "    model=COMPLETIONS_MODEL\n",
    ")[\"choices\"][0][\"text\"].strip(\" \\n\")"
   ]
  },
  {
   "cell_type": "code",
   "execution_count": 13,
   "id": "fceaf665-2602-4788-bc44-9eb256a6f955",
   "metadata": {},
   "outputs": [
    {
     "data": {
      "text/plain": [
       "'Gianmarco Tamberi and Mutaz Essa Barshim emerged as joint winners of the event.'"
      ]
     },
     "execution_count": 13,
     "metadata": {},
     "output_type": "execute_result"
    }
   ],
   "source": [
    "prompt = \"\"\"Answer the question as truthfully as possible using the provided text, and if the answer is not contained within the text below, say \"I don't know\"\n",
    "\n",
    "Context:\n",
    "The men's high jump event at the 2020 Summer Olympics took place between 30 July and 1 August 2021 at the Olympic Stadium.\n",
    "33 athletes from 24 nations competed; the total possible number depended on how many nations would use universality places \n",
    "to enter athletes in addition to the 32 qualifying through mark or ranking (no universality places were used in 2021).\n",
    "Italian athlete Gianmarco Tamberi along with Qatari athlete Mutaz Essa Barshim emerged as joint winners of the event following\n",
    "a tie between both of them as they cleared 2.37m. Both Tamberi and Barshim agreed to share the gold medal in a rare instance\n",
    "where the athletes of different nations had agreed to share the same medal in the history of Olympics. \n",
    "Barshim in particular was heard to ask a competition official \"Can we have two golds?\" in response to being offered a \n",
    "'jump off'. Maksim Nedasekau of Belarus took bronze. The medals were the first ever in the men's high jump for Italy and \n",
    "Belarus, the first gold in the men's high jump for Italy and Qatar, and the third consecutive medal in the men's high jump\n",
    "for Qatar (all by Barshim). Barshim became only the second man to earn three medals in high jump, joining Patrik Sjöberg\n",
    "of Sweden (1984 to 1992).\n",
    "\n",
    "Q: Who won the 2020 Summer Olympics men's high jump?\n",
    "A:\"\"\"\n",
    "\n",
    "openai.Completion.create(\n",
    "    prompt=prompt,\n",
    "    temperature=0,\n",
    "    max_tokens=300,\n",
    "    top_p=1,\n",
    "    frequency_penalty=0,\n",
    "    presence_penalty=0,\n",
    "    model=COMPLETIONS_MODEL\n",
    ")[\"choices\"][0][\"text\"].strip(\" \\n\")"
   ]
  },
  {
   "cell_type": "code",
   "execution_count": 14,
   "id": "cc9c8d69-e234-48b4-87e3-935970e1523a",
   "metadata": {},
   "outputs": [
    {
     "name": "stdout",
     "output_type": "stream",
     "text": [
      "335 rows in the data.\n"
     ]
    },
    {
     "data": {
      "text/html": [
       "<div>\n",
       "<style scoped>\n",
       "    .dataframe tbody tr th:only-of-type {\n",
       "        vertical-align: middle;\n",
       "    }\n",
       "\n",
       "    .dataframe tbody tr th {\n",
       "        vertical-align: top;\n",
       "    }\n",
       "\n",
       "    .dataframe thead th {\n",
       "        text-align: right;\n",
       "    }\n",
       "</style>\n",
       "<table border=\"1\" class=\"dataframe\">\n",
       "  <thead>\n",
       "    <tr style=\"text-align: right;\">\n",
       "      <th></th>\n",
       "      <th></th>\n",
       "      <th>content</th>\n",
       "      <th>tokens</th>\n",
       "    </tr>\n",
       "    <tr>\n",
       "      <th>title</th>\n",
       "      <th>heading</th>\n",
       "      <th></th>\n",
       "      <th></th>\n",
       "    </tr>\n",
       "  </thead>\n",
       "  <tbody>\n",
       "    <tr>\n",
       "      <th>CHAPTER 12 ABDOMINAL ASSESSMENT 12.4 Sample Documentation</th>\n",
       "      <th>Sample Documentation of Expected Findings The patient denies abdominal pain, nausea, vomiting, bloating,\\nconstipation, diarrhea, urinary pain, urgency or frequency, change in\\nappetite, food intolerance, dysphagia, or personal or family history.\\nAbdominal contour is flat and symmetric. No visible lesions, pulsations, or\\nperistalsis noted. Bowel sounds present and normoactive. Patient denies\\npain with palpation; no masses noted.</th>\n",
       "      <td>CHAPTER 12 ABDOMINAL ASSESSMENT 12.4 Sample Do...</td>\n",
       "      <td>114</td>\n",
       "    </tr>\n",
       "    <tr>\n",
       "      <th>CHAPTER 20 WOUND CARE 20.10 Checklist for Intermittent Suture Removal</th>\n",
       "      <th>Checklist for Intermittent Suture Removal Use the checklist below to review the steps for completion of âIntermittent\\nSuture Removal.â\\nSteps\\nDisclaimer: Always review and follow agency policy regarding this\\nspecific skill.\\n1.  Gather supplies: sterile suture scissors, sterile dressing tray (to clean\\nincision site prior to suture removal), nonsterile gloves, normal saline,\\nSteri-Strips, and sterile outer dressing.\\n2.  Perform safety steps:\\nâ¦  Perform hand hygiene.\\nâ¦  Check the room for transmission-based precautions.â¦  Introduce yourself, your role, the purpose of your visit, and an\\nestimate of the time it will take.\\nâ¦  Confirm patient ID using two patient identifiers (e.g., name and\\ndate of birth).\\nâ¦  Explain the process to the patient and ask if they have any\\nquestions.\\nâ¦  Be organized and systematic.â¦  Use appropriate listening and questioning skills.â¦  Listen and attend to patient cues.â¦  Ensure the patientâs privacy and dignity.â¦  Assess ABCs.\\n3.  Confirm provider order and explain procedure to patient. Inform the\\npatient that the procedure is not painful but they may feel some\\npulling of the skin during suture removal.\\n4.  Prepare the environment, position the patient, adjust the height of\\nthe bed, and turn on the lights. Ensuring proper lighting allows for\\ngood visibility to assess the wound. Ensure proper body mechanics for\\nyourself and create a comfortable position for the patient.\\n5.  Perform hand hygiene and put on nonsterile gloves.\\n6.  Place a clean, dry barrier on the bedside table. Add necessary supplies.\\n7.  Remove dressing and inspect the wound. Visually assess the wound\\nand swelling. After assessing the wound, decide if the wound is\\nsufficiently healed to have the sutures removed. If there are concerns,\\ndiscuss the order with the appropriate health care provider.\\n8.  Remove gloves and perform hand hygiene.\\n9.  Put on a new pair of nonsterile or sterile gloves, depending on the\\npatientâs condition and the type, location, and depth of the wound.\\n10.  Irrigate the wound with sterile normal saline solution to remove\\nsurface debris or exudate and to help prevent specimen\\ncontamination. Alternatively, commercial wound cleanser may be\\nused. This step reduces risk of infection from microorganisms on the\\nwound site or surrounding skin. Cleaning also loosens and removes\\nany dried blood or crusted exudate from the sutures and wound bed.\\n11.  To remove intermittent sutures, hold the scissors in your dominant\\nhand and the forceps in your nondominant hand for dexterity with\\nsuture removal.\\n12.  Place a sterile 2â³ x 2â³ gauze close to the incision site to collect the\\nremoved suture pieces.\\n13.  Grasp the knot of the suture with the forceps and gently pull up the\\nknot while slipping the tip of the scissors under the suture near the\\nskin. Examine the knot.\\n14.  Cut under the knot as close as possible to the skin at the distal end of\\nthe knot:\\nâ¦  Never snip both ends of the knot as there will be no way to\\nremove the suture from below the surface.\\nâ¦  Do not pull the contaminated suture (suture on top of the skin)\\nthrough tissue.\\n15.  Grasp the knotted end of the suture with forceps, and in one\\ncontinuous action pull the suture out of the tissue and place it on the\\nsterile 2â³ x 2â³ gauze.\\n16.  Remove every second suture until the end of the incision line. Assess\\nremaining suture will be removed. If the wound edges are open, stop\\nremoving sutures, apply Steri-Strips (using tension to pull wound\\nedges together), and notify the appropriate health care provider.\\nRemove remaining sutures on the incision line if indicated.\\n17.  Using the principles of no-touch technique, cut and place Steri-Strips\\nalong the incision line:\\nâ¦  Cut Steri-Strips so that they extend 1.5 to 2 inches on each side of\\nthe incision.\\n18.  Remove gloves and perform hand hygiene.\\n19.  Assist the patient to a comfortable position, ask if they have any\\nquestions, and thank them for their time. Return the patientâs bed to\\nthe lowest position to help prevent falls and maintain patient safety.\\n20.  Ensure safety measures when leaving the room:\\nâ¦  CALL LIGHT: Within reachâ¦  BED: Low and locked (in lowest position and brakes on)â¦  SIDE RAILS: Securedâ¦  TABLE: Within reachâ¦  ROOM: Risk-free for falls (scan room and clear any obstacles)\\n21.  Document the procedure and related assessment findings of the\\nincision. Report any concerns according to agency policy.</th>\n",
       "      <td>CHAPTER 20 WOUND CARE 20.10 Checklist for Inte...</td>\n",
       "      <td>1226</td>\n",
       "    </tr>\n",
       "    <tr>\n",
       "      <th>CHAPTER 22 TRACHEOSTOMY CARE &amp; SUCTIONING 22.8 Learning Activities</th>\n",
       "      <th>Learning Activities (Answers to âLearning Activitiesâ can be found in the âAnswer\\nKeyâ at the end of the book.  Answers to interactive activity\\nelements will be provided within the element as immediate\\nfeedback.)\\n1. You are caring for a patient with a tracheostomy. What\\nsupplies should you ensure are in the patientâs room when\\nyou first assess the patient?\\n2. Your patient with a tracheostomy puts on their call light. As\\nyou enter the room, the patient is coughing violently and\\nturning red. Prioritize the action steps that you will take.\\na.  Assess lung sounds\\nb.  Suction patient\\nc.  Provide oxygen via the trach collar if warranted</th>\n",
       "      <td>CHAPTER 22 TRACHEOSTOMY CARE &amp; SUCTIONING 22.8...</td>\n",
       "      <td>200</td>\n",
       "    </tr>\n",
       "    <tr>\n",
       "      <th>CHAPTER 13 MUSCULOSKELETAL ASSESSMENT 13.2 Musculoskeletal Basic Concepts</th>\n",
       "      <th>Skeleton The skeleton is composed of 206 bones that provide the internal\\nsupporting structure of the body. See Figure 13.1\\nfor an illustration of the\\nmajor bones in the body. The bones of the lower limbs are adapted for\\nweight-bearing support, stability, and walking. The upper limbs are highly\\nmobile with large range of movements, along with the ability to easily\\nmanipulate objects with our hands and opposable thumbs.\\nBones are connected together by ligaments. Ligaments are strong bands\\nof fibrous connective tissue that strengthen and support the joint by\\nanchoring the bones together and preventing their separation. Ligamentsallow for normal movements of a joint while also limiting the range of\\nthese motions to prevent excessive or abnormal joint movements.</th>\n",
       "      <td>CHAPTER 13 MUSCULOSKELETAL ASSESSMENT 13.2 Mus...</td>\n",
       "      <td>181</td>\n",
       "    </tr>\n",
       "    <tr>\n",
       "      <th>CHAPTER 2 HEALTH HISTORY 2.8 Functional Health and Activities of Daily Living</th>\n",
       "      <th>Roles â Relationships established with family, friends, and the broader community. Roles often\\ndefine our identity. For example, a patient may describe themselves as a\\nâmother of an 8 year old.â This category focuses on roles and relationships\\nthat may be influenced by health-related factors or may offer support\\nduring illness.\\nFindings that require further investigation include\\nindications that a patient does not have any meaningful relationships or\\nhas ânegativeâ or abusive relationships in their lives.\\nLife Span Considerations\\nBe sensitive to cues when assessing individuals with any of the following\\ncharacteristics: isolation from family and friends during crisis, language\\nbarriers, loss of a significant person or pet, loss of job, significant home\\ncare needs, prolonged caregiving, history of abuse, history of substance\\nabuse, or homelessness.</th>\n",
       "      <td>CHAPTER 2 HEALTH HISTORY 2.8 Functional Health...</td>\n",
       "      <td>210</td>\n",
       "    </tr>\n",
       "  </tbody>\n",
       "</table>\n",
       "</div>"
      ],
      "text/plain": [
       "                                                                                                                                                 content  \\\n",
       "title                                              heading                                                                                                 \n",
       "CHAPTER 12 ABDOMINAL ASSESSMENT 12.4 Sample Doc... Sample Documentation of Expected Findings The p...  CHAPTER 12 ABDOMINAL ASSESSMENT 12.4 Sample Do...   \n",
       "CHAPTER 20 WOUND CARE 20.10 Checklist for Inter... Checklist for Intermittent Suture Removal Use t...  CHAPTER 20 WOUND CARE 20.10 Checklist for Inte...   \n",
       "CHAPTER 22 TRACHEOSTOMY CARE & SUCTIONING 22.8 ... Learning Activities (Answers to âLearning Act...  CHAPTER 22 TRACHEOSTOMY CARE & SUCTIONING 22.8...   \n",
       "CHAPTER 13 MUSCULOSKELETAL ASSESSMENT 13.2 Musc... Skeleton The skeleton is composed of 206 bones ...  CHAPTER 13 MUSCULOSKELETAL ASSESSMENT 13.2 Mus...   \n",
       "CHAPTER 2 HEALTH HISTORY 2.8 Functional Health ... Roles â Relationships established with family...  CHAPTER 2 HEALTH HISTORY 2.8 Functional Health...   \n",
       "\n",
       "                                                                                                       tokens  \n",
       "title                                              heading                                                     \n",
       "CHAPTER 12 ABDOMINAL ASSESSMENT 12.4 Sample Doc... Sample Documentation of Expected Findings The p...     114  \n",
       "CHAPTER 20 WOUND CARE 20.10 Checklist for Inter... Checklist for Intermittent Suture Removal Use t...    1226  \n",
       "CHAPTER 22 TRACHEOSTOMY CARE & SUCTIONING 22.8 ... Learning Activities (Answers to âLearning Act...     200  \n",
       "CHAPTER 13 MUSCULOSKELETAL ASSESSMENT 13.2 Musc... Skeleton The skeleton is composed of 206 bones ...     181  \n",
       "CHAPTER 2 HEALTH HISTORY 2.8 Functional Health ... Roles â Relationships established with family...     210  "
      ]
     },
     "execution_count": 14,
     "metadata": {},
     "output_type": "execute_result"
    }
   ],
   "source": [
    "# We have hosted the processed dataset, so you can download it directly without having to recreate it.\n",
    "# This dataset has already been split into sections, one row for each section of the Wikipedia page.\n",
    "\n",
    "df = pd.read_csv('finalwithtokens.csv')\n",
    "df = df.set_index([\"title\", \"heading\"])\n",
    "print(f\"{len(df)} rows in the data.\")\n",
    "df.sample(5)"
   ]
  },
  {
   "cell_type": "code",
   "execution_count": 15,
   "id": "ba475f30-ef7f-431c-b60d-d5970b62ad09",
   "metadata": {},
   "outputs": [],
   "source": [
    "def get_embedding(text: str, model: str=EMBEDDING_MODEL) -> list[float]:\n",
    "    result = openai.Embedding.create(\n",
    "      model=model,\n",
    "      input=text\n",
    "    )\n",
    "    time.sleep(7)\n",
    "    return result[\"data\"][0][\"embedding\"]\n",
    "\n",
    "def compute_doc_embeddings(df: pd.DataFrame) -> dict[tuple[str, str], list[float]]:\n",
    "    \"\"\"\n",
    "    Create an embedding for each row in the dataframe using the OpenAI Embeddings API.\n",
    "    \n",
    "    Return a dictionary that maps between each embedding vector and the index of the row that it corresponds to.\n",
    "    \"\"\"\n",
    "    return {\n",
    "        idx: get_embedding(r.content) for idx, r in df.iterrows()\n",
    "    }"
   ]
  },
  {
   "cell_type": "code",
   "execution_count": 16,
   "id": "737266aa-cbe7-4691-87c1-fce8a31632f1",
   "metadata": {},
   "outputs": [],
   "source": [
    "def load_embeddings(fname: str) -> dict[tuple[str, str], list[float]]:\n",
    "    \"\"\"\n",
    "    Read the document embeddings and their keys from a CSV.\n",
    "    \n",
    "    fname is the path to a CSV with exactly these named columns: \n",
    "        \"title\", \"heading\", \"0\", \"1\", ... up to the length of the embedding vectors.\n",
    "    \"\"\"\n",
    "    \n",
    "    df = pd.read_csv(fname, header=0)\n",
    "    max_dim = max([int(c) for c in df.columns if c != \"title\" and c != \"heading\"])\n",
    "    return {\n",
    "           (r.title, r.heading): [r[str(i)] for i in range(max_dim + 1)] for _, r in df.iterrows()\n",
    "    }"
   ]
  },
  {
   "cell_type": "markdown",
   "id": "cfe9c723-f838-4c75-8ed8-286b2e491a60",
   "metadata": {},
   "source": [
    "Again, we have hosted the embeddings for you so you don't have to re-calculate them from scratch."
   ]
  },
  {
   "cell_type": "code",
   "execution_count": 17,
   "id": "ab50bfca-cb02-41c6-b338-4400abe1d86e",
   "metadata": {},
   "outputs": [],
   "source": [
    "document_embeddings = load_embeddings(\"embeddings.csv\")\n",
    "\n",
    "# ===== OR, uncomment the below line to recaculate the embeddings from scratch. ========\n",
    "\n",
    "#document_embeddings = compute_doc_embeddings(df)\n",
    "#embeddings_df = pd.DataFrame(document_embeddings)\n",
    "#embeddings_df.to_csv('embeddings.csv', index=False)"
   ]
  },
  {
   "cell_type": "code",
   "execution_count": null,
   "id": "b9a8c713-c8a9-47dc-85a4-871ee1395566",
   "metadata": {},
   "outputs": [
    {
     "name": "stdout",
     "output_type": "stream",
     "text": [
      "('nan Preface', 'Usage Survey and Feedback We would love to hear if you have integrated some or all of this resource\\ninto your course. Please use this short survey to report student usage\\ninformation every semester for grant reporting purposes to the\\nDepartment of Education.  Please use this survey to provide constructive') : [-0.017130045220255852, 0.0021634537260979414, 0.0034936275333166122, -0.018987849354743958, -0.004282511305063963]... (1536 entries)\n"
     ]
    }
   ],
   "source": [
    "# An example embedding:\n",
    "example_entry = list(document_embeddings.items())[0]\n",
    "print(f\"{example_entry[0]} : {example_entry[1][:5]}... ({len(example_entry[1])} entries)\")"
   ]
  },
  {
   "cell_type": "code",
   "execution_count": null,
   "id": "dcd680e9-f194-4180-b14f-fc357498eb92",
   "metadata": {},
   "outputs": [],
   "source": [
    "def vector_similarity(x: list[float], y: list[float]) -> float:\n",
    "    \"\"\"\n",
    "    Returns the similarity between two vectors.\n",
    "    \n",
    "    Because OpenAI Embeddings are normalized to length 1, the cosine similarity is the same as the dot product.\n",
    "    \"\"\"\n",
    "    return np.dot(np.array(x), np.array(y))\n",
    "\n",
    "def order_document_sections_by_query_similarity(query: str, contexts: dict[(str, str), np.array]) -> list[(float, (str, str))]:\n",
    "    \"\"\"\n",
    "    Find the query embedding for the supplied query, and compare it against all of the pre-calculated document embeddings\n",
    "    to find the most relevant sections. \n",
    "    \n",
    "    Return the list of document sections, sorted by relevance in descending order.\n",
    "    \"\"\"\n",
    "    query_embedding = get_embedding(query)\n",
    "    \n",
    "    document_similarities = sorted([\n",
    "        (vector_similarity(query_embedding, doc_embedding), doc_index) for doc_index, doc_embedding in contexts.items()\n",
    "    ], reverse=True)\n",
    "    \n",
    "    return document_similarities"
   ]
  },
  {
   "cell_type": "code",
   "execution_count": null,
   "id": "e3a27d73-f47f-480d-b336-079414f749cb",
   "metadata": {},
   "outputs": [
    {
     "ename": "NameError",
     "evalue": "name 'order_document_sections_by_query_similarity' is not defined",
     "output_type": "error",
     "traceback": [
      "\u001b[1;31m---------------------------------------------------------------------------\u001b[0m",
      "\u001b[1;31mNameError\u001b[0m                                 Traceback (most recent call last)",
      "Cell \u001b[1;32mIn[1], line 1\u001b[0m\n\u001b[1;32m----> 1\u001b[0m order_document_sections_by_query_similarity(\u001b[39m\"\u001b[39m\u001b[39mWhat is cultural safety and why is it important when initiating patient interaction in a healthcare setting?\u001b[39m\u001b[39m\"\u001b[39m, document_embeddings)[:\u001b[39m5\u001b[39m]\n",
      "\u001b[1;31mNameError\u001b[0m: name 'order_document_sections_by_query_similarity' is not defined"
     ]
    }
   ],
   "source": [
    "order_document_sections_by_query_similarity(\"What is cultural safety and why is it important when initiating patient interaction in a healthcare setting?\", document_embeddings)[:5]"
   ]
  },
  {
   "cell_type": "code",
   "execution_count": null,
   "id": "729c2ce7-8540-4ab2-bb3a-76c4dfcb689c",
   "metadata": {},
   "outputs": [
    {
     "data": {
      "text/plain": [
       "[(0.8562869672618657,\n",
       "  ('CHAPTER 2 HEALTH HISTORY 2.2 Health History Basic Concepts',\n",
       "   'Cultural Safety It is important to conduct a health history in a culturally safe manner.\\nCultural safety refers to the creation of safe spaces for patients to interact\\nwith health professionals without judgment or discrimination. Focus on\\nfactors related to a personâ\\x80\\x99s cultural background that may influence their\\nhealth status. It is helpful to use an open-ended question to allow the\\npatient to share what they believe to be important. For example, ask â\\x80\\x9cI am\\ninterested in your cultural background as it relates to your health. Can you\\nshare with me what is important to know about your cultural background\\nas part of your health care?â\\x80\\x9d\\nIf a patientâ\\x80\\x99s primary language is not English, it is important to obtain a\\nmedical translator, as needed, prior to initiating the health history. The\\npatientâ\\x80\\x99s family member or care partner should not interpret for the\\npatient. The patient may not want their care partner to be aware of their\\nhealth problems or their care partner may not be familiar with correct\\nmedical terminology that can result in miscommunication.')),\n",
       " (0.8443462544629982,\n",
       "  ('CHAPTER 1 GENERAL SURVEY 1.2 Initiating Patient Interaction',\n",
       "   'Cultural Safety When initiating patient interaction, it is important to establish cultural\\nsafety. Cultural safety refers to the creation of safe spaces for patients to\\ninteract with health professionals without judgment or discrimination. See\\nand all patients bring a cultural context to interactions in a health care\\nsetting is helpful when creating cultural safe spaces. If you discover you\\nneed more information about a patientâ\\x80\\x99s cultural beliefs to tailor your care,\\nuse an open-ended question that allows the patient to share what they\\nbelieve to be important. For example, you may ask, â\\x80\\x9cI am interested in your\\ncultural background as it relates to your health. Can you share with me\\nwhat is important about your cultural background that will help me care\\nfor you?â\\x80\\x9d')),\n",
       " (0.8424617430938763,\n",
       "  ('CHAPTER 2 HEALTH HISTORY 2.5 Reason for Seeking Health Care',\n",
       "   'Chief Complaint After identifying the reason why the patient is seeking health care,\\nadditional focused questions are used to obtain detailed information\\nabout this concern. The mnemonic PQRSTU is often used to ask the\\nfor an image ofpatient questions in an organized fashion. See Figure 2.1\\nPQRSTU.\\nused to assess many other symptoms. See Table 2.5b for suggested focus\\nquestions for pain and other symptoms using the PQRSTU mnemonic.\\nTable 2.5b Sample PQRSTU Focused Questions for Pain and Other\\nSymptoms\\nWhile interviewing a patient about their chief complaint, use open-ended\\nquestions to allow the patient to elaborate on information that further\\nimproves your understanding of their health concerns. If their answers do\\nnot seem to align, continue to ask focused questions to clarify information.\\nFor example, if a patient states that â\\x80\\x9cthe pain is tolerableâ\\x80\\x9d but also rates\\nthe pain as a â\\x80\\x9c7â\\x80\\x9d on a 0-10 pain scale, these answers do not align, and the\\nnurse should continue to use follow-up questions using the PQRSTUframework. For example, upon further questioning the patient explains\\nthey rate the pain as a â\\x80\\x9c7â\\x80\\x9d in their knee when participating in physical\\ntherapy exercises, but currently feels the pain is tolerable while resting in\\nbed. This additional information will help the nurse customize\\ninterventions for effective treatment.')),\n",
       " (0.8238937492146292,\n",
       "  ('CHAPTER 2 HEALTH HISTORY 2.8 Functional Health and Activities of Daily Living',\n",
       "   'Value-Belief This category includes values and beliefs that guide decisions about\\nhealth care and can also provide strength and comfort to individuals. It is\\ncommon for a personâ\\x80\\x99s spirituality and values to be influenced by religious\\nfaith. A value is an accepted principle or standard of an individual or\\ngroup. A belief is something accepted as true with a sense of certainty.\\nSpirituality is a way of living that comes from a set of values and beliefs\\nthat are important to a person. The Joint Commission asks health care\\nprofessionals to respect patientsâ\\x80\\x99 cultural and personal values, beliefs, and\\npreferences and accommodate patientsâ\\x80\\x99 rights to religious and other\\nspiritual services.\\nWhen performing an assessment, use open-ended\\nquestions to allow the patient to share values and beliefs they believe are\\nimportant. For example, ask, â\\x80\\x9cI am interested in your spiritual and religious\\nbeliefs and how they relate to your health. Can you share with me any\\nspiritual beliefs or religious practices that are important to you during your\\nstay?â\\x80\\x9d')),\n",
       " (0.8217902688828966,\n",
       "  ('CHAPTER 2 HEALTH HISTORY 2.8 Functional Health and Activities of Daily Living',\n",
       "   'Health Perception-Health Management Health perception-health management is an umbrella term\\nencompassing all of the categories described above, as well as\\nenvironmental health.\\nEnvironmental Health\\nEnvironmental health refers to the safety of a patientâ\\x80\\x99s physical\\nenvironment, also called a social determinant of health. Examples of\\nenvironmental health include, but are not limited to, exposure to violence\\nin the home or community; air pollution; and availability of grocery stores,\\nhealth care providers, and public transportation. Findings that require\\nfurther investigation include a patient living in unsafe environments.\\nSee Table 2.8 for sample focused questions for all categories related to\\nfunctional health.\\nTable 2.8 Focused Interview Questions for Functional Health Categories\\nBegin this section by saying, â\\x80\\x9cI would like to ask you some questions\\nabout factors that affect your ability to function in your day-to-day life.\\nFeel free to share any health concerns that come to mind during this\\ndiscussion.â\\x80\\x9d'))]"
      ]
     },
     "execution_count": 30,
     "metadata": {},
     "output_type": "execute_result"
    }
   ],
   "source": [
    "order_document_sections_by_query_similarity(\"What types of open-ended questions can healthcare professionals use to gain a better understanding of a patient's cultural background and tailor their care accordingly?\", document_embeddings)[:5]"
   ]
  },
  {
   "cell_type": "code",
   "execution_count": null,
   "id": "b763ace2-1946-48e0-8ff1-91ba335d47a0",
   "metadata": {},
   "outputs": [
    {
     "data": {
      "text/plain": [
       "'Context separator contains 3 tokens'"
      ]
     },
     "execution_count": 31,
     "metadata": {},
     "output_type": "execute_result"
    }
   ],
   "source": [
    "MAX_SECTION_LEN = 500\n",
    "SEPARATOR = \"\\n* \"\n",
    "ENCODING = \"gpt2\"  # encoding for text-davinci-003\n",
    "\n",
    "encoding = tiktoken.get_encoding(ENCODING)\n",
    "separator_len = len(encoding.encode(SEPARATOR))\n",
    "\n",
    "f\"Context separator contains {separator_len} tokens\""
   ]
  },
  {
   "cell_type": "code",
   "execution_count": null,
   "id": "0c5c0509-eeb9-4552-a5d4-6ace04ef73dd",
   "metadata": {},
   "outputs": [],
   "source": [
    "def construct_prompt(question: str, context_embeddings: dict, df: pd.DataFrame) -> str:\n",
    "    \"\"\"\n",
    "    Fetch relevant \n",
    "    \"\"\"\n",
    "    most_relevant_document_sections = order_document_sections_by_query_similarity(question, context_embeddings)\n",
    "    \n",
    "    chosen_sections = []\n",
    "    chosen_sections_len = 0\n",
    "    chosen_sections_indexes = []\n",
    "     \n",
    "    for _, section_index in most_relevant_document_sections:\n",
    "        # Add contexts until we run out of space.        \n",
    "        document_section = df.loc[section_index]\n",
    "        \n",
    "        chosen_sections_len += document_section.tokens + separator_len\n",
    "        if chosen_sections_len > MAX_SECTION_LEN:\n",
    "            break\n",
    "            \n",
    "        chosen_sections.append(SEPARATOR + document_section.content.replace(\"\\n\", \" \"))\n",
    "        chosen_sections_indexes.append(str(section_index))\n",
    "            \n",
    "    # Useful diagnostic information\n",
    "    print(f\"Selected {len(chosen_sections)} document sections:\")\n",
    "    print(\"\\n\".join(chosen_sections_indexes))\n",
    "    \n",
    "    header = \"\"\"Answer the question as truthfully as possible using the provided context, and if the answer is not contained within the text below, say \"I don't know.\"\\n\\nContext:\\n\"\"\"\n",
    "    \n",
    "    return header + \"\".join(chosen_sections) + \"\\n\\n Q: \" + question + \"\\n A:\""
   ]
  },
  {
   "cell_type": "code",
   "execution_count": null,
   "id": "f614045a-3917-4b28-9643-7e0c299ec1a7",
   "metadata": {},
   "outputs": [
    {
     "name": "stdout",
     "output_type": "stream",
     "text": [
      "Selected 2 document sections:\n",
      "('CHAPTER 1 GENERAL SURVEY 1.2 Initiating Patient Interaction', 'Cultural Safety When initiating patient interaction, it is important to establish cultural\\nsafety. Cultural safety refers to the creation of safe spaces for patients to\\ninteract with health professionals without judgment or discrimination. See\\nand all patients bring a cultural context to interactions in a health care\\nsetting is helpful when creating cultural safe spaces. If you discover you\\nneed more information about a patientâ\\x80\\x99s cultural beliefs to tailor your care,\\nuse an open-ended question that allows the patient to share what they\\nbelieve to be important. For example, you may ask, â\\x80\\x9cI am interested in your\\ncultural background as it relates to your health. Can you share with me\\nwhat is important about your cultural background that will help me care\\nfor you?â\\x80\\x9d')\n",
      "('CHAPTER 2 HEALTH HISTORY 2.2 Health History Basic Concepts', 'Cultural Safety It is important to conduct a health history in a culturally safe manner.\\nCultural safety refers to the creation of safe spaces for patients to interact\\nwith health professionals without judgment or discrimination. Focus on\\nfactors related to a personâ\\x80\\x99s cultural background that may influence their\\nhealth status. It is helpful to use an open-ended question to allow the\\npatient to share what they believe to be important. For example, ask â\\x80\\x9cI am\\ninterested in your cultural background as it relates to your health. Can you\\nshare with me what is important to know about your cultural background\\nas part of your health care?â\\x80\\x9d\\nIf a patientâ\\x80\\x99s primary language is not English, it is important to obtain a\\nmedical translator, as needed, prior to initiating the health history. The\\npatientâ\\x80\\x99s family member or care partner should not interpret for the\\npatient. The patient may not want their care partner to be aware of their\\nhealth problems or their care partner may not be familiar with correct\\nmedical terminology that can result in miscommunication.')\n",
      "===\n",
      " Answer the question as truthfully as possible using the provided context, and if the answer is not contained within the text below, say \"I don't know.\"\n",
      "\n",
      "Context:\n",
      "\n",
      "* CHAPTER 1 GENERAL SURVEY 1.2 Initiating Patient Interaction Cultural Safety When initiating patient interaction, it is important to establish cultural safety. Cultural safety refers to the creation of safe spaces for patients to interact with health professionals without judgment or discrimination. See and all patients bring a cultural context to interactions in a health care setting is helpful when creating cultural safe spaces. If you discover you need more information about a patientâs cultural beliefs to tailor your care, use an open-ended question that allows the patient to share what they believe to be important. For example, you may ask, âI am interested in your cultural background as it relates to your health. Can you share with me what is important about your cultural background that will help me care for you?â\n",
      "* CHAPTER 2 HEALTH HISTORY 2.2 Health History Basic Concepts Cultural Safety It is important to conduct a health history in a culturally safe manner. Cultural safety refers to the creation of safe spaces for patients to interact with health professionals without judgment or discrimination. Focus on factors related to a personâs cultural background that may influence their health status. It is helpful to use an open-ended question to allow the patient to share what they believe to be important. For example, ask âI am interested in your cultural background as it relates to your health. Can you share with me what is important to know about your cultural background as part of your health care?â If a patientâs primary language is not English, it is important to obtain a medical translator, as needed, prior to initiating the health history. The patientâs family member or care partner should not interpret for the patient. The patient may not want their care partner to be aware of their health problems or their care partner may not be familiar with correct medical terminology that can result in miscommunication.\n",
      "\n",
      " Q: How can healthcare professionals create safe spaces for patients to interact without judgment or discrimination, and what role do cultural beliefs play in this process?\n",
      " A:\n"
     ]
    }
   ],
   "source": [
    "prompt = construct_prompt(\n",
    "    \"How can healthcare professionals create safe spaces for patients to interact without judgment or discrimination, and what role do cultural beliefs play in this process?\",\n",
    "    document_embeddings,\n",
    "    df\n",
    ")\n",
    "\n",
    "print(\"===\\n\", prompt)"
   ]
  },
  {
   "cell_type": "code",
   "execution_count": null,
   "id": "b0edfec7-9243-4573-92e0-253d31c771ad",
   "metadata": {},
   "outputs": [],
   "source": [
    "COMPLETIONS_API_PARAMS = {\n",
    "    # We use temperature of 0.0 because it gives the most predictable, factual answer.\n",
    "    \"temperature\": 0.0,\n",
    "    \"max_tokens\": 300,\n",
    "    \"model\": COMPLETIONS_MODEL,\n",
    "}"
   ]
  },
  {
   "cell_type": "code",
   "execution_count": null,
   "id": "9c1c9a69-848e-4099-a90d-c8da36c153d5",
   "metadata": {},
   "outputs": [],
   "source": [
    "def answer_query_with_context(\n",
    "    query: str,\n",
    "    df: pd.DataFrame,\n",
    "    document_embeddings: dict[(str, str), np.array],\n",
    "    show_prompt: bool = False\n",
    ") -> str:\n",
    "    prompt = construct_prompt(\n",
    "        query,\n",
    "        document_embeddings,\n",
    "        df\n",
    "    )\n",
    "    \n",
    "    if show_prompt:\n",
    "        print(prompt)\n",
    "\n",
    "    response = openai.Completion.create(\n",
    "                prompt=prompt,\n",
    "                **COMPLETIONS_API_PARAMS\n",
    "            )\n",
    "\n",
    "    return response[\"choices\"][0][\"text\"].strip(\" \\n\")"
   ]
  },
  {
   "cell_type": "code",
   "execution_count": null,
   "id": "c233e449-bf33-4c9e-b095-6a4dd278c8fd",
   "metadata": {},
   "outputs": [
    {
     "name": "stdout",
     "output_type": "stream",
     "text": [
      "Selected 2 document sections:\n",
      "('CHAPTER 1 GENERAL SURVEY 1.2 Initiating Patient Interaction', 'Cultural Safety When initiating patient interaction, it is important to establish cultural\\nsafety. Cultural safety refers to the creation of safe spaces for patients to\\ninteract with health professionals without judgment or discrimination. See\\nand all patients bring a cultural context to interactions in a health care\\nsetting is helpful when creating cultural safe spaces. If you discover you\\nneed more information about a patientâ\\x80\\x99s cultural beliefs to tailor your care,\\nuse an open-ended question that allows the patient to share what they\\nbelieve to be important. For example, you may ask, â\\x80\\x9cI am interested in your\\ncultural background as it relates to your health. Can you share with me\\nwhat is important about your cultural background that will help me care\\nfor you?â\\x80\\x9d')\n",
      "('CHAPTER 2 HEALTH HISTORY 2.2 Health History Basic Concepts', 'Cultural Safety It is important to conduct a health history in a culturally safe manner.\\nCultural safety refers to the creation of safe spaces for patients to interact\\nwith health professionals without judgment or discrimination. Focus on\\nfactors related to a personâ\\x80\\x99s cultural background that may influence their\\nhealth status. It is helpful to use an open-ended question to allow the\\npatient to share what they believe to be important. For example, ask â\\x80\\x9cI am\\ninterested in your cultural background as it relates to your health. Can you\\nshare with me what is important to know about your cultural background\\nas part of your health care?â\\x80\\x9d\\nIf a patientâ\\x80\\x99s primary language is not English, it is important to obtain a\\nmedical translator, as needed, prior to initiating the health history. The\\npatientâ\\x80\\x99s family member or care partner should not interpret for the\\npatient. The patient may not want their care partner to be aware of their\\nhealth problems or their care partner may not be familiar with correct\\nmedical terminology that can result in miscommunication.')\n"
     ]
    },
    {
     "data": {
      "text/plain": [
       "'Healthcare professionals can create safe spaces for patients to interact without judgment or discrimination by focusing on factors related to a person\\'s cultural background that may influence their health status. It is helpful to use an open-ended question to allow the patient to share what they believe to be important. For example, asking \"I am interested in your cultural background as it relates to your health. Can you share with me what is important to know about your cultural background as part of your health care?\" This allows the patient to share their cultural beliefs and helps to create a safe space for them to interact with healthcare professionals without judgment or discrimination.'"
      ]
     },
     "execution_count": 36,
     "metadata": {},
     "output_type": "execute_result"
    }
   ],
   "source": [
    "answer_query_with_context(\"How can healthcare professionals create safe spaces for patients to interact without judgment or discrimination, and what role do cultural beliefs play in this process?\", df, document_embeddings)"
   ]
  },
  {
   "cell_type": "code",
   "execution_count": null,
   "id": "1127867b-2884-44bb-9439-0e8ae171c835",
   "metadata": {},
   "outputs": [
    {
     "name": "stdout",
     "output_type": "stream",
     "text": [
      "Selected 1 document sections:\n",
      "('CHAPTER 23 IV THERAPY MANAGEMENT 23.2 IV Therapy Basics', 'Secondary Fluid Infusion Secondary IV fluid administration is usually an intermittent infusion that\\ninfuses at regular intervals (e.g., every 8 hours). This form of IV therapy\\nusually contains medications that are supplied in a smaller infusion bag\\nand mixed with a diluent fluid like saline (e.g., IV antibiotics). Many\\ncommon preparations come in 25 to 100 mL bags.\\nSecondary IV therapy is often referred to as â\\x80\\x9cIV piggybackâ\\x80\\x9d (IVPB)\\nmedication because it is attached to the primary bag of intravenous fluids.\\nIn this case, the primary line maintains venous access between drug\\ndoses.\\nIt is important to remember that not all IV solutions are compatible with\\nall IV medications. It is vital for the nurse to triple check that the secondary\\nmedications/fluids are compatible with primary fluids. If medication and\\nfluids are not compatible, a precipitate may form when the fluids mix\\nwithin the line, posing a significant health danger for the patient.')\n",
      "\n",
      "Q: What is secondary care in the medical field and in what types of settings is it typically provided?\n",
      "A: Secondary care in the medical field is usually an intermittent infusion that infuses at regular intervals (e.g., every 8 hours). It is typically provided in hospital settings.\n"
     ]
    }
   ],
   "source": [
    "query = \"What is secondary care in the medical field and in what types of settings is it typically provided?\"\n",
    "answer = answer_query_with_context(query, df, document_embeddings)\n",
    "\n",
    "print(f\"\\nQ: {query}\\nA: {answer}\")"
   ]
  },
  {
   "cell_type": "code",
   "execution_count": null,
   "id": "720d9e0b-b189-4101-91ee-babf736199e6",
   "metadata": {},
   "outputs": [
    {
     "name": "stdout",
     "output_type": "stream",
     "text": [
      "Selected 0 document sections:\n",
      "\n",
      "\n",
      "Q: In the 2020 Summer Olympics, how many gold medals did the country which won the most medals win?\n",
      "A: I don't know.\n"
     ]
    }
   ],
   "source": [
    "query = \"In the 2020 Summer Olympics, how many gold medals did the country which won the most medals win?\"\n",
    "answer = answer_query_with_context(query, df, document_embeddings)\n",
    "\n",
    "print(f\"\\nQ: {query}\\nA: {answer}\")"
   ]
  },
  {
   "cell_type": "code",
   "execution_count": null,
   "id": "4e8e51cc-e4eb-4557-9e09-2929d4df5b7f",
   "metadata": {},
   "outputs": [
    {
     "name": "stdout",
     "output_type": "stream",
     "text": [
      "Selected 1 document sections:\n",
      "('CHAPTER 1 GENERAL SURVEY 1.6 Sample Documentation', 'Sample Documentation of Unexpected Findings Mrs. Smith is a 65-year-old patient who appears older than her stated\\nage. She appears slightly agitated during the interview. She is oriented to\\nperson only and denies pain. She is wearing a heavy winter coat on a\\nwarm summer day and has an unclean body odor. She is slow to respond\\nto questions and does not follow commands. She seems to neglect the\\nuse of her right arm. Her gait is shuffled with stooped posture but has no\\nthe underweight category. Her vital signs were 186/55, pulse 102 and\\nirregular, respiratory rate 22, temperature 38.1 Celsius, and pulse oximetry\\nwas 88%.')\n",
      "\n",
      "Q: What was unusual about the men’s shotput competition?\n",
      "A: I don't know.\n"
     ]
    }
   ],
   "source": [
    "query = \"What was unusual about the men’s shotput competition?\"\n",
    "answer = answer_query_with_context(query, df, document_embeddings)\n",
    "\n",
    "print(f\"\\nQ: {query}\\nA: {answer}\")"
   ]
  },
  {
   "cell_type": "code",
   "execution_count": null,
   "id": "37c83519-e3c6-4c44-8b4a-98cbb3a5f5ba",
   "metadata": {},
   "outputs": [
    {
     "name": "stdout",
     "output_type": "stream",
     "text": [
      "Selected 0 document sections:\n",
      "\n",
      "\n",
      "Q: In the 2020 Summer Olympics, how many silver medals did Italy win?\n",
      "A: I don't know.\n"
     ]
    }
   ],
   "source": [
    "query = \"In the 2020 Summer Olympics, how many silver medals did Italy win?\"\n",
    "answer = answer_query_with_context(query, df, document_embeddings)\n",
    "\n",
    "print(f\"\\nQ: {query}\\nA: {answer}\")"
   ]
  },
  {
   "cell_type": "markdown",
   "id": "177c945e-f5c4-4fa5-8331-44f328b25e44",
   "metadata": {},
   "source": [
    "Our Q&A model is less prone to hallucinating answers, and has a better sense of what it does or doesn't know. This works when the information isn't contained in the context; when the question is nonsensical; or when the question is theoretically answerable but beyond GPT-3's powers!"
   ]
  },
  {
   "cell_type": "code",
   "execution_count": null,
   "id": "26a1a9ef-e1ee-4f80-a1b1-6164ccfa5bac",
   "metadata": {},
   "outputs": [
    {
     "name": "stdout",
     "output_type": "stream",
     "text": [
      "Selected 1 document sections:\n",
      "('CHAPTER 5 MATH CALCULATIONS 5.7 Conversions', 'Pounds to Kilograms Converting pounds to kilograms is typically memorized as an equivalency,\\nbut letâ\\x80\\x99s practice using the technique of dimensional analysis.\\nSample problem: The patient entered their weight as 137 pounds on their\\nintake form. Convert the patientâ\\x80\\x99s weight to kilograms to document it in\\nthe electronic medical record. Round your answer to the nearest tenth.\\nCalculate using dimensional analysis.\\n1.  Start by identifying kg as the goal unit for which you are solving. Then,\\nset up the first fraction so that the numerator matches the goal unit\\nof kg.  For the denominator, add 2.2 lbs because the knownequivalency is 1 kg is equivalent to 2.2 pounds. Set up the second\\nfraction with pounds in the numerator so that pounds will cross out\\ndiagonally to eliminate this unit. Then, add the patientâ\\x80\\x99s known weight\\n(137 lb) in the numerator, with 1 in the denominator because the\\nfunction of this fraction is to cross out units. Multiply across the\\nnumerators and then the denominators. Finally, divide the final\\nfraction to solve the problem.')\n",
      "\n",
      "Q: What is the total number of medals won by France, multiplied by the number of Taekwondo medals given out to all countries?\n",
      "A: I don't know.\n"
     ]
    }
   ],
   "source": [
    "query = \"What is the total number of medals won by France, multiplied by the number of Taekwondo medals given out to all countries?\"\n",
    "answer = answer_query_with_context(query, df, document_embeddings)\n",
    "\n",
    "print(f\"\\nQ: {query}\\nA: {answer}\")"
   ]
  },
  {
   "cell_type": "code",
   "execution_count": null,
   "id": "9fba8a63-eb81-4661-ae17-59bb5e2933d6",
   "metadata": {},
   "outputs": [
    {
     "name": "stdout",
     "output_type": "stream",
     "text": [
      "Selected 0 document sections:\n",
      "\n",
      "\n",
      "Q: What is the tallest mountain in the world?\n",
      "A: I don't know.\n"
     ]
    }
   ],
   "source": [
    "query = \"What is the tallest mountain in the world?\"\n",
    "answer = answer_query_with_context(query, df, document_embeddings)\n",
    "\n",
    "print(f\"\\nQ: {query}\\nA: {answer}\")"
   ]
  },
  {
   "cell_type": "code",
   "execution_count": null,
   "id": "2d4c693b-cdb9-4f4c-bd1b-f77b29097a1f",
   "metadata": {},
   "outputs": [
    {
     "name": "stdout",
     "output_type": "stream",
     "text": [
      "Selected 2 document sections:\n",
      "('CHAPTER 1 GENERAL SURVEY 1.6 Sample Documentation', 'Sample Documentation of Expected Findings Mrs. Smith is a 65-year-old patient who appears her stated age. She is\\ncalm, cooperative, alert, and oriented x 3. She is well-groomed and her\\nclothing is clean and appropriate for the weather. Her speech is clear and\\nunderstandable, and she follows instructions appropriately.\\nMrs. Smith moves all extremities equally bilaterally with good posture. Her\\ngait is smooth and she maintains balance without assistance. Her skin is\\nwarm and her mucous membranes are moist. She is  5â\\x80\\x994â\\x80\\x9d and she weighs\\n143 with a BMI of 24 in the normal weight category. Her vital signs were\\nBP 120/70, pulse 74 and regular, respiratory rate 14, temperature 36.8\\nCelsius, and pulse oximetry was 98% on room air.')\n",
      "('CHAPTER 6 NEUROLOGICAL ASSESSMENT 6.7 Assessing Motor Strength', 'Hand Grasps To perform a hand grasp test, extend two fingers on both hands toward\\nthe patient. Ask the patient to squeeze both of your hands and compare\\nfor similar bilateral strength. See Figure 6.29\\nfor an image of assessing\\nhand grasp strength.\\nUpper Extremity StrengthTo test upper extremity strength, ask the patient to extend their forearms\\nwith palms facing upwards. Place your hands on their inner forearms and\\nask them to pull their arms toward them while you provide resistance. An\\nexpected finding is the patient strongly bilaterally pulls against resistance\\nwith both arms.\\nAn alternative test is to ask the patient to put their hands in the air with\\ntheir palms facing you. Place your palms against theirs and ask them to\\npush while you provide resistance. See Figure 6.30\\nfor an image of\\nassessing upper body strength.')\n",
      "\n",
      "Q: Who won the grimblesplatch competition at the 2020 Summer Olympic games?\n",
      "A: I don't know.\n"
     ]
    }
   ],
   "source": [
    "query = \"Who won the grimblesplatch competition at the 2020 Summer Olympic games?\"\n",
    "answer = answer_query_with_context(query, df, document_embeddings)\n",
    "\n",
    "print(f\"\\nQ: {query}\\nA: {answer}\")"
   ]
  }
 ],
 "metadata": {
  "kernelspec": {
   "display_name": "Python 3",
   "language": "python",
   "name": "python3"
  },
  "language_info": {
   "codemirror_mode": {
    "name": "ipython",
    "version": 3
   },
   "file_extension": ".py",
   "mimetype": "text/x-python",
   "name": "python",
   "nbconvert_exporter": "python",
   "pygments_lexer": "ipython3",
   "version": "3.11.1"
  },
  "vscode": {
   "interpreter": {
    "hash": "80f1ed4dddd1d5fd563917308b5bc349875962a5b9194abcd8ac906ac7961ad2"
   }
  }
 },
 "nbformat": 4,
 "nbformat_minor": 5
}
