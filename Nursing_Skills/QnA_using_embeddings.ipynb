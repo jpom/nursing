{
 "cells": [
  {
   "attachments": {},
   "cell_type": "markdown",
   "id": "c4ca8276-e829-4cff-8905-47534e4b4d4e",
   "metadata": {},
   "source": [
    "# Question Answering using Embeddings\n",
    "\n",
    "Many use cases require GPT-3 to respond to user questions with insightful answers. For example, a customer support chatbot may need to provide answers to common questions. The GPT models have picked up a lot of general knowledge in training, but we often need to ingest and use a large library of more specific information.\n",
    "\n",
    "In this notebook we will demonstrate a method for enabling GPT-3 to answer questions using a library of text as a reference, by using document embeddings and retrieval. We'll be using a dataset of articles about the Nusring Skills."
   ]
  },
  {
   "cell_type": "code",
   "execution_count": 1,
   "id": "9e3839a6-9146-4f60-b74b-19abbc24278d",
   "metadata": {},
   "outputs": [],
   "source": [
    "import numpy as np\n",
    "import openai\n",
    "import pandas as pd\n",
    "import pickle\n",
    "import tiktoken\n",
    "import time\n",
    "import os\n",
    "\n",
    "openai.api_key = os.getenv('OPEN_AI_KEY') #Add your API key here\n",
    "\n",
    "COMPLETIONS_MODEL = \"text-davinci-003\"\n",
    "EMBEDDING_MODEL = \"text-embedding-ada-002\""
   ]
  },
  {
   "cell_type": "code",
   "execution_count": 2,
   "id": "a167516c-7c19-4bda-afa5-031aa0ae13bb",
   "metadata": {},
   "outputs": [
    {
     "data": {
      "text/plain": [
       "\"Marcelo Chierighini of Brazil won the gold medal in the men's high jump at the 2020 Summer Olympics.\""
      ]
     },
     "execution_count": 2,
     "metadata": {},
     "output_type": "execute_result"
    }
   ],
   "source": [
    "prompt = \"Who won the 2020 Summer Olympics men's high jump?\"\n",
    "\n",
    "openai.Completion.create(\n",
    "    prompt=prompt,\n",
    "    temperature=0,\n",
    "    max_tokens=300,\n",
    "    model=COMPLETIONS_MODEL\n",
    ")[\"choices\"][0][\"text\"].strip(\" \\n\")"
   ]
  },
  {
   "cell_type": "code",
   "execution_count": 3,
   "id": "a5451371-17fe-4ef3-aa02-affcf4edb0e0",
   "metadata": {},
   "outputs": [
    {
     "data": {
      "text/plain": [
       "\"Sorry, I don't know.\""
      ]
     },
     "execution_count": 3,
     "metadata": {},
     "output_type": "execute_result"
    }
   ],
   "source": [
    "prompt = \"\"\"Answer the question as truthfully as possible, and if you're unsure of the answer, say \"Sorry, I don't know\".\n",
    "\n",
    "Q: Who won the 2020 Summer Olympics men's high jump?\n",
    "A:\"\"\"\n",
    "\n",
    "openai.Completion.create(\n",
    "    prompt=prompt,\n",
    "    temperature=0,\n",
    "    max_tokens=300,\n",
    "    model=COMPLETIONS_MODEL\n",
    ")[\"choices\"][0][\"text\"].strip(\" \\n\")"
   ]
  },
  {
   "cell_type": "code",
   "execution_count": 4,
   "id": "fceaf665-2602-4788-bc44-9eb256a6f955",
   "metadata": {},
   "outputs": [
    {
     "data": {
      "text/plain": [
       "'Gianmarco Tamberi and Mutaz Essa Barshim emerged as joint winners of the event.'"
      ]
     },
     "execution_count": 4,
     "metadata": {},
     "output_type": "execute_result"
    }
   ],
   "source": [
    "prompt = \"\"\"Answer the question as truthfully as possible using the provided text, and if the answer is not contained within the text below, say \"I don't know\"\n",
    "\n",
    "Context:\n",
    "The men's high jump event at the 2020 Summer Olympics took place between 30 July and 1 August 2021 at the Olympic Stadium.\n",
    "33 athletes from 24 nations competed; the total possible number depended on how many nations would use universality places \n",
    "to enter athletes in addition to the 32 qualifying through mark or ranking (no universality places were used in 2021).\n",
    "Italian athlete Gianmarco Tamberi along with Qatari athlete Mutaz Essa Barshim emerged as joint winners of the event following\n",
    "a tie between both of them as they cleared 2.37m. Both Tamberi and Barshim agreed to share the gold medal in a rare instance\n",
    "where the athletes of different nations had agreed to share the same medal in the history of Olympics. \n",
    "Barshim in particular was heard to ask a competition official \"Can we have two golds?\" in response to being offered a \n",
    "'jump off'. Maksim Nedasekau of Belarus took bronze. The medals were the first ever in the men's high jump for Italy and \n",
    "Belarus, the first gold in the men's high jump for Italy and Qatar, and the third consecutive medal in the men's high jump\n",
    "for Qatar (all by Barshim). Barshim became only the second man to earn three medals in high jump, joining Patrik Sjöberg\n",
    "of Sweden (1984 to 1992).\n",
    "\n",
    "Q: Who won the 2020 Summer Olympics men's high jump?\n",
    "A:\"\"\"\n",
    "\n",
    "openai.Completion.create(\n",
    "    prompt=prompt,\n",
    "    temperature=0,\n",
    "    max_tokens=300,\n",
    "    top_p=1,\n",
    "    frequency_penalty=0,\n",
    "    presence_penalty=0,\n",
    "    model=COMPLETIONS_MODEL\n",
    ")[\"choices\"][0][\"text\"].strip(\" \\n\")"
   ]
  },
  {
   "cell_type": "code",
   "execution_count": 5,
   "id": "cc9c8d69-e234-48b4-87e3-935970e1523a",
   "metadata": {},
   "outputs": [
    {
     "name": "stdout",
     "output_type": "stream",
     "text": [
      "335 rows in the data.\n"
     ]
    },
    {
     "data": {
      "text/html": [
       "<div>\n",
       "<style scoped>\n",
       "    .dataframe tbody tr th:only-of-type {\n",
       "        vertical-align: middle;\n",
       "    }\n",
       "\n",
       "    .dataframe tbody tr th {\n",
       "        vertical-align: top;\n",
       "    }\n",
       "\n",
       "    .dataframe thead th {\n",
       "        text-align: right;\n",
       "    }\n",
       "</style>\n",
       "<table border=\"1\" class=\"dataframe\">\n",
       "  <thead>\n",
       "    <tr style=\"text-align: right;\">\n",
       "      <th></th>\n",
       "      <th></th>\n",
       "      <th>content</th>\n",
       "      <th>tokens</th>\n",
       "    </tr>\n",
       "    <tr>\n",
       "      <th>title</th>\n",
       "      <th>heading</th>\n",
       "      <th></th>\n",
       "      <th></th>\n",
       "    </tr>\n",
       "  </thead>\n",
       "  <tbody>\n",
       "    <tr>\n",
       "      <th>CHAPTER 18 ADMINISTRATION OF PARENTERAL MEDICATIONS 18.6 Administering Intramuscular Medications</th>\n",
       "      <th>Anatomic Sites Anatomic sites must be selected carefully for intramuscular injections andinclude the ventrogluteal, vastus lateralis, and the deltoid. The vastus\\nlateralis site is preferred for infants because that muscle is most\\ndeveloped. The ventrogluteal site is generally recommended for IM\\nmedication administration in adults, but IM vaccines may be administered\\nin the deltoid site. Additional information regarding injections in each of\\nthese sites is provided in the following subsections.\\nVentrogluteal\\nThis site involves the gluteus medius and minimus muscle and is the\\nsafest injection site for adults and children because it provides the\\ngreatest thickness of gluteal muscles, is free from penetrating nerves and\\nblood vessels, and has a thin layer of fat. To locate the ventrogluteal site,\\nplace the patient in a supine or lateral position. Use your right hand for the\\nleft hip or your left hand for the right hip. Place the heel or palm of your\\nhand on the greater trochanter, with the thumb pointed toward the belly\\nbutton. Extend your index finger to the anterior superior iliac spine and\\nspread your middle finger pointing towards the iliac crest. Insert the\\nneedle into the âVâ formed between your index and middle fingers. This is\\nthe preferred site for all oily and irritating solutions for patients of any age.\\nfor an image demonstrating how to accurately locate theSee Figure 18.31\\nventrogluteal site using your hand.\\nThe needle gauge used at the ventrogluteal site is determined by the\\nsolution of the medication ordered. An aqueous solution can be given\\nwith a 20- to 25-gauge needle, whereas viscous or oil-based solutions are\\ngiven with 18- to 21-gauge needles. The needle length is based on patient\\nweight and body mass index. A thin adult may require a 5/8-inch to 1-inch\\n(16 mm to 25 mm) needle, while an average adult may require a 1-inch (25\\nmm) needle, and a larger adult (over 70 kg) may require a 1-inch to 1Â½-\\nneedles. Refer to  agency policies regarding needle length for infants,\\nchildren, and adolescents. Up to 3 mL of medication may be administered\\nin the ventrogluteal muscle of an average adult and up to 1 mL in children.\\nfor an image of locating the ventrogluteal site on aSee Figure 18.32\\npatient.\\nVastus Lateralis\\nThe vastus lateralis site is commonly used for immunizations in infants\\nand toddlers because the muscle is thick and well-developed. This muscle\\nis located on the anterior lateral aspect of the thigh and extends from one\\nhandâs breadth above the knee to one handâs breadth below the greater\\ntrochanter. The outer middle third of the muscle is used for injections. To\\nhelp relax the patient, ask the patient to lie flat with knees slightly bent or\\nhave the patient in a sitting position. See Figure 18.33\\nfor an image of the\\nvastus lateralis injection site.\\nThe length of the needle used at the vastus lateralis site is based on the\\npatientâs age, weight, and body mass index. In general, the recommended\\nneedle length for an adult is 1 inch to 1 Â½ inches (25 mm to 38 mm), but\\nthe needle length is shorter for children. Refer to agency policy for\\npediatric needle lengths. The gauge of the needle is determined by the\\ntype of medication administered. Aqueous solutions can be given with a\\n20- to 25-gauge needle; oily or viscous medications should be\\nadministered with 18- to 21-gauge needles. A smaller gauge needle (22 to\\n25 gauge) should be used with children. The maximum amount of\\nmedication for a single injection in an adult is 3 mL. See Figure 18.34\\nfor\\nan image of an intramuscular injection being administered at the vastus\\nlateralis site.\\nDeltoid\\nThe deltoid muscle has a triangular shape and is easy to locate and access.\\nTo locate the injection site, begin by having the patient relax their arm.\\nThe patient can be standing, sitting, or lying down. To locate the landmark\\nfor the deltoid muscle, expose the upper arm and find the acromion\\nprocess by palpating the bony prominence. The injection site is in the\\nmiddle of the deltoid muscle, about 1 inch to 2 inches (2.5 cm  to 5 cm)\\nbelow the acromion process. To locate this area, lay three fingers across\\nthe deltoid muscle and below the acromion process. The injection site is\\ngenerally three finger widths below in the middle of the muscle. See\\nFigure 18.35\\nfor an illustration for locating the deltoid injection site.\\nSelect the needle length based on the patientâs age, weight, and body\\nmass. In general, for an adult male weighing 60 kg to 118 kg (130 to 260\\nlbs), a 1-inch (25 mm) needle is sufficient. For women under 60 kg (130 lbs),\\na  â-inch (16 mm) needle is sufficient, while for women between 60 kg\\nand 90 kg (130 to 200 lbs) a 1-inch (25 mm) needle is required. A 1 Â½-inch\\n(38 mm) length needle may be required for women over 90 kg (200 lbs)\\nfor a deltoid IM injection. For immunizations, a 22- to 25-gauge needle\\nshould be used. Refer to agency policy regarding specifications for infants,\\nchildren, adolescents, and immunizations. The maximum amount of\\nmedication for a single injection is generally 1 mL. See Figure 18.36\\nfor an\\nimage of locating the deltoid injection site on a patient.</th>\n",
       "      <td>CHAPTER 18 ADMINISTRATION OF PARENTERAL MEDICA...</td>\n",
       "      <td>1328</td>\n",
       "    </tr>\n",
       "    <tr>\n",
       "      <th>CHAPTER 14 INTEGUMENTARY ASSESSMENT 14.3 Common Integumentary Conditions</th>\n",
       "      <th>Lymphedema Lymphedema is the medical term for a type of swelling that occurs whenlymph fluid builds up in the bodyâs soft tissues due to damage to the\\nlymph system. It often occurs unilaterally in the arms or legs after surgery\\nhas been performed that injured the regional lymph nodes. See Figure\\n14.17\\nfor an image of lower extremity edema. Causes of lymphedema\\ninclude infection, cancer, scar tissue from radiation therapy, surgical\\nremoval of lymph nodes, or inherited conditions. There is no cure for\\nlymphedema, but elevation of the affected extremity is vital. Compression\\ndevices and massage can help to manage the symptoms. See Figure\\n14.18\\nfor an image of a specialized compression dressing used for\\nlymphedema. It is also important to remember to avoid taking blood\\npressure on a patientâs extremity with lymphedema.</th>\n",
       "      <td>CHAPTER 14 INTEGUMENTARY ASSESSMENT 14.3 Commo...</td>\n",
       "      <td>217</td>\n",
       "    </tr>\n",
       "    <tr>\n",
       "      <th>CHAPTER 1 GENERAL SURVEY 1.8 Learning Activities</th>\n",
       "      <th>Learning Activities (Answers to âLearning Activitiesâ can be found in the âAnswer\\nKeyâ at the end of the book.  Answers to interactive activity\\nelements will be provided within the element as immediate\\nfeedback.)\\nMaria is working on a medical surgical unit and receives a direct\\nadmission from the internal medicine clinic. She arrives at the\\npatientâs room to complete the initial admission assessment. All\\nof the following conditions are found.Of these conditions,\\nwhich of the following should be reported immediately to the\\nhealth care provider.\\na.  Patient ambulates with assistance of wheeled walker.\\nb.  Patientâs BMI is outside of the normal range.\\nc.  Patient appears unkempt and has strong body odor.\\nd.  Patient is experiencing increased difficulty breathing.\\nâVital Signs Case Studyâ by Susan Jepsen for Lansing\\nCommunity College are licensed under CC BY 4.0</th>\n",
       "      <td>CHAPTER 1 GENERAL SURVEY 1.8 Learning Activiti...</td>\n",
       "      <td>242</td>\n",
       "    </tr>\n",
       "    <tr>\n",
       "      <th>CHAPTER 7 HEAD AND NECK ASSESSMENT 7.3 Common Conditions of the Head and Neck</th>\n",
       "      <th>Headache A headache is a common type of pain that patients experience in everyday\\nlife and a major reason for missed time at work or school. Headaches\\nrange greatly in severity of pain and frequency of occurrence. For example,\\nsome patients experience mild headaches once or twice a year, whereas\\nothers experience disabling migraine headaches more than 15 days a\\nmonth.  Severe headaches such as migraines may be accompanied by\\nsymptoms of nausea or increased sensitivity to noise or light. Primary\\nheadaches occur independently and are not caused by another medical\\ncondition. Migraine, cluster, and tension-type headaches are types of\\nprimary headaches. Secondary headaches are symptoms of another\\nhealth disorder that causes pain-sensitive nerve endings to be pressed on\\nor pulled out of place. They may result from underlying conditions\\nincluding fever, infection, medication overuse, stress or emotional conflict,\\nhigh blood pressure, psychiatric disorders, head injury or trauma, stroke,\\ntumors, and nerve disorders such as trigeminal neuralgia, a chronic pain\\ncondition that typically affects the trigeminal nerve on one side of the\\ncheek.\\nNot all headaches require medical attention, but some types of headaches\\nof headaches that require immediate medical attention include a sudden,\\nsevere headache unlike any the patient has ever had; a sudden headache\\nassociated with a stiff neck; a headache associated with convulsions,\\nconfusion, or loss of consciousness; a headache following a blow to the\\nhead; or a persistent headache in a person who was previously headache\\nfree.</th>\n",
       "      <td>CHAPTER 7 HEAD AND NECK ASSESSMENT 7.3 Common ...</td>\n",
       "      <td>341</td>\n",
       "    </tr>\n",
       "    <tr>\n",
       "      <th>ROUTES 16.2 Basic Concepts</th>\n",
       "      <th>Vaginal Instillations Vaginal instillations are typically used to administer hormone therapy and\\nantifungal treatment. Vaginal applications can be supplied in foams,\\nsuppositories that melt with body heat, creams, and tablets. The patient\\nshould be asked to void prior to placement. The nurse should perform\\nhand hygiene, apply gloves, perform the same rights of medication\\nadministration as is completed with other types of medications, and\\nprovide privacy. Position the patient on their back with knees flexed.\\nPerineal care should be performed by the nurse prior to administration of\\nthe medication. After perineal care, remove gloves, perform hand hygiene,\\nthe suppository to be placed. Lubricate the applicator or your gloved\\nfinger with water-based lubricant. With the nondominant hand, spread\\nthe labia and place the applicator into the full length of the vagina, push\\nthe plunger, and then remove the applicator. If a suppository is being\\nplaced, insert the rounded end of the suppository with your index finger,\\nplacing it along the posterior wall of the vagina. Ask the patient to remain\\nin the supine position for 5-10 minutes for optimal absorption. If possible,\\nadminister the medication at bedtime so the patient can remain in the\\nsupine position for an extended period of time to enhance absorption.\\nAssess the patient for any unexpected situations, such as the suppository\\ncoming out. See Figure 16.4\\nfor an illustration of vaginal administration of\\ncream medication.</th>\n",
       "      <td>ROUTES 16.2 Basic Concepts Vaginal Instillatio...</td>\n",
       "      <td>335</td>\n",
       "    </tr>\n",
       "  </tbody>\n",
       "</table>\n",
       "</div>"
      ],
      "text/plain": [
       "                                                                                                                                                 content  \\\n",
       "title                                              heading                                                                                                 \n",
       "CHAPTER 18 ADMINISTRATION OF PARENTERAL MEDICAT... Anatomic Sites Anatomic sites must be selected ...  CHAPTER 18 ADMINISTRATION OF PARENTERAL MEDICA...   \n",
       "CHAPTER 14 INTEGUMENTARY ASSESSMENT 14.3 Common... Lymphedema Lymphedema is the medical term for a...  CHAPTER 14 INTEGUMENTARY ASSESSMENT 14.3 Commo...   \n",
       "CHAPTER 1 GENERAL SURVEY 1.8 Learning Activities   Learning Activities (Answers to âLearning Act...  CHAPTER 1 GENERAL SURVEY 1.8 Learning Activiti...   \n",
       "CHAPTER 7 HEAD AND NECK ASSESSMENT 7.3 Common C... Headache A headache is a common type of pain th...  CHAPTER 7 HEAD AND NECK ASSESSMENT 7.3 Common ...   \n",
       "ROUTES 16.2 Basic Concepts                         Vaginal Instillations Vaginal instillations are...  ROUTES 16.2 Basic Concepts Vaginal Instillatio...   \n",
       "\n",
       "                                                                                                       tokens  \n",
       "title                                              heading                                                     \n",
       "CHAPTER 18 ADMINISTRATION OF PARENTERAL MEDICAT... Anatomic Sites Anatomic sites must be selected ...    1328  \n",
       "CHAPTER 14 INTEGUMENTARY ASSESSMENT 14.3 Common... Lymphedema Lymphedema is the medical term for a...     217  \n",
       "CHAPTER 1 GENERAL SURVEY 1.8 Learning Activities   Learning Activities (Answers to âLearning Act...     242  \n",
       "CHAPTER 7 HEAD AND NECK ASSESSMENT 7.3 Common C... Headache A headache is a common type of pain th...     341  \n",
       "ROUTES 16.2 Basic Concepts                         Vaginal Instillations Vaginal instillations are...     335  "
      ]
     },
     "execution_count": 5,
     "metadata": {},
     "output_type": "execute_result"
    }
   ],
   "source": [
    "# We have hosted the processed dataset, so you can download it directly without having to recreate it.\n",
    "# This dataset has already been split into sections, one row for each section of the Wikipedia page.\n",
    "\n",
    "df = pd.read_csv('finalwithtokens.csv')\n",
    "df = df.set_index([\"title\", \"heading\"])\n",
    "print(f\"{len(df)} rows in the data.\")\n",
    "df.sample(5)"
   ]
  },
  {
   "cell_type": "code",
   "execution_count": 6,
   "id": "ba475f30-ef7f-431c-b60d-d5970b62ad09",
   "metadata": {},
   "outputs": [],
   "source": [
    "def get_embedding(text: str, model: str=EMBEDDING_MODEL) -> list[float]:\n",
    "    result = openai.Embedding.create(\n",
    "      model=model,\n",
    "      input=text\n",
    "    )\n",
    "    time.sleep(7)\n",
    "    return result[\"data\"][0][\"embedding\"]\n",
    "\n",
    "def compute_doc_embeddings(df: pd.DataFrame) -> dict[tuple[str, str], list[float]]:\n",
    "    \"\"\"\n",
    "    Create an embedding for each row in the dataframe using the OpenAI Embeddings API.\n",
    "    \n",
    "    Return a dictionary that maps between each embedding vector and the index of the row that it corresponds to.\n",
    "    \"\"\"\n",
    "    return {\n",
    "        idx: get_embedding(r.content) for idx, r in df.iterrows()\n",
    "    }"
   ]
  },
  {
   "cell_type": "code",
   "execution_count": 7,
   "id": "737266aa-cbe7-4691-87c1-fce8a31632f1",
   "metadata": {},
   "outputs": [],
   "source": [
    "def load_embeddings(fname: str) -> dict[tuple[str, str], list[float]]:\n",
    "    \"\"\"\n",
    "    Read the document embeddings and their keys from a CSV.\n",
    "    \n",
    "    fname is the path to a CSV with exactly these named columns: \n",
    "        \"title\", \"heading\", \"0\", \"1\", ... up to the length of the embedding vectors.\n",
    "    \"\"\"\n",
    "    \n",
    "    df = pd.read_csv(fname, header=0)\n",
    "    max_dim = max([int(c) for c in df.columns if c != \"title\" and c != \"heading\"])\n",
    "    return {\n",
    "           (r.title, r.heading): [r[str(i)] for i in range(max_dim + 1)] for _, r in df.iterrows()\n",
    "    }"
   ]
  },
  {
   "cell_type": "markdown",
   "id": "cfe9c723-f838-4c75-8ed8-286b2e491a60",
   "metadata": {},
   "source": [
    "Again, we have hosted the embeddings for you so you don't have to re-calculate them from scratch."
   ]
  },
  {
   "cell_type": "code",
   "execution_count": 8,
   "id": "ab50bfca-cb02-41c6-b338-4400abe1d86e",
   "metadata": {},
   "outputs": [],
   "source": [
    "#document_embeddings = load_embeddings(\"embeddings.csv\")\n",
    "\n",
    "# ===== OR, uncomment the below line to recaculate the embeddings from scratch. ========\n",
    "\n",
    "document_embeddings = compute_doc_embeddings(df)\n",
    "embeddings_df = pd.DataFrame(document_embeddings)\n",
    "embeddings_df.to_csv('embeddings.csv', index=False)"
   ]
  },
  {
   "cell_type": "code",
   "execution_count": 9,
   "id": "b9a8c713-c8a9-47dc-85a4-871ee1395566",
   "metadata": {},
   "outputs": [
    {
     "name": "stdout",
     "output_type": "stream",
     "text": [
      "('nan Preface', 'Usage Survey and Feedback We would love to hear if you have integrated some or all of this resource\\ninto your course. Please use this short survey to report student usage\\ninformation every semester for grant reporting purposes to the\\nDepartment of Education.  Please use this survey to provide constructive') : [-0.017130045220255852, 0.0021634537260979414, 0.0034936275333166122, -0.018987849354743958, -0.004282511305063963]... (1536 entries)\n"
     ]
    }
   ],
   "source": [
    "# An example embedding:\n",
    "example_entry = list(document_embeddings.items())[0]\n",
    "print(f\"{example_entry[0]} : {example_entry[1][:5]}... ({len(example_entry[1])} entries)\")"
   ]
  },
  {
   "cell_type": "code",
   "execution_count": 10,
   "id": "dcd680e9-f194-4180-b14f-fc357498eb92",
   "metadata": {},
   "outputs": [],
   "source": [
    "def vector_similarity(x: list[float], y: list[float]) -> float:\n",
    "    \"\"\"\n",
    "    Returns the similarity between two vectors.\n",
    "    \n",
    "    Because OpenAI Embeddings are normalized to length 1, the cosine similarity is the same as the dot product.\n",
    "    \"\"\"\n",
    "    return np.dot(np.array(x), np.array(y))\n",
    "\n",
    "def order_document_sections_by_query_similarity(query: str, contexts: dict[(str, str), np.array]) -> list[(float, (str, str))]:\n",
    "    \"\"\"\n",
    "    Find the query embedding for the supplied query, and compare it against all of the pre-calculated document embeddings\n",
    "    to find the most relevant sections. \n",
    "    \n",
    "    Return the list of document sections, sorted by relevance in descending order.\n",
    "    \"\"\"\n",
    "    query_embedding = get_embedding(query)\n",
    "    \n",
    "    document_similarities = sorted([\n",
    "        (vector_similarity(query_embedding, doc_embedding), doc_index) for doc_index, doc_embedding in contexts.items()\n",
    "    ], reverse=True)\n",
    "    \n",
    "    return document_similarities"
   ]
  },
  {
   "cell_type": "code",
   "execution_count": 12,
   "id": "e3a27d73-f47f-480d-b336-079414f749cb",
   "metadata": {},
   "outputs": [
    {
     "ename": "Timeout",
     "evalue": "Request timed out: HTTPSConnectionPool(host='api.openai.com', port=443): Read timed out. (read timeout=600)",
     "output_type": "error",
     "traceback": [
      "\u001b[1;31m---------------------------------------------------------------------------\u001b[0m",
      "\u001b[1;31mTimeoutError\u001b[0m                              Traceback (most recent call last)",
      "File \u001b[1;32mc:\\Users\\Shabeeb\\AppData\\Local\\Programs\\Python\\Python311\\Lib\\site-packages\\urllib3\\connectionpool.py:386\u001b[0m, in \u001b[0;36mHTTPConnectionPool._make_request\u001b[1;34m(self, conn, method, url, timeout, chunked, **httplib_request_kw)\u001b[0m\n\u001b[0;32m    385\u001b[0m \u001b[39mtry\u001b[39;00m:\n\u001b[1;32m--> 386\u001b[0m     \u001b[39mself\u001b[39;49m\u001b[39m.\u001b[39;49m_validate_conn(conn)\n\u001b[0;32m    387\u001b[0m \u001b[39mexcept\u001b[39;00m (SocketTimeout, BaseSSLError) \u001b[39mas\u001b[39;00m e:\n\u001b[0;32m    388\u001b[0m     \u001b[39m# Py2 raises this as a BaseSSLError, Py3 raises it as socket timeout.\u001b[39;00m\n",
      "File \u001b[1;32mc:\\Users\\Shabeeb\\AppData\\Local\\Programs\\Python\\Python311\\Lib\\site-packages\\urllib3\\connectionpool.py:1042\u001b[0m, in \u001b[0;36mHTTPSConnectionPool._validate_conn\u001b[1;34m(self, conn)\u001b[0m\n\u001b[0;32m   1041\u001b[0m \u001b[39mif\u001b[39;00m \u001b[39mnot\u001b[39;00m \u001b[39mgetattr\u001b[39m(conn, \u001b[39m\"\u001b[39m\u001b[39msock\u001b[39m\u001b[39m\"\u001b[39m, \u001b[39mNone\u001b[39;00m):  \u001b[39m# AppEngine might not have  `.sock`\u001b[39;00m\n\u001b[1;32m-> 1042\u001b[0m     conn\u001b[39m.\u001b[39;49mconnect()\n\u001b[0;32m   1044\u001b[0m \u001b[39mif\u001b[39;00m \u001b[39mnot\u001b[39;00m conn\u001b[39m.\u001b[39mis_verified:\n",
      "File \u001b[1;32mc:\\Users\\Shabeeb\\AppData\\Local\\Programs\\Python\\Python311\\Lib\\site-packages\\urllib3\\connection.py:414\u001b[0m, in \u001b[0;36mHTTPSConnection.connect\u001b[1;34m(self)\u001b[0m\n\u001b[0;32m    412\u001b[0m     context\u001b[39m.\u001b[39mload_default_certs()\n\u001b[1;32m--> 414\u001b[0m \u001b[39mself\u001b[39m\u001b[39m.\u001b[39msock \u001b[39m=\u001b[39m ssl_wrap_socket(\n\u001b[0;32m    415\u001b[0m     sock\u001b[39m=\u001b[39;49mconn,\n\u001b[0;32m    416\u001b[0m     keyfile\u001b[39m=\u001b[39;49m\u001b[39mself\u001b[39;49m\u001b[39m.\u001b[39;49mkey_file,\n\u001b[0;32m    417\u001b[0m     certfile\u001b[39m=\u001b[39;49m\u001b[39mself\u001b[39;49m\u001b[39m.\u001b[39;49mcert_file,\n\u001b[0;32m    418\u001b[0m     key_password\u001b[39m=\u001b[39;49m\u001b[39mself\u001b[39;49m\u001b[39m.\u001b[39;49mkey_password,\n\u001b[0;32m    419\u001b[0m     ca_certs\u001b[39m=\u001b[39;49m\u001b[39mself\u001b[39;49m\u001b[39m.\u001b[39;49mca_certs,\n\u001b[0;32m    420\u001b[0m     ca_cert_dir\u001b[39m=\u001b[39;49m\u001b[39mself\u001b[39;49m\u001b[39m.\u001b[39;49mca_cert_dir,\n\u001b[0;32m    421\u001b[0m     ca_cert_data\u001b[39m=\u001b[39;49m\u001b[39mself\u001b[39;49m\u001b[39m.\u001b[39;49mca_cert_data,\n\u001b[0;32m    422\u001b[0m     server_hostname\u001b[39m=\u001b[39;49mserver_hostname,\n\u001b[0;32m    423\u001b[0m     ssl_context\u001b[39m=\u001b[39;49mcontext,\n\u001b[0;32m    424\u001b[0m     tls_in_tls\u001b[39m=\u001b[39;49mtls_in_tls,\n\u001b[0;32m    425\u001b[0m )\n\u001b[0;32m    427\u001b[0m \u001b[39m# If we're using all defaults and the connection\u001b[39;00m\n\u001b[0;32m    428\u001b[0m \u001b[39m# is TLSv1 or TLSv1.1 we throw a DeprecationWarning\u001b[39;00m\n\u001b[0;32m    429\u001b[0m \u001b[39m# for the host.\u001b[39;00m\n",
      "File \u001b[1;32mc:\\Users\\Shabeeb\\AppData\\Local\\Programs\\Python\\Python311\\Lib\\site-packages\\urllib3\\util\\ssl_.py:449\u001b[0m, in \u001b[0;36mssl_wrap_socket\u001b[1;34m(sock, keyfile, certfile, cert_reqs, ca_certs, server_hostname, ssl_version, ciphers, ssl_context, ca_cert_dir, key_password, ca_cert_data, tls_in_tls)\u001b[0m\n\u001b[0;32m    448\u001b[0m \u001b[39mif\u001b[39;00m send_sni:\n\u001b[1;32m--> 449\u001b[0m     ssl_sock \u001b[39m=\u001b[39m _ssl_wrap_socket_impl(\n\u001b[0;32m    450\u001b[0m         sock, context, tls_in_tls, server_hostname\u001b[39m=\u001b[39;49mserver_hostname\n\u001b[0;32m    451\u001b[0m     )\n\u001b[0;32m    452\u001b[0m \u001b[39melse\u001b[39;00m:\n",
      "File \u001b[1;32mc:\\Users\\Shabeeb\\AppData\\Local\\Programs\\Python\\Python311\\Lib\\site-packages\\urllib3\\util\\ssl_.py:493\u001b[0m, in \u001b[0;36m_ssl_wrap_socket_impl\u001b[1;34m(sock, ssl_context, tls_in_tls, server_hostname)\u001b[0m\n\u001b[0;32m    492\u001b[0m \u001b[39mif\u001b[39;00m server_hostname:\n\u001b[1;32m--> 493\u001b[0m     \u001b[39mreturn\u001b[39;00m ssl_context\u001b[39m.\u001b[39;49mwrap_socket(sock, server_hostname\u001b[39m=\u001b[39;49mserver_hostname)\n\u001b[0;32m    494\u001b[0m \u001b[39melse\u001b[39;00m:\n",
      "File \u001b[1;32mc:\\Users\\Shabeeb\\AppData\\Local\\Programs\\Python\\Python311\\Lib\\ssl.py:517\u001b[0m, in \u001b[0;36mSSLContext.wrap_socket\u001b[1;34m(self, sock, server_side, do_handshake_on_connect, suppress_ragged_eofs, server_hostname, session)\u001b[0m\n\u001b[0;32m    511\u001b[0m \u001b[39mdef\u001b[39;00m \u001b[39mwrap_socket\u001b[39m(\u001b[39mself\u001b[39m, sock, server_side\u001b[39m=\u001b[39m\u001b[39mFalse\u001b[39;00m,\n\u001b[0;32m    512\u001b[0m                 do_handshake_on_connect\u001b[39m=\u001b[39m\u001b[39mTrue\u001b[39;00m,\n\u001b[0;32m    513\u001b[0m                 suppress_ragged_eofs\u001b[39m=\u001b[39m\u001b[39mTrue\u001b[39;00m,\n\u001b[0;32m    514\u001b[0m                 server_hostname\u001b[39m=\u001b[39m\u001b[39mNone\u001b[39;00m, session\u001b[39m=\u001b[39m\u001b[39mNone\u001b[39;00m):\n\u001b[0;32m    515\u001b[0m     \u001b[39m# SSLSocket class handles server_hostname encoding before it calls\u001b[39;00m\n\u001b[0;32m    516\u001b[0m     \u001b[39m# ctx._wrap_socket()\u001b[39;00m\n\u001b[1;32m--> 517\u001b[0m     \u001b[39mreturn\u001b[39;00m \u001b[39mself\u001b[39;49m\u001b[39m.\u001b[39;49msslsocket_class\u001b[39m.\u001b[39;49m_create(\n\u001b[0;32m    518\u001b[0m         sock\u001b[39m=\u001b[39;49msock,\n\u001b[0;32m    519\u001b[0m         server_side\u001b[39m=\u001b[39;49mserver_side,\n\u001b[0;32m    520\u001b[0m         do_handshake_on_connect\u001b[39m=\u001b[39;49mdo_handshake_on_connect,\n\u001b[0;32m    521\u001b[0m         suppress_ragged_eofs\u001b[39m=\u001b[39;49msuppress_ragged_eofs,\n\u001b[0;32m    522\u001b[0m         server_hostname\u001b[39m=\u001b[39;49mserver_hostname,\n\u001b[0;32m    523\u001b[0m         context\u001b[39m=\u001b[39;49m\u001b[39mself\u001b[39;49m,\n\u001b[0;32m    524\u001b[0m         session\u001b[39m=\u001b[39;49msession\n\u001b[0;32m    525\u001b[0m     )\n",
      "File \u001b[1;32mc:\\Users\\Shabeeb\\AppData\\Local\\Programs\\Python\\Python311\\Lib\\ssl.py:1075\u001b[0m, in \u001b[0;36mSSLSocket._create\u001b[1;34m(cls, sock, server_side, do_handshake_on_connect, suppress_ragged_eofs, server_hostname, context, session)\u001b[0m\n\u001b[0;32m   1074\u001b[0m             \u001b[39mraise\u001b[39;00m \u001b[39mValueError\u001b[39;00m(\u001b[39m\"\u001b[39m\u001b[39mdo_handshake_on_connect should not be specified for non-blocking sockets\u001b[39m\u001b[39m\"\u001b[39m)\n\u001b[1;32m-> 1075\u001b[0m         \u001b[39mself\u001b[39;49m\u001b[39m.\u001b[39;49mdo_handshake()\n\u001b[0;32m   1076\u001b[0m \u001b[39mexcept\u001b[39;00m (\u001b[39mOSError\u001b[39;00m, \u001b[39mValueError\u001b[39;00m):\n",
      "File \u001b[1;32mc:\\Users\\Shabeeb\\AppData\\Local\\Programs\\Python\\Python311\\Lib\\ssl.py:1346\u001b[0m, in \u001b[0;36mSSLSocket.do_handshake\u001b[1;34m(self, block)\u001b[0m\n\u001b[0;32m   1345\u001b[0m         \u001b[39mself\u001b[39m\u001b[39m.\u001b[39msettimeout(\u001b[39mNone\u001b[39;00m)\n\u001b[1;32m-> 1346\u001b[0m     \u001b[39mself\u001b[39;49m\u001b[39m.\u001b[39;49m_sslobj\u001b[39m.\u001b[39;49mdo_handshake()\n\u001b[0;32m   1347\u001b[0m \u001b[39mfinally\u001b[39;00m:\n",
      "\u001b[1;31mTimeoutError\u001b[0m: _ssl.c:975: The handshake operation timed out",
      "\nDuring handling of the above exception, another exception occurred:\n",
      "\u001b[1;31mReadTimeoutError\u001b[0m                          Traceback (most recent call last)",
      "File \u001b[1;32mc:\\Users\\Shabeeb\\AppData\\Local\\Programs\\Python\\Python311\\Lib\\site-packages\\requests\\adapters.py:489\u001b[0m, in \u001b[0;36mHTTPAdapter.send\u001b[1;34m(self, request, stream, timeout, verify, cert, proxies)\u001b[0m\n\u001b[0;32m    488\u001b[0m \u001b[39mif\u001b[39;00m \u001b[39mnot\u001b[39;00m chunked:\n\u001b[1;32m--> 489\u001b[0m     resp \u001b[39m=\u001b[39m conn\u001b[39m.\u001b[39;49murlopen(\n\u001b[0;32m    490\u001b[0m         method\u001b[39m=\u001b[39;49mrequest\u001b[39m.\u001b[39;49mmethod,\n\u001b[0;32m    491\u001b[0m         url\u001b[39m=\u001b[39;49murl,\n\u001b[0;32m    492\u001b[0m         body\u001b[39m=\u001b[39;49mrequest\u001b[39m.\u001b[39;49mbody,\n\u001b[0;32m    493\u001b[0m         headers\u001b[39m=\u001b[39;49mrequest\u001b[39m.\u001b[39;49mheaders,\n\u001b[0;32m    494\u001b[0m         redirect\u001b[39m=\u001b[39;49m\u001b[39mFalse\u001b[39;49;00m,\n\u001b[0;32m    495\u001b[0m         assert_same_host\u001b[39m=\u001b[39;49m\u001b[39mFalse\u001b[39;49;00m,\n\u001b[0;32m    496\u001b[0m         preload_content\u001b[39m=\u001b[39;49m\u001b[39mFalse\u001b[39;49;00m,\n\u001b[0;32m    497\u001b[0m         decode_content\u001b[39m=\u001b[39;49m\u001b[39mFalse\u001b[39;49;00m,\n\u001b[0;32m    498\u001b[0m         retries\u001b[39m=\u001b[39;49m\u001b[39mself\u001b[39;49m\u001b[39m.\u001b[39;49mmax_retries,\n\u001b[0;32m    499\u001b[0m         timeout\u001b[39m=\u001b[39;49mtimeout,\n\u001b[0;32m    500\u001b[0m     )\n\u001b[0;32m    502\u001b[0m \u001b[39m# Send the request.\u001b[39;00m\n\u001b[0;32m    503\u001b[0m \u001b[39melse\u001b[39;00m:\n",
      "File \u001b[1;32mc:\\Users\\Shabeeb\\AppData\\Local\\Programs\\Python\\Python311\\Lib\\site-packages\\urllib3\\connectionpool.py:787\u001b[0m, in \u001b[0;36mHTTPConnectionPool.urlopen\u001b[1;34m(self, method, url, body, headers, retries, redirect, assert_same_host, timeout, pool_timeout, release_conn, chunked, body_pos, **response_kw)\u001b[0m\n\u001b[0;32m    785\u001b[0m     e \u001b[39m=\u001b[39m ProtocolError(\u001b[39m\"\u001b[39m\u001b[39mConnection aborted.\u001b[39m\u001b[39m\"\u001b[39m, e)\n\u001b[1;32m--> 787\u001b[0m retries \u001b[39m=\u001b[39m retries\u001b[39m.\u001b[39;49mincrement(\n\u001b[0;32m    788\u001b[0m     method, url, error\u001b[39m=\u001b[39;49me, _pool\u001b[39m=\u001b[39;49m\u001b[39mself\u001b[39;49m, _stacktrace\u001b[39m=\u001b[39;49msys\u001b[39m.\u001b[39;49mexc_info()[\u001b[39m2\u001b[39;49m]\n\u001b[0;32m    789\u001b[0m )\n\u001b[0;32m    790\u001b[0m retries\u001b[39m.\u001b[39msleep()\n",
      "File \u001b[1;32mc:\\Users\\Shabeeb\\AppData\\Local\\Programs\\Python\\Python311\\Lib\\site-packages\\urllib3\\util\\retry.py:550\u001b[0m, in \u001b[0;36mRetry.increment\u001b[1;34m(self, method, url, response, error, _pool, _stacktrace)\u001b[0m\n\u001b[0;32m    549\u001b[0m \u001b[39mif\u001b[39;00m read \u001b[39mis\u001b[39;00m \u001b[39mFalse\u001b[39;00m \u001b[39mor\u001b[39;00m \u001b[39mnot\u001b[39;00m \u001b[39mself\u001b[39m\u001b[39m.\u001b[39m_is_method_retryable(method):\n\u001b[1;32m--> 550\u001b[0m     \u001b[39mraise\u001b[39;00m six\u001b[39m.\u001b[39;49mreraise(\u001b[39mtype\u001b[39;49m(error), error, _stacktrace)\n\u001b[0;32m    551\u001b[0m \u001b[39melif\u001b[39;00m read \u001b[39mis\u001b[39;00m \u001b[39mnot\u001b[39;00m \u001b[39mNone\u001b[39;00m:\n",
      "File \u001b[1;32mc:\\Users\\Shabeeb\\AppData\\Local\\Programs\\Python\\Python311\\Lib\\site-packages\\urllib3\\packages\\six.py:770\u001b[0m, in \u001b[0;36mreraise\u001b[1;34m(tp, value, tb)\u001b[0m\n\u001b[0;32m    769\u001b[0m         \u001b[39mraise\u001b[39;00m value\u001b[39m.\u001b[39mwith_traceback(tb)\n\u001b[1;32m--> 770\u001b[0m     \u001b[39mraise\u001b[39;00m value\n\u001b[0;32m    771\u001b[0m \u001b[39mfinally\u001b[39;00m:\n",
      "File \u001b[1;32mc:\\Users\\Shabeeb\\AppData\\Local\\Programs\\Python\\Python311\\Lib\\site-packages\\urllib3\\connectionpool.py:703\u001b[0m, in \u001b[0;36mHTTPConnectionPool.urlopen\u001b[1;34m(self, method, url, body, headers, retries, redirect, assert_same_host, timeout, pool_timeout, release_conn, chunked, body_pos, **response_kw)\u001b[0m\n\u001b[0;32m    702\u001b[0m \u001b[39m# Make the request on the httplib connection object.\u001b[39;00m\n\u001b[1;32m--> 703\u001b[0m httplib_response \u001b[39m=\u001b[39m \u001b[39mself\u001b[39;49m\u001b[39m.\u001b[39;49m_make_request(\n\u001b[0;32m    704\u001b[0m     conn,\n\u001b[0;32m    705\u001b[0m     method,\n\u001b[0;32m    706\u001b[0m     url,\n\u001b[0;32m    707\u001b[0m     timeout\u001b[39m=\u001b[39;49mtimeout_obj,\n\u001b[0;32m    708\u001b[0m     body\u001b[39m=\u001b[39;49mbody,\n\u001b[0;32m    709\u001b[0m     headers\u001b[39m=\u001b[39;49mheaders,\n\u001b[0;32m    710\u001b[0m     chunked\u001b[39m=\u001b[39;49mchunked,\n\u001b[0;32m    711\u001b[0m )\n\u001b[0;32m    713\u001b[0m \u001b[39m# If we're going to release the connection in ``finally:``, then\u001b[39;00m\n\u001b[0;32m    714\u001b[0m \u001b[39m# the response doesn't need to know about the connection. Otherwise\u001b[39;00m\n\u001b[0;32m    715\u001b[0m \u001b[39m# it will also try to release it and we'll have a double-release\u001b[39;00m\n\u001b[0;32m    716\u001b[0m \u001b[39m# mess.\u001b[39;00m\n",
      "File \u001b[1;32mc:\\Users\\Shabeeb\\AppData\\Local\\Programs\\Python\\Python311\\Lib\\site-packages\\urllib3\\connectionpool.py:389\u001b[0m, in \u001b[0;36mHTTPConnectionPool._make_request\u001b[1;34m(self, conn, method, url, timeout, chunked, **httplib_request_kw)\u001b[0m\n\u001b[0;32m    387\u001b[0m \u001b[39mexcept\u001b[39;00m (SocketTimeout, BaseSSLError) \u001b[39mas\u001b[39;00m e:\n\u001b[0;32m    388\u001b[0m     \u001b[39m# Py2 raises this as a BaseSSLError, Py3 raises it as socket timeout.\u001b[39;00m\n\u001b[1;32m--> 389\u001b[0m     \u001b[39mself\u001b[39;49m\u001b[39m.\u001b[39;49m_raise_timeout(err\u001b[39m=\u001b[39;49me, url\u001b[39m=\u001b[39;49murl, timeout_value\u001b[39m=\u001b[39;49mconn\u001b[39m.\u001b[39;49mtimeout)\n\u001b[0;32m    390\u001b[0m     \u001b[39mraise\u001b[39;00m\n",
      "File \u001b[1;32mc:\\Users\\Shabeeb\\AppData\\Local\\Programs\\Python\\Python311\\Lib\\site-packages\\urllib3\\connectionpool.py:340\u001b[0m, in \u001b[0;36mHTTPConnectionPool._raise_timeout\u001b[1;34m(self, err, url, timeout_value)\u001b[0m\n\u001b[0;32m    339\u001b[0m \u001b[39mif\u001b[39;00m \u001b[39misinstance\u001b[39m(err, SocketTimeout):\n\u001b[1;32m--> 340\u001b[0m     \u001b[39mraise\u001b[39;00m ReadTimeoutError(\n\u001b[0;32m    341\u001b[0m         \u001b[39mself\u001b[39m, url, \u001b[39m\"\u001b[39m\u001b[39mRead timed out. (read timeout=\u001b[39m\u001b[39m%s\u001b[39;00m\u001b[39m)\u001b[39m\u001b[39m\"\u001b[39m \u001b[39m%\u001b[39m timeout_value\n\u001b[0;32m    342\u001b[0m     )\n\u001b[0;32m    344\u001b[0m \u001b[39m# See the above comment about EAGAIN in Python 3. In Python 2 we have\u001b[39;00m\n\u001b[0;32m    345\u001b[0m \u001b[39m# to specifically catch it and throw the timeout error\u001b[39;00m\n",
      "\u001b[1;31mReadTimeoutError\u001b[0m: HTTPSConnectionPool(host='api.openai.com', port=443): Read timed out. (read timeout=600)",
      "\nDuring handling of the above exception, another exception occurred:\n",
      "\u001b[1;31mReadTimeout\u001b[0m                               Traceback (most recent call last)",
      "File \u001b[1;32mc:\\Users\\Shabeeb\\AppData\\Local\\Programs\\Python\\Python311\\Lib\\site-packages\\openai\\api_requestor.py:517\u001b[0m, in \u001b[0;36mAPIRequestor.request_raw\u001b[1;34m(self, method, url, params, supplied_headers, files, stream, request_id, request_timeout)\u001b[0m\n\u001b[0;32m    516\u001b[0m \u001b[39mtry\u001b[39;00m:\n\u001b[1;32m--> 517\u001b[0m     result \u001b[39m=\u001b[39m _thread_context\u001b[39m.\u001b[39;49msession\u001b[39m.\u001b[39;49mrequest(\n\u001b[0;32m    518\u001b[0m         method,\n\u001b[0;32m    519\u001b[0m         abs_url,\n\u001b[0;32m    520\u001b[0m         headers\u001b[39m=\u001b[39;49mheaders,\n\u001b[0;32m    521\u001b[0m         data\u001b[39m=\u001b[39;49mdata,\n\u001b[0;32m    522\u001b[0m         files\u001b[39m=\u001b[39;49mfiles,\n\u001b[0;32m    523\u001b[0m         stream\u001b[39m=\u001b[39;49mstream,\n\u001b[0;32m    524\u001b[0m         timeout\u001b[39m=\u001b[39;49mrequest_timeout \u001b[39mif\u001b[39;49;00m request_timeout \u001b[39melse\u001b[39;49;00m TIMEOUT_SECS,\n\u001b[0;32m    525\u001b[0m     )\n\u001b[0;32m    526\u001b[0m \u001b[39mexcept\u001b[39;00m requests\u001b[39m.\u001b[39mexceptions\u001b[39m.\u001b[39mTimeout \u001b[39mas\u001b[39;00m e:\n",
      "File \u001b[1;32mc:\\Users\\Shabeeb\\AppData\\Local\\Programs\\Python\\Python311\\Lib\\site-packages\\requests\\sessions.py:587\u001b[0m, in \u001b[0;36mSession.request\u001b[1;34m(self, method, url, params, data, headers, cookies, files, auth, timeout, allow_redirects, proxies, hooks, stream, verify, cert, json)\u001b[0m\n\u001b[0;32m    586\u001b[0m send_kwargs\u001b[39m.\u001b[39mupdate(settings)\n\u001b[1;32m--> 587\u001b[0m resp \u001b[39m=\u001b[39m \u001b[39mself\u001b[39;49m\u001b[39m.\u001b[39;49msend(prep, \u001b[39m*\u001b[39;49m\u001b[39m*\u001b[39;49msend_kwargs)\n\u001b[0;32m    589\u001b[0m \u001b[39mreturn\u001b[39;00m resp\n",
      "File \u001b[1;32mc:\\Users\\Shabeeb\\AppData\\Local\\Programs\\Python\\Python311\\Lib\\site-packages\\requests\\sessions.py:701\u001b[0m, in \u001b[0;36mSession.send\u001b[1;34m(self, request, **kwargs)\u001b[0m\n\u001b[0;32m    700\u001b[0m \u001b[39m# Send the request\u001b[39;00m\n\u001b[1;32m--> 701\u001b[0m r \u001b[39m=\u001b[39m adapter\u001b[39m.\u001b[39;49msend(request, \u001b[39m*\u001b[39;49m\u001b[39m*\u001b[39;49mkwargs)\n\u001b[0;32m    703\u001b[0m \u001b[39m# Total elapsed time of the request (approximately)\u001b[39;00m\n",
      "File \u001b[1;32mc:\\Users\\Shabeeb\\AppData\\Local\\Programs\\Python\\Python311\\Lib\\site-packages\\requests\\adapters.py:578\u001b[0m, in \u001b[0;36mHTTPAdapter.send\u001b[1;34m(self, request, stream, timeout, verify, cert, proxies)\u001b[0m\n\u001b[0;32m    577\u001b[0m \u001b[39melif\u001b[39;00m \u001b[39misinstance\u001b[39m(e, ReadTimeoutError):\n\u001b[1;32m--> 578\u001b[0m     \u001b[39mraise\u001b[39;00m ReadTimeout(e, request\u001b[39m=\u001b[39mrequest)\n\u001b[0;32m    579\u001b[0m \u001b[39melif\u001b[39;00m \u001b[39misinstance\u001b[39m(e, _InvalidHeader):\n",
      "\u001b[1;31mReadTimeout\u001b[0m: HTTPSConnectionPool(host='api.openai.com', port=443): Read timed out. (read timeout=600)",
      "\nThe above exception was the direct cause of the following exception:\n",
      "\u001b[1;31mTimeout\u001b[0m                                   Traceback (most recent call last)",
      "Cell \u001b[1;32mIn[12], line 1\u001b[0m\n\u001b[1;32m----> 1\u001b[0m order_document_sections_by_query_similarity(\u001b[39m\"\u001b[39;49m\u001b[39mWhat is cultural safety and why is it important when initiating patient interaction in a healthcare setting?\u001b[39;49m\u001b[39m\"\u001b[39;49m, document_embeddings)[:\u001b[39m5\u001b[39m]\n",
      "Cell \u001b[1;32mIn[10], line 16\u001b[0m, in \u001b[0;36morder_document_sections_by_query_similarity\u001b[1;34m(query, contexts)\u001b[0m\n\u001b[0;32m      9\u001b[0m \u001b[39mdef\u001b[39;00m \u001b[39morder_document_sections_by_query_similarity\u001b[39m(query: \u001b[39mstr\u001b[39m, contexts: \u001b[39mdict\u001b[39m[(\u001b[39mstr\u001b[39m, \u001b[39mstr\u001b[39m), np\u001b[39m.\u001b[39marray]) \u001b[39m-\u001b[39m\u001b[39m>\u001b[39m \u001b[39mlist\u001b[39m[(\u001b[39mfloat\u001b[39m, (\u001b[39mstr\u001b[39m, \u001b[39mstr\u001b[39m))]:\n\u001b[0;32m     10\u001b[0m \u001b[39m    \u001b[39m\u001b[39m\"\"\"\u001b[39;00m\n\u001b[0;32m     11\u001b[0m \u001b[39m    Find the query embedding for the supplied query, and compare it against all of the pre-calculated document embeddings\u001b[39;00m\n\u001b[0;32m     12\u001b[0m \u001b[39m    to find the most relevant sections. \u001b[39;00m\n\u001b[0;32m     13\u001b[0m \u001b[39m    \u001b[39;00m\n\u001b[0;32m     14\u001b[0m \u001b[39m    Return the list of document sections, sorted by relevance in descending order.\u001b[39;00m\n\u001b[0;32m     15\u001b[0m \u001b[39m    \"\"\"\u001b[39;00m\n\u001b[1;32m---> 16\u001b[0m     query_embedding \u001b[39m=\u001b[39m get_embedding(query)\n\u001b[0;32m     18\u001b[0m     document_similarities \u001b[39m=\u001b[39m \u001b[39msorted\u001b[39m([\n\u001b[0;32m     19\u001b[0m         (vector_similarity(query_embedding, doc_embedding), doc_index) \u001b[39mfor\u001b[39;00m doc_index, doc_embedding \u001b[39min\u001b[39;00m contexts\u001b[39m.\u001b[39mitems()\n\u001b[0;32m     20\u001b[0m     ], reverse\u001b[39m=\u001b[39m\u001b[39mTrue\u001b[39;00m)\n\u001b[0;32m     22\u001b[0m     \u001b[39mreturn\u001b[39;00m document_similarities\n",
      "Cell \u001b[1;32mIn[6], line 2\u001b[0m, in \u001b[0;36mget_embedding\u001b[1;34m(text, model)\u001b[0m\n\u001b[0;32m      1\u001b[0m \u001b[39mdef\u001b[39;00m \u001b[39mget_embedding\u001b[39m(text: \u001b[39mstr\u001b[39m, model: \u001b[39mstr\u001b[39m\u001b[39m=\u001b[39mEMBEDDING_MODEL) \u001b[39m-\u001b[39m\u001b[39m>\u001b[39m \u001b[39mlist\u001b[39m[\u001b[39mfloat\u001b[39m]:\n\u001b[1;32m----> 2\u001b[0m     result \u001b[39m=\u001b[39m openai\u001b[39m.\u001b[39;49mEmbedding\u001b[39m.\u001b[39;49mcreate(\n\u001b[0;32m      3\u001b[0m       model\u001b[39m=\u001b[39;49mmodel,\n\u001b[0;32m      4\u001b[0m       \u001b[39minput\u001b[39;49m\u001b[39m=\u001b[39;49mtext\n\u001b[0;32m      5\u001b[0m     )\n\u001b[0;32m      6\u001b[0m     time\u001b[39m.\u001b[39msleep(\u001b[39m7\u001b[39m)\n\u001b[0;32m      7\u001b[0m     \u001b[39mreturn\u001b[39;00m result[\u001b[39m\"\u001b[39m\u001b[39mdata\u001b[39m\u001b[39m\"\u001b[39m][\u001b[39m0\u001b[39m][\u001b[39m\"\u001b[39m\u001b[39membedding\u001b[39m\u001b[39m\"\u001b[39m]\n",
      "File \u001b[1;32mc:\\Users\\Shabeeb\\AppData\\Local\\Programs\\Python\\Python311\\Lib\\site-packages\\openai\\api_resources\\embedding.py:33\u001b[0m, in \u001b[0;36mEmbedding.create\u001b[1;34m(cls, *args, **kwargs)\u001b[0m\n\u001b[0;32m     31\u001b[0m \u001b[39mwhile\u001b[39;00m \u001b[39mTrue\u001b[39;00m:\n\u001b[0;32m     32\u001b[0m     \u001b[39mtry\u001b[39;00m:\n\u001b[1;32m---> 33\u001b[0m         response \u001b[39m=\u001b[39m \u001b[39msuper\u001b[39;49m()\u001b[39m.\u001b[39;49mcreate(\u001b[39m*\u001b[39;49margs, \u001b[39m*\u001b[39;49m\u001b[39m*\u001b[39;49mkwargs)\n\u001b[0;32m     35\u001b[0m         \u001b[39m# If a user specifies base64, we'll just return the encoded string.\u001b[39;00m\n\u001b[0;32m     36\u001b[0m         \u001b[39m# This is only for the default case.\u001b[39;00m\n\u001b[0;32m     37\u001b[0m         \u001b[39mif\u001b[39;00m \u001b[39mnot\u001b[39;00m user_provided_encoding_format:\n",
      "File \u001b[1;32mc:\\Users\\Shabeeb\\AppData\\Local\\Programs\\Python\\Python311\\Lib\\site-packages\\openai\\api_resources\\abstract\\engine_api_resource.py:153\u001b[0m, in \u001b[0;36mEngineAPIResource.create\u001b[1;34m(cls, api_key, api_base, api_type, request_id, api_version, organization, **params)\u001b[0m\n\u001b[0;32m    127\u001b[0m \u001b[39m@classmethod\u001b[39m\n\u001b[0;32m    128\u001b[0m \u001b[39mdef\u001b[39;00m \u001b[39mcreate\u001b[39m(\n\u001b[0;32m    129\u001b[0m     \u001b[39mcls\u001b[39m,\n\u001b[1;32m   (...)\u001b[0m\n\u001b[0;32m    136\u001b[0m     \u001b[39m*\u001b[39m\u001b[39m*\u001b[39mparams,\n\u001b[0;32m    137\u001b[0m ):\n\u001b[0;32m    138\u001b[0m     (\n\u001b[0;32m    139\u001b[0m         deployment_id,\n\u001b[0;32m    140\u001b[0m         engine,\n\u001b[1;32m   (...)\u001b[0m\n\u001b[0;32m    150\u001b[0m         api_key, api_base, api_type, api_version, organization, \u001b[39m*\u001b[39m\u001b[39m*\u001b[39mparams\n\u001b[0;32m    151\u001b[0m     )\n\u001b[1;32m--> 153\u001b[0m     response, _, api_key \u001b[39m=\u001b[39m requestor\u001b[39m.\u001b[39;49mrequest(\n\u001b[0;32m    154\u001b[0m         \u001b[39m\"\u001b[39;49m\u001b[39mpost\u001b[39;49m\u001b[39m\"\u001b[39;49m,\n\u001b[0;32m    155\u001b[0m         url,\n\u001b[0;32m    156\u001b[0m         params\u001b[39m=\u001b[39;49mparams,\n\u001b[0;32m    157\u001b[0m         headers\u001b[39m=\u001b[39;49mheaders,\n\u001b[0;32m    158\u001b[0m         stream\u001b[39m=\u001b[39;49mstream,\n\u001b[0;32m    159\u001b[0m         request_id\u001b[39m=\u001b[39;49mrequest_id,\n\u001b[0;32m    160\u001b[0m         request_timeout\u001b[39m=\u001b[39;49mrequest_timeout,\n\u001b[0;32m    161\u001b[0m     )\n\u001b[0;32m    163\u001b[0m     \u001b[39mif\u001b[39;00m stream:\n\u001b[0;32m    164\u001b[0m         \u001b[39m# must be an iterator\u001b[39;00m\n\u001b[0;32m    165\u001b[0m         \u001b[39massert\u001b[39;00m \u001b[39mnot\u001b[39;00m \u001b[39misinstance\u001b[39m(response, OpenAIResponse)\n",
      "File \u001b[1;32mc:\\Users\\Shabeeb\\AppData\\Local\\Programs\\Python\\Python311\\Lib\\site-packages\\openai\\api_requestor.py:217\u001b[0m, in \u001b[0;36mAPIRequestor.request\u001b[1;34m(self, method, url, params, headers, files, stream, request_id, request_timeout)\u001b[0m\n\u001b[0;32m    206\u001b[0m \u001b[39mdef\u001b[39;00m \u001b[39mrequest\u001b[39m(\n\u001b[0;32m    207\u001b[0m     \u001b[39mself\u001b[39m,\n\u001b[0;32m    208\u001b[0m     method,\n\u001b[1;32m   (...)\u001b[0m\n\u001b[0;32m    215\u001b[0m     request_timeout: Optional[Union[\u001b[39mfloat\u001b[39m, Tuple[\u001b[39mfloat\u001b[39m, \u001b[39mfloat\u001b[39m]]] \u001b[39m=\u001b[39m \u001b[39mNone\u001b[39;00m,\n\u001b[0;32m    216\u001b[0m ) \u001b[39m-\u001b[39m\u001b[39m>\u001b[39m Tuple[Union[OpenAIResponse, Iterator[OpenAIResponse]], \u001b[39mbool\u001b[39m, \u001b[39mstr\u001b[39m]:\n\u001b[1;32m--> 217\u001b[0m     result \u001b[39m=\u001b[39m \u001b[39mself\u001b[39;49m\u001b[39m.\u001b[39;49mrequest_raw(\n\u001b[0;32m    218\u001b[0m         method\u001b[39m.\u001b[39;49mlower(),\n\u001b[0;32m    219\u001b[0m         url,\n\u001b[0;32m    220\u001b[0m         params\u001b[39m=\u001b[39;49mparams,\n\u001b[0;32m    221\u001b[0m         supplied_headers\u001b[39m=\u001b[39;49mheaders,\n\u001b[0;32m    222\u001b[0m         files\u001b[39m=\u001b[39;49mfiles,\n\u001b[0;32m    223\u001b[0m         stream\u001b[39m=\u001b[39;49mstream,\n\u001b[0;32m    224\u001b[0m         request_id\u001b[39m=\u001b[39;49mrequest_id,\n\u001b[0;32m    225\u001b[0m         request_timeout\u001b[39m=\u001b[39;49mrequest_timeout,\n\u001b[0;32m    226\u001b[0m     )\n\u001b[0;32m    227\u001b[0m     resp, got_stream \u001b[39m=\u001b[39m \u001b[39mself\u001b[39m\u001b[39m.\u001b[39m_interpret_response(result, stream)\n\u001b[0;32m    228\u001b[0m     \u001b[39mreturn\u001b[39;00m resp, got_stream, \u001b[39mself\u001b[39m\u001b[39m.\u001b[39mapi_key\n",
      "File \u001b[1;32mc:\\Users\\Shabeeb\\AppData\\Local\\Programs\\Python\\Python311\\Lib\\site-packages\\openai\\api_requestor.py:527\u001b[0m, in \u001b[0;36mAPIRequestor.request_raw\u001b[1;34m(self, method, url, params, supplied_headers, files, stream, request_id, request_timeout)\u001b[0m\n\u001b[0;32m    517\u001b[0m     result \u001b[39m=\u001b[39m _thread_context\u001b[39m.\u001b[39msession\u001b[39m.\u001b[39mrequest(\n\u001b[0;32m    518\u001b[0m         method,\n\u001b[0;32m    519\u001b[0m         abs_url,\n\u001b[1;32m   (...)\u001b[0m\n\u001b[0;32m    524\u001b[0m         timeout\u001b[39m=\u001b[39mrequest_timeout \u001b[39mif\u001b[39;00m request_timeout \u001b[39melse\u001b[39;00m TIMEOUT_SECS,\n\u001b[0;32m    525\u001b[0m     )\n\u001b[0;32m    526\u001b[0m \u001b[39mexcept\u001b[39;00m requests\u001b[39m.\u001b[39mexceptions\u001b[39m.\u001b[39mTimeout \u001b[39mas\u001b[39;00m e:\n\u001b[1;32m--> 527\u001b[0m     \u001b[39mraise\u001b[39;00m error\u001b[39m.\u001b[39mTimeout(\u001b[39m\"\u001b[39m\u001b[39mRequest timed out: \u001b[39m\u001b[39m{}\u001b[39;00m\u001b[39m\"\u001b[39m\u001b[39m.\u001b[39mformat(e)) \u001b[39mfrom\u001b[39;00m \u001b[39me\u001b[39;00m\n\u001b[0;32m    528\u001b[0m \u001b[39mexcept\u001b[39;00m requests\u001b[39m.\u001b[39mexceptions\u001b[39m.\u001b[39mRequestException \u001b[39mas\u001b[39;00m e:\n\u001b[0;32m    529\u001b[0m     \u001b[39mraise\u001b[39;00m error\u001b[39m.\u001b[39mAPIConnectionError(\n\u001b[0;32m    530\u001b[0m         \u001b[39m\"\u001b[39m\u001b[39mError communicating with OpenAI: \u001b[39m\u001b[39m{}\u001b[39;00m\u001b[39m\"\u001b[39m\u001b[39m.\u001b[39mformat(e)\n\u001b[0;32m    531\u001b[0m     ) \u001b[39mfrom\u001b[39;00m \u001b[39me\u001b[39;00m\n",
      "\u001b[1;31mTimeout\u001b[0m: Request timed out: HTTPSConnectionPool(host='api.openai.com', port=443): Read timed out. (read timeout=600)"
     ]
    }
   ],
   "source": [
    "order_document_sections_by_query_similarity(\"What is cultural safety and why is it important when initiating patient interaction in a healthcare setting?\", document_embeddings)[:5]"
   ]
  },
  {
   "cell_type": "code",
   "execution_count": null,
   "id": "729c2ce7-8540-4ab2-bb3a-76c4dfcb689c",
   "metadata": {},
   "outputs": [
    {
     "data": {
      "text/plain": [
       "[(0.8562711764927129,\n",
       "  ('CHAPTER 2 HEALTH HISTORY 2.2 Health History Basic Concepts',\n",
       "   'Cultural Safety It is important to conduct a health history in a culturally safe manner.\\nCultural safety refers to the creation of safe spaces for patients to interact\\nwith health professionals without judgment or discrimination. Focus on\\nfactors related to a personâ\\x80\\x99s cultural background that may influence their\\nhealth status. It is helpful to use an open-ended question to allow the\\npatient to share what they believe to be important. For example, ask â\\x80\\x9cI am\\ninterested in your cultural background as it relates to your health. Can you\\nshare with me what is important to know about your cultural background\\nas part of your health care?â\\x80\\x9d\\nIf a patientâ\\x80\\x99s primary language is not English, it is important to obtain a\\nmedical translator, as needed, prior to initiating the health history. The\\npatientâ\\x80\\x99s family member or care partner should not interpret for the\\npatient. The patient may not want their care partner to be aware of their\\nhealth problems or their care partner may not be familiar with correct\\nmedical terminology that can result in miscommunication.')),\n",
       " (0.8444024912148231,\n",
       "  ('CHAPTER 1 GENERAL SURVEY 1.2 Initiating Patient Interaction',\n",
       "   'Cultural Safety When initiating patient interaction, it is important to establish cultural\\nsafety. Cultural safety refers to the creation of safe spaces for patients to\\ninteract with health professionals without judgment or discrimination. See\\nand all patients bring a cultural context to interactions in a health care\\nsetting is helpful when creating cultural safe spaces. If you discover you\\nneed more information about a patientâ\\x80\\x99s cultural beliefs to tailor your care,\\nuse an open-ended question that allows the patient to share what they\\nbelieve to be important. For example, you may ask, â\\x80\\x9cI am interested in your\\ncultural background as it relates to your health. Can you share with me\\nwhat is important about your cultural background that will help me care\\nfor you?â\\x80\\x9d')),\n",
       " (0.8424851223010088,\n",
       "  ('CHAPTER 2 HEALTH HISTORY 2.5 Reason for Seeking Health Care',\n",
       "   'Chief Complaint After identifying the reason why the patient is seeking health care,\\nadditional focused questions are used to obtain detailed information\\nabout this concern. The mnemonic PQRSTU is often used to ask the\\nfor an image ofpatient questions in an organized fashion. See Figure 2.1\\nPQRSTU.\\nused to assess many other symptoms. See Table 2.5b for suggested focus\\nquestions for pain and other symptoms using the PQRSTU mnemonic.\\nTable 2.5b Sample PQRSTU Focused Questions for Pain and Other\\nSymptoms\\nWhile interviewing a patient about their chief complaint, use open-ended\\nquestions to allow the patient to elaborate on information that further\\nimproves your understanding of their health concerns. If their answers do\\nnot seem to align, continue to ask focused questions to clarify information.\\nFor example, if a patient states that â\\x80\\x9cthe pain is tolerableâ\\x80\\x9d but also rates\\nthe pain as a â\\x80\\x9c7â\\x80\\x9d on a 0-10 pain scale, these answers do not align, and the\\nnurse should continue to use follow-up questions using the PQRSTUframework. For example, upon further questioning the patient explains\\nthey rate the pain as a â\\x80\\x9c7â\\x80\\x9d in their knee when participating in physical\\ntherapy exercises, but currently feels the pain is tolerable while resting in\\nbed. This additional information will help the nurse customize\\ninterventions for effective treatment.')),\n",
       " (0.8238574582886666,\n",
       "  ('CHAPTER 2 HEALTH HISTORY 2.8 Functional Health and Activities of Daily Living',\n",
       "   'Value-Belief This category includes values and beliefs that guide decisions about\\nhealth care and can also provide strength and comfort to individuals. It is\\ncommon for a personâ\\x80\\x99s spirituality and values to be influenced by religious\\nfaith. A value is an accepted principle or standard of an individual or\\ngroup. A belief is something accepted as true with a sense of certainty.\\nSpirituality is a way of living that comes from a set of values and beliefs\\nthat are important to a person. The Joint Commission asks health care\\nprofessionals to respect patientsâ\\x80\\x99 cultural and personal values, beliefs, and\\npreferences and accommodate patientsâ\\x80\\x99 rights to religious and other\\nspiritual services.\\nWhen performing an assessment, use open-ended\\nquestions to allow the patient to share values and beliefs they believe are\\nimportant. For example, ask, â\\x80\\x9cI am interested in your spiritual and religious\\nbeliefs and how they relate to your health. Can you share with me any\\nspiritual beliefs or religious practices that are important to you during your\\nstay?â\\x80\\x9d')),\n",
       " (0.8217621000196528,\n",
       "  ('CHAPTER 2 HEALTH HISTORY 2.8 Functional Health and Activities of Daily Living',\n",
       "   'Health Perception-Health Management Health perception-health management is an umbrella term\\nencompassing all of the categories described above, as well as\\nenvironmental health.\\nEnvironmental Health\\nEnvironmental health refers to the safety of a patientâ\\x80\\x99s physical\\nenvironment, also called a social determinant of health. Examples of\\nenvironmental health include, but are not limited to, exposure to violence\\nin the home or community; air pollution; and availability of grocery stores,\\nhealth care providers, and public transportation. Findings that require\\nfurther investigation include a patient living in unsafe environments.\\nSee Table 2.8 for sample focused questions for all categories related to\\nfunctional health.\\nTable 2.8 Focused Interview Questions for Functional Health Categories\\nBegin this section by saying, â\\x80\\x9cI would like to ask you some questions\\nabout factors that affect your ability to function in your day-to-day life.\\nFeel free to share any health concerns that come to mind during this\\ndiscussion.â\\x80\\x9d'))]"
      ]
     },
     "execution_count": 55,
     "metadata": {},
     "output_type": "execute_result"
    }
   ],
   "source": [
    "order_document_sections_by_query_similarity(\"What types of open-ended questions can healthcare professionals use to gain a better understanding of a patient's cultural background and tailor their care accordingly?\", document_embeddings)[:5]"
   ]
  },
  {
   "cell_type": "code",
   "execution_count": null,
   "id": "b763ace2-1946-48e0-8ff1-91ba335d47a0",
   "metadata": {},
   "outputs": [
    {
     "data": {
      "text/plain": [
       "'Context separator contains 3 tokens'"
      ]
     },
     "execution_count": 56,
     "metadata": {},
     "output_type": "execute_result"
    }
   ],
   "source": [
    "MAX_SECTION_LEN = 500\n",
    "SEPARATOR = \"\\n* \"\n",
    "ENCODING = \"gpt2\"  # encoding for text-davinci-003\n",
    "\n",
    "encoding = tiktoken.get_encoding(ENCODING)\n",
    "separator_len = len(encoding.encode(SEPARATOR))\n",
    "\n",
    "f\"Context separator contains {separator_len} tokens\""
   ]
  },
  {
   "cell_type": "code",
   "execution_count": null,
   "id": "0c5c0509-eeb9-4552-a5d4-6ace04ef73dd",
   "metadata": {},
   "outputs": [],
   "source": [
    "def construct_prompt(question: str, context_embeddings: dict, df: pd.DataFrame) -> str:\n",
    "    \"\"\"\n",
    "    Fetch relevant \n",
    "    \"\"\"\n",
    "    most_relevant_document_sections = order_document_sections_by_query_similarity(question, context_embeddings)\n",
    "    \n",
    "    chosen_sections = []\n",
    "    chosen_sections_len = 0\n",
    "    chosen_sections_indexes = []\n",
    "     \n",
    "    for _, section_index in most_relevant_document_sections:\n",
    "        # Add contexts until we run out of space.        \n",
    "        document_section = df.loc[section_index]\n",
    "        \n",
    "        chosen_sections_len += document_section.tokens + separator_len\n",
    "        if chosen_sections_len > MAX_SECTION_LEN:\n",
    "            break\n",
    "            \n",
    "        chosen_sections.append(SEPARATOR + document_section.content.replace(\"\\n\", \" \"))\n",
    "        chosen_sections_indexes.append(str(section_index))\n",
    "            \n",
    "    # Useful diagnostic information\n",
    "    print(f\"Selected {len(chosen_sections)} document sections:\")\n",
    "    print(\"\\n\".join(chosen_sections_indexes))\n",
    "    \n",
    "    header = \"\"\"Answer the question as truthfully as possible using the provided context, and if the answer is not contained within the text below, say \"I don't know.\"\\n\\nContext:\\n\"\"\"\n",
    "    \n",
    "    return header + \"\".join(chosen_sections) + \"\\n\\n Q: \" + question + \"\\n A:\""
   ]
  },
  {
   "cell_type": "code",
   "execution_count": null,
   "id": "f614045a-3917-4b28-9643-7e0c299ec1a7",
   "metadata": {},
   "outputs": [
    {
     "name": "stdout",
     "output_type": "stream",
     "text": [
      "Selected 2 document sections:\n",
      "('CHAPTER 1 GENERAL SURVEY 1.2 Initiating Patient Interaction', 'Cultural Safety When initiating patient interaction, it is important to establish cultural\\nsafety. Cultural safety refers to the creation of safe spaces for patients to\\ninteract with health professionals without judgment or discrimination. See\\nand all patients bring a cultural context to interactions in a health care\\nsetting is helpful when creating cultural safe spaces. If you discover you\\nneed more information about a patientâ\\x80\\x99s cultural beliefs to tailor your care,\\nuse an open-ended question that allows the patient to share what they\\nbelieve to be important. For example, you may ask, â\\x80\\x9cI am interested in your\\ncultural background as it relates to your health. Can you share with me\\nwhat is important about your cultural background that will help me care\\nfor you?â\\x80\\x9d')\n",
      "('CHAPTER 2 HEALTH HISTORY 2.2 Health History Basic Concepts', 'Cultural Safety It is important to conduct a health history in a culturally safe manner.\\nCultural safety refers to the creation of safe spaces for patients to interact\\nwith health professionals without judgment or discrimination. Focus on\\nfactors related to a personâ\\x80\\x99s cultural background that may influence their\\nhealth status. It is helpful to use an open-ended question to allow the\\npatient to share what they believe to be important. For example, ask â\\x80\\x9cI am\\ninterested in your cultural background as it relates to your health. Can you\\nshare with me what is important to know about your cultural background\\nas part of your health care?â\\x80\\x9d\\nIf a patientâ\\x80\\x99s primary language is not English, it is important to obtain a\\nmedical translator, as needed, prior to initiating the health history. The\\npatientâ\\x80\\x99s family member or care partner should not interpret for the\\npatient. The patient may not want their care partner to be aware of their\\nhealth problems or their care partner may not be familiar with correct\\nmedical terminology that can result in miscommunication.')\n",
      "===\n",
      " Answer the question as truthfully as possible using the provided context, and if the answer is not contained within the text below, say \"I don't know.\"\n",
      "\n",
      "Context:\n",
      "\n",
      "* CHAPTER 1 GENERAL SURVEY 1.2 Initiating Patient Interaction Cultural Safety When initiating patient interaction, it is important to establish cultural safety. Cultural safety refers to the creation of safe spaces for patients to interact with health professionals without judgment or discrimination. See and all patients bring a cultural context to interactions in a health care setting is helpful when creating cultural safe spaces. If you discover you need more information about a patientâs cultural beliefs to tailor your care, use an open-ended question that allows the patient to share what they believe to be important. For example, you may ask, âI am interested in your cultural background as it relates to your health. Can you share with me what is important about your cultural background that will help me care for you?â\n",
      "* CHAPTER 2 HEALTH HISTORY 2.2 Health History Basic Concepts Cultural Safety It is important to conduct a health history in a culturally safe manner. Cultural safety refers to the creation of safe spaces for patients to interact with health professionals without judgment or discrimination. Focus on factors related to a personâs cultural background that may influence their health status. It is helpful to use an open-ended question to allow the patient to share what they believe to be important. For example, ask âI am interested in your cultural background as it relates to your health. Can you share with me what is important to know about your cultural background as part of your health care?â If a patientâs primary language is not English, it is important to obtain a medical translator, as needed, prior to initiating the health history. The patientâs family member or care partner should not interpret for the patient. The patient may not want their care partner to be aware of their health problems or their care partner may not be familiar with correct medical terminology that can result in miscommunication.\n",
      "\n",
      " Q: How can healthcare professionals create safe spaces for patients to interact without judgment or discrimination, and what role do cultural beliefs play in this process?\n",
      " A:\n"
     ]
    }
   ],
   "source": [
    "prompt = construct_prompt(\n",
    "    \"How can healthcare professionals create safe spaces for patients to interact without judgment or discrimination, and what role do cultural beliefs play in this process?\",\n",
    "    document_embeddings,\n",
    "    df\n",
    ")\n",
    "\n",
    "print(\"===\\n\", prompt)"
   ]
  },
  {
   "cell_type": "code",
   "execution_count": null,
   "id": "b0edfec7-9243-4573-92e0-253d31c771ad",
   "metadata": {},
   "outputs": [],
   "source": [
    "COMPLETIONS_API_PARAMS = {\n",
    "    # We use temperature of 0.0 because it gives the most predictable, factual answer.\n",
    "    \"temperature\": 0.0,\n",
    "    \"max_tokens\": 300,\n",
    "    \"model\": COMPLETIONS_MODEL,\n",
    "}"
   ]
  },
  {
   "cell_type": "code",
   "execution_count": null,
   "id": "9c1c9a69-848e-4099-a90d-c8da36c153d5",
   "metadata": {},
   "outputs": [],
   "source": [
    "def answer_query_with_context(\n",
    "    query: str,\n",
    "    df: pd.DataFrame,\n",
    "    document_embeddings: dict[(str, str), np.array],\n",
    "    show_prompt: bool = False\n",
    ") -> str:\n",
    "    prompt = construct_prompt(\n",
    "        query,\n",
    "        document_embeddings,\n",
    "        df\n",
    "    )\n",
    "    \n",
    "    if show_prompt:\n",
    "        print(prompt)\n",
    "\n",
    "    response = openai.Completion.create(\n",
    "                prompt=prompt,\n",
    "                **COMPLETIONS_API_PARAMS\n",
    "            )\n",
    "\n",
    "    return response[\"choices\"][0][\"text\"].strip(\" \\n\")"
   ]
  },
  {
   "cell_type": "code",
   "execution_count": null,
   "id": "c233e449-bf33-4c9e-b095-6a4dd278c8fd",
   "metadata": {},
   "outputs": [
    {
     "name": "stdout",
     "output_type": "stream",
     "text": [
      "Selected 2 document sections:\n",
      "('CHAPTER 1 GENERAL SURVEY 1.2 Initiating Patient Interaction', 'Cultural Safety When initiating patient interaction, it is important to establish cultural\\nsafety. Cultural safety refers to the creation of safe spaces for patients to\\ninteract with health professionals without judgment or discrimination. See\\nand all patients bring a cultural context to interactions in a health care\\nsetting is helpful when creating cultural safe spaces. If you discover you\\nneed more information about a patientâ\\x80\\x99s cultural beliefs to tailor your care,\\nuse an open-ended question that allows the patient to share what they\\nbelieve to be important. For example, you may ask, â\\x80\\x9cI am interested in your\\ncultural background as it relates to your health. Can you share with me\\nwhat is important about your cultural background that will help me care\\nfor you?â\\x80\\x9d')\n",
      "('CHAPTER 2 HEALTH HISTORY 2.2 Health History Basic Concepts', 'Cultural Safety It is important to conduct a health history in a culturally safe manner.\\nCultural safety refers to the creation of safe spaces for patients to interact\\nwith health professionals without judgment or discrimination. Focus on\\nfactors related to a personâ\\x80\\x99s cultural background that may influence their\\nhealth status. It is helpful to use an open-ended question to allow the\\npatient to share what they believe to be important. For example, ask â\\x80\\x9cI am\\ninterested in your cultural background as it relates to your health. Can you\\nshare with me what is important to know about your cultural background\\nas part of your health care?â\\x80\\x9d\\nIf a patientâ\\x80\\x99s primary language is not English, it is important to obtain a\\nmedical translator, as needed, prior to initiating the health history. The\\npatientâ\\x80\\x99s family member or care partner should not interpret for the\\npatient. The patient may not want their care partner to be aware of their\\nhealth problems or their care partner may not be familiar with correct\\nmedical terminology that can result in miscommunication.')\n"
     ]
    },
    {
     "data": {
      "text/plain": [
       "'Healthcare professionals can create safe spaces for patients to interact without judgment or discrimination by focusing on factors related to a person\\'s cultural background that may influence their health status. It is helpful to use an open-ended question to allow the patient to share what they believe to be important. For example, asking \"I am interested in your cultural background as it relates to your health. Can you share with me what is important to know about your cultural background as part of your health care?\" This allows the patient to share their cultural beliefs and helps to create a safe space for them to interact with healthcare professionals without judgment or discrimination.'"
      ]
     },
     "execution_count": 61,
     "metadata": {},
     "output_type": "execute_result"
    }
   ],
   "source": [
    "answer_query_with_context(\"How can healthcare professionals create safe spaces for patients to interact without judgment or discrimination, and what role do cultural beliefs play in this process?\", df, document_embeddings)"
   ]
  },
  {
   "cell_type": "code",
   "execution_count": null,
   "id": "1127867b-2884-44bb-9439-0e8ae171c835",
   "metadata": {},
   "outputs": [
    {
     "name": "stdout",
     "output_type": "stream",
     "text": [
      "Selected 1 document sections:\n",
      "('CHAPTER 23 IV THERAPY MANAGEMENT 23.2 IV Therapy Basics', 'Secondary Fluid Infusion Secondary IV fluid administration is usually an intermittent infusion that\\ninfuses at regular intervals (e.g., every 8 hours). This form of IV therapy\\nusually contains medications that are supplied in a smaller infusion bag\\nand mixed with a diluent fluid like saline (e.g., IV antibiotics). Many\\ncommon preparations come in 25 to 100 mL bags.\\nSecondary IV therapy is often referred to as â\\x80\\x9cIV piggybackâ\\x80\\x9d (IVPB)\\nmedication because it is attached to the primary bag of intravenous fluids.\\nIn this case, the primary line maintains venous access between drug\\ndoses.\\nIt is important to remember that not all IV solutions are compatible with\\nall IV medications. It is vital for the nurse to triple check that the secondary\\nmedications/fluids are compatible with primary fluids. If medication and\\nfluids are not compatible, a precipitate may form when the fluids mix\\nwithin the line, posing a significant health danger for the patient.')\n",
      "\n",
      "Q: What is secondary care in the medical field and in what types of settings is it typically provided?\n",
      "A: Secondary care in the medical field is usually an intermittent infusion that infuses at regular intervals (e.g., every 8 hours). It is typically provided in hospital settings.\n"
     ]
    }
   ],
   "source": [
    "query = \"What is secondary care in the medical field and in what types of settings is it typically provided?\"\n",
    "answer = answer_query_with_context(query, df, document_embeddings)\n",
    "\n",
    "print(f\"\\nQ: {query}\\nA: {answer}\")"
   ]
  },
  {
   "cell_type": "code",
   "execution_count": null,
   "id": "720d9e0b-b189-4101-91ee-babf736199e6",
   "metadata": {},
   "outputs": [
    {
     "name": "stdout",
     "output_type": "stream",
     "text": [
      "Selected 0 document sections:\n",
      "\n",
      "\n",
      "Q: In the 2020 Summer Olympics, how many gold medals did the country which won the most medals win?\n",
      "A: I don't know.\n"
     ]
    }
   ],
   "source": [
    "query = \"In the 2020 Summer Olympics, how many gold medals did the country which won the most medals win?\"\n",
    "answer = answer_query_with_context(query, df, document_embeddings)\n",
    "\n",
    "print(f\"\\nQ: {query}\\nA: {answer}\")"
   ]
  },
  {
   "cell_type": "code",
   "execution_count": null,
   "id": "4e8e51cc-e4eb-4557-9e09-2929d4df5b7f",
   "metadata": {},
   "outputs": [
    {
     "name": "stdout",
     "output_type": "stream",
     "text": [
      "Selected 1 document sections:\n",
      "('CHAPTER 1 GENERAL SURVEY 1.6 Sample Documentation', 'Sample Documentation of Unexpected Findings Mrs. Smith is a 65-year-old patient who appears older than her stated\\nage. She appears slightly agitated during the interview. She is oriented to\\nperson only and denies pain. She is wearing a heavy winter coat on a\\nwarm summer day and has an unclean body odor. She is slow to respond\\nto questions and does not follow commands. She seems to neglect the\\nuse of her right arm. Her gait is shuffled with stooped posture but has no\\nthe underweight category. Her vital signs were 186/55, pulse 102 and\\nirregular, respiratory rate 22, temperature 38.1 Celsius, and pulse oximetry\\nwas 88%.')\n",
      "\n",
      "Q: What was unusual about the men’s shotput competition?\n",
      "A: I don't know.\n"
     ]
    }
   ],
   "source": [
    "query = \"What was unusual about the men’s shotput competition?\"\n",
    "answer = answer_query_with_context(query, df, document_embeddings)\n",
    "\n",
    "print(f\"\\nQ: {query}\\nA: {answer}\")"
   ]
  },
  {
   "cell_type": "code",
   "execution_count": null,
   "id": "37c83519-e3c6-4c44-8b4a-98cbb3a5f5ba",
   "metadata": {},
   "outputs": [
    {
     "name": "stdout",
     "output_type": "stream",
     "text": [
      "Selected 0 document sections:\n",
      "\n",
      "\n",
      "Q: In the 2020 Summer Olympics, how many silver medals did Italy win?\n",
      "A: I don't know.\n"
     ]
    }
   ],
   "source": [
    "query = \"In the 2020 Summer Olympics, how many silver medals did Italy win?\"\n",
    "answer = answer_query_with_context(query, df, document_embeddings)\n",
    "\n",
    "print(f\"\\nQ: {query}\\nA: {answer}\")"
   ]
  },
  {
   "cell_type": "markdown",
   "id": "177c945e-f5c4-4fa5-8331-44f328b25e44",
   "metadata": {},
   "source": [
    "Our Q&A model is less prone to hallucinating answers, and has a better sense of what it does or doesn't know. This works when the information isn't contained in the context; when the question is nonsensical; or when the question is theoretically answerable but beyond GPT-3's powers!"
   ]
  },
  {
   "cell_type": "code",
   "execution_count": null,
   "id": "26a1a9ef-e1ee-4f80-a1b1-6164ccfa5bac",
   "metadata": {},
   "outputs": [
    {
     "name": "stdout",
     "output_type": "stream",
     "text": [
      "Selected 1 document sections:\n",
      "('CHAPTER 5 MATH CALCULATIONS 5.7 Conversions', 'Pounds to Kilograms Converting pounds to kilograms is typically memorized as an equivalency,\\nbut letâ\\x80\\x99s practice using the technique of dimensional analysis.\\nSample problem: The patient entered their weight as 137 pounds on their\\nintake form. Convert the patientâ\\x80\\x99s weight to kilograms to document it in\\nthe electronic medical record. Round your answer to the nearest tenth.\\nCalculate using dimensional analysis.\\n1.  Start by identifying kg as the goal unit for which you are solving. Then,\\nset up the first fraction so that the numerator matches the goal unit\\nof kg.  For the denominator, add 2.2 lbs because the knownequivalency is 1 kg is equivalent to 2.2 pounds. Set up the second\\nfraction with pounds in the numerator so that pounds will cross out\\ndiagonally to eliminate this unit. Then, add the patientâ\\x80\\x99s known weight\\n(137 lb) in the numerator, with 1 in the denominator because the\\nfunction of this fraction is to cross out units. Multiply across the\\nnumerators and then the denominators. Finally, divide the final\\nfraction to solve the problem.')\n",
      "\n",
      "Q: What is the total number of medals won by France, multiplied by the number of Taekwondo medals given out to all countries?\n",
      "A: I don't know.\n"
     ]
    }
   ],
   "source": [
    "query = \"What is the total number of medals won by France, multiplied by the number of Taekwondo medals given out to all countries?\"\n",
    "answer = answer_query_with_context(query, df, document_embeddings)\n",
    "\n",
    "print(f\"\\nQ: {query}\\nA: {answer}\")"
   ]
  },
  {
   "cell_type": "code",
   "execution_count": null,
   "id": "9fba8a63-eb81-4661-ae17-59bb5e2933d6",
   "metadata": {},
   "outputs": [
    {
     "name": "stdout",
     "output_type": "stream",
     "text": [
      "Selected 0 document sections:\n",
      "\n",
      "\n",
      "Q: What is the tallest mountain in the world?\n",
      "A: I don't know.\n"
     ]
    }
   ],
   "source": [
    "query = \"What is the tallest mountain in the world?\"\n",
    "answer = answer_query_with_context(query, df, document_embeddings)\n",
    "\n",
    "print(f\"\\nQ: {query}\\nA: {answer}\")"
   ]
  },
  {
   "cell_type": "code",
   "execution_count": null,
   "id": "2d4c693b-cdb9-4f4c-bd1b-f77b29097a1f",
   "metadata": {},
   "outputs": [
    {
     "name": "stdout",
     "output_type": "stream",
     "text": [
      "Selected 2 document sections:\n",
      "('CHAPTER 1 GENERAL SURVEY 1.6 Sample Documentation', 'Sample Documentation of Expected Findings Mrs. Smith is a 65-year-old patient who appears her stated age. She is\\ncalm, cooperative, alert, and oriented x 3. She is well-groomed and her\\nclothing is clean and appropriate for the weather. Her speech is clear and\\nunderstandable, and she follows instructions appropriately.\\nMrs. Smith moves all extremities equally bilaterally with good posture. Her\\ngait is smooth and she maintains balance without assistance. Her skin is\\nwarm and her mucous membranes are moist. She is  5â\\x80\\x994â\\x80\\x9d and she weighs\\n143 with a BMI of 24 in the normal weight category. Her vital signs were\\nBP 120/70, pulse 74 and regular, respiratory rate 14, temperature 36.8\\nCelsius, and pulse oximetry was 98% on room air.')\n",
      "('CHAPTER 6 NEUROLOGICAL ASSESSMENT 6.7 Assessing Motor Strength', 'Hand Grasps To perform a hand grasp test, extend two fingers on both hands toward\\nthe patient. Ask the patient to squeeze both of your hands and compare\\nfor similar bilateral strength. See Figure 6.29\\nfor an image of assessing\\nhand grasp strength.\\nUpper Extremity StrengthTo test upper extremity strength, ask the patient to extend their forearms\\nwith palms facing upwards. Place your hands on their inner forearms and\\nask them to pull their arms toward them while you provide resistance. An\\nexpected finding is the patient strongly bilaterally pulls against resistance\\nwith both arms.\\nAn alternative test is to ask the patient to put their hands in the air with\\ntheir palms facing you. Place your palms against theirs and ask them to\\npush while you provide resistance. See Figure 6.30\\nfor an image of\\nassessing upper body strength.')\n",
      "\n",
      "Q: Who won the grimblesplatch competition at the 2020 Summer Olympic games?\n",
      "A: I don't know.\n"
     ]
    }
   ],
   "source": [
    "query = \"Who won the grimblesplatch competition at the 2020 Summer Olympic games?\"\n",
    "answer = answer_query_with_context(query, df, document_embeddings)\n",
    "\n",
    "print(f\"\\nQ: {query}\\nA: {answer}\")"
   ]
  }
 ],
 "metadata": {
  "kernelspec": {
   "display_name": "Python 3",
   "language": "python",
   "name": "python3"
  },
  "language_info": {
   "codemirror_mode": {
    "name": "ipython",
    "version": 3
   },
   "file_extension": ".py",
   "mimetype": "text/x-python",
   "name": "python",
   "nbconvert_exporter": "python",
   "pygments_lexer": "ipython3",
   "version": "3.11.1"
  },
  "vscode": {
   "interpreter": {
    "hash": "80f1ed4dddd1d5fd563917308b5bc349875962a5b9194abcd8ac906ac7961ad2"
   }
  }
 },
 "nbformat": 4,
 "nbformat_minor": 5
}
