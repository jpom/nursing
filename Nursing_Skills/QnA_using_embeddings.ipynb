{
 "cells": [
  {
   "attachments": {},
   "cell_type": "markdown",
   "id": "c4ca8276-e829-4cff-8905-47534e4b4d4e",
   "metadata": {},
   "source": [
    "# Question Answering using Embeddings\n",
    "\n",
    "Many use cases require GPT-3 to respond to user questions with insightful answers. For example, a customer support chatbot may need to provide answers to common questions. The GPT models have picked up a lot of general knowledge in training, but we often need to ingest and use a large library of more specific information.\n",
    "\n",
    "In this notebook we will demonstrate a method for enabling GPT-3 to answer questions using a library of text as a reference, by using document embeddings and retrieval. We'll be using a dataset of Wikipedia articles about the Nusring Skills."
   ]
  },
  {
   "cell_type": "code",
   "execution_count": 19,
   "id": "9e3839a6-9146-4f60-b74b-19abbc24278d",
   "metadata": {},
   "outputs": [],
   "source": [
    "import numpy as np\n",
    "import openai\n",
    "import pandas as pd\n",
    "import pickle\n",
    "import tiktoken\n",
    "import time\n",
    "import os\n",
    "\n",
    "openai.api_key = os.getenv('OPEN_AI_KEY') #Add your API key here\n",
    "\n",
    "COMPLETIONS_MODEL = \"text-davinci-003\"\n",
    "EMBEDDING_MODEL = \"text-embedding-ada-002\""
   ]
  },
  {
   "cell_type": "code",
   "execution_count": 20,
   "id": "a167516c-7c19-4bda-afa5-031aa0ae13bb",
   "metadata": {},
   "outputs": [
    {
     "data": {
      "text/plain": [
       "\"Marcelo Chierighini of Brazil won the gold medal in the men's high jump at the 2020 Summer Olympics.\""
      ]
     },
     "execution_count": 20,
     "metadata": {},
     "output_type": "execute_result"
    }
   ],
   "source": [
    "prompt = \"Who won the 2020 Summer Olympics men's high jump?\"\n",
    "\n",
    "openai.Completion.create(\n",
    "    prompt=prompt,\n",
    "    temperature=0,\n",
    "    max_tokens=300,\n",
    "    model=COMPLETIONS_MODEL\n",
    ")[\"choices\"][0][\"text\"].strip(\" \\n\")"
   ]
  },
  {
   "cell_type": "code",
   "execution_count": 21,
   "id": "a5451371-17fe-4ef3-aa02-affcf4edb0e0",
   "metadata": {},
   "outputs": [
    {
     "data": {
      "text/plain": [
       "\"Sorry, I don't know.\""
      ]
     },
     "execution_count": 21,
     "metadata": {},
     "output_type": "execute_result"
    }
   ],
   "source": [
    "prompt = \"\"\"Answer the question as truthfully as possible, and if you're unsure of the answer, say \"Sorry, I don't know\".\n",
    "\n",
    "Q: Who won the 2020 Summer Olympics men's high jump?\n",
    "A:\"\"\"\n",
    "\n",
    "openai.Completion.create(\n",
    "    prompt=prompt,\n",
    "    temperature=0,\n",
    "    max_tokens=300,\n",
    "    model=COMPLETIONS_MODEL\n",
    ")[\"choices\"][0][\"text\"].strip(\" \\n\")"
   ]
  },
  {
   "cell_type": "code",
   "execution_count": 22,
   "id": "fceaf665-2602-4788-bc44-9eb256a6f955",
   "metadata": {},
   "outputs": [
    {
     "data": {
      "text/plain": [
       "'Gianmarco Tamberi and Mutaz Essa Barshim emerged as joint winners of the event.'"
      ]
     },
     "execution_count": 22,
     "metadata": {},
     "output_type": "execute_result"
    }
   ],
   "source": [
    "prompt = \"\"\"Answer the question as truthfully as possible using the provided text, and if the answer is not contained within the text below, say \"I don't know\"\n",
    "\n",
    "Context:\n",
    "The men's high jump event at the 2020 Summer Olympics took place between 30 July and 1 August 2021 at the Olympic Stadium.\n",
    "33 athletes from 24 nations competed; the total possible number depended on how many nations would use universality places \n",
    "to enter athletes in addition to the 32 qualifying through mark or ranking (no universality places were used in 2021).\n",
    "Italian athlete Gianmarco Tamberi along with Qatari athlete Mutaz Essa Barshim emerged as joint winners of the event following\n",
    "a tie between both of them as they cleared 2.37m. Both Tamberi and Barshim agreed to share the gold medal in a rare instance\n",
    "where the athletes of different nations had agreed to share the same medal in the history of Olympics. \n",
    "Barshim in particular was heard to ask a competition official \"Can we have two golds?\" in response to being offered a \n",
    "'jump off'. Maksim Nedasekau of Belarus took bronze. The medals were the first ever in the men's high jump for Italy and \n",
    "Belarus, the first gold in the men's high jump for Italy and Qatar, and the third consecutive medal in the men's high jump\n",
    "for Qatar (all by Barshim). Barshim became only the second man to earn three medals in high jump, joining Patrik Sjöberg\n",
    "of Sweden (1984 to 1992).\n",
    "\n",
    "Q: Who won the 2020 Summer Olympics men's high jump?\n",
    "A:\"\"\"\n",
    "\n",
    "openai.Completion.create(\n",
    "    prompt=prompt,\n",
    "    temperature=0,\n",
    "    max_tokens=300,\n",
    "    top_p=1,\n",
    "    frequency_penalty=0,\n",
    "    presence_penalty=0,\n",
    "    model=COMPLETIONS_MODEL\n",
    ")[\"choices\"][0][\"text\"].strip(\" \\n\")"
   ]
  },
  {
   "cell_type": "code",
   "execution_count": 23,
   "id": "cc9c8d69-e234-48b4-87e3-935970e1523a",
   "metadata": {},
   "outputs": [
    {
     "name": "stdout",
     "output_type": "stream",
     "text": [
      "335 rows in the data.\n"
     ]
    },
    {
     "data": {
      "text/html": [
       "<div>\n",
       "<style scoped>\n",
       "    .dataframe tbody tr th:only-of-type {\n",
       "        vertical-align: middle;\n",
       "    }\n",
       "\n",
       "    .dataframe tbody tr th {\n",
       "        vertical-align: top;\n",
       "    }\n",
       "\n",
       "    .dataframe thead th {\n",
       "        text-align: right;\n",
       "    }\n",
       "</style>\n",
       "<table border=\"1\" class=\"dataframe\">\n",
       "  <thead>\n",
       "    <tr style=\"text-align: right;\">\n",
       "      <th></th>\n",
       "      <th></th>\n",
       "      <th>content</th>\n",
       "      <th>tokens</th>\n",
       "    </tr>\n",
       "    <tr>\n",
       "      <th>title</th>\n",
       "      <th>heading</th>\n",
       "      <th></th>\n",
       "      <th></th>\n",
       "    </tr>\n",
       "  </thead>\n",
       "  <tbody>\n",
       "    <tr>\n",
       "      <th>CHAPTER 13 MUSCULOSKELETAL ASSESSMENT 13.3 Common Musculoskeletal Conditions</th>\n",
       "      <th>Foot Drop Foot drop is the inability to raise the front part of the foot due to weakness\\nor paralysis of the muscles that lift the foot. As a result, individuals with\\nfoot drop often scuff their toes along the ground when walking or bend\\ntheir knees to lift their foot higher than usual to avoid the scuffing. Foot\\ndrop is a symptom of an underlying problem and can be temporary or\\npermanent, depending on the cause. The prognosis for foot drop depends\\non the cause. Foot drop caused by trauma or nerve damage usually shows\\npartial or complete recovery, but in progressive neurological disorders, foot\\ndrop will be a symptom that is likely to continue as a lifelong disability.\\nTreatment depends on the specific cause of foot drop. The most common\\ntreatment is to support the foot with lightweight leg braces. See Figure\\n13.24\\nfor an image of a patient with foot drop treated with a leg brace.\\nExercise therapy to strengthen the muscles and maintain joint motion\\nalso helps to improve a patientâs gait.</th>\n",
       "      <td>CHAPTER 13 MUSCULOSKELETAL ASSESSMENT 13.3 Com...</td>\n",
       "      <td>241</td>\n",
       "    </tr>\n",
       "    <tr>\n",
       "      <th>CHAPTER 19 SPECIMEN COLLECTION 19.2 Blood Glucose Monitoring</th>\n",
       "      <th>Glucometer Use It is typically the responsibility of a nurse to perform bedside blood\\nglucose readings, but in some agencies, this procedure may be delegated\\nto trained nursing assistants or medical assistants. See Figure 19.1\\nfor an\\nimage of a standard bedside glucometer kit that contains a glucometer,\\nlancets, reagent strips, and calibration drops. Prior to performing a blood\\nglucose test, read the manufacturerâs instructions and agency policy\\nbecause they may vary across devices and sites. Ensure the glucometer\\nhas been calibrated per agency policy.\\nBefore beginning the procedure, determine if there are any conditions\\npresent that could affect the reading. For example, is the patient fasting?\\nHas the patient already begun eating? Is the patient demonstrating any\\nsymptoms of hypoglycemia or hyperglycemia? Keep your patient safe by\\napplying your knowledge of diabetes, the medication being administered,\\nand the uniqueness of the patient to make appropriate clinical judgments\\nregarding the procedure and associated medication administration.\\nSee the âChecklist for Blood Glucose Monitoringâ for details regarding the\\nprocedure. It is often important to keep the patientâs hand warm and in a\\nsample. If necessary, warm compresses can be applied for 10 minutes prior\\nto the procedure to promote vasodilation. Follow the manufacturerâs\\ninstructions to prepare the glucometer for measurement. After applying\\nclean gloves, clean the patientâs skin with an alcohol wipe for 30 seconds,\\nallow the site to dry, and then puncture the skin using the lancet. See\\nFigure 19.2\\nfor an image of performing a skin puncture using a lancet.\\nIf needed, gently squeeze above the site to obtain a large drop of blood.\\nDo not milk or massage the finger because it may introduce excess tissue\\nfluid and hemolyze the specimen. Wipe away the first drop of blood and\\nuse the second drop for the blood sample. Follow agency policy and\\nmanufacturer instructions regarding placement of the drop of blood forfor an image of a nurseabsorption on the reagent strip. See Figure 19.3\\nabsorbing the patientâs drop of blood on the reagent strip. Timeliness is\\nessential in gathering an appropriate specimen before clotting occurs or\\nthe glucometer times out.\\nCleanse the glucometer and document the blood glucose results\\naccording to agency policy. Report any concerns about patient symptoms\\nor blood sugar results according to agency policy.\\nLife Span Considerations\\nBlood glucose samples should be taken from the heel of newborns and\\nheel, the sample is taken from the medial or lateral plantar surface.\\nVideo Review of Obtaining a BedsideBlood Sugar</th>\n",
       "      <td>CHAPTER 19 SPECIMEN COLLECTION 19.2 Blood Gluc...</td>\n",
       "      <td>630</td>\n",
       "    </tr>\n",
       "    <tr>\n",
       "      <th>CHAPTER 17 ENTERAL TUBE MANAGEMENT 17.3 Assessments Related to Enteral Tubes</th>\n",
       "      <th>Objective Assessment Objective assessments for patients with enteral tubes include assessing\\nskin integrity, tube placement, gastrointestinal function, and for signs of\\ncomplications:\\nâ¢  Assess the tube insertion site daily for signs of pressure injury and skin\\nbreakdown. Cleanse and protect the area as indicated.\\nâ¢  Assess tube placement every four hours and prior to administration of\\nfeedings or medications according agency policy. Verify the visible\\ntube length and compare it to the length documented after X-ray\\nverification.\\nâ¢  Trace the tubing from the insertion site to prevent tubing\\nmisconnections.\\nâ¢  Assess the abdomen. If tube suctioning is in place, the suction should\\nbe turned off prior to auscultation. Bowel sounds should be present in\\nall four quadrants, and the abdomen should be soft and\\nnondistended.\\nâ¢  Monitor the patientâs weight and overall nutritional status in\\ncollaboration with the multidisciplinary team.\\nâ¢  Monitor serum electrolytes and blood glucose as indicated.</th>\n",
       "      <td>CHAPTER 17 ENTERAL TUBE MANAGEMENT 17.3 Assess...</td>\n",
       "      <td>263</td>\n",
       "    </tr>\n",
       "    <tr>\n",
       "      <th>CHAPTER 5 MATH CALCULATIONS 5.1 Math Calculations Introduction</th>\n",
       "      <th>Learning Objectives â¢  Accurately perform calculations using decimals, fractions,\\npercentages, ratios, and/or proportions\\nâ¢  Convert between the metric and household systems\\nâ¢  Use military time\\nâ¢  Use dimensional analysis\\nâ¢  Accurately solve calculations related to conversions,\\ndosages, liquid concentrations, reconstituted\\nmedications, weight-based medications, and intravenous\\ninfusions and evaluate final answer to ensure safe\\nmedication administration\\nThe Institute of Medicine (IOM) has estimated that the average\\nhospitalized patient experiences at least one medication error each day.\\nNurses are the last step in the medication administration process beforethe medication reaches the patient, so they bear the final responsibility to\\nensure the medication is safe. To safely prepare and administer\\nmedications, the nurse performs a variety of mathematical calculations,\\nsuch as determining the number of tablets, calculating the amount of\\nsolution, and setting the rate of an intravenous infusion.\\nDosage calculation in clinical practice is more than just solving a math\\nproblem. Nurses must perform several tasks during drug calculations,\\nsuch as reading drug labels for pertinent information, determining what\\ninformation is needed to set up the math calculation, performing the\\nmath calculations, and then critically evaluating the answer to determine\\nif it is within a safe dosage range for that specific patient. Finally, the nurse\\nselects an appropriate measurement device to accurately measure the\\nThis chapter will explaincalculated dose or set the rate of administration.\\nhow to perform these tasks related to dosage calculations using authentic\\nproblems that a nurse commonly encounters in practice.</th>\n",
       "      <td>CHAPTER 5 MATH CALCULATIONS 5.1 Math Calculati...</td>\n",
       "      <td>367</td>\n",
       "    </tr>\n",
       "    <tr>\n",
       "      <th>CHAPTER 17 ENTERAL TUBE MANAGEMENT 17.2 Basic Concepts of Enteral Tubes</th>\n",
       "      <th>Tube Feeding Enteral Nutrition (EN) refers to nutrition provided directly into the\\ngastrointestinal (GI) tract through an enteral tube that bypasses the oral\\ncavity. Each year in the United States, over 250,000 hospitalized patients\\nfrom infants to older adults receive EN. It is also used widely in\\nrehabilitation, longâterm care, and home settings. EN requires a\\nmultidisciplinary team approach, including a registered dietician, health\\nperforms a nutrition assessment and determines what type of enteral\\nnutrition is appropriate to promote improved patient outcomes. The\\nhealth care provider writes the order for the enteral nutrition. Prescriptions\\nfor enteral nutrition should be reviewed by the nurse for the following\\ncomponents: type of enteral nutrition formula, amount and frequency of\\nfree water flushes, route of administration, administration method, and\\nrate. Any concerns about the components of the prescription should be\\nverified with the provider before tube feeding is administered.\\nTube feeding can be administered using gravity to provide a bolus feeding\\nor via a pump to provide continuous or intermittent feeding. Feedings via\\na pump are set up in mL/hr, with the rate prescribed by the health care\\nprovider. See Figure 17.7\\nfor an image of an enteral tube feeding pump\\nand the associated tubing. Note that tubing used for enteral feeding is\\nindicated by specific colors (such as purple in Figure 17.7). A global safety\\ninitiative, referred to as âEnFit,â is in progress to ensure all devices used\\nwith enteral feeding, such as extension sets, syringes, PEG tubes, and NG\\ntubes have specific EnFit ends that can only be used with tube feeding\\nsets. This new safety design will avoid inadvertent administration of\\nenteral feeding into intravenous tubing that can cause life-threatening\\nadverse effects.\\nReview the âChecklist for NG Tube Enteral Feeding by Gravity withIrrigationâ section for additional information regarding administering\\nbolus feedings by gravity.\\nLife Span Considerations\\nEnteral feeding is administered to infants and children via a syringe,\\ngravity feeding set, or feeding pump. The method selected is dependenton the nature of the feeding and clinical status of the child.\\nComplications of Enteral Feeding\\nThe most serious complication of enteral feeding is inadvertent respiratory\\naspiration of gastric contents, causing life-threatening aspiration\\npneumonia. Other complications include tube clogging, tubing\\nmisconnections, and patient intolerance of enteral feeding.\\nREDUCING RISK OF ASPIRATIONIn addition to verifying tube placement as discussed in an earlier section,\\nnurses perform additional interventions to prevent aspiration. The\\nAmerican Association of CriticalâCare Nurses recommends the following\\nguidelines to reduce the risk for aspiration:\\nâ¢  Maintain the head of the bed at 30Â°-45Â° unless contraindicated\\nâ¢  Use sedatives as sparingly as possible\\nâ¢  Assess feeding tube placement at fourâhour intervals\\nâ¢  Observe for change in the amount of external length of the tube\\nâ¢  Assess for gastrointestinal intolerance at fourâhour intervals\\nMeasurement of gastric residual volume (GRV) is performed by using a\\n60-mL syringe to aspirate stomach contents through the tube. It has\\ntraditionally been used to assess aspiration risk with associated\\ninterventions such as slowing or stopping the enteral feeding. GRVs in the\\nrange of 200â500 mL cause interventions such as slowing or stopping the\\nfeeding to reduce risk of aspiration. However, according to recent research,\\nit is not appropriate to stop enteral nutrition for GRVs less than 500 mL in\\nthe absence of other signs of intolerance because of the impact on thepatientâs overall nutritional status. Additionally, the aspiration of gastric\\nresidual volumes can contribute to tube clogging.\\nFollow agency policy\\nregarding measuring gastric residual volume and implementing\\ninterventions to prevent aspiration.\\nMANAGING TUBE CLOGGINGFeeding tubes are prone to clogging for a variety of reasons. The risk of\\nclogging may result from tube properties (such as narrow tube diameter),\\nthe tube tip location (stomach vs. small intestine), insufficient water\\nflushes, aspiration for gastric residual volume (GRV), contaminated\\nformula, and incorrect medication preparation and administration. A\\nclogged feeding tube can result in decreased nutrient delivery or delayed\\nadministration of medication, and, if not corrected, the patient may\\nrequire additional surgical intervention to replace the tube.\\nResearch supports using water as the best choice for initial declogging\\nefforts. Instill warm water into the tube using a 60âmL syringe, and apply a\\ngentle backâandâforth motion with the plunger of the syringe. Research\\nshows that the use of cranberry juice and carbonated beverages to flush\\nthe tube can worsen tube occlusions because the acidic pH of these fluids\\ncan cause proteins in the enteral formula to precipitate within the tube. If\\nwater does not work, a pancreatic enzyme solution, an enzymatic\\ndeclogging kit, or mechanical devices for clearing feeding tubes are the\\nbest secondâline options.\\nTo prevent enteral tubes from clogging, it is important to follow these\\nguidelines:\\nâ¢  Flush feeding tubes at a minimum of once a shift.\\nâ¢  Flush feeding tubes immediately before and after intermittent\\nfeedings. During continuous feedings, flush at standardized,\\nscheduled intervals.\\nâ¢  Flush feeding tubes before and after medication administration and\\nfollow appropriate medication administration practices.\\nâ¢  Limit gastric residual volume checks because the acidic gastric\\ncontents may cause protein in enteral formulas to precipitate within\\nthe lumen of the tube.\\nPREVENTING TUBING MISCONNECTIONSIn April 2006, The Joint Commission issued a Sentinel Event Alert on\\ntubing misconnections due to enteral feedings being inadvertently\\ninfused into intravenous lines with life-threatening results. A color-coded\\nenteral tubing connection design was developed to visually communicate\\nthe difference between enteral tubing and intravenous tubing. In addition\\nto tubing design, follow these guidelines to prevent tubing misconnection\\nerrors:\\nâ¢  Make tubing connections under proper lighting.â¢  Do not modify or adapt IV or feeding devices because doing so may\\ncompromise the safety features incorporated into their design.\\nâ¢  When making a reconnection, routinely trace lines back to their\\norigins and then ensure that they are secure.\\nâ¢  As part of a handâoff process, recheck connections and trace all tubes\\nback to their origins.\\nMANAGING INTOLERANCES AND IMBALANCESPatients should be monitored daily for signs of tube feeding intolerance,\\nsuch as abdominal bloating, nausea, vomiting, diarrhea, cramping, and\\nconstipation. If cramping occurs during bolus feedings, it can be helpful to\\nadminister the enteral nutritional formula at room temperature to prevent\\nsymptoms.\\nNotify the provider of signs of intolerance with anticipated\\nchanges in the prescription regarding the type of formula or the rate of\\nadministration. Electrolytes and blood glucose levels should also be\\nmonitored, as ordered, for signs of imbalances.</th>\n",
       "      <td>CHAPTER 17 ENTERAL TUBE MANAGEMENT 17.2 Basic ...</td>\n",
       "      <td>1667</td>\n",
       "    </tr>\n",
       "  </tbody>\n",
       "</table>\n",
       "</div>"
      ],
      "text/plain": [
       "                                                                                                                                                 content  \\\n",
       "title                                              heading                                                                                                 \n",
       "CHAPTER 13 MUSCULOSKELETAL ASSESSMENT 13.3 Comm... Foot Drop Foot drop is the inability to raise t...  CHAPTER 13 MUSCULOSKELETAL ASSESSMENT 13.3 Com...   \n",
       "CHAPTER 19 SPECIMEN COLLECTION 19.2 Blood Gluco... Glucometer Use It is typically the responsibili...  CHAPTER 19 SPECIMEN COLLECTION 19.2 Blood Gluc...   \n",
       "CHAPTER 17 ENTERAL TUBE MANAGEMENT 17.3 Assessm... Objective Assessment Objective assessments for ...  CHAPTER 17 ENTERAL TUBE MANAGEMENT 17.3 Assess...   \n",
       "CHAPTER 5 MATH CALCULATIONS 5.1 Math Calculatio... Learning Objectives â¢  Accurately perform cal...  CHAPTER 5 MATH CALCULATIONS 5.1 Math Calculati...   \n",
       "CHAPTER 17 ENTERAL TUBE MANAGEMENT 17.2 Basic C... Tube Feeding Enteral Nutrition (EN) refers to n...  CHAPTER 17 ENTERAL TUBE MANAGEMENT 17.2 Basic ...   \n",
       "\n",
       "                                                                                                       tokens  \n",
       "title                                              heading                                                     \n",
       "CHAPTER 13 MUSCULOSKELETAL ASSESSMENT 13.3 Comm... Foot Drop Foot drop is the inability to raise t...     241  \n",
       "CHAPTER 19 SPECIMEN COLLECTION 19.2 Blood Gluco... Glucometer Use It is typically the responsibili...     630  \n",
       "CHAPTER 17 ENTERAL TUBE MANAGEMENT 17.3 Assessm... Objective Assessment Objective assessments for ...     263  \n",
       "CHAPTER 5 MATH CALCULATIONS 5.1 Math Calculatio... Learning Objectives â¢  Accurately perform cal...     367  \n",
       "CHAPTER 17 ENTERAL TUBE MANAGEMENT 17.2 Basic C... Tube Feeding Enteral Nutrition (EN) refers to n...    1667  "
      ]
     },
     "execution_count": 23,
     "metadata": {},
     "output_type": "execute_result"
    }
   ],
   "source": [
    "# We have hosted the processed dataset, so you can download it directly without having to recreate it.\n",
    "# This dataset has already been split into sections, one row for each section of the Wikipedia page.\n",
    "\n",
    "df = pd.read_csv('finalwithtokens.csv')\n",
    "df = df.set_index([\"title\", \"heading\"])\n",
    "print(f\"{len(df)} rows in the data.\")\n",
    "df.sample(5)"
   ]
  },
  {
   "cell_type": "code",
   "execution_count": 24,
   "id": "ba475f30-ef7f-431c-b60d-d5970b62ad09",
   "metadata": {},
   "outputs": [],
   "source": [
    "def get_embedding(text: str, model: str=EMBEDDING_MODEL) -> list[float]:\n",
    "    result = openai.Embedding.create(\n",
    "      model=model,\n",
    "      input=text\n",
    "    )\n",
    "    time.sleep(7)\n",
    "    return result[\"data\"][0][\"embedding\"]\n",
    "\n",
    "def compute_doc_embeddings(df: pd.DataFrame) -> dict[tuple[str, str], list[float]]:\n",
    "    \"\"\"\n",
    "    Create an embedding for each row in the dataframe using the OpenAI Embeddings API.\n",
    "    \n",
    "    Return a dictionary that maps between each embedding vector and the index of the row that it corresponds to.\n",
    "    \"\"\"\n",
    "    return {\n",
    "        idx: get_embedding(r.content) for idx, r in df.iterrows()\n",
    "    }"
   ]
  },
  {
   "cell_type": "code",
   "execution_count": 25,
   "id": "737266aa-cbe7-4691-87c1-fce8a31632f1",
   "metadata": {},
   "outputs": [],
   "source": [
    "def load_embeddings(fname: str) -> dict[tuple[str, str], list[float]]:\n",
    "    \"\"\"\n",
    "    Read the document embeddings and their keys from a CSV.\n",
    "    \n",
    "    fname is the path to a CSV with exactly these named columns: \n",
    "        \"title\", \"heading\", \"0\", \"1\", ... up to the length of the embedding vectors.\n",
    "    \"\"\"\n",
    "    \n",
    "    df = pd.read_csv(fname, header=0)\n",
    "    max_dim = max([int(c) for c in df.columns if c != \"title\" and c != \"heading\"])\n",
    "    return {\n",
    "           (r.title, r.heading): [r[str(i)] for i in range(max_dim + 1)] for _, r in df.iterrows()\n",
    "    }"
   ]
  },
  {
   "cell_type": "markdown",
   "id": "cfe9c723-f838-4c75-8ed8-286b2e491a60",
   "metadata": {},
   "source": [
    "Again, we have hosted the embeddings for you so you don't have to re-calculate them from scratch."
   ]
  },
  {
   "cell_type": "code",
   "execution_count": 26,
   "id": "ab50bfca-cb02-41c6-b338-4400abe1d86e",
   "metadata": {},
   "outputs": [],
   "source": [
    "#document_embeddings = load_embeddings(\"embeddings.csv\")\n",
    "\n",
    "# ===== OR, uncomment the below line to recaculate the embeddings from scratch. ========\n",
    "\n",
    "document_embeddings = compute_doc_embeddings(df)\n",
    "embeddings_df = pd.DataFrame(document_embeddings)\n",
    "embeddings_df.to_csv('embeddings.csv', index=False)"
   ]
  },
  {
   "cell_type": "code",
   "execution_count": 27,
   "id": "b9a8c713-c8a9-47dc-85a4-871ee1395566",
   "metadata": {},
   "outputs": [
    {
     "name": "stdout",
     "output_type": "stream",
     "text": [
      "('nan Preface', 'Usage Survey and Feedback We would love to hear if you have integrated some or all of this resource\\ninto your course. Please use this short survey to report student usage\\ninformation every semester for grant reporting purposes to the\\nDepartment of Education.  Please use this survey to provide constructive') : [-0.017130045220255852, 0.0021634537260979414, 0.0034936275333166122, -0.018987849354743958, -0.004282511305063963]... (1536 entries)\n"
     ]
    }
   ],
   "source": [
    "# An example embedding:\n",
    "example_entry = list(document_embeddings.items())[0]\n",
    "print(f\"{example_entry[0]} : {example_entry[1][:5]}... ({len(example_entry[1])} entries)\")"
   ]
  },
  {
   "cell_type": "code",
   "execution_count": 28,
   "id": "dcd680e9-f194-4180-b14f-fc357498eb92",
   "metadata": {},
   "outputs": [],
   "source": [
    "def vector_similarity(x: list[float], y: list[float]) -> float:\n",
    "    \"\"\"\n",
    "    Returns the similarity between two vectors.\n",
    "    \n",
    "    Because OpenAI Embeddings are normalized to length 1, the cosine similarity is the same as the dot product.\n",
    "    \"\"\"\n",
    "    return np.dot(np.array(x), np.array(y))\n",
    "\n",
    "def order_document_sections_by_query_similarity(query: str, contexts: dict[(str, str), np.array]) -> list[(float, (str, str))]:\n",
    "    \"\"\"\n",
    "    Find the query embedding for the supplied query, and compare it against all of the pre-calculated document embeddings\n",
    "    to find the most relevant sections. \n",
    "    \n",
    "    Return the list of document sections, sorted by relevance in descending order.\n",
    "    \"\"\"\n",
    "    query_embedding = get_embedding(query)\n",
    "    \n",
    "    document_similarities = sorted([\n",
    "        (vector_similarity(query_embedding, doc_embedding), doc_index) for doc_index, doc_embedding in contexts.items()\n",
    "    ], reverse=True)\n",
    "    \n",
    "    return document_similarities"
   ]
  },
  {
   "cell_type": "code",
   "execution_count": 29,
   "id": "e3a27d73-f47f-480d-b336-079414f749cb",
   "metadata": {},
   "outputs": [
    {
     "data": {
      "text/plain": [
       "[(0.9328783661893489,\n",
       "  ('CHAPTER 1 GENERAL SURVEY 1.2 Initiating Patient Interaction',\n",
       "   'Cultural Safety When initiating patient interaction, it is important to establish cultural\\nsafety. Cultural safety refers to the creation of safe spaces for patients to\\ninteract with health professionals without judgment or discrimination. See\\nand all patients bring a cultural context to interactions in a health care\\nsetting is helpful when creating cultural safe spaces. If you discover you\\nneed more information about a patientâ\\x80\\x99s cultural beliefs to tailor your care,\\nuse an open-ended question that allows the patient to share what they\\nbelieve to be important. For example, you may ask, â\\x80\\x9cI am interested in your\\ncultural background as it relates to your health. Can you share with me\\nwhat is important about your cultural background that will help me care\\nfor you?â\\x80\\x9d')),\n",
       " (0.8880597483350503,\n",
       "  ('CHAPTER 2 HEALTH HISTORY 2.2 Health History Basic Concepts',\n",
       "   'Cultural Safety It is important to conduct a health history in a culturally safe manner.\\nCultural safety refers to the creation of safe spaces for patients to interact\\nwith health professionals without judgment or discrimination. Focus on\\nfactors related to a personâ\\x80\\x99s cultural background that may influence their\\nhealth status. It is helpful to use an open-ended question to allow the\\npatient to share what they believe to be important. For example, ask â\\x80\\x9cI am\\ninterested in your cultural background as it relates to your health. Can you\\nshare with me what is important to know about your cultural background\\nas part of your health care?â\\x80\\x9d\\nIf a patientâ\\x80\\x99s primary language is not English, it is important to obtain a\\nmedical translator, as needed, prior to initiating the health history. The\\npatientâ\\x80\\x99s family member or care partner should not interpret for the\\npatient. The patient may not want their care partner to be aware of their\\nhealth problems or their care partner may not be familiar with correct\\nmedical terminology that can result in miscommunication.')),\n",
       " (0.8334572525202915,\n",
       "  ('CHAPTER 1 GENERAL SURVEY 1.2 Initiating Patient Interaction',\n",
       "   'Hand Hygiene and Infection Prevention Before initiating care with a patient, hand hygiene is required and a risk\\nassessment should be performed to determine the need for personal\\nprotective equipment (PPE).  This is important for protection of both\\npatient and nurse.\\nHand Hygiene\\nUsing hand hygiene is a simple but effective way to prevent infection\\nwhen performed correctly and at the appropriate times when providing\\npatient care. See Figure 1.3.\\nfor an image about hand hygiene from the\\nCenters for Disease Control (CDC).\\nUse the hyperlinks provided below to\\nread more information and watch a video about effective handwashing.\\nâ\\x80¢  In general, hand sanitizers are as effective as washing with soap and\\nwater and are less drying to the skin. When using hand sanitizer, use\\nenough gel to cover both hands and rub for approximately 20\\nseconds, coating all surfaces of both hands until your hands feel dry.\\nGo directly to the patient without putting your hands into pockets or\\ntouching anything else.\\nâ\\x80¢  Be sure to wash with soap and water if your hands are visibly soiled or\\nthe patient has diarrhea from suspected or confirmed C. Difficile (C-\\ndiff).\\nâ\\x80¢  Clean all areas of the hands including the front and back, the\\nfingertips, the thumbs, and between fingers.\\nâ\\x80¢  Gloves are not a substitute for cleaning your hands. Wash your hands\\nafter removing gloves.\\nâ\\x80¢  Hand hygiene should be performed at these times:\\nâ\\x97¦  Immediately before touching a patientâ\\x97¦  Before performing an aseptic task (e.g., placing an indwelling\\ndevice) or handling invasive medical devices\\nâ\\x97¦  Before moving from working on a soiled body site to a clean body\\nsite on the same patient\\nâ\\x97¦  After contact with blood, body fluids, or contaminated surfacesâ\\x97¦  Immediately after glove removalâ\\x97¦  When leaving the area after touching a patient or their immediate\\nenvironment\\nChecklists for performing handwashing and using hand sanitizer are\\nlocated in Appendix A.\\nVisit the Center for Disease Control and Preventionâ\\x80\\x99s website\\nto read more about Hand Hygiene in Healthcare Settings\\nDownload a factsheet from the Center for Disease Control\\nand Prevention called Clean Hands Count\\nVideo Reviews of Hand Hygiene:\\nClean Hands Count5\\nHand Washing Technique\\nHand Sanitizing Technique\\nPersonal Protective Equipment (PPE)\\nMedical asepsis is a term used to describe measures to prevent the\\nspread of infection in health care agencies. Performing hand hygiene at\\nappropriate times during patient care and applying gloves when there is\\npotential risk to body fluids are examples of using medical asepsis.\\nAdditional precautions are implemented by health care team members\\nwhen a patient has, or is suspected of having, an infectious disease. These\\nadditional precautions are called personal protective equipment (PPE)\\nand are based on how an infection is transmitted, such as by contact,\\ndroplet, or airborne routes. Personal protective equipment (PPE) includes\\ngowns, eyewear, face shields, and masks.  PPE is used along with\\nenvironmental controls, such as surface cleaning and disinfecting to\\nprevent the transmission of infection.\\nSee Figure 1.4\\nfor an image of\\ndiscussed in the â\\x80\\x9cAseptic Techniqueâ\\x80\\x9d chapter. For the purpose of this\\nchapter, be sure to perform a general risk assessment before entering a\\npatientâ\\x80\\x99s room and apply the appropriate PPE as needed. This risk\\nassessment include:\\nâ\\x80¢  Is there signage posted on the patientâ\\x80\\x99s door that contact, droplet, or\\nairborne precautions are in place? If so, follow the instructions\\nprovided.\\nâ\\x80¢  Does this patient have a confirmed or suspected infection or\\ncommunicable disease?\\nâ\\x80¢  Will your face, hands, skin, mucous membranes, or clothing be\\npotentially exposed to blood or body fluids by spray, coughing, or\\nsneezing?\\nIntroducing OneselfWhen initiating care with patients, it is essential to first provide privacy,\\nand then introduce yourself and explain what will be occurring. Providing\\nprivacy means taking actions such as talking with the patient privately in a\\nroom with the door shut. A common framework used for introductions\\nduring patient care is AIDET, a mnemonic for Acknowledge, Introduce,\\nDuration, Explanation, and Thank You.\\nâ\\x80¢  Acknowledge: Greet the patient by the name documented in their\\nmedical record. Make eye contact, smile, and acknowledge any family\\nor friends in the room. Ask the patient their preferred way of being\\naddressed (for example, â\\x80\\x9cMr. Doe,â\\x80\\x9d â\\x80\\x9cJonathon,â\\x80\\x9d or â\\x80\\x9cJohnnyâ\\x80\\x9d) and their\\npreferred pronouns (i.e., he/him, she/her or they/them), as appropriate.\\nâ\\x80¢  Introduce: Introduce yourself by your name and role. For example, â\\x80\\x9cIâ\\x80\\x99m\\nJohn Doe and I am a nursing student working with your nurse to take\\ncare of you today.â\\x80\\x9d\\nâ\\x80¢  Duration: Estimate a time line for how long it will take to complete the\\ntask you are doing. For example, â\\x80\\x9cI am here to obtain your blood\\npressure, heart rate, and oxygen saturation levels. This should take\\nabout 5 minutes.â\\x80\\x9d\\nâ\\x80¢  Explanation: Explain step by step what to expect next and answer\\nquestions. For example, â\\x80\\x9cI will be putting this blood pressure cuff on\\nyour arm and inflating it. It will feel as if it is squeezing your arm for a\\nfew moments.â\\x80\\x9d\\nâ\\x80¢  Thank You: At the end of the encounter, thank the patient and ask if\\nanything is needed before you leave. In an acute or long-term care\\nhow to use it. If family members are present, thank them for being\\nthere to support the patient as appropriate. For example, â\\x80\\x9cThank you\\nfor taking time to talk with me today. Is there anything I can get for\\nyou before I leave the room? Here is the call light (Place within reach).\\nPress the red button if you would like to call the nurse.â\\x80\\x9d')),\n",
       " (0.8252288831487653,\n",
       "  ('CHAPTER 1 GENERAL SURVEY 1.2 Initiating Patient Interaction',\n",
       "   'Patient Identification Before performing assessments, obtaining vital signs, or providing care,\\npatients must be properly identified using two identifiers.\\nFirst identifier:\\nâ\\x80¢  Ask the patient to state their name and date of birth. If they have an\\narmband, compare the information they are stating to the information\\non the armband and verify they match.  See Figure 1.5\\nfor an image of\\nan armband.\\nâ\\x80¢  If the patient doesnâ\\x80\\x99t have an armband confirm the information they\\nare stating to information provided in the chart.\\nâ\\x80¢  If the patient is unable to state their name and date of birth, scan their\\narmband or ask another staff member or family member to identify\\nthem.\\nConfirm first identifier with a different second identifier:\\nâ\\x80¢  Scan the wristband.\\nâ\\x80¢  Ask staff to verify the patient in a long-term care setting.\\nâ\\x80¢  Compare the picture on the medication administration record (MAR)\\nto the patient.\\nâ\\x80¢  If present, ask a family member to confirm the patientâ\\x80\\x99s name.')),\n",
       " (0.8147508464366556,\n",
       "  ('CHAPTER 2 HEALTH HISTORY 2.11 Checklist for Obtaining a Health History',\n",
       "   'Steps Disclaimer: Always review and follow agency policy regarding this\\nspecific skill.\\n1.  Gather supplies: health history agency form.\\n2.  Knock, enter the room, greet the patient, and provide for privacy.\\n3.  Perform safety steps:\\nâ\\x97¦  Perform hand hygiene.â\\x97¦  Check the room for transmission-based precautions.â\\x97¦  Introduce yourself, your role, the purpose of your visit, and an\\nestimate of the time it will take.\\nâ\\x97¦  Confirm patient ID using two patient identifiers (e.g., name and\\ndate of birth).\\nâ\\x97¦  Explain the process to the patient and ask if they have any\\nquestions.\\nâ\\x97¦  Be organized and systematic.â\\x97¦  Use appropriate listening and questioning skills.â\\x97¦  Listen and attend to patient cues.â\\x97¦  Ensure the patientâ\\x80\\x99s privacy and dignity.â\\x97¦  Assess ABCs.\\n4.  Address patient needs (pain, toileting, glasses/hearing aids) prior to\\nstarting. Note if the patient has signs of distress such as difficulty\\nbreathing or chest pain. If signs are present, defer the health history\\nand obtain emergency assistance per agency policy.\\n5.  Complete a health history interview, including the following\\ncomponents per your instructorâ\\x80\\x99s instructions:\\nâ\\x97¦  Demographic and Biological Dataâ\\x97¦  Reason for Seeking Health Careâ\\x97¦  Current and Past Medical Historyâ\\x97¦  Family Historyâ\\x97¦  Functional Healthâ\\x97¦  Review of Body Systems\\n6.  Ensure five safety measures before leaving the room:\\nâ\\x97¦  CALL LIGHT: Within reachâ\\x97¦  BED: Low and locked (in lowest position and brakes on)â\\x97¦  SIDE RAILS: Securedâ\\x97¦  TABLE: Within reachâ\\x97¦  ROOM: Risk-free for falls (scan room and clear any obstacles)\\n7.  Document the health history findings and report any concerns\\naccording to agency policy.'))]"
      ]
     },
     "execution_count": 29,
     "metadata": {},
     "output_type": "execute_result"
    }
   ],
   "source": [
    "order_document_sections_by_query_similarity(\"What is cultural safety and why is it important when initiating patient interaction in a healthcare setting?\", document_embeddings)[:5]"
   ]
  },
  {
   "cell_type": "code",
   "execution_count": 30,
   "id": "729c2ce7-8540-4ab2-bb3a-76c4dfcb689c",
   "metadata": {},
   "outputs": [
    {
     "data": {
      "text/plain": [
       "[(0.8562869672618657,\n",
       "  ('CHAPTER 2 HEALTH HISTORY 2.2 Health History Basic Concepts',\n",
       "   'Cultural Safety It is important to conduct a health history in a culturally safe manner.\\nCultural safety refers to the creation of safe spaces for patients to interact\\nwith health professionals without judgment or discrimination. Focus on\\nfactors related to a personâ\\x80\\x99s cultural background that may influence their\\nhealth status. It is helpful to use an open-ended question to allow the\\npatient to share what they believe to be important. For example, ask â\\x80\\x9cI am\\ninterested in your cultural background as it relates to your health. Can you\\nshare with me what is important to know about your cultural background\\nas part of your health care?â\\x80\\x9d\\nIf a patientâ\\x80\\x99s primary language is not English, it is important to obtain a\\nmedical translator, as needed, prior to initiating the health history. The\\npatientâ\\x80\\x99s family member or care partner should not interpret for the\\npatient. The patient may not want their care partner to be aware of their\\nhealth problems or their care partner may not be familiar with correct\\nmedical terminology that can result in miscommunication.')),\n",
       " (0.8443462544629982,\n",
       "  ('CHAPTER 1 GENERAL SURVEY 1.2 Initiating Patient Interaction',\n",
       "   'Cultural Safety When initiating patient interaction, it is important to establish cultural\\nsafety. Cultural safety refers to the creation of safe spaces for patients to\\ninteract with health professionals without judgment or discrimination. See\\nand all patients bring a cultural context to interactions in a health care\\nsetting is helpful when creating cultural safe spaces. If you discover you\\nneed more information about a patientâ\\x80\\x99s cultural beliefs to tailor your care,\\nuse an open-ended question that allows the patient to share what they\\nbelieve to be important. For example, you may ask, â\\x80\\x9cI am interested in your\\ncultural background as it relates to your health. Can you share with me\\nwhat is important about your cultural background that will help me care\\nfor you?â\\x80\\x9d')),\n",
       " (0.8424617430938763,\n",
       "  ('CHAPTER 2 HEALTH HISTORY 2.5 Reason for Seeking Health Care',\n",
       "   'Chief Complaint After identifying the reason why the patient is seeking health care,\\nadditional focused questions are used to obtain detailed information\\nabout this concern. The mnemonic PQRSTU is often used to ask the\\nfor an image ofpatient questions in an organized fashion. See Figure 2.1\\nPQRSTU.\\nused to assess many other symptoms. See Table 2.5b for suggested focus\\nquestions for pain and other symptoms using the PQRSTU mnemonic.\\nTable 2.5b Sample PQRSTU Focused Questions for Pain and Other\\nSymptoms\\nWhile interviewing a patient about their chief complaint, use open-ended\\nquestions to allow the patient to elaborate on information that further\\nimproves your understanding of their health concerns. If their answers do\\nnot seem to align, continue to ask focused questions to clarify information.\\nFor example, if a patient states that â\\x80\\x9cthe pain is tolerableâ\\x80\\x9d but also rates\\nthe pain as a â\\x80\\x9c7â\\x80\\x9d on a 0-10 pain scale, these answers do not align, and the\\nnurse should continue to use follow-up questions using the PQRSTUframework. For example, upon further questioning the patient explains\\nthey rate the pain as a â\\x80\\x9c7â\\x80\\x9d in their knee when participating in physical\\ntherapy exercises, but currently feels the pain is tolerable while resting in\\nbed. This additional information will help the nurse customize\\ninterventions for effective treatment.')),\n",
       " (0.8238937492146292,\n",
       "  ('CHAPTER 2 HEALTH HISTORY 2.8 Functional Health and Activities of Daily Living',\n",
       "   'Value-Belief This category includes values and beliefs that guide decisions about\\nhealth care and can also provide strength and comfort to individuals. It is\\ncommon for a personâ\\x80\\x99s spirituality and values to be influenced by religious\\nfaith. A value is an accepted principle or standard of an individual or\\ngroup. A belief is something accepted as true with a sense of certainty.\\nSpirituality is a way of living that comes from a set of values and beliefs\\nthat are important to a person. The Joint Commission asks health care\\nprofessionals to respect patientsâ\\x80\\x99 cultural and personal values, beliefs, and\\npreferences and accommodate patientsâ\\x80\\x99 rights to religious and other\\nspiritual services.\\nWhen performing an assessment, use open-ended\\nquestions to allow the patient to share values and beliefs they believe are\\nimportant. For example, ask, â\\x80\\x9cI am interested in your spiritual and religious\\nbeliefs and how they relate to your health. Can you share with me any\\nspiritual beliefs or religious practices that are important to you during your\\nstay?â\\x80\\x9d')),\n",
       " (0.8217902688828966,\n",
       "  ('CHAPTER 2 HEALTH HISTORY 2.8 Functional Health and Activities of Daily Living',\n",
       "   'Health Perception-Health Management Health perception-health management is an umbrella term\\nencompassing all of the categories described above, as well as\\nenvironmental health.\\nEnvironmental Health\\nEnvironmental health refers to the safety of a patientâ\\x80\\x99s physical\\nenvironment, also called a social determinant of health. Examples of\\nenvironmental health include, but are not limited to, exposure to violence\\nin the home or community; air pollution; and availability of grocery stores,\\nhealth care providers, and public transportation. Findings that require\\nfurther investigation include a patient living in unsafe environments.\\nSee Table 2.8 for sample focused questions for all categories related to\\nfunctional health.\\nTable 2.8 Focused Interview Questions for Functional Health Categories\\nBegin this section by saying, â\\x80\\x9cI would like to ask you some questions\\nabout factors that affect your ability to function in your day-to-day life.\\nFeel free to share any health concerns that come to mind during this\\ndiscussion.â\\x80\\x9d'))]"
      ]
     },
     "execution_count": 30,
     "metadata": {},
     "output_type": "execute_result"
    }
   ],
   "source": [
    "order_document_sections_by_query_similarity(\"What types of open-ended questions can healthcare professionals use to gain a better understanding of a patient's cultural background and tailor their care accordingly?\", document_embeddings)[:5]"
   ]
  },
  {
   "cell_type": "code",
   "execution_count": 31,
   "id": "b763ace2-1946-48e0-8ff1-91ba335d47a0",
   "metadata": {},
   "outputs": [
    {
     "data": {
      "text/plain": [
       "'Context separator contains 3 tokens'"
      ]
     },
     "execution_count": 31,
     "metadata": {},
     "output_type": "execute_result"
    }
   ],
   "source": [
    "MAX_SECTION_LEN = 500\n",
    "SEPARATOR = \"\\n* \"\n",
    "ENCODING = \"gpt2\"  # encoding for text-davinci-003\n",
    "\n",
    "encoding = tiktoken.get_encoding(ENCODING)\n",
    "separator_len = len(encoding.encode(SEPARATOR))\n",
    "\n",
    "f\"Context separator contains {separator_len} tokens\""
   ]
  },
  {
   "cell_type": "code",
   "execution_count": 32,
   "id": "0c5c0509-eeb9-4552-a5d4-6ace04ef73dd",
   "metadata": {},
   "outputs": [],
   "source": [
    "def construct_prompt(question: str, context_embeddings: dict, df: pd.DataFrame) -> str:\n",
    "    \"\"\"\n",
    "    Fetch relevant \n",
    "    \"\"\"\n",
    "    most_relevant_document_sections = order_document_sections_by_query_similarity(question, context_embeddings)\n",
    "    \n",
    "    chosen_sections = []\n",
    "    chosen_sections_len = 0\n",
    "    chosen_sections_indexes = []\n",
    "     \n",
    "    for _, section_index in most_relevant_document_sections:\n",
    "        # Add contexts until we run out of space.        \n",
    "        document_section = df.loc[section_index]\n",
    "        \n",
    "        chosen_sections_len += document_section.tokens + separator_len\n",
    "        if chosen_sections_len > MAX_SECTION_LEN:\n",
    "            break\n",
    "            \n",
    "        chosen_sections.append(SEPARATOR + document_section.content.replace(\"\\n\", \" \"))\n",
    "        chosen_sections_indexes.append(str(section_index))\n",
    "            \n",
    "    # Useful diagnostic information\n",
    "    print(f\"Selected {len(chosen_sections)} document sections:\")\n",
    "    print(\"\\n\".join(chosen_sections_indexes))\n",
    "    \n",
    "    header = \"\"\"Answer the question as truthfully as possible using the provided context, and if the answer is not contained within the text below, say \"I don't know.\"\\n\\nContext:\\n\"\"\"\n",
    "    \n",
    "    return header + \"\".join(chosen_sections) + \"\\n\\n Q: \" + question + \"\\n A:\""
   ]
  },
  {
   "cell_type": "code",
   "execution_count": 33,
   "id": "f614045a-3917-4b28-9643-7e0c299ec1a7",
   "metadata": {},
   "outputs": [
    {
     "name": "stdout",
     "output_type": "stream",
     "text": [
      "Selected 2 document sections:\n",
      "('CHAPTER 1 GENERAL SURVEY 1.2 Initiating Patient Interaction', 'Cultural Safety When initiating patient interaction, it is important to establish cultural\\nsafety. Cultural safety refers to the creation of safe spaces for patients to\\ninteract with health professionals without judgment or discrimination. See\\nand all patients bring a cultural context to interactions in a health care\\nsetting is helpful when creating cultural safe spaces. If you discover you\\nneed more information about a patientâ\\x80\\x99s cultural beliefs to tailor your care,\\nuse an open-ended question that allows the patient to share what they\\nbelieve to be important. For example, you may ask, â\\x80\\x9cI am interested in your\\ncultural background as it relates to your health. Can you share with me\\nwhat is important about your cultural background that will help me care\\nfor you?â\\x80\\x9d')\n",
      "('CHAPTER 2 HEALTH HISTORY 2.2 Health History Basic Concepts', 'Cultural Safety It is important to conduct a health history in a culturally safe manner.\\nCultural safety refers to the creation of safe spaces for patients to interact\\nwith health professionals without judgment or discrimination. Focus on\\nfactors related to a personâ\\x80\\x99s cultural background that may influence their\\nhealth status. It is helpful to use an open-ended question to allow the\\npatient to share what they believe to be important. For example, ask â\\x80\\x9cI am\\ninterested in your cultural background as it relates to your health. Can you\\nshare with me what is important to know about your cultural background\\nas part of your health care?â\\x80\\x9d\\nIf a patientâ\\x80\\x99s primary language is not English, it is important to obtain a\\nmedical translator, as needed, prior to initiating the health history. The\\npatientâ\\x80\\x99s family member or care partner should not interpret for the\\npatient. The patient may not want their care partner to be aware of their\\nhealth problems or their care partner may not be familiar with correct\\nmedical terminology that can result in miscommunication.')\n",
      "===\n",
      " Answer the question as truthfully as possible using the provided context, and if the answer is not contained within the text below, say \"I don't know.\"\n",
      "\n",
      "Context:\n",
      "\n",
      "* CHAPTER 1 GENERAL SURVEY 1.2 Initiating Patient Interaction Cultural Safety When initiating patient interaction, it is important to establish cultural safety. Cultural safety refers to the creation of safe spaces for patients to interact with health professionals without judgment or discrimination. See and all patients bring a cultural context to interactions in a health care setting is helpful when creating cultural safe spaces. If you discover you need more information about a patientâs cultural beliefs to tailor your care, use an open-ended question that allows the patient to share what they believe to be important. For example, you may ask, âI am interested in your cultural background as it relates to your health. Can you share with me what is important about your cultural background that will help me care for you?â\n",
      "* CHAPTER 2 HEALTH HISTORY 2.2 Health History Basic Concepts Cultural Safety It is important to conduct a health history in a culturally safe manner. Cultural safety refers to the creation of safe spaces for patients to interact with health professionals without judgment or discrimination. Focus on factors related to a personâs cultural background that may influence their health status. It is helpful to use an open-ended question to allow the patient to share what they believe to be important. For example, ask âI am interested in your cultural background as it relates to your health. Can you share with me what is important to know about your cultural background as part of your health care?â If a patientâs primary language is not English, it is important to obtain a medical translator, as needed, prior to initiating the health history. The patientâs family member or care partner should not interpret for the patient. The patient may not want their care partner to be aware of their health problems or their care partner may not be familiar with correct medical terminology that can result in miscommunication.\n",
      "\n",
      " Q: How can healthcare professionals create safe spaces for patients to interact without judgment or discrimination, and what role do cultural beliefs play in this process?\n",
      " A:\n"
     ]
    }
   ],
   "source": [
    "prompt = construct_prompt(\n",
    "    \"How can healthcare professionals create safe spaces for patients to interact without judgment or discrimination, and what role do cultural beliefs play in this process?\",\n",
    "    document_embeddings,\n",
    "    df\n",
    ")\n",
    "\n",
    "print(\"===\\n\", prompt)"
   ]
  },
  {
   "cell_type": "code",
   "execution_count": 34,
   "id": "b0edfec7-9243-4573-92e0-253d31c771ad",
   "metadata": {},
   "outputs": [],
   "source": [
    "COMPLETIONS_API_PARAMS = {\n",
    "    # We use temperature of 0.0 because it gives the most predictable, factual answer.\n",
    "    \"temperature\": 0.0,\n",
    "    \"max_tokens\": 300,\n",
    "    \"model\": COMPLETIONS_MODEL,\n",
    "}"
   ]
  },
  {
   "cell_type": "code",
   "execution_count": 35,
   "id": "9c1c9a69-848e-4099-a90d-c8da36c153d5",
   "metadata": {},
   "outputs": [],
   "source": [
    "def answer_query_with_context(\n",
    "    query: str,\n",
    "    df: pd.DataFrame,\n",
    "    document_embeddings: dict[(str, str), np.array],\n",
    "    show_prompt: bool = False\n",
    ") -> str:\n",
    "    prompt = construct_prompt(\n",
    "        query,\n",
    "        document_embeddings,\n",
    "        df\n",
    "    )\n",
    "    \n",
    "    if show_prompt:\n",
    "        print(prompt)\n",
    "\n",
    "    response = openai.Completion.create(\n",
    "                prompt=prompt,\n",
    "                **COMPLETIONS_API_PARAMS\n",
    "            )\n",
    "\n",
    "    return response[\"choices\"][0][\"text\"].strip(\" \\n\")"
   ]
  },
  {
   "cell_type": "code",
   "execution_count": 36,
   "id": "c233e449-bf33-4c9e-b095-6a4dd278c8fd",
   "metadata": {},
   "outputs": [
    {
     "name": "stdout",
     "output_type": "stream",
     "text": [
      "Selected 2 document sections:\n",
      "('CHAPTER 1 GENERAL SURVEY 1.2 Initiating Patient Interaction', 'Cultural Safety When initiating patient interaction, it is important to establish cultural\\nsafety. Cultural safety refers to the creation of safe spaces for patients to\\ninteract with health professionals without judgment or discrimination. See\\nand all patients bring a cultural context to interactions in a health care\\nsetting is helpful when creating cultural safe spaces. If you discover you\\nneed more information about a patientâ\\x80\\x99s cultural beliefs to tailor your care,\\nuse an open-ended question that allows the patient to share what they\\nbelieve to be important. For example, you may ask, â\\x80\\x9cI am interested in your\\ncultural background as it relates to your health. Can you share with me\\nwhat is important about your cultural background that will help me care\\nfor you?â\\x80\\x9d')\n",
      "('CHAPTER 2 HEALTH HISTORY 2.2 Health History Basic Concepts', 'Cultural Safety It is important to conduct a health history in a culturally safe manner.\\nCultural safety refers to the creation of safe spaces for patients to interact\\nwith health professionals without judgment or discrimination. Focus on\\nfactors related to a personâ\\x80\\x99s cultural background that may influence their\\nhealth status. It is helpful to use an open-ended question to allow the\\npatient to share what they believe to be important. For example, ask â\\x80\\x9cI am\\ninterested in your cultural background as it relates to your health. Can you\\nshare with me what is important to know about your cultural background\\nas part of your health care?â\\x80\\x9d\\nIf a patientâ\\x80\\x99s primary language is not English, it is important to obtain a\\nmedical translator, as needed, prior to initiating the health history. The\\npatientâ\\x80\\x99s family member or care partner should not interpret for the\\npatient. The patient may not want their care partner to be aware of their\\nhealth problems or their care partner may not be familiar with correct\\nmedical terminology that can result in miscommunication.')\n"
     ]
    },
    {
     "data": {
      "text/plain": [
       "'Healthcare professionals can create safe spaces for patients to interact without judgment or discrimination by focusing on factors related to a person\\'s cultural background that may influence their health status. It is helpful to use an open-ended question to allow the patient to share what they believe to be important. For example, asking \"I am interested in your cultural background as it relates to your health. Can you share with me what is important to know about your cultural background as part of your health care?\" This allows the patient to share their cultural beliefs and helps to create a safe space for them to interact with healthcare professionals without judgment or discrimination.'"
      ]
     },
     "execution_count": 36,
     "metadata": {},
     "output_type": "execute_result"
    }
   ],
   "source": [
    "answer_query_with_context(\"How can healthcare professionals create safe spaces for patients to interact without judgment or discrimination, and what role do cultural beliefs play in this process?\", df, document_embeddings)"
   ]
  },
  {
   "cell_type": "code",
   "execution_count": 37,
   "id": "1127867b-2884-44bb-9439-0e8ae171c835",
   "metadata": {},
   "outputs": [
    {
     "name": "stdout",
     "output_type": "stream",
     "text": [
      "Selected 1 document sections:\n",
      "('CHAPTER 23 IV THERAPY MANAGEMENT 23.2 IV Therapy Basics', 'Secondary Fluid Infusion Secondary IV fluid administration is usually an intermittent infusion that\\ninfuses at regular intervals (e.g., every 8 hours). This form of IV therapy\\nusually contains medications that are supplied in a smaller infusion bag\\nand mixed with a diluent fluid like saline (e.g., IV antibiotics). Many\\ncommon preparations come in 25 to 100 mL bags.\\nSecondary IV therapy is often referred to as â\\x80\\x9cIV piggybackâ\\x80\\x9d (IVPB)\\nmedication because it is attached to the primary bag of intravenous fluids.\\nIn this case, the primary line maintains venous access between drug\\ndoses.\\nIt is important to remember that not all IV solutions are compatible with\\nall IV medications. It is vital for the nurse to triple check that the secondary\\nmedications/fluids are compatible with primary fluids. If medication and\\nfluids are not compatible, a precipitate may form when the fluids mix\\nwithin the line, posing a significant health danger for the patient.')\n",
      "\n",
      "Q: What is secondary care in the medical field and in what types of settings is it typically provided?\n",
      "A: Secondary care in the medical field is usually an intermittent infusion that infuses at regular intervals (e.g., every 8 hours). It is typically provided in hospital settings.\n"
     ]
    }
   ],
   "source": [
    "query = \"What is secondary care in the medical field and in what types of settings is it typically provided?\"\n",
    "answer = answer_query_with_context(query, df, document_embeddings)\n",
    "\n",
    "print(f\"\\nQ: {query}\\nA: {answer}\")"
   ]
  },
  {
   "cell_type": "code",
   "execution_count": 38,
   "id": "720d9e0b-b189-4101-91ee-babf736199e6",
   "metadata": {},
   "outputs": [
    {
     "name": "stdout",
     "output_type": "stream",
     "text": [
      "Selected 0 document sections:\n",
      "\n",
      "\n",
      "Q: In the 2020 Summer Olympics, how many gold medals did the country which won the most medals win?\n",
      "A: I don't know.\n"
     ]
    }
   ],
   "source": [
    "query = \"In the 2020 Summer Olympics, how many gold medals did the country which won the most medals win?\"\n",
    "answer = answer_query_with_context(query, df, document_embeddings)\n",
    "\n",
    "print(f\"\\nQ: {query}\\nA: {answer}\")"
   ]
  },
  {
   "cell_type": "code",
   "execution_count": 39,
   "id": "4e8e51cc-e4eb-4557-9e09-2929d4df5b7f",
   "metadata": {},
   "outputs": [
    {
     "name": "stdout",
     "output_type": "stream",
     "text": [
      "Selected 1 document sections:\n",
      "('CHAPTER 1 GENERAL SURVEY 1.6 Sample Documentation', 'Sample Documentation of Unexpected Findings Mrs. Smith is a 65-year-old patient who appears older than her stated\\nage. She appears slightly agitated during the interview. She is oriented to\\nperson only and denies pain. She is wearing a heavy winter coat on a\\nwarm summer day and has an unclean body odor. She is slow to respond\\nto questions and does not follow commands. She seems to neglect the\\nuse of her right arm. Her gait is shuffled with stooped posture but has no\\nthe underweight category. Her vital signs were 186/55, pulse 102 and\\nirregular, respiratory rate 22, temperature 38.1 Celsius, and pulse oximetry\\nwas 88%.')\n",
      "\n",
      "Q: What was unusual about the men’s shotput competition?\n",
      "A: I don't know.\n"
     ]
    }
   ],
   "source": [
    "query = \"What was unusual about the men’s shotput competition?\"\n",
    "answer = answer_query_with_context(query, df, document_embeddings)\n",
    "\n",
    "print(f\"\\nQ: {query}\\nA: {answer}\")"
   ]
  },
  {
   "cell_type": "code",
   "execution_count": 40,
   "id": "37c83519-e3c6-4c44-8b4a-98cbb3a5f5ba",
   "metadata": {},
   "outputs": [
    {
     "name": "stdout",
     "output_type": "stream",
     "text": [
      "Selected 0 document sections:\n",
      "\n",
      "\n",
      "Q: In the 2020 Summer Olympics, how many silver medals did Italy win?\n",
      "A: I don't know.\n"
     ]
    }
   ],
   "source": [
    "query = \"In the 2020 Summer Olympics, how many silver medals did Italy win?\"\n",
    "answer = answer_query_with_context(query, df, document_embeddings)\n",
    "\n",
    "print(f\"\\nQ: {query}\\nA: {answer}\")"
   ]
  },
  {
   "cell_type": "markdown",
   "id": "177c945e-f5c4-4fa5-8331-44f328b25e44",
   "metadata": {},
   "source": [
    "Our Q&A model is less prone to hallucinating answers, and has a better sense of what it does or doesn't know. This works when the information isn't contained in the context; when the question is nonsensical; or when the question is theoretically answerable but beyond GPT-3's powers!"
   ]
  },
  {
   "cell_type": "code",
   "execution_count": 41,
   "id": "26a1a9ef-e1ee-4f80-a1b1-6164ccfa5bac",
   "metadata": {},
   "outputs": [
    {
     "name": "stdout",
     "output_type": "stream",
     "text": [
      "Selected 1 document sections:\n",
      "('CHAPTER 5 MATH CALCULATIONS 5.7 Conversions', 'Pounds to Kilograms Converting pounds to kilograms is typically memorized as an equivalency,\\nbut letâ\\x80\\x99s practice using the technique of dimensional analysis.\\nSample problem: The patient entered their weight as 137 pounds on their\\nintake form. Convert the patientâ\\x80\\x99s weight to kilograms to document it in\\nthe electronic medical record. Round your answer to the nearest tenth.\\nCalculate using dimensional analysis.\\n1.  Start by identifying kg as the goal unit for which you are solving. Then,\\nset up the first fraction so that the numerator matches the goal unit\\nof kg.  For the denominator, add 2.2 lbs because the knownequivalency is 1 kg is equivalent to 2.2 pounds. Set up the second\\nfraction with pounds in the numerator so that pounds will cross out\\ndiagonally to eliminate this unit. Then, add the patientâ\\x80\\x99s known weight\\n(137 lb) in the numerator, with 1 in the denominator because the\\nfunction of this fraction is to cross out units. Multiply across the\\nnumerators and then the denominators. Finally, divide the final\\nfraction to solve the problem.')\n",
      "\n",
      "Q: What is the total number of medals won by France, multiplied by the number of Taekwondo medals given out to all countries?\n",
      "A: I don't know.\n"
     ]
    }
   ],
   "source": [
    "query = \"What is the total number of medals won by France, multiplied by the number of Taekwondo medals given out to all countries?\"\n",
    "answer = answer_query_with_context(query, df, document_embeddings)\n",
    "\n",
    "print(f\"\\nQ: {query}\\nA: {answer}\")"
   ]
  },
  {
   "cell_type": "code",
   "execution_count": 42,
   "id": "9fba8a63-eb81-4661-ae17-59bb5e2933d6",
   "metadata": {},
   "outputs": [
    {
     "name": "stdout",
     "output_type": "stream",
     "text": [
      "Selected 0 document sections:\n",
      "\n",
      "\n",
      "Q: What is the tallest mountain in the world?\n",
      "A: I don't know.\n"
     ]
    }
   ],
   "source": [
    "query = \"What is the tallest mountain in the world?\"\n",
    "answer = answer_query_with_context(query, df, document_embeddings)\n",
    "\n",
    "print(f\"\\nQ: {query}\\nA: {answer}\")"
   ]
  },
  {
   "cell_type": "code",
   "execution_count": 43,
   "id": "2d4c693b-cdb9-4f4c-bd1b-f77b29097a1f",
   "metadata": {},
   "outputs": [
    {
     "name": "stdout",
     "output_type": "stream",
     "text": [
      "Selected 2 document sections:\n",
      "('CHAPTER 1 GENERAL SURVEY 1.6 Sample Documentation', 'Sample Documentation of Expected Findings Mrs. Smith is a 65-year-old patient who appears her stated age. She is\\ncalm, cooperative, alert, and oriented x 3. She is well-groomed and her\\nclothing is clean and appropriate for the weather. Her speech is clear and\\nunderstandable, and she follows instructions appropriately.\\nMrs. Smith moves all extremities equally bilaterally with good posture. Her\\ngait is smooth and she maintains balance without assistance. Her skin is\\nwarm and her mucous membranes are moist. She is  5â\\x80\\x994â\\x80\\x9d and she weighs\\n143 with a BMI of 24 in the normal weight category. Her vital signs were\\nBP 120/70, pulse 74 and regular, respiratory rate 14, temperature 36.8\\nCelsius, and pulse oximetry was 98% on room air.')\n",
      "('CHAPTER 6 NEUROLOGICAL ASSESSMENT 6.7 Assessing Motor Strength', 'Hand Grasps To perform a hand grasp test, extend two fingers on both hands toward\\nthe patient. Ask the patient to squeeze both of your hands and compare\\nfor similar bilateral strength. See Figure 6.29\\nfor an image of assessing\\nhand grasp strength.\\nUpper Extremity StrengthTo test upper extremity strength, ask the patient to extend their forearms\\nwith palms facing upwards. Place your hands on their inner forearms and\\nask them to pull their arms toward them while you provide resistance. An\\nexpected finding is the patient strongly bilaterally pulls against resistance\\nwith both arms.\\nAn alternative test is to ask the patient to put their hands in the air with\\ntheir palms facing you. Place your palms against theirs and ask them to\\npush while you provide resistance. See Figure 6.30\\nfor an image of\\nassessing upper body strength.')\n",
      "\n",
      "Q: Who won the grimblesplatch competition at the 2020 Summer Olympic games?\n",
      "A: I don't know.\n"
     ]
    }
   ],
   "source": [
    "query = \"Who won the grimblesplatch competition at the 2020 Summer Olympic games?\"\n",
    "answer = answer_query_with_context(query, df, document_embeddings)\n",
    "\n",
    "print(f\"\\nQ: {query}\\nA: {answer}\")"
   ]
  }
 ],
 "metadata": {
  "kernelspec": {
   "display_name": "Python 3",
   "language": "python",
   "name": "python3"
  },
  "language_info": {
   "codemirror_mode": {
    "name": "ipython",
    "version": 3
   },
   "file_extension": ".py",
   "mimetype": "text/x-python",
   "name": "python",
   "nbconvert_exporter": "python",
   "pygments_lexer": "ipython3",
   "version": "3.11.1"
  },
  "vscode": {
   "interpreter": {
    "hash": "80f1ed4dddd1d5fd563917308b5bc349875962a5b9194abcd8ac906ac7961ad2"
   }
  }
 },
 "nbformat": 4,
 "nbformat_minor": 5
}
