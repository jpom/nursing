{
 "cells": [
  {
   "attachments": {},
   "cell_type": "markdown",
   "id": "c4ca8276-e829-4cff-8905-47534e4b4d4e",
   "metadata": {},
   "source": [
    "# Question Answering using Embeddings\n",
    "\n",
    "Many use cases require GPT-3 to respond to user questions with insightful answers. For example, a customer support chatbot may need to provide answers to common questions. The GPT models have picked up a lot of general knowledge in training, but we often need to ingest and use a large library of more specific information.\n",
    "\n",
    "In this notebook we will demonstrate a method for enabling GPT-3 to answer questions using a library of text as a reference, by using document embeddings and retrieval. We'll be using a dataset of Wikipedia articles about the Nusring Fundamentals."
   ]
  },
  {
   "cell_type": "code",
   "execution_count": 71,
   "id": "9e3839a6-9146-4f60-b74b-19abbc24278d",
   "metadata": {},
   "outputs": [],
   "source": [
    "import numpy as np\n",
    "import openai\n",
    "import pandas as pd\n",
    "import pickle\n",
    "import tiktoken\n",
    "import time\n",
    "import os\n",
    "\n",
    "openai.api_key = os.getenv('OPEN_AI_KEY') #Add your API key here\n",
    "\n",
    "COMPLETIONS_MODEL = \"text-davinci-003\"\n",
    "EMBEDDING_MODEL = \"text-embedding-ada-002\""
   ]
  },
  {
   "cell_type": "code",
   "execution_count": 72,
   "id": "a167516c-7c19-4bda-afa5-031aa0ae13bb",
   "metadata": {},
   "outputs": [
    {
     "data": {
      "text/plain": [
       "\"Marcelo Chierighini of Brazil won the gold medal in the men's high jump at the 2020 Summer Olympics.\""
      ]
     },
     "execution_count": 72,
     "metadata": {},
     "output_type": "execute_result"
    }
   ],
   "source": [
    "prompt = \"Who won the 2020 Summer Olympics men's high jump?\"\n",
    "\n",
    "openai.Completion.create(\n",
    "    prompt=prompt,\n",
    "    temperature=0,\n",
    "    max_tokens=300,\n",
    "    model=COMPLETIONS_MODEL\n",
    ")[\"choices\"][0][\"text\"].strip(\" \\n\")"
   ]
  },
  {
   "cell_type": "code",
   "execution_count": 73,
   "id": "a5451371-17fe-4ef3-aa02-affcf4edb0e0",
   "metadata": {},
   "outputs": [
    {
     "data": {
      "text/plain": [
       "\"Sorry, I don't know.\""
      ]
     },
     "execution_count": 73,
     "metadata": {},
     "output_type": "execute_result"
    }
   ],
   "source": [
    "prompt = \"\"\"Answer the question as truthfully as possible, and if you're unsure of the answer, say \"Sorry, I don't know\".\n",
    "\n",
    "Q: Who won the 2020 Summer Olympics men's high jump?\n",
    "A:\"\"\"\n",
    "\n",
    "openai.Completion.create(\n",
    "    prompt=prompt,\n",
    "    temperature=0,\n",
    "    max_tokens=300,\n",
    "    model=COMPLETIONS_MODEL\n",
    ")[\"choices\"][0][\"text\"].strip(\" \\n\")"
   ]
  },
  {
   "cell_type": "code",
   "execution_count": 74,
   "id": "fceaf665-2602-4788-bc44-9eb256a6f955",
   "metadata": {},
   "outputs": [
    {
     "data": {
      "text/plain": [
       "'Gianmarco Tamberi and Mutaz Essa Barshim emerged as joint winners of the event.'"
      ]
     },
     "execution_count": 74,
     "metadata": {},
     "output_type": "execute_result"
    }
   ],
   "source": [
    "prompt = \"\"\"Answer the question as truthfully as possible using the provided text, and if the answer is not contained within the text below, say \"I don't know\"\n",
    "\n",
    "Context:\n",
    "The men's high jump event at the 2020 Summer Olympics took place between 30 July and 1 August 2021 at the Olympic Stadium.\n",
    "33 athletes from 24 nations competed; the total possible number depended on how many nations would use universality places \n",
    "to enter athletes in addition to the 32 qualifying through mark or ranking (no universality places were used in 2021).\n",
    "Italian athlete Gianmarco Tamberi along with Qatari athlete Mutaz Essa Barshim emerged as joint winners of the event following\n",
    "a tie between both of them as they cleared 2.37m. Both Tamberi and Barshim agreed to share the gold medal in a rare instance\n",
    "where the athletes of different nations had agreed to share the same medal in the history of Olympics. \n",
    "Barshim in particular was heard to ask a competition official \"Can we have two golds?\" in response to being offered a \n",
    "'jump off'. Maksim Nedasekau of Belarus took bronze. The medals were the first ever in the men's high jump for Italy and \n",
    "Belarus, the first gold in the men's high jump for Italy and Qatar, and the third consecutive medal in the men's high jump\n",
    "for Qatar (all by Barshim). Barshim became only the second man to earn three medals in high jump, joining Patrik Sjöberg\n",
    "of Sweden (1984 to 1992).\n",
    "\n",
    "Q: Who won the 2020 Summer Olympics men's high jump?\n",
    "A:\"\"\"\n",
    "\n",
    "openai.Completion.create(\n",
    "    prompt=prompt,\n",
    "    temperature=0,\n",
    "    max_tokens=300,\n",
    "    top_p=1,\n",
    "    frequency_penalty=0,\n",
    "    presence_penalty=0,\n",
    "    model=COMPLETIONS_MODEL\n",
    ")[\"choices\"][0][\"text\"].strip(\" \\n\")"
   ]
  },
  {
   "cell_type": "code",
   "execution_count": 75,
   "id": "cc9c8d69-e234-48b4-87e3-935970e1523a",
   "metadata": {},
   "outputs": [
    {
     "name": "stdout",
     "output_type": "stream",
     "text": [
      "477 rows in the data.\n"
     ]
    },
    {
     "data": {
      "text/html": [
       "<div>\n",
       "<style scoped>\n",
       "    .dataframe tbody tr th:only-of-type {\n",
       "        vertical-align: middle;\n",
       "    }\n",
       "\n",
       "    .dataframe tbody tr th {\n",
       "        vertical-align: top;\n",
       "    }\n",
       "\n",
       "    .dataframe thead th {\n",
       "        text-align: right;\n",
       "    }\n",
       "</style>\n",
       "<table border=\"1\" class=\"dataframe\">\n",
       "  <thead>\n",
       "    <tr style=\"text-align: right;\">\n",
       "      <th></th>\n",
       "      <th></th>\n",
       "      <th>content</th>\n",
       "      <th>tokens</th>\n",
       "    </tr>\n",
       "    <tr>\n",
       "      <th>title</th>\n",
       "      <th>heading</th>\n",
       "      <th></th>\n",
       "      <th></th>\n",
       "    </tr>\n",
       "  </thead>\n",
       "  <tbody>\n",
       "    <tr>\n",
       "      <th>Safety 5.4 Culture of Safety</th>\n",
       "      <th>Open Resources for Nursing (Open RN) In addition to implementing safety strategies to improve safe patient care, leaders of a health care agency must also establish a culture of safety. A culture of safety reflects the behaviors, beliefs, and values within and across all levels of an organization as they relate to safety and clinical excellence, with a focus on people. In 2017 The Joint Commission released a sentinel event regarding the essential role of leadership in establishing a culture of safety. Three components of a culture of safety are the following: Just Culture: A culture where people feel safe raising questions and concerns and report safety events in an environment that emphasizes a nonpunitive response to errors and near misses. Clear lines are drawn between human error, at-risk, and reckless behaviors. Reporting Culture: People realize errors are inevitable and are encouraged to speak up for patient safety by reporting errors and near misses. Learning Culture: People regularly collect information and learn from errors and successes while openly sharing data and information and applying best evidence to improve work processes and patient outcomes. The American Nurses Association further describes a culture of safety as one that includes openness and mutual respect when discussing safety concerns and solutions without shifting to individual blame, a learning environment with transparency and accountability, and reliable teams. In contrast, complexity, lack of clear measures, hierarchical authority, the âblame game,â and lack of leadership are examples of barriers that do not promote a culture of safety. See the following box for an example of safety themes established during a health care institutionâs implementation of a culture of safety. Safety Themes in a Culture of SafetyInstitute of Medicine (US) Committee on the Work Environment for Nurses and Patient Safety. (2004). Creating and sustaining a culture of safety. In Keeping patients safe: Transforming the work environment of nurses. National Academies Press. https://www.ncbi.nlm.nih.gov/books/NBK216181 Kaiser Permantente implemented a culture of safety in 2001 that focused on instituting the following six strategic themes: Safe culture: Creating and maintaining a strong patient safety culture, with patient safety and error reduction embraced as shared organizational values. Safe care: Ensuring that the actual and potential hazards associated with high-risk procedures, processes, and patient care populations are identified, assessed, and managed in a way that demonstrates continuous improvement and ultimately ensures that patients are free from accidental injury or illness. Safe staff: Ensuring that staff possess the knowledge and competence to perform required duties safely and contribute to improving system safety performance. Safe support systems: Identifying, implementing, and maintaining support systemsâincluding knowledge-sharing networks and systems for responsible reportingâthat provide the right information to the right people at the right time. Safe place: Designing, constructing, operating, and maintaining the environment of health care to enhance its efficiency and effectiveness. Safe patients: Engaging patients and their families in reducing medical errors, improving overall system safety performance, and maintaining trust and respect. A strong safety culture encourages all members of the health care team to identify and reduce risks to patient safety by reporting errors and near misses so that root cause analysis can be performed and identified risks are removed from the system. However, in a poorly defined and implemented culture of safety, staff often conceal errors due to fear or shame. Nurses have been traditionally trained to believe that clinical perfection is attainable and that âgoodâ nurses do not make errors. Errors are perceived as being caused by carelessness, inattention, indifference, or uninformed decisions. Although expecting high standards of performance is appropriate and desirable, it can become counterproductive if it creates an expectation of perfection that impacts the reporting of errors and near misses. If employees feel shame when they make an error, they may feel pressure to hide or cover up errors. Evidence indicates that approximately three of every four errors are detected by those committing them, as opposed to being detected by an environmental cue or another person. Therefore, employees need to be able to trust that they can fully report errors without fear of being wrongfully blamed. This provides the agency with the opportunity to learn how to further improve processes and prevent future errors from occurring. For many organizations, the largest barrier in establishing a culture of safety is the establishment of trust. A model called âJust Cultureâ has successfully been implemented in many agencies to decrease the âblame game,â promote trust, and improve the reporting of errors.</th>\n",
       "      <td>Safety 5.4 Culture of Safety Open Resources fo...</td>\n",
       "      <td>944</td>\n",
       "    </tr>\n",
       "    <tr>\n",
       "      <th>Grief and Loss 17.6 Applying the Nursing Process at End of Life</th>\n",
       "      <th>Outcomes An overall goal for a patient who is actively dying is, The patient will experience dignified life closure as evidenced by: Expression of readiness for death Resolution ofÂ  important issues Sharing of feelings about dying Discussion regarding spiritual concernsAckley, B., Ladwig, G., Makic, M. B., Martinez-Kratz, M., &amp; Zanotti, M. (2020). Nursing diagnosis handbook: An evidence-based guide to planning care (12th ed.). Elsevier, pp. 144-147, 434-444. An example of a SMART outcome for a patient actively dying is, âThe patient will express their fears associated with dying by the end of the shift.âAckley, B., Ladwig, G., Makic, M. B., Martinez-Kratz, M., &amp; Zanotti, M. (2020). Nursing diagnosis handbook: An evidence-based guide to planning care (12th ed.). Elsevier, pp. 144-147, 434-444. Nursing goals for care focus on the provision of comfort. For example, a common nursing goal is, âThe patient will experience adequate pain management based on their expressed goals for pain relief and alertness.â</th>\n",
       "      <td>Grief and Loss 17.6 Applying the Nursing Proce...</td>\n",
       "      <td>287</td>\n",
       "    </tr>\n",
       "    <tr>\n",
       "      <th>Mobility 13.3 Applying the Nursing Process</th>\n",
       "      <th>Diagnoses There are several nursing diagnoses related to mobility. Review a nursing care planning source for current NANDA-I approved nursing diagnoses and interventions. A commonly used NANDA-I nursing diagnosis is Impaired Physical Mobility.Herdman, T. H., &amp; Kamitsuru, S. (Eds.). (2018). Nursing diagnoses: Definitions and classification, 2018-2020. Thieme Publishers New York, p. 219 See Table 13.3 for the definition and selected defining characteristics of this diagnosis.Herdman, T. H., &amp; Kamitsuru, S. (Eds.). (2018). Nursing diagnoses: Definitions and classification, 2018-2020. Thieme Publishers New York, p. 219 Table 13.3 NANDA-I Nursing Diagnosis Impaired Physical MobilityHerdman, T. H., &amp; Kamitsuru, S. (Eds.). (2018). Nursing diagnoses: Definitions and classification, 2018-2020. Thieme Publishers New York, p. 219 Decrease in fine motor skills Decrease in gross motor skills Decrease in range of motion Decrease in reaction time Difficulty turning Exertional dyspnea Postural instability Uncoordinated or slow movement Â  A sample nursing diagnosis in PES format is, âImpaired Physical Mobility related to decrease in muscle strength as evidenced by slow movement and alteration in gait.â</th>\n",
       "      <td>Mobility 13.3 Applying the Nursing Process Dia...</td>\n",
       "      <td>304</td>\n",
       "    </tr>\n",
       "    <tr>\n",
       "      <th>Cognitive Impairments 6.4 Applying the Nursing Process</th>\n",
       "      <th>Diagnoses Commonly used NANDA-I nursing diagnoses for older adults experiencing cognitive impairment include the following: Self-Care Deficit Risk for Injury Impaired Memory Impaired Coping Social Isolation A common NANDA-I diagnosis related to cognitive impairment caused by dementia is Self-Care Deficit, defined as, âThe inability to independently perform or complete cleansing activities; to put on or remove clothing; to eat; or to perform tasks associated with bowel and bladder elimination.â An associated condition with this nursing diagnosis is âAlteration in cognitive functioning.âHerdman, T. H., &amp; Kamitsuru, S. (Eds.). (2018). Nursing diagnoses: Definitions and classification, 2018-2020. Thieme Publishers New York. An example of a related PES statement is, âSelf-Care Deficit related to altered cognitive functioning as evidenced by impaired ability to access the bathroom, to put clothing on lower extremities, and to maintain appearance.â</th>\n",
       "      <td>Cognitive Impairments 6.4 Applying the Nursing...</td>\n",
       "      <td>242</td>\n",
       "    </tr>\n",
       "    <tr>\n",
       "      <th>Comfort 11.2 Comfort Basic Concepts</th>\n",
       "      <th>Substance Abuse Among Nurses and Nursing Students Substance abuse and addiction can occur in anyone, including nurses and nursing students. The American Nursing Association released the following statements in 2016: Health care facilities should provide education to nurses and other employees regarding alcohol and other drug use and establish policies, procedures, and practices to promote safe, supportive, drug-free workplaces. Health care facilities and schools of nursing should adopt alternative-to-discipline approaches to treating nurses and nursing students with substance use disorders, with stated goals of retention, rehabilitation, and reentry into safe, professional practice. Drug diversion, in the context of personal use, is viewed primarily as a symptom of a serious and treatable disease, and not exclusively as a crime. Nurses and nursing students are aware of the risks associated with substance use, impaired practice, and drug diversion and have the responsibility and means to report suspected or actual concerns.American Nurses Association. (2016, October). Substance use among nurses and nursing students. https://www.nursingworld.org/practice-policy/nursing-excellence/official-position-statements/id/substance-use-among-nurses-and-nursing-students</th>\n",
       "      <td>Comfort 11.2 Comfort Basic Concepts Substance ...</td>\n",
       "      <td>255</td>\n",
       "    </tr>\n",
       "  </tbody>\n",
       "</table>\n",
       "</div>"
      ],
      "text/plain": [
       "                                                                                                                                                 content  \\\n",
       "title                                              heading                                                                                                 \n",
       "Safety 5.4 Culture of Safety                       Open Resources for Nursing (Open RN) In additio...  Safety 5.4 Culture of Safety Open Resources fo...   \n",
       "Grief and Loss 17.6 Applying the Nursing Proces... Outcomes An overall goal for a patient who is a...  Grief and Loss 17.6 Applying the Nursing Proce...   \n",
       "Mobility 13.3 Applying the Nursing Process         Diagnoses There are several nursing diagnoses r...  Mobility 13.3 Applying the Nursing Process Dia...   \n",
       "Cognitive Impairments 6.4 Applying the Nursing ... Diagnoses Commonly used NANDA-I nursing diagnos...  Cognitive Impairments 6.4 Applying the Nursing...   \n",
       "Comfort 11.2 Comfort Basic Concepts                Substance Abuse Among Nurses and Nursing Studen...  Comfort 11.2 Comfort Basic Concepts Substance ...   \n",
       "\n",
       "                                                                                                       tokens  \n",
       "title                                              heading                                                     \n",
       "Safety 5.4 Culture of Safety                       Open Resources for Nursing (Open RN) In additio...     944  \n",
       "Grief and Loss 17.6 Applying the Nursing Proces... Outcomes An overall goal for a patient who is a...     287  \n",
       "Mobility 13.3 Applying the Nursing Process         Diagnoses There are several nursing diagnoses r...     304  \n",
       "Cognitive Impairments 6.4 Applying the Nursing ... Diagnoses Commonly used NANDA-I nursing diagnos...     242  \n",
       "Comfort 11.2 Comfort Basic Concepts                Substance Abuse Among Nurses and Nursing Studen...     255  "
      ]
     },
     "execution_count": 75,
     "metadata": {},
     "output_type": "execute_result"
    }
   ],
   "source": [
    "# We have hosted the processed dataset, so you can download it directly without having to recreate it.\n",
    "# This dataset has already been split into sections, one row for each section of the Wikipedia page.\n",
    "\n",
    "df = pd.read_csv('nursing_fundamental_finalwithtokens.csv')\n",
    "df = df.set_index([\"title\", \"heading\"])\n",
    "print(f\"{len(df)} rows in the data.\")\n",
    "df.sample(5)"
   ]
  },
  {
   "cell_type": "code",
   "execution_count": 76,
   "id": "ba475f30-ef7f-431c-b60d-d5970b62ad09",
   "metadata": {},
   "outputs": [],
   "source": [
    "def get_embedding(text: str, model: str=EMBEDDING_MODEL) -> list[float]:\n",
    "    result = openai.Embedding.create(\n",
    "      model=model,\n",
    "      input=text\n",
    "    )\n",
    "    time.sleep(7)\n",
    "    return result[\"data\"][0][\"embedding\"]\n",
    "\n",
    "def compute_doc_embeddings(df: pd.DataFrame) -> dict[tuple[str, str], list[float]]:\n",
    "    \"\"\"\n",
    "    Create an embedding for each row in the dataframe using the OpenAI Embeddings API.\n",
    "    \n",
    "    Return a dictionary that maps between each embedding vector and the index of the row that it corresponds to.\n",
    "    \"\"\"\n",
    "    return {\n",
    "        idx: get_embedding(r.content) for idx, r in df.iterrows()\n",
    "    }"
   ]
  },
  {
   "cell_type": "code",
   "execution_count": 77,
   "id": "737266aa-cbe7-4691-87c1-fce8a31632f1",
   "metadata": {},
   "outputs": [],
   "source": [
    "def load_embeddings(fname: str) -> dict[tuple[str, str], list[float]]:\n",
    "    \"\"\"\n",
    "    Read the document embeddings and their keys from a CSV.\n",
    "    \n",
    "    fname is the path to a CSV with exactly these named columns: \n",
    "        \"title\", \"heading\", \"0\", \"1\", ... up to the length of the embedding vectors.\n",
    "    \"\"\"\n",
    "    \n",
    "    df = pd.read_csv(fname, header=0)\n",
    "    max_dim = max([int(c) for c in df.columns if c != \"title\" and c != \"heading\"])\n",
    "    return {\n",
    "           (r.title, r.heading): [r[str(i)] for i in range(max_dim + 1)] for _, r in df.iterrows()\n",
    "    }"
   ]
  },
  {
   "cell_type": "code",
   "execution_count": 78,
   "id": "ab50bfca-cb02-41c6-b338-4400abe1d86e",
   "metadata": {},
   "outputs": [
    {
     "ename": "APIConnectionError",
     "evalue": "Error communicating with OpenAI: HTTPSConnectionPool(host='api.openai.com', port=443): Read timed out.",
     "output_type": "error",
     "traceback": [
      "\u001b[1;31m---------------------------------------------------------------------------\u001b[0m",
      "\u001b[1;31mTimeoutError\u001b[0m                              Traceback (most recent call last)",
      "File \u001b[1;32mc:\\Users\\Shabeeb\\AppData\\Local\\Programs\\Python\\Python311\\Lib\\site-packages\\urllib3\\response.py:444\u001b[0m, in \u001b[0;36mHTTPResponse._error_catcher\u001b[1;34m(self)\u001b[0m\n\u001b[0;32m    443\u001b[0m \u001b[39mtry\u001b[39;00m:\n\u001b[1;32m--> 444\u001b[0m     \u001b[39myield\u001b[39;00m\n\u001b[0;32m    446\u001b[0m \u001b[39mexcept\u001b[39;00m SocketTimeout:\n\u001b[0;32m    447\u001b[0m     \u001b[39m# FIXME: Ideally we'd like to include the url in the ReadTimeoutError but\u001b[39;00m\n\u001b[0;32m    448\u001b[0m     \u001b[39m# there is yet no clean way to get at it from this context.\u001b[39;00m\n",
      "File \u001b[1;32mc:\\Users\\Shabeeb\\AppData\\Local\\Programs\\Python\\Python311\\Lib\\site-packages\\urllib3\\response.py:567\u001b[0m, in \u001b[0;36mHTTPResponse.read\u001b[1;34m(self, amt, decode_content, cache_content)\u001b[0m\n\u001b[0;32m    566\u001b[0m \u001b[39mwith\u001b[39;00m \u001b[39mself\u001b[39m\u001b[39m.\u001b[39m_error_catcher():\n\u001b[1;32m--> 567\u001b[0m     data \u001b[39m=\u001b[39m \u001b[39mself\u001b[39;49m\u001b[39m.\u001b[39;49m_fp_read(amt) \u001b[39mif\u001b[39;00m \u001b[39mnot\u001b[39;00m fp_closed \u001b[39melse\u001b[39;00m \u001b[39mb\u001b[39m\u001b[39m\"\u001b[39m\u001b[39m\"\u001b[39m\n\u001b[0;32m    568\u001b[0m     \u001b[39mif\u001b[39;00m amt \u001b[39mis\u001b[39;00m \u001b[39mNone\u001b[39;00m:\n",
      "File \u001b[1;32mc:\\Users\\Shabeeb\\AppData\\Local\\Programs\\Python\\Python311\\Lib\\site-packages\\urllib3\\response.py:533\u001b[0m, in \u001b[0;36mHTTPResponse._fp_read\u001b[1;34m(self, amt)\u001b[0m\n\u001b[0;32m    531\u001b[0m \u001b[39melse\u001b[39;00m:\n\u001b[0;32m    532\u001b[0m     \u001b[39m# StringIO doesn't like amt=None\u001b[39;00m\n\u001b[1;32m--> 533\u001b[0m     \u001b[39mreturn\u001b[39;00m \u001b[39mself\u001b[39;49m\u001b[39m.\u001b[39;49m_fp\u001b[39m.\u001b[39;49mread(amt) \u001b[39mif\u001b[39;00m amt \u001b[39mis\u001b[39;00m \u001b[39mnot\u001b[39;00m \u001b[39mNone\u001b[39;00m \u001b[39melse\u001b[39;00m \u001b[39mself\u001b[39m\u001b[39m.\u001b[39m_fp\u001b[39m.\u001b[39mread()\n",
      "File \u001b[1;32mc:\\Users\\Shabeeb\\AppData\\Local\\Programs\\Python\\Python311\\Lib\\http\\client.py:465\u001b[0m, in \u001b[0;36mHTTPResponse.read\u001b[1;34m(self, amt)\u001b[0m\n\u001b[0;32m    464\u001b[0m     amt \u001b[39m=\u001b[39m \u001b[39mself\u001b[39m\u001b[39m.\u001b[39mlength\n\u001b[1;32m--> 465\u001b[0m s \u001b[39m=\u001b[39m \u001b[39mself\u001b[39m\u001b[39m.\u001b[39mfp\u001b[39m.\u001b[39mread(amt)\n\u001b[0;32m    466\u001b[0m \u001b[39mif\u001b[39;00m \u001b[39mnot\u001b[39;00m s \u001b[39mand\u001b[39;00m amt:\n\u001b[0;32m    467\u001b[0m     \u001b[39m# Ideally, we would raise IncompleteRead if the content-length\u001b[39;00m\n\u001b[0;32m    468\u001b[0m     \u001b[39m# wasn't satisfied, but it might break compatibility.\u001b[39;00m\n",
      "File \u001b[1;32mc:\\Users\\Shabeeb\\AppData\\Local\\Programs\\Python\\Python311\\Lib\\socket.py:706\u001b[0m, in \u001b[0;36mSocketIO.readinto\u001b[1;34m(self, b)\u001b[0m\n\u001b[0;32m    705\u001b[0m \u001b[39mtry\u001b[39;00m:\n\u001b[1;32m--> 706\u001b[0m     \u001b[39mreturn\u001b[39;00m \u001b[39mself\u001b[39;49m\u001b[39m.\u001b[39;49m_sock\u001b[39m.\u001b[39;49mrecv_into(b)\n\u001b[0;32m    707\u001b[0m \u001b[39mexcept\u001b[39;00m timeout:\n",
      "File \u001b[1;32mc:\\Users\\Shabeeb\\AppData\\Local\\Programs\\Python\\Python311\\Lib\\ssl.py:1278\u001b[0m, in \u001b[0;36mSSLSocket.recv_into\u001b[1;34m(self, buffer, nbytes, flags)\u001b[0m\n\u001b[0;32m   1275\u001b[0m         \u001b[39mraise\u001b[39;00m \u001b[39mValueError\u001b[39;00m(\n\u001b[0;32m   1276\u001b[0m           \u001b[39m\"\u001b[39m\u001b[39mnon-zero flags not allowed in calls to recv_into() on \u001b[39m\u001b[39m%s\u001b[39;00m\u001b[39m\"\u001b[39m \u001b[39m%\u001b[39m\n\u001b[0;32m   1277\u001b[0m           \u001b[39mself\u001b[39m\u001b[39m.\u001b[39m\u001b[39m__class__\u001b[39m)\n\u001b[1;32m-> 1278\u001b[0m     \u001b[39mreturn\u001b[39;00m \u001b[39mself\u001b[39;49m\u001b[39m.\u001b[39;49mread(nbytes, buffer)\n\u001b[0;32m   1279\u001b[0m \u001b[39melse\u001b[39;00m:\n",
      "File \u001b[1;32mc:\\Users\\Shabeeb\\AppData\\Local\\Programs\\Python\\Python311\\Lib\\ssl.py:1134\u001b[0m, in \u001b[0;36mSSLSocket.read\u001b[1;34m(self, len, buffer)\u001b[0m\n\u001b[0;32m   1133\u001b[0m \u001b[39mif\u001b[39;00m buffer \u001b[39mis\u001b[39;00m \u001b[39mnot\u001b[39;00m \u001b[39mNone\u001b[39;00m:\n\u001b[1;32m-> 1134\u001b[0m     \u001b[39mreturn\u001b[39;00m \u001b[39mself\u001b[39;49m\u001b[39m.\u001b[39;49m_sslobj\u001b[39m.\u001b[39;49mread(\u001b[39mlen\u001b[39;49m, buffer)\n\u001b[0;32m   1135\u001b[0m \u001b[39melse\u001b[39;00m:\n",
      "\u001b[1;31mTimeoutError\u001b[0m: The read operation timed out",
      "\nDuring handling of the above exception, another exception occurred:\n",
      "\u001b[1;31mReadTimeoutError\u001b[0m                          Traceback (most recent call last)",
      "File \u001b[1;32mc:\\Users\\Shabeeb\\AppData\\Local\\Programs\\Python\\Python311\\Lib\\site-packages\\requests\\models.py:816\u001b[0m, in \u001b[0;36mResponse.iter_content.<locals>.generate\u001b[1;34m()\u001b[0m\n\u001b[0;32m    815\u001b[0m \u001b[39mtry\u001b[39;00m:\n\u001b[1;32m--> 816\u001b[0m     \u001b[39myield from\u001b[39;00m \u001b[39mself\u001b[39m\u001b[39m.\u001b[39mraw\u001b[39m.\u001b[39mstream(chunk_size, decode_content\u001b[39m=\u001b[39m\u001b[39mTrue\u001b[39;00m)\n\u001b[0;32m    817\u001b[0m \u001b[39mexcept\u001b[39;00m ProtocolError \u001b[39mas\u001b[39;00m e:\n",
      "File \u001b[1;32mc:\\Users\\Shabeeb\\AppData\\Local\\Programs\\Python\\Python311\\Lib\\site-packages\\urllib3\\response.py:628\u001b[0m, in \u001b[0;36mHTTPResponse.stream\u001b[1;34m(self, amt, decode_content)\u001b[0m\n\u001b[0;32m    627\u001b[0m \u001b[39mwhile\u001b[39;00m \u001b[39mnot\u001b[39;00m is_fp_closed(\u001b[39mself\u001b[39m\u001b[39m.\u001b[39m_fp):\n\u001b[1;32m--> 628\u001b[0m     data \u001b[39m=\u001b[39m \u001b[39mself\u001b[39;49m\u001b[39m.\u001b[39;49mread(amt\u001b[39m=\u001b[39;49mamt, decode_content\u001b[39m=\u001b[39;49mdecode_content)\n\u001b[0;32m    630\u001b[0m     \u001b[39mif\u001b[39;00m data:\n",
      "File \u001b[1;32mc:\\Users\\Shabeeb\\AppData\\Local\\Programs\\Python\\Python311\\Lib\\site-packages\\urllib3\\response.py:566\u001b[0m, in \u001b[0;36mHTTPResponse.read\u001b[1;34m(self, amt, decode_content, cache_content)\u001b[0m\n\u001b[0;32m    564\u001b[0m fp_closed \u001b[39m=\u001b[39m \u001b[39mgetattr\u001b[39m(\u001b[39mself\u001b[39m\u001b[39m.\u001b[39m_fp, \u001b[39m\"\u001b[39m\u001b[39mclosed\u001b[39m\u001b[39m\"\u001b[39m, \u001b[39mFalse\u001b[39;00m)\n\u001b[1;32m--> 566\u001b[0m \u001b[39mwith\u001b[39;49;00m \u001b[39mself\u001b[39;49m\u001b[39m.\u001b[39;49m_error_catcher():\n\u001b[0;32m    567\u001b[0m     data \u001b[39m=\u001b[39;49m \u001b[39mself\u001b[39;49m\u001b[39m.\u001b[39;49m_fp_read(amt) \u001b[39mif\u001b[39;49;00m \u001b[39mnot\u001b[39;49;00m fp_closed \u001b[39melse\u001b[39;49;00m \u001b[39mb\u001b[39;49m\u001b[39m\"\u001b[39;49m\u001b[39m\"\u001b[39;49m\n",
      "File \u001b[1;32mc:\\Users\\Shabeeb\\AppData\\Local\\Programs\\Python\\Python311\\Lib\\contextlib.py:155\u001b[0m, in \u001b[0;36m_GeneratorContextManager.__exit__\u001b[1;34m(self, typ, value, traceback)\u001b[0m\n\u001b[0;32m    154\u001b[0m \u001b[39mtry\u001b[39;00m:\n\u001b[1;32m--> 155\u001b[0m     \u001b[39mself\u001b[39m\u001b[39m.\u001b[39mgen\u001b[39m.\u001b[39mthrow(typ, value, traceback)\n\u001b[0;32m    156\u001b[0m \u001b[39mexcept\u001b[39;00m \u001b[39mStopIteration\u001b[39;00m \u001b[39mas\u001b[39;00m exc:\n\u001b[0;32m    157\u001b[0m     \u001b[39m# Suppress StopIteration *unless* it's the same exception that\u001b[39;00m\n\u001b[0;32m    158\u001b[0m     \u001b[39m# was passed to throw().  This prevents a StopIteration\u001b[39;00m\n\u001b[0;32m    159\u001b[0m     \u001b[39m# raised inside the \"with\" statement from being suppressed.\u001b[39;00m\n",
      "File \u001b[1;32mc:\\Users\\Shabeeb\\AppData\\Local\\Programs\\Python\\Python311\\Lib\\site-packages\\urllib3\\response.py:449\u001b[0m, in \u001b[0;36mHTTPResponse._error_catcher\u001b[1;34m(self)\u001b[0m\n\u001b[0;32m    446\u001b[0m \u001b[39mexcept\u001b[39;00m SocketTimeout:\n\u001b[0;32m    447\u001b[0m     \u001b[39m# FIXME: Ideally we'd like to include the url in the ReadTimeoutError but\u001b[39;00m\n\u001b[0;32m    448\u001b[0m     \u001b[39m# there is yet no clean way to get at it from this context.\u001b[39;00m\n\u001b[1;32m--> 449\u001b[0m     \u001b[39mraise\u001b[39;00m ReadTimeoutError(\u001b[39mself\u001b[39m\u001b[39m.\u001b[39m_pool, \u001b[39mNone\u001b[39;00m, \u001b[39m\"\u001b[39m\u001b[39mRead timed out.\u001b[39m\u001b[39m\"\u001b[39m)\n\u001b[0;32m    451\u001b[0m \u001b[39mexcept\u001b[39;00m BaseSSLError \u001b[39mas\u001b[39;00m e:\n\u001b[0;32m    452\u001b[0m     \u001b[39m# FIXME: Is there a better way to differentiate between SSLErrors?\u001b[39;00m\n",
      "\u001b[1;31mReadTimeoutError\u001b[0m: HTTPSConnectionPool(host='api.openai.com', port=443): Read timed out.",
      "\nDuring handling of the above exception, another exception occurred:\n",
      "\u001b[1;31mConnectionError\u001b[0m                           Traceback (most recent call last)",
      "File \u001b[1;32mc:\\Users\\Shabeeb\\AppData\\Local\\Programs\\Python\\Python311\\Lib\\site-packages\\openai\\api_requestor.py:517\u001b[0m, in \u001b[0;36mAPIRequestor.request_raw\u001b[1;34m(self, method, url, params, supplied_headers, files, stream, request_id, request_timeout)\u001b[0m\n\u001b[0;32m    516\u001b[0m \u001b[39mtry\u001b[39;00m:\n\u001b[1;32m--> 517\u001b[0m     result \u001b[39m=\u001b[39m _thread_context\u001b[39m.\u001b[39;49msession\u001b[39m.\u001b[39;49mrequest(\n\u001b[0;32m    518\u001b[0m         method,\n\u001b[0;32m    519\u001b[0m         abs_url,\n\u001b[0;32m    520\u001b[0m         headers\u001b[39m=\u001b[39;49mheaders,\n\u001b[0;32m    521\u001b[0m         data\u001b[39m=\u001b[39;49mdata,\n\u001b[0;32m    522\u001b[0m         files\u001b[39m=\u001b[39;49mfiles,\n\u001b[0;32m    523\u001b[0m         stream\u001b[39m=\u001b[39;49mstream,\n\u001b[0;32m    524\u001b[0m         timeout\u001b[39m=\u001b[39;49mrequest_timeout \u001b[39mif\u001b[39;49;00m request_timeout \u001b[39melse\u001b[39;49;00m TIMEOUT_SECS,\n\u001b[0;32m    525\u001b[0m     )\n\u001b[0;32m    526\u001b[0m \u001b[39mexcept\u001b[39;00m requests\u001b[39m.\u001b[39mexceptions\u001b[39m.\u001b[39mTimeout \u001b[39mas\u001b[39;00m e:\n",
      "File \u001b[1;32mc:\\Users\\Shabeeb\\AppData\\Local\\Programs\\Python\\Python311\\Lib\\site-packages\\requests\\sessions.py:587\u001b[0m, in \u001b[0;36mSession.request\u001b[1;34m(self, method, url, params, data, headers, cookies, files, auth, timeout, allow_redirects, proxies, hooks, stream, verify, cert, json)\u001b[0m\n\u001b[0;32m    586\u001b[0m send_kwargs\u001b[39m.\u001b[39mupdate(settings)\n\u001b[1;32m--> 587\u001b[0m resp \u001b[39m=\u001b[39m \u001b[39mself\u001b[39;49m\u001b[39m.\u001b[39;49msend(prep, \u001b[39m*\u001b[39;49m\u001b[39m*\u001b[39;49msend_kwargs)\n\u001b[0;32m    589\u001b[0m \u001b[39mreturn\u001b[39;00m resp\n",
      "File \u001b[1;32mc:\\Users\\Shabeeb\\AppData\\Local\\Programs\\Python\\Python311\\Lib\\site-packages\\requests\\sessions.py:745\u001b[0m, in \u001b[0;36mSession.send\u001b[1;34m(self, request, **kwargs)\u001b[0m\n\u001b[0;32m    744\u001b[0m \u001b[39mif\u001b[39;00m \u001b[39mnot\u001b[39;00m stream:\n\u001b[1;32m--> 745\u001b[0m     r\u001b[39m.\u001b[39;49mcontent\n\u001b[0;32m    747\u001b[0m \u001b[39mreturn\u001b[39;00m r\n",
      "File \u001b[1;32mc:\\Users\\Shabeeb\\AppData\\Local\\Programs\\Python\\Python311\\Lib\\site-packages\\requests\\models.py:899\u001b[0m, in \u001b[0;36mResponse.content\u001b[1;34m(self)\u001b[0m\n\u001b[0;32m    898\u001b[0m     \u001b[39melse\u001b[39;00m:\n\u001b[1;32m--> 899\u001b[0m         \u001b[39mself\u001b[39m\u001b[39m.\u001b[39m_content \u001b[39m=\u001b[39m \u001b[39mb\u001b[39m\u001b[39m\"\u001b[39m\u001b[39m\"\u001b[39m\u001b[39m.\u001b[39mjoin(\u001b[39mself\u001b[39m\u001b[39m.\u001b[39miter_content(CONTENT_CHUNK_SIZE)) \u001b[39mor\u001b[39;00m \u001b[39mb\u001b[39m\u001b[39m\"\u001b[39m\u001b[39m\"\u001b[39m\n\u001b[0;32m    901\u001b[0m \u001b[39mself\u001b[39m\u001b[39m.\u001b[39m_content_consumed \u001b[39m=\u001b[39m \u001b[39mTrue\u001b[39;00m\n",
      "File \u001b[1;32mc:\\Users\\Shabeeb\\AppData\\Local\\Programs\\Python\\Python311\\Lib\\site-packages\\requests\\models.py:822\u001b[0m, in \u001b[0;36mResponse.iter_content.<locals>.generate\u001b[1;34m()\u001b[0m\n\u001b[0;32m    821\u001b[0m \u001b[39mexcept\u001b[39;00m ReadTimeoutError \u001b[39mas\u001b[39;00m e:\n\u001b[1;32m--> 822\u001b[0m     \u001b[39mraise\u001b[39;00m \u001b[39mConnectionError\u001b[39;00m(e)\n\u001b[0;32m    823\u001b[0m \u001b[39mexcept\u001b[39;00m SSLError \u001b[39mas\u001b[39;00m e:\n",
      "\u001b[1;31mConnectionError\u001b[0m: HTTPSConnectionPool(host='api.openai.com', port=443): Read timed out.",
      "\nThe above exception was the direct cause of the following exception:\n",
      "\u001b[1;31mAPIConnectionError\u001b[0m                        Traceback (most recent call last)",
      "Cell \u001b[1;32mIn[78], line 5\u001b[0m\n\u001b[0;32m      1\u001b[0m \u001b[39m#document_embeddings = load_embeddings(\"embeddings.csv\")\u001b[39;00m\n\u001b[0;32m      2\u001b[0m \n\u001b[0;32m      3\u001b[0m \u001b[39m# ===== OR, uncomment the below line to recaculate the embeddings from scratch. ========\u001b[39;00m\n\u001b[1;32m----> 5\u001b[0m document_embeddings \u001b[39m=\u001b[39m compute_doc_embeddings(df)\n\u001b[0;32m      6\u001b[0m embeddings_df \u001b[39m=\u001b[39m pd\u001b[39m.\u001b[39mDataFrame(document_embeddings)\n\u001b[0;32m      7\u001b[0m embeddings_df\u001b[39m.\u001b[39mto_csv(\u001b[39m'\u001b[39m\u001b[39membeddings.csv\u001b[39m\u001b[39m'\u001b[39m, index\u001b[39m=\u001b[39m\u001b[39mFalse\u001b[39;00m,header\u001b[39m=\u001b[39m\u001b[39mTrue\u001b[39;00m)\n",
      "Cell \u001b[1;32mIn[76], line 15\u001b[0m, in \u001b[0;36mcompute_doc_embeddings\u001b[1;34m(df)\u001b[0m\n\u001b[0;32m      9\u001b[0m \u001b[39mdef\u001b[39;00m \u001b[39mcompute_doc_embeddings\u001b[39m(df: pd\u001b[39m.\u001b[39mDataFrame) \u001b[39m-\u001b[39m\u001b[39m>\u001b[39m \u001b[39mdict\u001b[39m[\u001b[39mtuple\u001b[39m[\u001b[39mstr\u001b[39m, \u001b[39mstr\u001b[39m], \u001b[39mlist\u001b[39m[\u001b[39mfloat\u001b[39m]]:\n\u001b[0;32m     10\u001b[0m \u001b[39m    \u001b[39m\u001b[39m\"\"\"\u001b[39;00m\n\u001b[0;32m     11\u001b[0m \u001b[39m    Create an embedding for each row in the dataframe using the OpenAI Embeddings API.\u001b[39;00m\n\u001b[0;32m     12\u001b[0m \u001b[39m    \u001b[39;00m\n\u001b[0;32m     13\u001b[0m \u001b[39m    Return a dictionary that maps between each embedding vector and the index of the row that it corresponds to.\u001b[39;00m\n\u001b[0;32m     14\u001b[0m \u001b[39m    \"\"\"\u001b[39;00m\n\u001b[1;32m---> 15\u001b[0m     \u001b[39mreturn\u001b[39;00m {\n\u001b[0;32m     16\u001b[0m         idx: get_embedding(r\u001b[39m.\u001b[39;49mcontent) \u001b[39mfor\u001b[39;49;00m idx, r \u001b[39min\u001b[39;49;00m df\u001b[39m.\u001b[39;49miterrows()\n\u001b[0;32m     17\u001b[0m     }\n",
      "Cell \u001b[1;32mIn[76], line 16\u001b[0m, in \u001b[0;36m<dictcomp>\u001b[1;34m(.0)\u001b[0m\n\u001b[0;32m      9\u001b[0m \u001b[39mdef\u001b[39;00m \u001b[39mcompute_doc_embeddings\u001b[39m(df: pd\u001b[39m.\u001b[39mDataFrame) \u001b[39m-\u001b[39m\u001b[39m>\u001b[39m \u001b[39mdict\u001b[39m[\u001b[39mtuple\u001b[39m[\u001b[39mstr\u001b[39m, \u001b[39mstr\u001b[39m], \u001b[39mlist\u001b[39m[\u001b[39mfloat\u001b[39m]]:\n\u001b[0;32m     10\u001b[0m \u001b[39m    \u001b[39m\u001b[39m\"\"\"\u001b[39;00m\n\u001b[0;32m     11\u001b[0m \u001b[39m    Create an embedding for each row in the dataframe using the OpenAI Embeddings API.\u001b[39;00m\n\u001b[0;32m     12\u001b[0m \u001b[39m    \u001b[39;00m\n\u001b[0;32m     13\u001b[0m \u001b[39m    Return a dictionary that maps between each embedding vector and the index of the row that it corresponds to.\u001b[39;00m\n\u001b[0;32m     14\u001b[0m \u001b[39m    \"\"\"\u001b[39;00m\n\u001b[0;32m     15\u001b[0m     \u001b[39mreturn\u001b[39;00m {\n\u001b[1;32m---> 16\u001b[0m         idx: get_embedding(r\u001b[39m.\u001b[39;49mcontent) \u001b[39mfor\u001b[39;00m idx, r \u001b[39min\u001b[39;00m df\u001b[39m.\u001b[39miterrows()\n\u001b[0;32m     17\u001b[0m     }\n",
      "Cell \u001b[1;32mIn[76], line 2\u001b[0m, in \u001b[0;36mget_embedding\u001b[1;34m(text, model)\u001b[0m\n\u001b[0;32m      1\u001b[0m \u001b[39mdef\u001b[39;00m \u001b[39mget_embedding\u001b[39m(text: \u001b[39mstr\u001b[39m, model: \u001b[39mstr\u001b[39m\u001b[39m=\u001b[39mEMBEDDING_MODEL) \u001b[39m-\u001b[39m\u001b[39m>\u001b[39m \u001b[39mlist\u001b[39m[\u001b[39mfloat\u001b[39m]:\n\u001b[1;32m----> 2\u001b[0m     result \u001b[39m=\u001b[39m openai\u001b[39m.\u001b[39;49mEmbedding\u001b[39m.\u001b[39;49mcreate(\n\u001b[0;32m      3\u001b[0m       model\u001b[39m=\u001b[39;49mmodel,\n\u001b[0;32m      4\u001b[0m       \u001b[39minput\u001b[39;49m\u001b[39m=\u001b[39;49mtext\n\u001b[0;32m      5\u001b[0m     )\n\u001b[0;32m      6\u001b[0m     time\u001b[39m.\u001b[39msleep(\u001b[39m7\u001b[39m)\n\u001b[0;32m      7\u001b[0m     \u001b[39mreturn\u001b[39;00m result[\u001b[39m\"\u001b[39m\u001b[39mdata\u001b[39m\u001b[39m\"\u001b[39m][\u001b[39m0\u001b[39m][\u001b[39m\"\u001b[39m\u001b[39membedding\u001b[39m\u001b[39m\"\u001b[39m]\n",
      "File \u001b[1;32mc:\\Users\\Shabeeb\\AppData\\Local\\Programs\\Python\\Python311\\Lib\\site-packages\\openai\\api_resources\\embedding.py:33\u001b[0m, in \u001b[0;36mEmbedding.create\u001b[1;34m(cls, *args, **kwargs)\u001b[0m\n\u001b[0;32m     31\u001b[0m \u001b[39mwhile\u001b[39;00m \u001b[39mTrue\u001b[39;00m:\n\u001b[0;32m     32\u001b[0m     \u001b[39mtry\u001b[39;00m:\n\u001b[1;32m---> 33\u001b[0m         response \u001b[39m=\u001b[39m \u001b[39msuper\u001b[39;49m()\u001b[39m.\u001b[39;49mcreate(\u001b[39m*\u001b[39;49margs, \u001b[39m*\u001b[39;49m\u001b[39m*\u001b[39;49mkwargs)\n\u001b[0;32m     35\u001b[0m         \u001b[39m# If a user specifies base64, we'll just return the encoded string.\u001b[39;00m\n\u001b[0;32m     36\u001b[0m         \u001b[39m# This is only for the default case.\u001b[39;00m\n\u001b[0;32m     37\u001b[0m         \u001b[39mif\u001b[39;00m \u001b[39mnot\u001b[39;00m user_provided_encoding_format:\n",
      "File \u001b[1;32mc:\\Users\\Shabeeb\\AppData\\Local\\Programs\\Python\\Python311\\Lib\\site-packages\\openai\\api_resources\\abstract\\engine_api_resource.py:153\u001b[0m, in \u001b[0;36mEngineAPIResource.create\u001b[1;34m(cls, api_key, api_base, api_type, request_id, api_version, organization, **params)\u001b[0m\n\u001b[0;32m    127\u001b[0m \u001b[39m@classmethod\u001b[39m\n\u001b[0;32m    128\u001b[0m \u001b[39mdef\u001b[39;00m \u001b[39mcreate\u001b[39m(\n\u001b[0;32m    129\u001b[0m     \u001b[39mcls\u001b[39m,\n\u001b[1;32m   (...)\u001b[0m\n\u001b[0;32m    136\u001b[0m     \u001b[39m*\u001b[39m\u001b[39m*\u001b[39mparams,\n\u001b[0;32m    137\u001b[0m ):\n\u001b[0;32m    138\u001b[0m     (\n\u001b[0;32m    139\u001b[0m         deployment_id,\n\u001b[0;32m    140\u001b[0m         engine,\n\u001b[1;32m   (...)\u001b[0m\n\u001b[0;32m    150\u001b[0m         api_key, api_base, api_type, api_version, organization, \u001b[39m*\u001b[39m\u001b[39m*\u001b[39mparams\n\u001b[0;32m    151\u001b[0m     )\n\u001b[1;32m--> 153\u001b[0m     response, _, api_key \u001b[39m=\u001b[39m requestor\u001b[39m.\u001b[39;49mrequest(\n\u001b[0;32m    154\u001b[0m         \u001b[39m\"\u001b[39;49m\u001b[39mpost\u001b[39;49m\u001b[39m\"\u001b[39;49m,\n\u001b[0;32m    155\u001b[0m         url,\n\u001b[0;32m    156\u001b[0m         params\u001b[39m=\u001b[39;49mparams,\n\u001b[0;32m    157\u001b[0m         headers\u001b[39m=\u001b[39;49mheaders,\n\u001b[0;32m    158\u001b[0m         stream\u001b[39m=\u001b[39;49mstream,\n\u001b[0;32m    159\u001b[0m         request_id\u001b[39m=\u001b[39;49mrequest_id,\n\u001b[0;32m    160\u001b[0m         request_timeout\u001b[39m=\u001b[39;49mrequest_timeout,\n\u001b[0;32m    161\u001b[0m     )\n\u001b[0;32m    163\u001b[0m     \u001b[39mif\u001b[39;00m stream:\n\u001b[0;32m    164\u001b[0m         \u001b[39m# must be an iterator\u001b[39;00m\n\u001b[0;32m    165\u001b[0m         \u001b[39massert\u001b[39;00m \u001b[39mnot\u001b[39;00m \u001b[39misinstance\u001b[39m(response, OpenAIResponse)\n",
      "File \u001b[1;32mc:\\Users\\Shabeeb\\AppData\\Local\\Programs\\Python\\Python311\\Lib\\site-packages\\openai\\api_requestor.py:217\u001b[0m, in \u001b[0;36mAPIRequestor.request\u001b[1;34m(self, method, url, params, headers, files, stream, request_id, request_timeout)\u001b[0m\n\u001b[0;32m    206\u001b[0m \u001b[39mdef\u001b[39;00m \u001b[39mrequest\u001b[39m(\n\u001b[0;32m    207\u001b[0m     \u001b[39mself\u001b[39m,\n\u001b[0;32m    208\u001b[0m     method,\n\u001b[1;32m   (...)\u001b[0m\n\u001b[0;32m    215\u001b[0m     request_timeout: Optional[Union[\u001b[39mfloat\u001b[39m, Tuple[\u001b[39mfloat\u001b[39m, \u001b[39mfloat\u001b[39m]]] \u001b[39m=\u001b[39m \u001b[39mNone\u001b[39;00m,\n\u001b[0;32m    216\u001b[0m ) \u001b[39m-\u001b[39m\u001b[39m>\u001b[39m Tuple[Union[OpenAIResponse, Iterator[OpenAIResponse]], \u001b[39mbool\u001b[39m, \u001b[39mstr\u001b[39m]:\n\u001b[1;32m--> 217\u001b[0m     result \u001b[39m=\u001b[39m \u001b[39mself\u001b[39;49m\u001b[39m.\u001b[39;49mrequest_raw(\n\u001b[0;32m    218\u001b[0m         method\u001b[39m.\u001b[39;49mlower(),\n\u001b[0;32m    219\u001b[0m         url,\n\u001b[0;32m    220\u001b[0m         params\u001b[39m=\u001b[39;49mparams,\n\u001b[0;32m    221\u001b[0m         supplied_headers\u001b[39m=\u001b[39;49mheaders,\n\u001b[0;32m    222\u001b[0m         files\u001b[39m=\u001b[39;49mfiles,\n\u001b[0;32m    223\u001b[0m         stream\u001b[39m=\u001b[39;49mstream,\n\u001b[0;32m    224\u001b[0m         request_id\u001b[39m=\u001b[39;49mrequest_id,\n\u001b[0;32m    225\u001b[0m         request_timeout\u001b[39m=\u001b[39;49mrequest_timeout,\n\u001b[0;32m    226\u001b[0m     )\n\u001b[0;32m    227\u001b[0m     resp, got_stream \u001b[39m=\u001b[39m \u001b[39mself\u001b[39m\u001b[39m.\u001b[39m_interpret_response(result, stream)\n\u001b[0;32m    228\u001b[0m     \u001b[39mreturn\u001b[39;00m resp, got_stream, \u001b[39mself\u001b[39m\u001b[39m.\u001b[39mapi_key\n",
      "File \u001b[1;32mc:\\Users\\Shabeeb\\AppData\\Local\\Programs\\Python\\Python311\\Lib\\site-packages\\openai\\api_requestor.py:529\u001b[0m, in \u001b[0;36mAPIRequestor.request_raw\u001b[1;34m(self, method, url, params, supplied_headers, files, stream, request_id, request_timeout)\u001b[0m\n\u001b[0;32m    527\u001b[0m     \u001b[39mraise\u001b[39;00m error\u001b[39m.\u001b[39mTimeout(\u001b[39m\"\u001b[39m\u001b[39mRequest timed out: \u001b[39m\u001b[39m{}\u001b[39;00m\u001b[39m\"\u001b[39m\u001b[39m.\u001b[39mformat(e)) \u001b[39mfrom\u001b[39;00m \u001b[39me\u001b[39;00m\n\u001b[0;32m    528\u001b[0m \u001b[39mexcept\u001b[39;00m requests\u001b[39m.\u001b[39mexceptions\u001b[39m.\u001b[39mRequestException \u001b[39mas\u001b[39;00m e:\n\u001b[1;32m--> 529\u001b[0m     \u001b[39mraise\u001b[39;00m error\u001b[39m.\u001b[39mAPIConnectionError(\n\u001b[0;32m    530\u001b[0m         \u001b[39m\"\u001b[39m\u001b[39mError communicating with OpenAI: \u001b[39m\u001b[39m{}\u001b[39;00m\u001b[39m\"\u001b[39m\u001b[39m.\u001b[39mformat(e)\n\u001b[0;32m    531\u001b[0m     ) \u001b[39mfrom\u001b[39;00m \u001b[39me\u001b[39;00m\n\u001b[0;32m    532\u001b[0m util\u001b[39m.\u001b[39mlog_debug(\n\u001b[0;32m    533\u001b[0m     \u001b[39m\"\u001b[39m\u001b[39mOpenAI API response\u001b[39m\u001b[39m\"\u001b[39m,\n\u001b[0;32m    534\u001b[0m     path\u001b[39m=\u001b[39mabs_url,\n\u001b[1;32m   (...)\u001b[0m\n\u001b[0;32m    537\u001b[0m     request_id\u001b[39m=\u001b[39mresult\u001b[39m.\u001b[39mheaders\u001b[39m.\u001b[39mget(\u001b[39m\"\u001b[39m\u001b[39mX-Request-Id\u001b[39m\u001b[39m\"\u001b[39m),\n\u001b[0;32m    538\u001b[0m )\n\u001b[0;32m    539\u001b[0m \u001b[39m# Don't read the whole stream for debug logging unless necessary.\u001b[39;00m\n",
      "\u001b[1;31mAPIConnectionError\u001b[0m: Error communicating with OpenAI: HTTPSConnectionPool(host='api.openai.com', port=443): Read timed out."
     ]
    }
   ],
   "source": [
    "#document_embeddings = load_embeddings(\"embeddings.csv\")\n",
    "\n",
    "# ===== OR, uncomment the below line to recaculate the embeddings from scratch. ========\n",
    "\n",
    "document_embeddings = compute_doc_embeddings(df)\n",
    "embeddings_df = pd.DataFrame(document_embeddings)\n",
    "embeddings_df.to_csv('embeddings.csv', index=False,header=True)"
   ]
  },
  {
   "cell_type": "code",
   "execution_count": null,
   "id": "b9a8c713-c8a9-47dc-85a4-871ee1395566",
   "metadata": {},
   "outputs": [
    {
     "name": "stdout",
     "output_type": "stream",
     "text": [
      "('Scope of Practice 1.1. Scope of Practice Introduction', 'Learning Objectives Discuss nursing scope of practice and standards of care Compare various settings in which nurses work Describe contributions of interprofessional health care team members Describe levels of nursing education and the NCLEX Discuss basic legal considerations and ethics Outline professional nursing organizations Examine quality and evidence-based practice in nursing You are probably wondering, â\\x80\\x9cWhat is scope of practice? What does it mean for me and my nursing practice?â\\x80\\x9d Scope of practice is defined as services that a trained health professional is deemed competent to perform and permitted to undertake according to the terms of their professional nursing license.American Nurses Association. (n.d.). Scope of practice.  Nursing scope of practice provides a framework and structured guidance for activities one can perform based on their nursing license. As a nurse and a nursing student, is always important to consider: Just because your employer asks you to do a taskâ\\x80¦can you perform this task according to your scope of practice â\\x80\\x93 or are you putting your nursing license at risk? Nurses must also follow legal standards in when providing nursing care. Standards are set by several organizations, including the American Nurses Association (ANA), your stateâ\\x80\\x99s Nurse Practice Act, agency policies and procedures, and federal regulators. These standards assure safe, competent care is provided to the public. This chapter will provide an overview of basic concepts related to nursing scope of practice and standards of care.') : [0.010753447, -0.013063902, 0.033157486, -0.03372281, -0.021777267]... (1536 entries)\n"
     ]
    }
   ],
   "source": [
    "# An example embedding:\n",
    "example_entry = list(document_embeddings.items())[0]\n",
    "print(f\"{example_entry[0]} : {example_entry[1][:5]}... ({len(example_entry[1])} entries)\")"
   ]
  },
  {
   "cell_type": "code",
   "execution_count": null,
   "id": "dcd680e9-f194-4180-b14f-fc357498eb92",
   "metadata": {},
   "outputs": [],
   "source": [
    "def vector_similarity(x: list[float], y: list[float]) -> float:\n",
    "    \"\"\"\n",
    "    Returns the similarity between two vectors.\n",
    "    \n",
    "    Because OpenAI Embeddings are normalized to length 1, the cosine similarity is the same as the dot product.\n",
    "    \"\"\"\n",
    "    return np.dot(np.array(x), np.array(y))\n",
    "\n",
    "def order_document_sections_by_query_similarity(query: str, contexts: dict[(str, str), np.array]) -> list[(float, (str, str))]:\n",
    "    \"\"\"\n",
    "    Find the query embedding for the supplied query, and compare it against all of the pre-calculated document embeddings\n",
    "    to find the most relevant sections. \n",
    "    \n",
    "    Return the list of document sections, sorted by relevance in descending order.\n",
    "    \"\"\"\n",
    "    query_embedding = get_embedding(query)\n",
    "    \n",
    "    document_similarities = sorted([\n",
    "        (vector_similarity(query_embedding, doc_embedding), doc_index) for doc_index, doc_embedding in contexts.items()\n",
    "    ], reverse=True)\n",
    "    \n",
    "    return document_similarities"
   ]
  },
  {
   "cell_type": "code",
   "execution_count": null,
   "id": "e3a27d73-f47f-480d-b336-079414f749cb",
   "metadata": {},
   "outputs": [
    {
     "data": {
      "text/plain": [
       "[(0.8972067555461246,\n",
       "  ('Scope of Practice 1.1. Scope of Practice Introduction',\n",
       "   'Learning Objectives Discuss nursing scope of practice and standards of care Compare various settings in which nurses work Describe contributions of interprofessional health care team members Describe levels of nursing education and the NCLEX Discuss basic legal considerations and ethics Outline professional nursing organizations Examine quality and evidence-based practice in nursing You are probably wondering, â\\x80\\x9cWhat is scope of practice? What does it mean for me and my nursing practice?â\\x80\\x9d Scope of practice is defined as services that a trained health professional is deemed competent to perform and permitted to undertake according to the terms of their professional nursing license.American Nurses Association. (n.d.). Scope of practice.  Nursing scope of practice provides a framework and structured guidance for activities one can perform based on their nursing license. As a nurse and a nursing student, is always important to consider: Just because your employer asks you to do a taskâ\\x80¦can you perform this task according to your scope of practice â\\x80\\x93 or are you putting your nursing license at risk? Nurses must also follow legal standards in when providing nursing care. Standards are set by several organizations, including the American Nurses Association (ANA), your stateâ\\x80\\x99s Nurse Practice Act, agency policies and procedures, and federal regulators. These standards assure safe, competent care is provided to the public. This chapter will provide an overview of basic concepts related to nursing scope of practice and standards of care.')),\n",
       " (0.8780227264442699,\n",
       "  ('Scope of Practice 1.3 Regulations & Standards',\n",
       "   'ANA Scope and Standards of Practice The American Nurses Association (ANA) publishes two resources that set standards and guide professional nursing practice in the United States: The Code of Ethics for Nurses and Nursing: Scope and Standards of Practice. The Code of Ethics for Nurses establishes an ethical framework for nursing practice across all roles, levels, and settings. It is discussed in greater detail in the â\\x80\\x9cLegal Considerations and Ethicsâ\\x80\\x9d subsection of this chapter. The Nursing: Scope and Standards of Practice describes a professional nurseâ\\x80\\x99s scope of practice and defines the who, what, where, when, why, and how of nursing. It also sets 18 standards of professional practice that all registered nurses are expected to perform competently. American Nurses Association. (2021). Nursing: Scope and standards of practice (4th ed.). American Nurses Association  The â\\x80\\x9cwhoâ\\x80\\x9d of nursing practice are the nurses who have been educated, titled, and maintain active licensure to practice nursing. The â\\x80\\x9cwhatâ\\x80\\x9d of nursing is the recently revised definition of nursing: â\\x80\\x9cNursing integrates the art and science of caring and focuses on the protection, promotion, and optimization of health and human functioning; prevention of illness and injury; facilitation of healing; and alleviation of suffering through compassionate presence. Nursing is the diagnosis and treatment of human responses and advocacy in the care of individuals, families, groups, communities, and populations in recognition of the connection of all humanity.â\\x80\\x9dAmerican Nurses Association. (2021). Nursing: Scope and standards of practice (4th ed.). American Nurses Association Simply put, nurses treat human responses to health problems and life processes and advocate for the care of others. Nursing practice occurs â\\x80\\x9cwhenâ\\x80\\x9d there is a need for nursing knowledge, wisdom, caring, leadership, practice, or education, anytime, anywhere. Nursing practice occurs in any environment â\\x80\\x9cwhereâ\\x80\\x9d there is a health care consumer in need of care, information, or advocacy. The â\\x80\\x9cwhyâ\\x80\\x9d of nursing practice is described as nursingâ\\x80\\x99s response to the changing needs of society to achieve positive health care consumer outcomes in keeping with nursingâ\\x80\\x99s social contract and obligation to society. The â\\x80\\x9chowâ\\x80\\x9d of nursing practice is defined as the ways, means, methods, and manners that nurses use to practice professionally.American Nurses Association. (2021). Nursing: Scope and standards of practice (4th ed.). American Nurses Association The â\\x80\\x9chowâ\\x80\\x9d of nursing is further defined by the standards of practice set by the ANA. There are two sets of standards, the Standards of Professional Nursing Practice and the Standards of Professional Performance. The Standards of Professional Nursing Practice are â\\x80\\x9cauthoritative statements of the actions and behaviors that all registered nurses, regardless of role, population, specialty, and setting, are expected to perform competently.â\\x80\\x9dAmerican Nurses Association. (2021). Nursing: Scope and standards of practice (4th ed.). American Nurses Association These standards define a competent level of nursing practice based on the critical thinking model known as the nursing process. The nursing process includes the components of assessment, diagnosis, outcomes identification, planning, implementation, and evaluation.American Nurses Association. (2021). Nursing: Scope and standards of practice (4th ed.). American Nurses Association. Each of these standards is further discussed in the â\\x80\\x9cNursing Processâ\\x80\\x9d chapter of this book. The Standards of Professional Performance are 12 additional standards that describe a nurseâ\\x80\\x99s professional behavior, including activities related to ethics, advocacy, respectful and equitable practice, communication, collaboration, leadership, education, scholarly inquiry, quality of practice, professional practice evaluation, resource stewardship, and environmental health. All registered nurses are expected to engage in these professional role activities based on their level of education, position, and role. Registered nurses are accountable for their professional behaviors to themselves, health care consumers, peers, and ultimately to society. American Nurses Association. (2021). Nursing: Scope and standards of practice (4th ed.). American Nurses Association. The 2021 Standards of Professional Performance are as follows: Ethics. The registered nurse integrates ethics in all aspects of practice. Advocacy.Â\\xa0The registered nurse demonstrates advocacy in all roles and settings. Respectful and Equitable Practice. The registered nurse practices with cultural humility and inclusiveness. Communication. The registered nurse communicates effectively in all areas of professional practice. Collaboration. The registered nurse collaborates with the health care consumer and other key stakeholders. Leadership. The registered nurse leads within the profession and practice setting. Education. The registered nurse seeks knowledge and competence that reflects current nursing practice and promotes futuristic thinking. Scholarly Inquiry. The registered nurse integrates scholarship, evidence, and research findings into practice. Quality of Practice. The registered nurse contributes to quality nursing practice. Professional Practice Evaluation. The registered nurse evaluates oneâ\\x80\\x99s own and othersâ\\x80\\x99 nursing practice. Resource Stewardship. The registered nurse utilizes appropriate resources to plan, provide, and sustain evidence-based nursing services that are safe, effective, financially responsible, and judiciously used. Environmental Health. The registered nurse practices in a manner that advances environmental safety and health.American Nurses Association. (2021). Nursing: Scope and standards of practice (4th ed.). American Nurses Association. Years ago, nurses were required to recite the Nightingale pledge to publicly confirm their commitment to maintain the professionâ\\x80\\x99s high ethical and moral values: â\\x80\\x9cI will do all in my power to maintain and elevate the standard of my profession and will hold in confidence all personal matters committed to my keeping and family affairs coming to my knowledge in the practice of my calling, with loyalty will I endeavor to aid the physician in his work, and devote myself to the welfare of those committed to my care.â\\x80\\x9d Although some of the words are outdated, the meaning is clear: Nursing is a calling, not just a job; to answer that call, you must be dedicated to serve your community according to the ANA standards of care and code of ethics.Bostain, L. (2020, June 25). Nursing professionalism begins with you. American Nurse. ')),\n",
       " (0.8697836430317499,\n",
       "  ('Scope of Practice 1.3 Regulations & Standards',\n",
       "   'Nurse Practice Act In addition to the professional standards of practice and professional performance set by the American Nurses Association, nurses must legally follow regulations set by the Nurse Practice Act and enforced by the Board of Nursing in the state where they are employed. The Board of Nursing is the state-specific licensing and regulatory body that sets standards for safe nursing care and issues nursing licenses to qualified candidates, based on the Nurse Practice Act  enacted by that stateâ\\x80\\x99s legislature. The Nurse Practice Act establishes regulations for nursing practice within that state and defines the scope of nursing practice. If nurses do not follow the standards and scope of practice set forth by the Nurse Practice Act, they can have their nursing license revoked by the Board of Nursing. To read more about the the Wisconsin Board of Nursing, Standards of Practice, and Rules of Conduct, use the hyperlinked PDFs provided below.Wisconsin Administrative Code. (2018). Chapter N 6 standards of practice for registered nurses and licensed practical nurses.  Read more details about the Wisconsin Administrative Code and the Board of Nursing. Read about Wisconsin Standards of Practice for Nurses in Chapter N 6. Read about Wisconsin Rules of Conduct in Chapter N 7. Nursing students must understand their scope of practice outlined in their stateâ\\x80\\x99s Nurse Practice Act. Nursing students are legally accountable for the quality of care they provide to patients just as nurses are accountable. Students are expected to recognize the limits of their knowledge and experience and appropriately alert individuals in authority regarding situations that are beyond their competency. A violation of the standards of practice constitutes unprofessional conduct and can result in the Board of Nursing denying a license to a nursing graduate.')),\n",
       " (0.8660638890242341,\n",
       "  ('Scope of Practice 1.3 Regulations & Standards',\n",
       "   'Employer Policies, Procedures, and Protocols In addition to professional nursing standards set by the American Nurses Association and the state Nurse Practice Act where they work, nurses and nursing students must also practice according to agency policies, procedures, and protocols. For example, hospitals often set a policy that requires a thorough skin assessment must be completed and documented daily on every patient. If a nurse did not follow this policy and a patient developed a pressure injury, the nurse could be held liable. In addition, every agency has their own set of procedures and protocols that a nurse and nursing student must follow.Â\\xa0 For example, each agency has specific procedural steps for performing nursing skills, such as inserting urinary catheters. A protocol  is defined by the Wisconsin Nurse Practice Act as a â\\x80\\x9cprecise and detailed written plan for a regimen of therapy.â\\x80\\x9d For example, agencies typically have a hypoglycemia protocol that nurses automatically implement when a patientâ\\x80\\x99s blood sugar falls below a specific number. The hypoglycemia protocol includes actions such as providing orange juice and rechecking the blood sugar. These agency-specific policies, procedures, and protocols supersede the information taught in nursing school, and nurses and nursing students can be held legally liable if they donâ\\x80\\x99t follow them. Therefore, it is vital for nurses and nursing students to always review and follow current agency-specific procedures, policies, and protocols when providing patient care. Nurses and nursing students must continue to follow their scope of practice as defined by the Nurse Practice Act in the state they are practicing when following agency policies, procedures, and protocols. Situations have occurred when a nurse or nursing student was asked by an agency to do something outside their defined scope of practice that impaired their nursing license. It is always up to you to protect your nursing license and follow the stateâ\\x80\\x99s Nurse Practice Act when providing patient care.')),\n",
       " (0.8658329422902415,\n",
       "  ('Scope of Practice 1.3 Regulations & Standards',\n",
       "   'Open Resources for Nursing (Open RN) Standards for nursing care are set by several organizations, including the American Nurses Association (ANA), your stateâ\\x80\\x99s Nurse Practice Act, agency policies and procedures, federal regulators, and other professional nursing organizations. These standards assure safe, competent care is provided to the public.'))]"
      ]
     },
     "execution_count": 63,
     "metadata": {},
     "output_type": "execute_result"
    }
   ],
   "source": [
    "order_document_sections_by_query_similarity(\"What is the definition of scope of practice in nursing and how does it provide a framework for nursing activities?\", document_embeddings)[:5]"
   ]
  },
  {
   "cell_type": "code",
   "execution_count": null,
   "id": "729c2ce7-8540-4ab2-bb3a-76c4dfcb689c",
   "metadata": {},
   "outputs": [
    {
     "data": {
      "text/plain": [
       "[(0.7220074131334102,\n",
       "  ('Comfort 11.6 Putting It All Together',\n",
       "   'Patient Scenario Mrs. Jamison is a 34-year-old woman admitted through the emergency department with kidney stones. As you reposition her in bed, she is visibly grimacing and audibly moaning. She rates her pain at an â\\x80\\x9c8 out of 10â\\x80\\x9d although she reports her pain has â\\x80\\x9cimprovedâ\\x80\\x9d since admission with the IV morphine delivered via PCA pump. You recheck her vital signs and her blood pressure is elevated at 150/90 and her heart rate is 120.')),\n",
       " (0.7218717329890921,\n",
       "  ('Mobility 13.4 Putting It All Together',\n",
       "   'Patient Scenario Mrs. Howard is a 73-year-old woman who was recently admitted to the medical surgical floor with pneumonia. She has an underlying history of emphysema and has experienced a recent exacerbation in dyspnea during activity. This morning when being assisted to the bathroom, she reports, â\\x80\\x9cI have to stop and catch my breath when walking.â\\x80\\x9d Vital signs this morning indicated oxygen saturation 91% and respiratory rate 18 on room air at rest. During report it was communicated that Mrs. Howard is able to ambulate with the assistance of one but only moves short distances around the room before she needs to stop and rest.')),\n",
       " (0.7165975035656361,\n",
       "  ('Integumentary 10.7 Putting It All Together',\n",
       "   'Patient Scenario Betty Pruitt is a 92-year-old female admitted to a skilled nursing facility after a fall at her daughterâ\\x80\\x99s home while transferring the patient from her bed to a wheelchair. See Figure 10.24 for an image of Betty Pruitt.â\\x80\\x9c1068481.jpgâ\\x80\\x9d by unknown is licensed under CC0Although no injury was sustained, it became clear to the family that they could no longer provide adequate care at home. Ms. Pruittâ\\x80\\x99s past medical history includes congestive heart failure, hypertension, hypercholesterolemia, and moderate stage Alzheimerâ\\x80\\x99s disease. Her cognitive ability has significantly declined over the last six months. Patientâ\\x80\\x99s speech continues to be mostly clear and at times coherent but she tends to be quiet and does not express her needs adequately, even with prompting. She no longer has the ability to ambulate but can stand for short periods of time, requiring two people to transfer. She rarely changes body position without encouragement and assistance, spending most of her days in a recliner or bed. Betty is 69 inches tall and currently weighs 122 pounds, having lost 22 pounds over the last 3 months. BMI is 18. Family reports her appetite is poor, and she eats only in small amounts at meal times with feeding assistance. She does take liquids well and shows no swallowing difficulties at this time. Betty is incontinent of urine and stool most of the time but will use the toilet if offered and given transfer help. Unknown to the family, a skin assessment revealed a Stage III pressure injury on coccyx area. Wound measures 4 cm long, 4 cm wide, 3 cm deep, with adipose tissue visible. No undermining, tunneling, bone, muscle, or tendons visible. Scant amount of yellowish purulent drainage noted. Slight foul odor, with redness, and increased heat around the wound present. A Braden Scale Risk Assessment was completed and revealed a total score of 12 (High Risk) with the following category scores: Sensory Perception-3, Moisture-2, Activity-2, Mobility-2, Nutrition-2, Friction & Shear-1.')),\n",
       " (0.7103798520629042,\n",
       "  ('Spirituality 18.6 Putting It All Together',\n",
       "   'Patient Scenario Mr. Yun is a 34-year-old man presenting to his physicianâ\\x80\\x99s office with complaints of difficulty concentrating, sadness, and anxiety. The patient recently experienced the loss of his wife in a motor vehicle accident and reports difficulty sleeping and weight loss of greater than 15 pounds in the previous month. He reports feeling â\\x80\\x9chopelessâ\\x80\\x9d and â\\x80\\x9cangry at Godâ\\x80\\x9d for the loss that he has experienced. He states he used to attend religious services with his wife, but â\\x80\\x9cThat was really more of â\\x80\\x98herâ\\x80\\x99 thing. I really donâ\\x80\\x99t know what to believe anymore.â\\x80\\x9d')),\n",
       " (0.7079130283771998,\n",
       "  ('Elimination 16.10 Putting It All Together',\n",
       "   'Patient Scenario Mrs. Jones is a 38-year-old woman who presents to the pediatrician office with her three-year-old daughter, Aubrey. Mrs. Jones explains that her daughter has been experiencing infrequent bowel movements. She states, â\\x80\\x9cAubrey only passes stool 1 to 2 times per week. She strains to pass the stool and it is dry and hard when it passes.â\\x80\\x9d Aubrey nods and says, â\\x80\\x9cMy tummy hurts a lot when that happens.â\\x80\\x9d'))]"
      ]
     },
     "execution_count": 64,
     "metadata": {},
     "output_type": "execute_result"
    }
   ],
   "source": [
    "order_document_sections_by_query_similarity(\"Who won the women's high jump?\", document_embeddings)[:5]"
   ]
  },
  {
   "cell_type": "markdown",
   "id": "3cf71fae-abb1-46b2-a483-c1b2f1a915c2",
   "metadata": {},
   "source": [
    "We can see that the most relevant document sections for each question include the summaries for the Men's and Women's high jump competitions - which is exactly what we would expect."
   ]
  },
  {
   "cell_type": "code",
   "execution_count": null,
   "id": "b763ace2-1946-48e0-8ff1-91ba335d47a0",
   "metadata": {},
   "outputs": [
    {
     "data": {
      "text/plain": [
       "'Context separator contains 3 tokens'"
      ]
     },
     "execution_count": 65,
     "metadata": {},
     "output_type": "execute_result"
    }
   ],
   "source": [
    "MAX_SECTION_LEN = 500\n",
    "SEPARATOR = \"\\n* \"\n",
    "ENCODING = \"gpt2\"  # encoding for text-davinci-003\n",
    "\n",
    "encoding = tiktoken.get_encoding(ENCODING)\n",
    "separator_len = len(encoding.encode(SEPARATOR))\n",
    "\n",
    "f\"Context separator contains {separator_len} tokens\""
   ]
  },
  {
   "cell_type": "code",
   "execution_count": null,
   "id": "0c5c0509-eeb9-4552-a5d4-6ace04ef73dd",
   "metadata": {},
   "outputs": [],
   "source": [
    "def construct_prompt(question: str, context_embeddings: dict, df: pd.DataFrame) -> str:\n",
    "    \"\"\"\n",
    "    Fetch relevant \n",
    "    \"\"\"\n",
    "    most_relevant_document_sections = order_document_sections_by_query_similarity(question, context_embeddings)\n",
    "    \n",
    "    chosen_sections = []\n",
    "    chosen_sections_len = 0\n",
    "    chosen_sections_indexes = []\n",
    "     \n",
    "    for _, section_index in most_relevant_document_sections:\n",
    "        # Add contexts until we run out of space.        \n",
    "        document_section = df.loc[section_index]\n",
    "        \n",
    "        chosen_sections_len += document_section.tokens + separator_len\n",
    "        if chosen_sections_len > MAX_SECTION_LEN:\n",
    "            break\n",
    "            \n",
    "        chosen_sections.append(SEPARATOR + document_section.content.replace(\"\\n\", \" \"))\n",
    "        chosen_sections_indexes.append(str(section_index))\n",
    "            \n",
    "    # Useful diagnostic information\n",
    "    print(f\"Selected {len(chosen_sections)} document sections:\")\n",
    "    print(\"\\n\".join(chosen_sections_indexes))\n",
    "    \n",
    "    header = \"\"\"Answer the question as truthfully as possible using the provided context, and if the answer is not contained within the text below, say \"I don't know.\"\\n\\nContext:\\n\"\"\"\n",
    "    \n",
    "    return header + \"\".join(chosen_sections) + \"\\n\\n Q: \" + question + \"\\n A:\""
   ]
  },
  {
   "cell_type": "code",
   "execution_count": null,
   "id": "f614045a-3917-4b28-9643-7e0c299ec1a7",
   "metadata": {},
   "outputs": [
    {
     "ename": "KeyError",
     "evalue": "'Fluid Imbalance Two types of fluid imbalances are excessive fluid volume (also referred to as hypervolemia) and deficient fluid volume (also referred to as hypovolemia). These imbalances primarily refer to imbalances in the extracellular compartment, but can cause fluid movement in the intracellular compartments based on the sodium level of the blood. Excessive Fluid Volume Excessive fluid volume (also referred to as hypervolemia) occurs when there is increased fluid retained in the intravascular compartment. Patients at risk for developing excessive fluid volume are those with the following conditions: Heart Failure Kidney Failure Cirrhosis PregnancyLewis, J. L., III. (June 2020). Volume overload. Merck Manual Professional Version.  Symptoms of fluid overload include pitting edema, ascites, and dyspnea and crackles from fluid in the lungs. Edema is swelling in dependent tissues due to fluid accumulation in the interstitial spaces. Ascites is fluid retained in the abdomen. Treatment depends on the cause of the fluid retention. Sodium and fluids are typically restricted and diuretics are often prescribed to eliminate the excess fluid. For more information about the nursing care of patients with excessive fluid volume, see the â\\x80\\x9cApplying the Nursing Processâ\\x80\\x9d section. Deficient Fluid Volume Deficient fluid volume (also referred to as hypovolemia or dehydration) occurs when loss of fluid is greater than fluid input. Common causes of deficient fluid volume are diarrhea, vomiting, excessive sweating, fever, and poor oral fluid intake. Individuals who have a higher risk of dehydration include the following: Older adults Infants and children Patients with chronic diseases such as diabetes mellitus and kidney disease Patients taking diuretics and other medications that cause increased urine output Individuals who exercise or work outdoors in hot weatherMedlinePlus [Internet]. Bethesda (MD): National Library of Medicine (US); Dehydration; [updated 2020, Oct 1; reviewed 2016, Apr 15; cited 2020, Aug 5].  In adults, symptoms of dehydration are as follows: Feeling very thirsty Dry mouth Headache Dry skin Urinating and sweating less than usual Dark, concentrated urine Feeling tired Changes in mental status Dizziness due to decreased blood pressure Elevated heart rateMedlinePlus [Internet]. Bethesda (MD): National Library of Medicine (US); Dehydration; [updated 2020, Oct 1; reviewed 2016, Apr 15; cited 2020, Aug 5].  In infants and young children, additional symptoms of dehydration include the following: Crying without tears No wet diapers for three hours or more Being unusually sleepy or drowsy Irritability Eyes that look sunken Sunken fontanelMedlinePlus [Internet]. Bethesda (MD): National Library of Medicine (US); Dehydration; [updated 2020, Oct 1; reviewed 2016, Apr 15; cited 2020, Aug 5].  Dehydration can be mild and treated with increased oral intake such as water or sports drinks. Severe cases can be life-threatening and require the administration of intravenous fluids. For more information about water balance and fluid movement, review the following video. Video Review of Fluid and ElectrolytesForciea, B. (2017, April 21). Fluids and electrolytes: Water. [Video]. YouTube. All rights reserved. Video used with permission.  One or more interactive elements has been excluded from this version of the text. You can view them online here: '",
     "output_type": "error",
     "traceback": [
      "\u001b[1;31m---------------------------------------------------------------------------\u001b[0m",
      "\u001b[1;31mKeyError\u001b[0m                                  Traceback (most recent call last)",
      "File \u001b[1;32mc:\\Users\\Shabeeb\\AppData\\Local\\Programs\\Python\\Python311\\Lib\\site-packages\\pandas\\core\\indexes\\base.py:3802\u001b[0m, in \u001b[0;36mIndex.get_loc\u001b[1;34m(self, key, method, tolerance)\u001b[0m\n\u001b[0;32m   3801\u001b[0m \u001b[39mtry\u001b[39;00m:\n\u001b[1;32m-> 3802\u001b[0m     \u001b[39mreturn\u001b[39;00m \u001b[39mself\u001b[39;49m\u001b[39m.\u001b[39;49m_engine\u001b[39m.\u001b[39;49mget_loc(casted_key)\n\u001b[0;32m   3803\u001b[0m \u001b[39mexcept\u001b[39;00m \u001b[39mKeyError\u001b[39;00m \u001b[39mas\u001b[39;00m err:\n",
      "File \u001b[1;32mc:\\Users\\Shabeeb\\AppData\\Local\\Programs\\Python\\Python311\\Lib\\site-packages\\pandas\\_libs\\index.pyx:138\u001b[0m, in \u001b[0;36mpandas._libs.index.IndexEngine.get_loc\u001b[1;34m()\u001b[0m\n",
      "File \u001b[1;32mc:\\Users\\Shabeeb\\AppData\\Local\\Programs\\Python\\Python311\\Lib\\site-packages\\pandas\\_libs\\index.pyx:165\u001b[0m, in \u001b[0;36mpandas._libs.index.IndexEngine.get_loc\u001b[1;34m()\u001b[0m\n",
      "File \u001b[1;32mpandas\\_libs\\hashtable_class_helper.pxi:5745\u001b[0m, in \u001b[0;36mpandas._libs.hashtable.PyObjectHashTable.get_item\u001b[1;34m()\u001b[0m\n",
      "File \u001b[1;32mpandas\\_libs\\hashtable_class_helper.pxi:5753\u001b[0m, in \u001b[0;36mpandas._libs.hashtable.PyObjectHashTable.get_item\u001b[1;34m()\u001b[0m\n",
      "\u001b[1;31mKeyError\u001b[0m: 'Fluid Imbalance Two types of fluid imbalances are excessive fluid volume (also referred to as hypervolemia) and deficient fluid volume (also referred to as hypovolemia). These imbalances primarily refer to imbalances in the extracellular compartment, but can cause fluid movement in the intracellular compartments based on the sodium level of the blood. Excessive Fluid Volume Excessive fluid volume (also referred to as hypervolemia) occurs when there is increased fluid retained in the intravascular compartment. Patients at risk for developing excessive fluid volume are those with the following conditions: Heart Failure Kidney Failure Cirrhosis PregnancyLewis, J. L., III. (June 2020). Volume overload. Merck Manual Professional Version.  Symptoms of fluid overload include pitting edema, ascites, and dyspnea and crackles from fluid in the lungs. Edema is swelling in dependent tissues due to fluid accumulation in the interstitial spaces. Ascites is fluid retained in the abdomen. Treatment depends on the cause of the fluid retention. Sodium and fluids are typically restricted and diuretics are often prescribed to eliminate the excess fluid. For more information about the nursing care of patients with excessive fluid volume, see the â\\x80\\x9cApplying the Nursing Processâ\\x80\\x9d section. Deficient Fluid Volume Deficient fluid volume (also referred to as hypovolemia or dehydration) occurs when loss of fluid is greater than fluid input. Common causes of deficient fluid volume are diarrhea, vomiting, excessive sweating, fever, and poor oral fluid intake. Individuals who have a higher risk of dehydration include the following: Older adults Infants and children Patients with chronic diseases such as diabetes mellitus and kidney disease Patients taking diuretics and other medications that cause increased urine output Individuals who exercise or work outdoors in hot weatherMedlinePlus [Internet]. Bethesda (MD): National Library of Medicine (US); Dehydration; [updated 2020, Oct 1; reviewed 2016, Apr 15; cited 2020, Aug 5].  In adults, symptoms of dehydration are as follows: Feeling very thirsty Dry mouth Headache Dry skin Urinating and sweating less than usual Dark, concentrated urine Feeling tired Changes in mental status Dizziness due to decreased blood pressure Elevated heart rateMedlinePlus [Internet]. Bethesda (MD): National Library of Medicine (US); Dehydration; [updated 2020, Oct 1; reviewed 2016, Apr 15; cited 2020, Aug 5].  In infants and young children, additional symptoms of dehydration include the following: Crying without tears No wet diapers for three hours or more Being unusually sleepy or drowsy Irritability Eyes that look sunken Sunken fontanelMedlinePlus [Internet]. Bethesda (MD): National Library of Medicine (US); Dehydration; [updated 2020, Oct 1; reviewed 2016, Apr 15; cited 2020, Aug 5].  Dehydration can be mild and treated with increased oral intake such as water or sports drinks. Severe cases can be life-threatening and require the administration of intravenous fluids. For more information about water balance and fluid movement, review the following video. Video Review of Fluid and ElectrolytesForciea, B. (2017, April 21). Fluids and electrolytes: Water. [Video]. YouTube. All rights reserved. Video used with permission.  One or more interactive elements has been excluded from this version of the text. You can view them online here: '",
      "\nThe above exception was the direct cause of the following exception:\n",
      "\u001b[1;31mKeyError\u001b[0m                                  Traceback (most recent call last)",
      "Cell \u001b[1;32mIn[67], line 1\u001b[0m\n\u001b[1;32m----> 1\u001b[0m prompt \u001b[39m=\u001b[39m construct_prompt(\n\u001b[0;32m      2\u001b[0m     \u001b[39m\"\u001b[39;49m\u001b[39mWhat are Basic Fluid and Electrolyte Concepts?\u001b[39;49m\u001b[39m\"\u001b[39;49m,\n\u001b[0;32m      3\u001b[0m     document_embeddings,\n\u001b[0;32m      4\u001b[0m     df\n\u001b[0;32m      5\u001b[0m )\n\u001b[0;32m      7\u001b[0m \u001b[39mprint\u001b[39m(\u001b[39m\"\u001b[39m\u001b[39m===\u001b[39m\u001b[39m\\n\u001b[39;00m\u001b[39m\"\u001b[39m, prompt)\n",
      "Cell \u001b[1;32mIn[66], line 13\u001b[0m, in \u001b[0;36mconstruct_prompt\u001b[1;34m(question, context_embeddings, df)\u001b[0m\n\u001b[0;32m      9\u001b[0m chosen_sections_indexes \u001b[39m=\u001b[39m []\n\u001b[0;32m     11\u001b[0m \u001b[39mfor\u001b[39;00m _, section_index \u001b[39min\u001b[39;00m most_relevant_document_sections:\n\u001b[0;32m     12\u001b[0m     \u001b[39m# Add contexts until we run out of space.        \u001b[39;00m\n\u001b[1;32m---> 13\u001b[0m     document_section \u001b[39m=\u001b[39m df\u001b[39m.\u001b[39;49mloc[section_index]\n\u001b[0;32m     15\u001b[0m     chosen_sections_len \u001b[39m+\u001b[39m\u001b[39m=\u001b[39m document_section\u001b[39m.\u001b[39mtokens \u001b[39m+\u001b[39m separator_len\n\u001b[0;32m     16\u001b[0m     \u001b[39mif\u001b[39;00m chosen_sections_len \u001b[39m>\u001b[39m MAX_SECTION_LEN:\n",
      "File \u001b[1;32mc:\\Users\\Shabeeb\\AppData\\Local\\Programs\\Python\\Python311\\Lib\\site-packages\\pandas\\core\\indexing.py:1067\u001b[0m, in \u001b[0;36m_LocationIndexer.__getitem__\u001b[1;34m(self, key)\u001b[0m\n\u001b[0;32m   1065\u001b[0m     \u001b[39mif\u001b[39;00m \u001b[39mself\u001b[39m\u001b[39m.\u001b[39m_is_scalar_access(key):\n\u001b[0;32m   1066\u001b[0m         \u001b[39mreturn\u001b[39;00m \u001b[39mself\u001b[39m\u001b[39m.\u001b[39mobj\u001b[39m.\u001b[39m_get_value(\u001b[39m*\u001b[39mkey, takeable\u001b[39m=\u001b[39m\u001b[39mself\u001b[39m\u001b[39m.\u001b[39m_takeable)\n\u001b[1;32m-> 1067\u001b[0m     \u001b[39mreturn\u001b[39;00m \u001b[39mself\u001b[39;49m\u001b[39m.\u001b[39;49m_getitem_tuple(key)\n\u001b[0;32m   1068\u001b[0m \u001b[39melse\u001b[39;00m:\n\u001b[0;32m   1069\u001b[0m     \u001b[39m# we by definition only have the 0th axis\u001b[39;00m\n\u001b[0;32m   1070\u001b[0m     axis \u001b[39m=\u001b[39m \u001b[39mself\u001b[39m\u001b[39m.\u001b[39maxis \u001b[39mor\u001b[39;00m \u001b[39m0\u001b[39m\n",
      "File \u001b[1;32mc:\\Users\\Shabeeb\\AppData\\Local\\Programs\\Python\\Python311\\Lib\\site-packages\\pandas\\core\\indexing.py:1247\u001b[0m, in \u001b[0;36m_LocIndexer._getitem_tuple\u001b[1;34m(self, tup)\u001b[0m\n\u001b[0;32m   1245\u001b[0m \u001b[39mwith\u001b[39;00m suppress(IndexingError):\n\u001b[0;32m   1246\u001b[0m     tup \u001b[39m=\u001b[39m \u001b[39mself\u001b[39m\u001b[39m.\u001b[39m_expand_ellipsis(tup)\n\u001b[1;32m-> 1247\u001b[0m     \u001b[39mreturn\u001b[39;00m \u001b[39mself\u001b[39;49m\u001b[39m.\u001b[39;49m_getitem_lowerdim(tup)\n\u001b[0;32m   1249\u001b[0m \u001b[39m# no multi-index, so validate all of the indexers\u001b[39;00m\n\u001b[0;32m   1250\u001b[0m tup \u001b[39m=\u001b[39m \u001b[39mself\u001b[39m\u001b[39m.\u001b[39m_validate_tuple_indexer(tup)\n",
      "File \u001b[1;32mc:\\Users\\Shabeeb\\AppData\\Local\\Programs\\Python\\Python311\\Lib\\site-packages\\pandas\\core\\indexing.py:991\u001b[0m, in \u001b[0;36m_LocationIndexer._getitem_lowerdim\u001b[1;34m(self, tup)\u001b[0m\n\u001b[0;32m    989\u001b[0m             \u001b[39mreturn\u001b[39;00m section\n\u001b[0;32m    990\u001b[0m         \u001b[39m# This is an elided recursive call to iloc/loc\u001b[39;00m\n\u001b[1;32m--> 991\u001b[0m         \u001b[39mreturn\u001b[39;00m \u001b[39mgetattr\u001b[39;49m(section, \u001b[39mself\u001b[39;49m\u001b[39m.\u001b[39;49mname)[new_key]\n\u001b[0;32m    993\u001b[0m \u001b[39mraise\u001b[39;00m IndexingError(\u001b[39m\"\u001b[39m\u001b[39mnot applicable\u001b[39m\u001b[39m\"\u001b[39m)\n",
      "File \u001b[1;32mc:\\Users\\Shabeeb\\AppData\\Local\\Programs\\Python\\Python311\\Lib\\site-packages\\pandas\\core\\indexing.py:1067\u001b[0m, in \u001b[0;36m_LocationIndexer.__getitem__\u001b[1;34m(self, key)\u001b[0m\n\u001b[0;32m   1065\u001b[0m     \u001b[39mif\u001b[39;00m \u001b[39mself\u001b[39m\u001b[39m.\u001b[39m_is_scalar_access(key):\n\u001b[0;32m   1066\u001b[0m         \u001b[39mreturn\u001b[39;00m \u001b[39mself\u001b[39m\u001b[39m.\u001b[39mobj\u001b[39m.\u001b[39m_get_value(\u001b[39m*\u001b[39mkey, takeable\u001b[39m=\u001b[39m\u001b[39mself\u001b[39m\u001b[39m.\u001b[39m_takeable)\n\u001b[1;32m-> 1067\u001b[0m     \u001b[39mreturn\u001b[39;00m \u001b[39mself\u001b[39;49m\u001b[39m.\u001b[39;49m_getitem_tuple(key)\n\u001b[0;32m   1068\u001b[0m \u001b[39melse\u001b[39;00m:\n\u001b[0;32m   1069\u001b[0m     \u001b[39m# we by definition only have the 0th axis\u001b[39;00m\n\u001b[0;32m   1070\u001b[0m     axis \u001b[39m=\u001b[39m \u001b[39mself\u001b[39m\u001b[39m.\u001b[39maxis \u001b[39mor\u001b[39;00m \u001b[39m0\u001b[39m\n",
      "File \u001b[1;32mc:\\Users\\Shabeeb\\AppData\\Local\\Programs\\Python\\Python311\\Lib\\site-packages\\pandas\\core\\indexing.py:1247\u001b[0m, in \u001b[0;36m_LocIndexer._getitem_tuple\u001b[1;34m(self, tup)\u001b[0m\n\u001b[0;32m   1245\u001b[0m \u001b[39mwith\u001b[39;00m suppress(IndexingError):\n\u001b[0;32m   1246\u001b[0m     tup \u001b[39m=\u001b[39m \u001b[39mself\u001b[39m\u001b[39m.\u001b[39m_expand_ellipsis(tup)\n\u001b[1;32m-> 1247\u001b[0m     \u001b[39mreturn\u001b[39;00m \u001b[39mself\u001b[39;49m\u001b[39m.\u001b[39;49m_getitem_lowerdim(tup)\n\u001b[0;32m   1249\u001b[0m \u001b[39m# no multi-index, so validate all of the indexers\u001b[39;00m\n\u001b[0;32m   1250\u001b[0m tup \u001b[39m=\u001b[39m \u001b[39mself\u001b[39m\u001b[39m.\u001b[39m_validate_tuple_indexer(tup)\n",
      "File \u001b[1;32mc:\\Users\\Shabeeb\\AppData\\Local\\Programs\\Python\\Python311\\Lib\\site-packages\\pandas\\core\\indexing.py:967\u001b[0m, in \u001b[0;36m_LocationIndexer._getitem_lowerdim\u001b[1;34m(self, tup)\u001b[0m\n\u001b[0;32m    963\u001b[0m \u001b[39mfor\u001b[39;00m i, key \u001b[39min\u001b[39;00m \u001b[39menumerate\u001b[39m(tup):\n\u001b[0;32m    964\u001b[0m     \u001b[39mif\u001b[39;00m is_label_like(key):\n\u001b[0;32m    965\u001b[0m         \u001b[39m# We don't need to check for tuples here because those are\u001b[39;00m\n\u001b[0;32m    966\u001b[0m         \u001b[39m#  caught by the _is_nested_tuple_indexer check above.\u001b[39;00m\n\u001b[1;32m--> 967\u001b[0m         section \u001b[39m=\u001b[39m \u001b[39mself\u001b[39;49m\u001b[39m.\u001b[39;49m_getitem_axis(key, axis\u001b[39m=\u001b[39;49mi)\n\u001b[0;32m    969\u001b[0m         \u001b[39m# We should never have a scalar section here, because\u001b[39;00m\n\u001b[0;32m    970\u001b[0m         \u001b[39m#  _getitem_lowerdim is only called after a check for\u001b[39;00m\n\u001b[0;32m    971\u001b[0m         \u001b[39m#  is_scalar_access, which that would be.\u001b[39;00m\n\u001b[0;32m    972\u001b[0m         \u001b[39mif\u001b[39;00m section\u001b[39m.\u001b[39mndim \u001b[39m==\u001b[39m \u001b[39mself\u001b[39m\u001b[39m.\u001b[39mndim:\n\u001b[0;32m    973\u001b[0m             \u001b[39m# we're in the middle of slicing through a MultiIndex\u001b[39;00m\n\u001b[0;32m    974\u001b[0m             \u001b[39m# revise the key wrt to `section` by inserting an _NS\u001b[39;00m\n",
      "File \u001b[1;32mc:\\Users\\Shabeeb\\AppData\\Local\\Programs\\Python\\Python311\\Lib\\site-packages\\pandas\\core\\indexing.py:1312\u001b[0m, in \u001b[0;36m_LocIndexer._getitem_axis\u001b[1;34m(self, key, axis)\u001b[0m\n\u001b[0;32m   1310\u001b[0m \u001b[39m# fall thru to straight lookup\u001b[39;00m\n\u001b[0;32m   1311\u001b[0m \u001b[39mself\u001b[39m\u001b[39m.\u001b[39m_validate_key(key, axis)\n\u001b[1;32m-> 1312\u001b[0m \u001b[39mreturn\u001b[39;00m \u001b[39mself\u001b[39;49m\u001b[39m.\u001b[39;49m_get_label(key, axis\u001b[39m=\u001b[39;49maxis)\n",
      "File \u001b[1;32mc:\\Users\\Shabeeb\\AppData\\Local\\Programs\\Python\\Python311\\Lib\\site-packages\\pandas\\core\\indexing.py:1260\u001b[0m, in \u001b[0;36m_LocIndexer._get_label\u001b[1;34m(self, label, axis)\u001b[0m\n\u001b[0;32m   1258\u001b[0m \u001b[39mdef\u001b[39;00m \u001b[39m_get_label\u001b[39m(\u001b[39mself\u001b[39m, label, axis: \u001b[39mint\u001b[39m):\n\u001b[0;32m   1259\u001b[0m     \u001b[39m# GH#5567 this will fail if the label is not present in the axis.\u001b[39;00m\n\u001b[1;32m-> 1260\u001b[0m     \u001b[39mreturn\u001b[39;00m \u001b[39mself\u001b[39;49m\u001b[39m.\u001b[39;49mobj\u001b[39m.\u001b[39;49mxs(label, axis\u001b[39m=\u001b[39;49maxis)\n",
      "File \u001b[1;32mc:\\Users\\Shabeeb\\AppData\\Local\\Programs\\Python\\Python311\\Lib\\site-packages\\pandas\\core\\generic.py:4041\u001b[0m, in \u001b[0;36mNDFrame.xs\u001b[1;34m(self, key, axis, level, drop_level)\u001b[0m\n\u001b[0;32m   4039\u001b[0m \u001b[39mif\u001b[39;00m axis \u001b[39m==\u001b[39m \u001b[39m1\u001b[39m:\n\u001b[0;32m   4040\u001b[0m     \u001b[39mif\u001b[39;00m drop_level:\n\u001b[1;32m-> 4041\u001b[0m         \u001b[39mreturn\u001b[39;00m \u001b[39mself\u001b[39;49m[key]\n\u001b[0;32m   4042\u001b[0m     index \u001b[39m=\u001b[39m \u001b[39mself\u001b[39m\u001b[39m.\u001b[39mcolumns\n\u001b[0;32m   4043\u001b[0m \u001b[39melse\u001b[39;00m:\n",
      "File \u001b[1;32mc:\\Users\\Shabeeb\\AppData\\Local\\Programs\\Python\\Python311\\Lib\\site-packages\\pandas\\core\\frame.py:3807\u001b[0m, in \u001b[0;36mDataFrame.__getitem__\u001b[1;34m(self, key)\u001b[0m\n\u001b[0;32m   3805\u001b[0m \u001b[39mif\u001b[39;00m \u001b[39mself\u001b[39m\u001b[39m.\u001b[39mcolumns\u001b[39m.\u001b[39mnlevels \u001b[39m>\u001b[39m \u001b[39m1\u001b[39m:\n\u001b[0;32m   3806\u001b[0m     \u001b[39mreturn\u001b[39;00m \u001b[39mself\u001b[39m\u001b[39m.\u001b[39m_getitem_multilevel(key)\n\u001b[1;32m-> 3807\u001b[0m indexer \u001b[39m=\u001b[39m \u001b[39mself\u001b[39;49m\u001b[39m.\u001b[39;49mcolumns\u001b[39m.\u001b[39;49mget_loc(key)\n\u001b[0;32m   3808\u001b[0m \u001b[39mif\u001b[39;00m is_integer(indexer):\n\u001b[0;32m   3809\u001b[0m     indexer \u001b[39m=\u001b[39m [indexer]\n",
      "File \u001b[1;32mc:\\Users\\Shabeeb\\AppData\\Local\\Programs\\Python\\Python311\\Lib\\site-packages\\pandas\\core\\indexes\\base.py:3804\u001b[0m, in \u001b[0;36mIndex.get_loc\u001b[1;34m(self, key, method, tolerance)\u001b[0m\n\u001b[0;32m   3802\u001b[0m     \u001b[39mreturn\u001b[39;00m \u001b[39mself\u001b[39m\u001b[39m.\u001b[39m_engine\u001b[39m.\u001b[39mget_loc(casted_key)\n\u001b[0;32m   3803\u001b[0m \u001b[39mexcept\u001b[39;00m \u001b[39mKeyError\u001b[39;00m \u001b[39mas\u001b[39;00m err:\n\u001b[1;32m-> 3804\u001b[0m     \u001b[39mraise\u001b[39;00m \u001b[39mKeyError\u001b[39;00m(key) \u001b[39mfrom\u001b[39;00m \u001b[39merr\u001b[39;00m\n\u001b[0;32m   3805\u001b[0m \u001b[39mexcept\u001b[39;00m \u001b[39mTypeError\u001b[39;00m:\n\u001b[0;32m   3806\u001b[0m     \u001b[39m# If we have a listlike key, _check_indexing_error will raise\u001b[39;00m\n\u001b[0;32m   3807\u001b[0m     \u001b[39m#  InvalidIndexError. Otherwise we fall through and re-raise\u001b[39;00m\n\u001b[0;32m   3808\u001b[0m     \u001b[39m#  the TypeError.\u001b[39;00m\n\u001b[0;32m   3809\u001b[0m     \u001b[39mself\u001b[39m\u001b[39m.\u001b[39m_check_indexing_error(key)\n",
      "\u001b[1;31mKeyError\u001b[0m: 'Fluid Imbalance Two types of fluid imbalances are excessive fluid volume (also referred to as hypervolemia) and deficient fluid volume (also referred to as hypovolemia). These imbalances primarily refer to imbalances in the extracellular compartment, but can cause fluid movement in the intracellular compartments based on the sodium level of the blood. Excessive Fluid Volume Excessive fluid volume (also referred to as hypervolemia) occurs when there is increased fluid retained in the intravascular compartment. Patients at risk for developing excessive fluid volume are those with the following conditions: Heart Failure Kidney Failure Cirrhosis PregnancyLewis, J. L., III. (June 2020). Volume overload. Merck Manual Professional Version.  Symptoms of fluid overload include pitting edema, ascites, and dyspnea and crackles from fluid in the lungs. Edema is swelling in dependent tissues due to fluid accumulation in the interstitial spaces. Ascites is fluid retained in the abdomen. Treatment depends on the cause of the fluid retention. Sodium and fluids are typically restricted and diuretics are often prescribed to eliminate the excess fluid. For more information about the nursing care of patients with excessive fluid volume, see the â\\x80\\x9cApplying the Nursing Processâ\\x80\\x9d section. Deficient Fluid Volume Deficient fluid volume (also referred to as hypovolemia or dehydration) occurs when loss of fluid is greater than fluid input. Common causes of deficient fluid volume are diarrhea, vomiting, excessive sweating, fever, and poor oral fluid intake. Individuals who have a higher risk of dehydration include the following: Older adults Infants and children Patients with chronic diseases such as diabetes mellitus and kidney disease Patients taking diuretics and other medications that cause increased urine output Individuals who exercise or work outdoors in hot weatherMedlinePlus [Internet]. Bethesda (MD): National Library of Medicine (US); Dehydration; [updated 2020, Oct 1; reviewed 2016, Apr 15; cited 2020, Aug 5].  In adults, symptoms of dehydration are as follows: Feeling very thirsty Dry mouth Headache Dry skin Urinating and sweating less than usual Dark, concentrated urine Feeling tired Changes in mental status Dizziness due to decreased blood pressure Elevated heart rateMedlinePlus [Internet]. Bethesda (MD): National Library of Medicine (US); Dehydration; [updated 2020, Oct 1; reviewed 2016, Apr 15; cited 2020, Aug 5].  In infants and young children, additional symptoms of dehydration include the following: Crying without tears No wet diapers for three hours or more Being unusually sleepy or drowsy Irritability Eyes that look sunken Sunken fontanelMedlinePlus [Internet]. Bethesda (MD): National Library of Medicine (US); Dehydration; [updated 2020, Oct 1; reviewed 2016, Apr 15; cited 2020, Aug 5].  Dehydration can be mild and treated with increased oral intake such as water or sports drinks. Severe cases can be life-threatening and require the administration of intravenous fluids. For more information about water balance and fluid movement, review the following video. Video Review of Fluid and ElectrolytesForciea, B. (2017, April 21). Fluids and electrolytes: Water. [Video]. YouTube. All rights reserved. Video used with permission.  One or more interactive elements has been excluded from this version of the text. You can view them online here: '"
     ]
    }
   ],
   "source": [
    "prompt = construct_prompt(\n",
    "    \"What are Basic Fluid and Electrolyte Concepts?\",\n",
    "    document_embeddings,\n",
    "    df\n",
    ")\n",
    "\n",
    "print(\"===\\n\", prompt)"
   ]
  },
  {
   "cell_type": "code",
   "execution_count": null,
   "id": "b0edfec7-9243-4573-92e0-253d31c771ad",
   "metadata": {},
   "outputs": [],
   "source": [
    "COMPLETIONS_API_PARAMS = {\n",
    "    # We use temperature of 0.0 because it gives the most predictable, factual answer.\n",
    "    \"temperature\": 0.0,\n",
    "    \"max_tokens\": 300,\n",
    "    \"model\": COMPLETIONS_MODEL,\n",
    "}"
   ]
  },
  {
   "cell_type": "code",
   "execution_count": null,
   "id": "9c1c9a69-848e-4099-a90d-c8da36c153d5",
   "metadata": {},
   "outputs": [],
   "source": [
    "def answer_query_with_context(\n",
    "    query: str,\n",
    "    df: pd.DataFrame,\n",
    "    document_embeddings: dict[(str, str), np.array],\n",
    "    show_prompt: bool = False\n",
    ") -> str:\n",
    "    prompt = construct_prompt(\n",
    "        query,\n",
    "        document_embeddings,\n",
    "        df\n",
    "    )\n",
    "    \n",
    "    if show_prompt:\n",
    "        print(prompt)\n",
    "\n",
    "    response = openai.Completion.create(\n",
    "                prompt=prompt,\n",
    "                **COMPLETIONS_API_PARAMS\n",
    "            )\n",
    "\n",
    "    return response[\"choices\"][0][\"text\"].strip(\" \\n\")"
   ]
  },
  {
   "cell_type": "code",
   "execution_count": 81,
   "id": "c233e449-bf33-4c9e-b095-6a4dd278c8fd",
   "metadata": {},
   "outputs": [
    {
     "ename": "KeyError",
     "evalue": "'Learning Objectives Assess factors that put patients at risk for problems with sleep Identify factors related to sleep/rest across the life span Recognize characteristics of sleep deprivation Consider the use of nonpharmacological measures to promote sleep and rest Identify evidence-based practices Maslowâ\\x80\\x99s hierarchy of needs indicates sleep as one of our physiological requirements. Getting enough quality sleep at the right times according to our circadian rhythms can protect mental and physical health, safety, and quality of life. Conversely, chronic sleep deficiency increases the risk of heart disease, kidney disease, high blood pressure, diabetes, and stroke, as well as weakening the immune system.Trossman, S. (2018, November 7). Nurses offer strategies to promote patientsâ\\x80\\x99 rest and sleep. American Nurse.  This chapter will review the physiology of sleep and common sleep disorders, as well as interventions to promote good sleep.'",
     "output_type": "error",
     "traceback": [
      "\u001b[1;31m---------------------------------------------------------------------------\u001b[0m",
      "\u001b[1;31mKeyError\u001b[0m                                  Traceback (most recent call last)",
      "File \u001b[1;32mc:\\Users\\Shabeeb\\AppData\\Local\\Programs\\Python\\Python311\\Lib\\site-packages\\pandas\\core\\indexes\\base.py:3802\u001b[0m, in \u001b[0;36mIndex.get_loc\u001b[1;34m(self, key, method, tolerance)\u001b[0m\n\u001b[0;32m   3801\u001b[0m \u001b[39mtry\u001b[39;00m:\n\u001b[1;32m-> 3802\u001b[0m     \u001b[39mreturn\u001b[39;00m \u001b[39mself\u001b[39;49m\u001b[39m.\u001b[39;49m_engine\u001b[39m.\u001b[39;49mget_loc(casted_key)\n\u001b[0;32m   3803\u001b[0m \u001b[39mexcept\u001b[39;00m \u001b[39mKeyError\u001b[39;00m \u001b[39mas\u001b[39;00m err:\n",
      "File \u001b[1;32mc:\\Users\\Shabeeb\\AppData\\Local\\Programs\\Python\\Python311\\Lib\\site-packages\\pandas\\_libs\\index.pyx:138\u001b[0m, in \u001b[0;36mpandas._libs.index.IndexEngine.get_loc\u001b[1;34m()\u001b[0m\n",
      "File \u001b[1;32mc:\\Users\\Shabeeb\\AppData\\Local\\Programs\\Python\\Python311\\Lib\\site-packages\\pandas\\_libs\\index.pyx:165\u001b[0m, in \u001b[0;36mpandas._libs.index.IndexEngine.get_loc\u001b[1;34m()\u001b[0m\n",
      "File \u001b[1;32mpandas\\_libs\\hashtable_class_helper.pxi:5745\u001b[0m, in \u001b[0;36mpandas._libs.hashtable.PyObjectHashTable.get_item\u001b[1;34m()\u001b[0m\n",
      "File \u001b[1;32mpandas\\_libs\\hashtable_class_helper.pxi:5753\u001b[0m, in \u001b[0;36mpandas._libs.hashtable.PyObjectHashTable.get_item\u001b[1;34m()\u001b[0m\n",
      "\u001b[1;31mKeyError\u001b[0m: 'Learning Objectives Assess factors that put patients at risk for problems with sleep Identify factors related to sleep/rest across the life span Recognize characteristics of sleep deprivation Consider the use of nonpharmacological measures to promote sleep and rest Identify evidence-based practices Maslowâ\\x80\\x99s hierarchy of needs indicates sleep as one of our physiological requirements. Getting enough quality sleep at the right times according to our circadian rhythms can protect mental and physical health, safety, and quality of life. Conversely, chronic sleep deficiency increases the risk of heart disease, kidney disease, high blood pressure, diabetes, and stroke, as well as weakening the immune system.Trossman, S. (2018, November 7). Nurses offer strategies to promote patientsâ\\x80\\x99 rest and sleep. American Nurse.  This chapter will review the physiology of sleep and common sleep disorders, as well as interventions to promote good sleep.'",
      "\nThe above exception was the direct cause of the following exception:\n",
      "\u001b[1;31mKeyError\u001b[0m                                  Traceback (most recent call last)",
      "Cell \u001b[1;32mIn[81], line 1\u001b[0m\n\u001b[1;32m----> 1\u001b[0m answer_query_with_context(\u001b[39m\"\u001b[39;49m\u001b[39mWhat is Sleep & Rest Introduction?\u001b[39;49m\u001b[39m\"\u001b[39;49m, df, document_embeddings)\n",
      "Cell \u001b[1;32mIn[69], line 7\u001b[0m, in \u001b[0;36manswer_query_with_context\u001b[1;34m(query, df, document_embeddings, show_prompt)\u001b[0m\n\u001b[0;32m      1\u001b[0m \u001b[39mdef\u001b[39;00m \u001b[39manswer_query_with_context\u001b[39m(\n\u001b[0;32m      2\u001b[0m     query: \u001b[39mstr\u001b[39m,\n\u001b[0;32m      3\u001b[0m     df: pd\u001b[39m.\u001b[39mDataFrame,\n\u001b[0;32m      4\u001b[0m     document_embeddings: \u001b[39mdict\u001b[39m[(\u001b[39mstr\u001b[39m, \u001b[39mstr\u001b[39m), np\u001b[39m.\u001b[39marray],\n\u001b[0;32m      5\u001b[0m     show_prompt: \u001b[39mbool\u001b[39m \u001b[39m=\u001b[39m \u001b[39mFalse\u001b[39;00m\n\u001b[0;32m      6\u001b[0m ) \u001b[39m-\u001b[39m\u001b[39m>\u001b[39m \u001b[39mstr\u001b[39m:\n\u001b[1;32m----> 7\u001b[0m     prompt \u001b[39m=\u001b[39m construct_prompt(\n\u001b[0;32m      8\u001b[0m         query,\n\u001b[0;32m      9\u001b[0m         document_embeddings,\n\u001b[0;32m     10\u001b[0m         df\n\u001b[0;32m     11\u001b[0m     )\n\u001b[0;32m     13\u001b[0m     \u001b[39mif\u001b[39;00m show_prompt:\n\u001b[0;32m     14\u001b[0m         \u001b[39mprint\u001b[39m(prompt)\n",
      "Cell \u001b[1;32mIn[66], line 13\u001b[0m, in \u001b[0;36mconstruct_prompt\u001b[1;34m(question, context_embeddings, df)\u001b[0m\n\u001b[0;32m      9\u001b[0m chosen_sections_indexes \u001b[39m=\u001b[39m []\n\u001b[0;32m     11\u001b[0m \u001b[39mfor\u001b[39;00m _, section_index \u001b[39min\u001b[39;00m most_relevant_document_sections:\n\u001b[0;32m     12\u001b[0m     \u001b[39m# Add contexts until we run out of space.        \u001b[39;00m\n\u001b[1;32m---> 13\u001b[0m     document_section \u001b[39m=\u001b[39m df\u001b[39m.\u001b[39;49mloc[section_index]\n\u001b[0;32m     15\u001b[0m     chosen_sections_len \u001b[39m+\u001b[39m\u001b[39m=\u001b[39m document_section\u001b[39m.\u001b[39mtokens \u001b[39m+\u001b[39m separator_len\n\u001b[0;32m     16\u001b[0m     \u001b[39mif\u001b[39;00m chosen_sections_len \u001b[39m>\u001b[39m MAX_SECTION_LEN:\n",
      "File \u001b[1;32mc:\\Users\\Shabeeb\\AppData\\Local\\Programs\\Python\\Python311\\Lib\\site-packages\\pandas\\core\\indexing.py:1067\u001b[0m, in \u001b[0;36m_LocationIndexer.__getitem__\u001b[1;34m(self, key)\u001b[0m\n\u001b[0;32m   1065\u001b[0m     \u001b[39mif\u001b[39;00m \u001b[39mself\u001b[39m\u001b[39m.\u001b[39m_is_scalar_access(key):\n\u001b[0;32m   1066\u001b[0m         \u001b[39mreturn\u001b[39;00m \u001b[39mself\u001b[39m\u001b[39m.\u001b[39mobj\u001b[39m.\u001b[39m_get_value(\u001b[39m*\u001b[39mkey, takeable\u001b[39m=\u001b[39m\u001b[39mself\u001b[39m\u001b[39m.\u001b[39m_takeable)\n\u001b[1;32m-> 1067\u001b[0m     \u001b[39mreturn\u001b[39;00m \u001b[39mself\u001b[39;49m\u001b[39m.\u001b[39;49m_getitem_tuple(key)\n\u001b[0;32m   1068\u001b[0m \u001b[39melse\u001b[39;00m:\n\u001b[0;32m   1069\u001b[0m     \u001b[39m# we by definition only have the 0th axis\u001b[39;00m\n\u001b[0;32m   1070\u001b[0m     axis \u001b[39m=\u001b[39m \u001b[39mself\u001b[39m\u001b[39m.\u001b[39maxis \u001b[39mor\u001b[39;00m \u001b[39m0\u001b[39m\n",
      "File \u001b[1;32mc:\\Users\\Shabeeb\\AppData\\Local\\Programs\\Python\\Python311\\Lib\\site-packages\\pandas\\core\\indexing.py:1247\u001b[0m, in \u001b[0;36m_LocIndexer._getitem_tuple\u001b[1;34m(self, tup)\u001b[0m\n\u001b[0;32m   1245\u001b[0m \u001b[39mwith\u001b[39;00m suppress(IndexingError):\n\u001b[0;32m   1246\u001b[0m     tup \u001b[39m=\u001b[39m \u001b[39mself\u001b[39m\u001b[39m.\u001b[39m_expand_ellipsis(tup)\n\u001b[1;32m-> 1247\u001b[0m     \u001b[39mreturn\u001b[39;00m \u001b[39mself\u001b[39;49m\u001b[39m.\u001b[39;49m_getitem_lowerdim(tup)\n\u001b[0;32m   1249\u001b[0m \u001b[39m# no multi-index, so validate all of the indexers\u001b[39;00m\n\u001b[0;32m   1250\u001b[0m tup \u001b[39m=\u001b[39m \u001b[39mself\u001b[39m\u001b[39m.\u001b[39m_validate_tuple_indexer(tup)\n",
      "File \u001b[1;32mc:\\Users\\Shabeeb\\AppData\\Local\\Programs\\Python\\Python311\\Lib\\site-packages\\pandas\\core\\indexing.py:991\u001b[0m, in \u001b[0;36m_LocationIndexer._getitem_lowerdim\u001b[1;34m(self, tup)\u001b[0m\n\u001b[0;32m    989\u001b[0m             \u001b[39mreturn\u001b[39;00m section\n\u001b[0;32m    990\u001b[0m         \u001b[39m# This is an elided recursive call to iloc/loc\u001b[39;00m\n\u001b[1;32m--> 991\u001b[0m         \u001b[39mreturn\u001b[39;00m \u001b[39mgetattr\u001b[39;49m(section, \u001b[39mself\u001b[39;49m\u001b[39m.\u001b[39;49mname)[new_key]\n\u001b[0;32m    993\u001b[0m \u001b[39mraise\u001b[39;00m IndexingError(\u001b[39m\"\u001b[39m\u001b[39mnot applicable\u001b[39m\u001b[39m\"\u001b[39m)\n",
      "File \u001b[1;32mc:\\Users\\Shabeeb\\AppData\\Local\\Programs\\Python\\Python311\\Lib\\site-packages\\pandas\\core\\indexing.py:1067\u001b[0m, in \u001b[0;36m_LocationIndexer.__getitem__\u001b[1;34m(self, key)\u001b[0m\n\u001b[0;32m   1065\u001b[0m     \u001b[39mif\u001b[39;00m \u001b[39mself\u001b[39m\u001b[39m.\u001b[39m_is_scalar_access(key):\n\u001b[0;32m   1066\u001b[0m         \u001b[39mreturn\u001b[39;00m \u001b[39mself\u001b[39m\u001b[39m.\u001b[39mobj\u001b[39m.\u001b[39m_get_value(\u001b[39m*\u001b[39mkey, takeable\u001b[39m=\u001b[39m\u001b[39mself\u001b[39m\u001b[39m.\u001b[39m_takeable)\n\u001b[1;32m-> 1067\u001b[0m     \u001b[39mreturn\u001b[39;00m \u001b[39mself\u001b[39;49m\u001b[39m.\u001b[39;49m_getitem_tuple(key)\n\u001b[0;32m   1068\u001b[0m \u001b[39melse\u001b[39;00m:\n\u001b[0;32m   1069\u001b[0m     \u001b[39m# we by definition only have the 0th axis\u001b[39;00m\n\u001b[0;32m   1070\u001b[0m     axis \u001b[39m=\u001b[39m \u001b[39mself\u001b[39m\u001b[39m.\u001b[39maxis \u001b[39mor\u001b[39;00m \u001b[39m0\u001b[39m\n",
      "File \u001b[1;32mc:\\Users\\Shabeeb\\AppData\\Local\\Programs\\Python\\Python311\\Lib\\site-packages\\pandas\\core\\indexing.py:1247\u001b[0m, in \u001b[0;36m_LocIndexer._getitem_tuple\u001b[1;34m(self, tup)\u001b[0m\n\u001b[0;32m   1245\u001b[0m \u001b[39mwith\u001b[39;00m suppress(IndexingError):\n\u001b[0;32m   1246\u001b[0m     tup \u001b[39m=\u001b[39m \u001b[39mself\u001b[39m\u001b[39m.\u001b[39m_expand_ellipsis(tup)\n\u001b[1;32m-> 1247\u001b[0m     \u001b[39mreturn\u001b[39;00m \u001b[39mself\u001b[39;49m\u001b[39m.\u001b[39;49m_getitem_lowerdim(tup)\n\u001b[0;32m   1249\u001b[0m \u001b[39m# no multi-index, so validate all of the indexers\u001b[39;00m\n\u001b[0;32m   1250\u001b[0m tup \u001b[39m=\u001b[39m \u001b[39mself\u001b[39m\u001b[39m.\u001b[39m_validate_tuple_indexer(tup)\n",
      "File \u001b[1;32mc:\\Users\\Shabeeb\\AppData\\Local\\Programs\\Python\\Python311\\Lib\\site-packages\\pandas\\core\\indexing.py:967\u001b[0m, in \u001b[0;36m_LocationIndexer._getitem_lowerdim\u001b[1;34m(self, tup)\u001b[0m\n\u001b[0;32m    963\u001b[0m \u001b[39mfor\u001b[39;00m i, key \u001b[39min\u001b[39;00m \u001b[39menumerate\u001b[39m(tup):\n\u001b[0;32m    964\u001b[0m     \u001b[39mif\u001b[39;00m is_label_like(key):\n\u001b[0;32m    965\u001b[0m         \u001b[39m# We don't need to check for tuples here because those are\u001b[39;00m\n\u001b[0;32m    966\u001b[0m         \u001b[39m#  caught by the _is_nested_tuple_indexer check above.\u001b[39;00m\n\u001b[1;32m--> 967\u001b[0m         section \u001b[39m=\u001b[39m \u001b[39mself\u001b[39;49m\u001b[39m.\u001b[39;49m_getitem_axis(key, axis\u001b[39m=\u001b[39;49mi)\n\u001b[0;32m    969\u001b[0m         \u001b[39m# We should never have a scalar section here, because\u001b[39;00m\n\u001b[0;32m    970\u001b[0m         \u001b[39m#  _getitem_lowerdim is only called after a check for\u001b[39;00m\n\u001b[0;32m    971\u001b[0m         \u001b[39m#  is_scalar_access, which that would be.\u001b[39;00m\n\u001b[0;32m    972\u001b[0m         \u001b[39mif\u001b[39;00m section\u001b[39m.\u001b[39mndim \u001b[39m==\u001b[39m \u001b[39mself\u001b[39m\u001b[39m.\u001b[39mndim:\n\u001b[0;32m    973\u001b[0m             \u001b[39m# we're in the middle of slicing through a MultiIndex\u001b[39;00m\n\u001b[0;32m    974\u001b[0m             \u001b[39m# revise the key wrt to `section` by inserting an _NS\u001b[39;00m\n",
      "File \u001b[1;32mc:\\Users\\Shabeeb\\AppData\\Local\\Programs\\Python\\Python311\\Lib\\site-packages\\pandas\\core\\indexing.py:1312\u001b[0m, in \u001b[0;36m_LocIndexer._getitem_axis\u001b[1;34m(self, key, axis)\u001b[0m\n\u001b[0;32m   1310\u001b[0m \u001b[39m# fall thru to straight lookup\u001b[39;00m\n\u001b[0;32m   1311\u001b[0m \u001b[39mself\u001b[39m\u001b[39m.\u001b[39m_validate_key(key, axis)\n\u001b[1;32m-> 1312\u001b[0m \u001b[39mreturn\u001b[39;00m \u001b[39mself\u001b[39;49m\u001b[39m.\u001b[39;49m_get_label(key, axis\u001b[39m=\u001b[39;49maxis)\n",
      "File \u001b[1;32mc:\\Users\\Shabeeb\\AppData\\Local\\Programs\\Python\\Python311\\Lib\\site-packages\\pandas\\core\\indexing.py:1260\u001b[0m, in \u001b[0;36m_LocIndexer._get_label\u001b[1;34m(self, label, axis)\u001b[0m\n\u001b[0;32m   1258\u001b[0m \u001b[39mdef\u001b[39;00m \u001b[39m_get_label\u001b[39m(\u001b[39mself\u001b[39m, label, axis: \u001b[39mint\u001b[39m):\n\u001b[0;32m   1259\u001b[0m     \u001b[39m# GH#5567 this will fail if the label is not present in the axis.\u001b[39;00m\n\u001b[1;32m-> 1260\u001b[0m     \u001b[39mreturn\u001b[39;00m \u001b[39mself\u001b[39;49m\u001b[39m.\u001b[39;49mobj\u001b[39m.\u001b[39;49mxs(label, axis\u001b[39m=\u001b[39;49maxis)\n",
      "File \u001b[1;32mc:\\Users\\Shabeeb\\AppData\\Local\\Programs\\Python\\Python311\\Lib\\site-packages\\pandas\\core\\generic.py:4041\u001b[0m, in \u001b[0;36mNDFrame.xs\u001b[1;34m(self, key, axis, level, drop_level)\u001b[0m\n\u001b[0;32m   4039\u001b[0m \u001b[39mif\u001b[39;00m axis \u001b[39m==\u001b[39m \u001b[39m1\u001b[39m:\n\u001b[0;32m   4040\u001b[0m     \u001b[39mif\u001b[39;00m drop_level:\n\u001b[1;32m-> 4041\u001b[0m         \u001b[39mreturn\u001b[39;00m \u001b[39mself\u001b[39;49m[key]\n\u001b[0;32m   4042\u001b[0m     index \u001b[39m=\u001b[39m \u001b[39mself\u001b[39m\u001b[39m.\u001b[39mcolumns\n\u001b[0;32m   4043\u001b[0m \u001b[39melse\u001b[39;00m:\n",
      "File \u001b[1;32mc:\\Users\\Shabeeb\\AppData\\Local\\Programs\\Python\\Python311\\Lib\\site-packages\\pandas\\core\\frame.py:3807\u001b[0m, in \u001b[0;36mDataFrame.__getitem__\u001b[1;34m(self, key)\u001b[0m\n\u001b[0;32m   3805\u001b[0m \u001b[39mif\u001b[39;00m \u001b[39mself\u001b[39m\u001b[39m.\u001b[39mcolumns\u001b[39m.\u001b[39mnlevels \u001b[39m>\u001b[39m \u001b[39m1\u001b[39m:\n\u001b[0;32m   3806\u001b[0m     \u001b[39mreturn\u001b[39;00m \u001b[39mself\u001b[39m\u001b[39m.\u001b[39m_getitem_multilevel(key)\n\u001b[1;32m-> 3807\u001b[0m indexer \u001b[39m=\u001b[39m \u001b[39mself\u001b[39;49m\u001b[39m.\u001b[39;49mcolumns\u001b[39m.\u001b[39;49mget_loc(key)\n\u001b[0;32m   3808\u001b[0m \u001b[39mif\u001b[39;00m is_integer(indexer):\n\u001b[0;32m   3809\u001b[0m     indexer \u001b[39m=\u001b[39m [indexer]\n",
      "File \u001b[1;32mc:\\Users\\Shabeeb\\AppData\\Local\\Programs\\Python\\Python311\\Lib\\site-packages\\pandas\\core\\indexes\\base.py:3804\u001b[0m, in \u001b[0;36mIndex.get_loc\u001b[1;34m(self, key, method, tolerance)\u001b[0m\n\u001b[0;32m   3802\u001b[0m     \u001b[39mreturn\u001b[39;00m \u001b[39mself\u001b[39m\u001b[39m.\u001b[39m_engine\u001b[39m.\u001b[39mget_loc(casted_key)\n\u001b[0;32m   3803\u001b[0m \u001b[39mexcept\u001b[39;00m \u001b[39mKeyError\u001b[39;00m \u001b[39mas\u001b[39;00m err:\n\u001b[1;32m-> 3804\u001b[0m     \u001b[39mraise\u001b[39;00m \u001b[39mKeyError\u001b[39;00m(key) \u001b[39mfrom\u001b[39;00m \u001b[39merr\u001b[39;00m\n\u001b[0;32m   3805\u001b[0m \u001b[39mexcept\u001b[39;00m \u001b[39mTypeError\u001b[39;00m:\n\u001b[0;32m   3806\u001b[0m     \u001b[39m# If we have a listlike key, _check_indexing_error will raise\u001b[39;00m\n\u001b[0;32m   3807\u001b[0m     \u001b[39m#  InvalidIndexError. Otherwise we fall through and re-raise\u001b[39;00m\n\u001b[0;32m   3808\u001b[0m     \u001b[39m#  the TypeError.\u001b[39;00m\n\u001b[0;32m   3809\u001b[0m     \u001b[39mself\u001b[39m\u001b[39m.\u001b[39m_check_indexing_error(key)\n",
      "\u001b[1;31mKeyError\u001b[0m: 'Learning Objectives Assess factors that put patients at risk for problems with sleep Identify factors related to sleep/rest across the life span Recognize characteristics of sleep deprivation Consider the use of nonpharmacological measures to promote sleep and rest Identify evidence-based practices Maslowâ\\x80\\x99s hierarchy of needs indicates sleep as one of our physiological requirements. Getting enough quality sleep at the right times according to our circadian rhythms can protect mental and physical health, safety, and quality of life. Conversely, chronic sleep deficiency increases the risk of heart disease, kidney disease, high blood pressure, diabetes, and stroke, as well as weakening the immune system.Trossman, S. (2018, November 7). Nurses offer strategies to promote patientsâ\\x80\\x99 rest and sleep. American Nurse.  This chapter will review the physiology of sleep and common sleep disorders, as well as interventions to promote good sleep.'"
     ]
    }
   ],
   "source": [
    "answer_query_with_context(\"What is Sleep & Rest Introduction?\", df, document_embeddings)"
   ]
  },
  {
   "cell_type": "code",
   "execution_count": null,
   "id": "1127867b-2884-44bb-9439-0e8ae171c835",
   "metadata": {},
   "outputs": [
    {
     "name": "stdout",
     "output_type": "stream",
     "text": [
      "Selected 1 document sections:\n",
      "('Scope of Practice 1.4 Health Care Settings & Team', 'Health Care Settings There are several levels of health care including primary, secondary, and tertiary care. Each of these levels focuses on different aspects of health care and is typically provided in different settings. Primary Care Primary care promotes wellness and prevents disease. This care includes health promotion, education, protection (such as immunizations), early disease screening, and environmental considerations. Settings providing this type of health care include physician offices, public health clinics, school nursing, and community health nursing. Secondary care Secondary care occurs when a person has contracted an illness or injury and requires medical care. Secondary care is often referred to as acute care. Secondary care can range from uncomplicated care to repair a small laceration or treat a strep throat infection to more complicated emergent care such as treating a head injury sustained in an automobile accident. Whatever the problem, the patient needs medical and nursing attention to return to a state of health and wellness. Secondary care is provided in settings such as physician offices, clinics, urgent care facilities, or hospitals. Specialized units include areas such as burn care, neurosurgery, cardiac surgery, and transplant services. Tertiary Care Tertiary care addresses the long-term effects from chronic illnesses or conditions with the purpose to restore a patientâ\\x80\\x99s maximum physical and mental function. The goal of tertiary care is to achieve the highest level of functioning possible while managing the chronic illness. For example, a patient who falls and fractures their hip will need secondary care to set the broken bones, but may need tertiary care to regain their strength and ability to walk even after the bones have healed. Patients with incurable diseases, such as dementia, may need specialized tertiary care to provide support they need for daily functioning. Tertiary care settings include rehabilitation units, assisted living facilities, adult day care, skilled nursing units, home care, and hospice centers.')\n",
      "\n",
      "Q: What is secondary care in the medical field and in what types of settings is it typically provided?\n",
      "A: Secondary care occurs when a person has contracted an illness or injury and requires medical care. Secondary care is often referred to as acute care. Secondary care can range from uncomplicated care to repair a small laceration or treat a strep throat infection to more complicated emergent care such as treating a head injury sustained in an automobile accident. Settings providing this type of health care include physician offices, clinics, urgent care facilities, or hospitals.\n"
     ]
    }
   ],
   "source": [
    "query = \"What is secondary care in the medical field and in what types of settings is it typically provided?\"\n",
    "answer = answer_query_with_context(query, df, document_embeddings)\n",
    "\n",
    "print(f\"\\nQ: {query}\\nA: {answer}\")"
   ]
  },
  {
   "cell_type": "code",
   "execution_count": null,
   "id": "720d9e0b-b189-4101-91ee-babf736199e6",
   "metadata": {},
   "outputs": [
    {
     "name": "stdout",
     "output_type": "stream",
     "text": [
      "Selected 2 document sections:\n",
      "('Spirituality 18.6 Putting It All Together', 'Patient Scenario Mr. Yun is a 34-year-old man presenting to his physicianâ\\x80\\x99s office with complaints of difficulty concentrating, sadness, and anxiety. The patient recently experienced the loss of his wife in a motor vehicle accident and reports difficulty sleeping and weight loss of greater than 15 pounds in the previous month. He reports feeling â\\x80\\x9chopelessâ\\x80\\x9d and â\\x80\\x9cangry at Godâ\\x80\\x9d for the loss that he has experienced. He states he used to attend religious services with his wife, but â\\x80\\x9cThat was really more of â\\x80\\x98herâ\\x80\\x99 thing. I really donâ\\x80\\x99t know what to believe anymore.â\\x80\\x9d')\n",
      "('Grief and Loss 17.7 Putting It All Together', 'Patient Scenario Mr. Yun is a 34-year-old man presenting to his physicianâ\\x80\\x99s office for a follow-up visit. The patient recently experienced the loss of his wife in a motor vehicle accident and reports, â\\x80\\x9cI have problems concentrating and I canâ\\x80\\x99t sleep at night.â\\x80\\x9d The patient chart indicates he has lost 15 pounds since his previous visit last month. He reports, â\\x80\\x9cI have a hard time getting out of bed in the morning.â\\x80\\x9d On further questioning, heÂ\\xa0 admits drinking 5-6 alcoholic beverages every night to â\\x80\\x9cnumb myself.â\\x80\\x9d')\n",
      "\n",
      "Q: In the 2020 Summer Olympics, how many gold medals did the country which won the most medals win?\n",
      "A: I don't know.\n"
     ]
    }
   ],
   "source": [
    "query = \"In the 2020 Summer Olympics, how many gold medals did the country which won the most medals win?\"\n",
    "answer = answer_query_with_context(query, df, document_embeddings)\n",
    "\n",
    "print(f\"\\nQ: {query}\\nA: {answer}\")"
   ]
  },
  {
   "cell_type": "code",
   "execution_count": null,
   "id": "4e8e51cc-e4eb-4557-9e09-2929d4df5b7f",
   "metadata": {},
   "outputs": [
    {
     "name": "stdout",
     "output_type": "stream",
     "text": [
      "Selected 2 document sections:\n",
      "('Spirituality 18.6 Putting It All Together', 'Patient Scenario Mr. Yun is a 34-year-old man presenting to his physicianâ\\x80\\x99s office with complaints of difficulty concentrating, sadness, and anxiety. The patient recently experienced the loss of his wife in a motor vehicle accident and reports difficulty sleeping and weight loss of greater than 15 pounds in the previous month. He reports feeling â\\x80\\x9chopelessâ\\x80\\x9d and â\\x80\\x9cangry at Godâ\\x80\\x9d for the loss that he has experienced. He states he used to attend religious services with his wife, but â\\x80\\x9cThat was really more of â\\x80\\x98herâ\\x80\\x99 thing. I really donâ\\x80\\x99t know what to believe anymore.â\\x80\\x9d')\n",
      "('Grief and Loss 17.7 Putting It All Together', 'Patient Scenario Mr. Yun is a 34-year-old man presenting to his physicianâ\\x80\\x99s office for a follow-up visit. The patient recently experienced the loss of his wife in a motor vehicle accident and reports, â\\x80\\x9cI have problems concentrating and I canâ\\x80\\x99t sleep at night.â\\x80\\x9d The patient chart indicates he has lost 15 pounds since his previous visit last month. He reports, â\\x80\\x9cI have a hard time getting out of bed in the morning.â\\x80\\x9d On further questioning, heÂ\\xa0 admits drinking 5-6 alcoholic beverages every night to â\\x80\\x9cnumb myself.â\\x80\\x9d')\n",
      "\n",
      "Q: What was unusual about the men’s shotput competition?\n",
      "A: I don't know.\n"
     ]
    }
   ],
   "source": [
    "query = \"What was unusual about the men’s shotput competition?\"\n",
    "answer = answer_query_with_context(query, df, document_embeddings)\n",
    "\n",
    "print(f\"\\nQ: {query}\\nA: {answer}\")"
   ]
  },
  {
   "cell_type": "code",
   "execution_count": null,
   "id": "37c83519-e3c6-4c44-8b4a-98cbb3a5f5ba",
   "metadata": {},
   "outputs": [
    {
     "name": "stdout",
     "output_type": "stream",
     "text": [
      "Selected 3 document sections:\n",
      "('Sleep and Rest 12.4 Putting It All Together', 'Patient Scenario Mrs. Salvo is a 65-year-old woman admitted to the hospital for a gastrointestinal (GI) bleed. She has been hospitalized for three days on the medical surgical floor. During this time, she has received four units of PRBCs, has undergone a colonoscopy, upper GI series, and had hemoglobin levels drawn every four hours. The nurse reports to the patientâ\\x80\\x99s room to conduct an assessment prior to beginning the 11 p.m.-7 a.m. shift. Although Mrs. Salvoâ\\x80\\x99s hemoglobin has stabilized for the last 24 hours, Mrs. Salvo appears fatigued with bags under her eyes. In conversation with her, she yawns frequently and wanders off in her train of thought. She reports, â\\x80\\x9cYou canâ\\x80\\x99t get any rest in here. I am poked and prodded at least once an hour.â\\x80\\x9d')\n",
      "('Spirituality 18.6 Putting It All Together', 'Patient Scenario Mr. Yun is a 34-year-old man presenting to his physicianâ\\x80\\x99s office with complaints of difficulty concentrating, sadness, and anxiety. The patient recently experienced the loss of his wife in a motor vehicle accident and reports difficulty sleeping and weight loss of greater than 15 pounds in the previous month. He reports feeling â\\x80\\x9chopelessâ\\x80\\x9d and â\\x80\\x9cangry at Godâ\\x80\\x9d for the loss that he has experienced. He states he used to attend religious services with his wife, but â\\x80\\x9cThat was really more of â\\x80\\x98herâ\\x80\\x99 thing. I really donâ\\x80\\x99t know what to believe anymore.â\\x80\\x9d')\n",
      "('Safety 5.10 Putting It All Together', 'Patient Scenario Mr. Olson is a 64-year-old patient admitted to the medical surgical floor with a diagnosis of pneumonia. The patient has severe macular degeneration and limited visual acuity. He is alert and oriented but notes that he has suffered a â\\x80\\x9cfew stumblesâ\\x80\\x9d at home over the last few weeks. He ambulates without assistance but relies heavily on tactile cues to help provide guidance.')\n",
      "\n",
      "Q: In the 2020 Summer Olympics, how many silver medals did Italy win?\n",
      "A: I don't know.\n"
     ]
    }
   ],
   "source": [
    "query = \"In the 2020 Summer Olympics, how many silver medals did Italy win?\"\n",
    "answer = answer_query_with_context(query, df, document_embeddings)\n",
    "\n",
    "print(f\"\\nQ: {query}\\nA: {answer}\")"
   ]
  },
  {
   "cell_type": "code",
   "execution_count": null,
   "id": "26a1a9ef-e1ee-4f80-a1b1-6164ccfa5bac",
   "metadata": {},
   "outputs": [
    {
     "name": "stdout",
     "output_type": "stream",
     "text": [
      "Selected 2 document sections:\n",
      "('Spirituality 18.6 Putting It All Together', 'Patient Scenario Mr. Yun is a 34-year-old man presenting to his physicianâ\\x80\\x99s office with complaints of difficulty concentrating, sadness, and anxiety. The patient recently experienced the loss of his wife in a motor vehicle accident and reports difficulty sleeping and weight loss of greater than 15 pounds in the previous month. He reports feeling â\\x80\\x9chopelessâ\\x80\\x9d and â\\x80\\x9cangry at Godâ\\x80\\x9d for the loss that he has experienced. He states he used to attend religious services with his wife, but â\\x80\\x9cThat was really more of â\\x80\\x98herâ\\x80\\x99 thing. I really donâ\\x80\\x99t know what to believe anymore.â\\x80\\x9d')\n",
      "('Nutrition 14.4 Putting It All Together', 'Patient Scenario Mr. Curtis is a 47-year-old patient admitted to the hospital with increased weakness, fatigue, and dehydration. His skin appears dry, and tenting occurs when skin turgor is evaluated. He is currently undergoing chemotherapy treatment for multiple myeloma and has experienced weight loss of 10 pounds within the last two weeks. He describes that â\\x80\\x9cnothing tastes good,â\\x80\\x9d and he feels as if there is â\\x80\\x9cmetal taste in his mouth.â\\x80\\x9d When he does eat small meals, he reports that he is often nauseous. The patientâ\\x80\\x99s serum protein level is 3.1 g/dL.')\n",
      "\n",
      "Q: What is the total number of medals won by France, multiplied by the number of Taekwondo medals given out to all countries?\n",
      "A: I don't know.\n"
     ]
    }
   ],
   "source": [
    "query = \"What is the total number of medals won by France, multiplied by the number of Taekwondo medals given out to all countries?\"\n",
    "answer = answer_query_with_context(query, df, document_embeddings)\n",
    "\n",
    "print(f\"\\nQ: {query}\\nA: {answer}\")"
   ]
  }
 ],
 "metadata": {
  "kernelspec": {
   "display_name": "Python 3",
   "language": "python",
   "name": "python3"
  },
  "language_info": {
   "codemirror_mode": {
    "name": "ipython",
    "version": 3
   },
   "file_extension": ".py",
   "mimetype": "text/x-python",
   "name": "python",
   "nbconvert_exporter": "python",
   "pygments_lexer": "ipython3",
   "version": "3.11.1"
  },
  "vscode": {
   "interpreter": {
    "hash": "80f1ed4dddd1d5fd563917308b5bc349875962a5b9194abcd8ac906ac7961ad2"
   }
  }
 },
 "nbformat": 4,
 "nbformat_minor": 5
}
