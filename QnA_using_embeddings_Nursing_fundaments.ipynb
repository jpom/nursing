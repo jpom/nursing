{
 "cells": [
  {
   "attachments": {},
   "cell_type": "markdown",
   "id": "c4ca8276-e829-4cff-8905-47534e4b4d4e",
   "metadata": {},
   "source": [
    "# Question Answering using Embeddings\n",
    "\n",
    "Many use cases require GPT-3 to respond to user questions with insightful answers. For example, a customer support chatbot may need to provide answers to common questions. The GPT models have picked up a lot of general knowledge in training, but we often need to ingest and use a large library of more specific information.\n",
    "\n",
    "In this notebook we will demonstrate a method for enabling GPT-3 to answer questions using a library of text as a reference, by using document embeddings and retrieval. We'll be using a dataset of Wikipedia articles about the Nusring Fundamentals."
   ]
  },
  {
   "cell_type": "code",
   "execution_count": 1,
   "id": "9e3839a6-9146-4f60-b74b-19abbc24278d",
   "metadata": {},
   "outputs": [],
   "source": [
    "import numpy as np\n",
    "import openai\n",
    "import pandas as pd\n",
    "import pickle\n",
    "import tiktoken\n",
    "import time\n",
    "import os\n",
    "\n",
    "openai.api_key = os.getenv('OPEN_AI_KEY') #Add your API key here\n",
    "\n",
    "COMPLETIONS_MODEL = \"text-davinci-003\"\n",
    "EMBEDDING_MODEL = \"text-embedding-ada-002\""
   ]
  },
  {
   "cell_type": "code",
   "execution_count": 2,
   "id": "a167516c-7c19-4bda-afa5-031aa0ae13bb",
   "metadata": {},
   "outputs": [
    {
     "data": {
      "text/plain": [
       "\"Marcelo Chierighini of Brazil won the gold medal in the men's high jump at the 2020 Summer Olympics.\""
      ]
     },
     "execution_count": 2,
     "metadata": {},
     "output_type": "execute_result"
    }
   ],
   "source": [
    "prompt = \"Who won the 2020 Summer Olympics men's high jump?\"\n",
    "\n",
    "openai.Completion.create(\n",
    "    prompt=prompt,\n",
    "    temperature=0,\n",
    "    max_tokens=300,\n",
    "    model=COMPLETIONS_MODEL\n",
    ")[\"choices\"][0][\"text\"].strip(\" \\n\")"
   ]
  },
  {
   "cell_type": "code",
   "execution_count": 3,
   "id": "a5451371-17fe-4ef3-aa02-affcf4edb0e0",
   "metadata": {},
   "outputs": [
    {
     "data": {
      "text/plain": [
       "\"Sorry, I don't know.\""
      ]
     },
     "execution_count": 3,
     "metadata": {},
     "output_type": "execute_result"
    }
   ],
   "source": [
    "prompt = \"\"\"Answer the question as truthfully as possible, and if you're unsure of the answer, say \"Sorry, I don't know\".\n",
    "\n",
    "Q: Who won the 2020 Summer Olympics men's high jump?\n",
    "A:\"\"\"\n",
    "\n",
    "openai.Completion.create(\n",
    "    prompt=prompt,\n",
    "    temperature=0,\n",
    "    max_tokens=300,\n",
    "    model=COMPLETIONS_MODEL\n",
    ")[\"choices\"][0][\"text\"].strip(\" \\n\")"
   ]
  },
  {
   "cell_type": "code",
   "execution_count": 4,
   "id": "fceaf665-2602-4788-bc44-9eb256a6f955",
   "metadata": {},
   "outputs": [
    {
     "data": {
      "text/plain": [
       "'Gianmarco Tamberi and Mutaz Essa Barshim emerged as joint winners of the event.'"
      ]
     },
     "execution_count": 4,
     "metadata": {},
     "output_type": "execute_result"
    }
   ],
   "source": [
    "prompt = \"\"\"Answer the question as truthfully as possible using the provided text, and if the answer is not contained within the text below, say \"I don't know\"\n",
    "\n",
    "Context:\n",
    "The men's high jump event at the 2020 Summer Olympics took place between 30 July and 1 August 2021 at the Olympic Stadium.\n",
    "33 athletes from 24 nations competed; the total possible number depended on how many nations would use universality places \n",
    "to enter athletes in addition to the 32 qualifying through mark or ranking (no universality places were used in 2021).\n",
    "Italian athlete Gianmarco Tamberi along with Qatari athlete Mutaz Essa Barshim emerged as joint winners of the event following\n",
    "a tie between both of them as they cleared 2.37m. Both Tamberi and Barshim agreed to share the gold medal in a rare instance\n",
    "where the athletes of different nations had agreed to share the same medal in the history of Olympics. \n",
    "Barshim in particular was heard to ask a competition official \"Can we have two golds?\" in response to being offered a \n",
    "'jump off'. Maksim Nedasekau of Belarus took bronze. The medals were the first ever in the men's high jump for Italy and \n",
    "Belarus, the first gold in the men's high jump for Italy and Qatar, and the third consecutive medal in the men's high jump\n",
    "for Qatar (all by Barshim). Barshim became only the second man to earn three medals in high jump, joining Patrik Sjöberg\n",
    "of Sweden (1984 to 1992).\n",
    "\n",
    "Q: Who won the 2020 Summer Olympics men's high jump?\n",
    "A:\"\"\"\n",
    "\n",
    "openai.Completion.create(\n",
    "    prompt=prompt,\n",
    "    temperature=0,\n",
    "    max_tokens=300,\n",
    "    top_p=1,\n",
    "    frequency_penalty=0,\n",
    "    presence_penalty=0,\n",
    "    model=COMPLETIONS_MODEL\n",
    ")[\"choices\"][0][\"text\"].strip(\" \\n\")"
   ]
  },
  {
   "cell_type": "code",
   "execution_count": 5,
   "id": "cc9c8d69-e234-48b4-87e3-935970e1523a",
   "metadata": {},
   "outputs": [
    {
     "name": "stdout",
     "output_type": "stream",
     "text": [
      "477 rows in the data.\n"
     ]
    },
    {
     "data": {
      "text/html": [
       "<div>\n",
       "<style scoped>\n",
       "    .dataframe tbody tr th:only-of-type {\n",
       "        vertical-align: middle;\n",
       "    }\n",
       "\n",
       "    .dataframe tbody tr th {\n",
       "        vertical-align: top;\n",
       "    }\n",
       "\n",
       "    .dataframe thead th {\n",
       "        text-align: right;\n",
       "    }\n",
       "</style>\n",
       "<table border=\"1\" class=\"dataframe\">\n",
       "  <thead>\n",
       "    <tr style=\"text-align: right;\">\n",
       "      <th></th>\n",
       "      <th></th>\n",
       "      <th>content</th>\n",
       "      <th>tokens</th>\n",
       "    </tr>\n",
       "    <tr>\n",
       "      <th>title</th>\n",
       "      <th>heading</th>\n",
       "      <th></th>\n",
       "      <th></th>\n",
       "    </tr>\n",
       "  </thead>\n",
       "  <tbody>\n",
       "    <tr>\n",
       "      <th>Oxygenation 8.2 Oxygenation Basic Concepts</th>\n",
       "      <th>Cardiovascular System In order for oxygenated blood to move from the alveoli in the lungs to the various organs and tissues of the body, the heart must adequately pump blood through the systemic arteries. The amount of blood that the heart pumps in one minute is referred to as cardiac output. The passage of blood through arteries to an organ or tissue is referred to as perfusion. Several cardiac conditions can adversely affect cardiac output and perfusion in the body. There are several medications used to enhance a patientâs cardiacÂ  output and maintain adequate perfusion to organs and tissues throughout the body. Use the following hyperlinks to review information regarding the anatomy and physiology of the cardiovascular system, common cardiac disorders, and various cardiovascular system medications. Read additional information about the cardiovascular system in the âCardiovascular &amp; Renalâ chapter in Open RN Nursing Pharmacology or use the following hyperlinks to go to specific subsections of this chapter: Review the anatomy and physiology of the cardiovascular system. Learn about common cardiac disorders. Read about common cardiovascular system medications.</th>\n",
       "      <td>Oxygenation 8.2 Oxygenation Basic Concepts Car...</td>\n",
       "      <td>233</td>\n",
       "    </tr>\n",
       "    <tr>\n",
       "      <th>Integumentary 10.6 Applying the Nursing Process</th>\n",
       "      <th>Outcome Identification An example of a broad goal for a patient experiencing alterations in tissue integrity is: The patient will experience tissue healing. A sample SMART expected outcome for a patient with a wound is: The patientâs wound will decrease in size and have increased granulation tissue within two weeks.</th>\n",
       "      <td>Integumentary 10.6 Applying the Nursing Proces...</td>\n",
       "      <td>74</td>\n",
       "    </tr>\n",
       "    <tr>\n",
       "      <th>Grief and Loss 17.2 Basic Concepts</th>\n",
       "      <th>Ethical and Legal Considerations End-of-life care often includes unique complexities for the patient, family, and nurse. There may be times when what the physician or nurse believes to be the best treatment conflicts with what the patient desires. There may also be challenges related to decision-making that cause disagreements within a family or cause conflict with the treatment plan. Additional challenging factors include availability of resources and insurance company policies and programs. Despite these complexities, it is important for the nurse to honor and respect the wishes of the patient. Despite any conflicts in decision-making among health care providers, family members, and the patient, the nurse must always advocate for the patientâs wishes. Nurses should also be aware of the practice guidelines for ethical dilemmas stated in the American Nurses Associationâs Standards of Professional Nursing Practice and Code of Ethics.American Nurses Association. (2015). Code of ethics for nurses with interpretive statements. American Nurses Association. https://www.nursingworld.org/practice-policy/nursing-excellence/ethics/code-of-ethics-for-nurses/coe-view-only/,National Institute on Aging. (2017, May 17). What are palliative care and hospice care? U.S. Department of Health &amp; Human Services. https://www.nia.nih.gov/health/what-are-palliative-care-and-hospice-careÂ These resources assist the nurse in implementing expected behaviors according to their professional role as a nurse. If complex ethical dilemmas occur, many organizations have dedicated ethics committees that offer support, guidance, and resources for complex ethical decisions. These committees can serve as support systems, share resources, provide legal insight, and make recommendations for action. The nurse should feel supported in raising concerns within their health care organization if they believe an ethical dilemma is occurring. Do-Not-Resuscitate Orders and Advance Directives Additional legal considerations when providing care at the end of life are do-not-resuscitate orders (DNR) orders and advance directives. A do-not-resuscitate (DNR) order is a medical order that instructs health care professionals not to perform cardiopulmonary resuscitation (CPR) if a patientâs breathing stops or their heart stops beating. The order is only written with the permission of the patient (or the patientâs health care power of attorney, if activated.) Ideally, a DNR order is set up before a critical condition occurs. CPR is emergency treatment provided when a patientâs blood flow or breathing stops that may involve chest compressions and mouth-to-mouth breathing, electric shocks to restart the heart, breathing tubes to open the airway, or cardiac medications. The DNR order only refers to not performing CPR and is recorded in a patientâs medical record. Wallet cards, bracelets, or other DNR documents are also available to have at home or in non-hospital settings. The decision to implement a DNR order is typically very difficult for a patient and their family members to make.A.D.A.M. Medical Encyclopedia [Internet]. Atlanta (GA): A.D.A.M., Inc.; c1997-2021. Do-not-resuscitate order; [updated 2021, June 9].https://medlineplus.gov/ency/patientinstructions/000473.htm Many people have unrealistic ideas regarding the success rates of CPR and the quality of life a patient experiences after being revived, especially for patients with multiple chronic diseases or those receiving palliative care. For example, a recent study found the overall rate of survival leading to hospital discharge for someone who experiences cardiac arrest is about 10.6 percent.Ouellette, L., Puro, A., Weatherhead, J., Shaheen, M., Chassee, T., Whalen, D., &amp; Jones, J.. (2018). Public knowledge and perceptions about cardiopulmonary resuscitation (CPR): Results of a multicenter survey. American Journal of Emergency Medicine, 36(10), 1900-1901. https://doi: 10.1016/j.ajem.2018.01.103. Nurses can provide up-to-date patient education regarding CPR and its effectiveness based on the patientâs current condition and facilitate discussion about a DNR order. Advance directives include the health care power of attorney and living will. The health care power of attorney legally identifies a trusted individual to serve as a decision maker for health issues when the patient is no longer able to speak for themselves. It is the responsibility of this designated individual to carry out care actions in accordance with the patientâs wishes. A health care power of attorney can be a trusted family member, friend, or colleague who is of sound mind and is over the age of 18. They should be someone who the patient is comfortable expressing their wishes to and someone who will enact those desired wishes on the patientâs behalf. The health care power of attorney should also have knowledge of the patientâs wishes outlined in their living will. A living will is a legal document that describes the patientâs wishes if they are no longer able to speak for themselves due to injury, illness, or a persistent vegetative state. The living will addresses issues like ventilator support, feeding tube placement, cardiopulmonary resuscitation, and intubation. It is a vital means of ensuring that the health care provider has a record of oneâs wishes. However, the living will cannot feasibly cover every possible potential circumstance, so the health care power of attorney is vital when making decisions outside the scope of the living will document. Read more about advance care planning at the National Institute on Aging and at Honoring Choices Wisconsin. Nurses must understand the health care practice legalities for the state in which they practice nursing. There can be practice issues in various states that raise additional ethical complexities for the practicing nurse. For example, Oregon, Washington, Vermont, and New Mexico all have laws that allow patients to participate in assisted dying practices involving assisted suicide or active euthanasia. In assisted suicide, the patient is provided the means to carry out suicide such as a lethal dose of medication. Active euthanasia involves someone other than the patient carrying out action to end a personâs life. Most nursing organizations prevent a nurse from participating in assisted dying practices. Nurses must be aware of the Practice Act in their state and the legalities and ethical challenges of nursing actions surrounding complex issues such as assisted suicide, active euthanasia, and abortion.</th>\n",
       "      <td>Grief and Loss 17.2 Basic Concepts Ethical and...</td>\n",
       "      <td>1411</td>\n",
       "    </tr>\n",
       "    <tr>\n",
       "      <th rowspan=\"2\" valign=\"top\">Mobility 13.2 Basic Concepts</th>\n",
       "      <th>Safe Patient Handling Assisting patients with decreased immobility poses an increased risk of injury to health care workers. A focus on safe patient handling and mobility (SPHM) in acute and long-term care over the past decade has resulted in decreased staff lifting injuries for the first time in 30 years. Nonetheless, nurses still suffer more musculoskeletal disorders from lifting than other employees in the manufacturing and construction industries. Many employers and nurses previously believed that lifting injuries could be prevented by using proper body mechanics, but evidence contradicts this assumption. Body mechanics involves the coordinated effort of muscles, bones, and oneâs nervous system to maintain balance, posture, and alignment when moving, transferring, and positioning patients.This work is a derivative of Clinical Procedures for Safer Patient Care by British Columbia Institute of Technology and is licensed under CC BY 4.0 The National Institute of Occupational Safety and Health (NIOSH) calculates maximum loads for lifting, pushing, pulling, and carrying for all types of employees. For example, a maximum load for employees lifting a box with handles is 50 pounds (23 kg), but this weight is decreased when the lifter has to reach, lift from near the floor, or assume a twisted or awkward position. Because patients donât come in simple shapes and may sit or lie in awkward positions, move unexpectedly, or have wounds or devices that interfere with lifting, the safe lifting load for patients is less than this maximum 50 pound load. Although using proper body mechanics and good lifting techniques are important, they donât prevent lifting injuries in these patient circumstancesThis work is a derivative of Clinical Procedures for Safer Patient Care by British Columbia Institute of Technology and is licensed under CC BY 4.0,American Nurses Association. (2014). Current topics in safe patient handling and mobility. American Nurse Today (supplement). https://www.myamericannurse.com/wp-content/uploads/2014/07/ant9-Patient-Handling-Supplement-821a_LOW.pdf,National Institute for Occupational Safety and Health. (2013, August 2). Safe patient handling and mobility (SPHM). Centers for Disease Control and Prevention. https://www.cdc.gov/niosh/topics/safepatient/default.html Factors that increase risk for lifting injuries in nurses are exertion, frequency, posture, and duration of exposure. Combinations of these factors, such as high exertion while in an awkward posture (for example, holding a patientâs leg while bent over and twisted), unpredictable patient movements, and extended reaching, intensify the risk.Francis, R., &amp; Dawson, M. (2016) Safe patient handling and mobility: The journey continues. American Nurse Today, 11(5). https://www.myamericannurse.com/wp-content/uploads/2016/05/Patient-Handling-Safety-426b.pdf In 2013 the American Nurses Association (ANA) published Safe Patient Handling and Mobility (SPHM) standards. See the standards in the following box. Learn more about safe patient handling using the following hyperlinks. View ANA videos on safe patient handling: Preventing Nurse Injuries and ANA Presents Safe Patient Handling and Mobility. Read an ANA article on Safe Patient Handling â The Journey Continues. ANA Standards for Safe Patient Handling and MobilityAmerican Nurses Association. (2014). Current topics in safe patient handling and mobility. American Nurse Today (supplement). https://www.myamericannurse.com/wp-content/uploads/2014/07/ant9-Patient-Handling-Supplement-821a_LOW.pdf Standard 1: Establish a culture of safety. This standard calls for the employer to establish a commitment to a culture of safety. This means prioritizing safety over competing goals in a blame-free environment where individuals can report errors or incidents without fear. The employer is compelled to evaluate systemic issues that contribute to incidents or accidents. The standard also calls for safe staffing levels and improved communication and collaboration. Every organization should have a procedure for nurses to report safety concerns or refuse an assignment due to concern about patientsâ or their own safety. Standard 2: Implement and sustain an SPHM program. This standard outlines SPHM program components, including patient assessment and written guidelines for safe patient handling by staff. Standard 3: Incorporate ergonomic design principles to provide a safe care environment. This standard is based on the concept of prevention of injuries through ergonomic design that considers the physical layout, work-process flow, and use of technology to reduce exposure to injury or illness. Standard 4: Select, install, and maintain SPHM technology. This standard provides guidance in selecting, installing, and maintaining SPHM technology. Standard 5: Establish a system for education, training, and maintaining competence. This standard outlines SPHM training for employees, including the demonstration of competency before using SPHM technology with patients. Standard 6: Integrate patient-centered SPHM assessment, plan of care, and use of SPHM technology. This standard focuses on the patientâs needs by establishing assessment guidelines and developing an individual plan of care. It outlines the importance of using SPHM technology in a therapeutic manner with the goal of promoting patientsâ independence. For example, a patient may need full-body lift technology immediately after surgery, then progress to a sit-to-stand lift for transfers, and then progress to a technology that supports ambulation. Standard 7: Include SPHM in reasonable accommodation and post-injury return to work. This standard promotes an employeeâs return to work after an injury. Standard 8: Establish a comprehensive evaluation system. The final standard calls for evaluation of outcomes related to an agencyâs implementation of a SPHM program with remediation of deficiencies.</th>\n",
       "      <td>Mobility 13.2 Basic Concepts Safe Patient Hand...</td>\n",
       "      <td>1234</td>\n",
       "    </tr>\n",
       "    <tr>\n",
       "      <th>Transfer From Bed to Chair or Wheelchair Patients often require assistance when moving from a bed to a chair or wheelchair. A patient must be cooperative and predictable, able to bear weight on both legs, and able to take small steps and pivot to safely transfer with a one-person assist. If any of these criteria are not met, a two-person transfer or mechanical lift is recommended. Always complete a mobility assessment and check the providerâs or physical therapistâs orders prior to transferring patients.This work is a derivative of Clinical Procedures for Safer Patient Care by British Columbia Institute of Technology and is licensed under CC BY 4.0 Begin by explaining to the patient what will happen during the transfer and how they can help. Be sure proper footwear is in place. Lower the bed; set it at a 45-degree angle. Place the wheelchair next to the bed and apply the wheelchair brakes. If the patient has weakness on one side, place the wheelchair on their strong side.This work is a derivative of Clinical Procedures for Safer Patient Care by British Columbia Institute of Technology and is licensed under CC BY 4.0 Assist the patient to a seated position on the side of the bed with their feet on the floor. (See the previous section on how to assist a patient to a seated position.) Apply the gait belt snugly around their waist. Place your legs on the outside of their legs. Ask them to place their hands on your waist as they raise themselves into a standing position. Do not lift the patient. If additional assistance is required, obtain a mechanical lift, such as a sit to stand device. Do not allow them to put their arms around your neck because this can cause back injury. Stay close to theÂ  patient during the transfer to keep the patientâs weight close to your center of gravity. Once standing, ask the patient to pivot and then take a few steps back until they can feel the wheelchair on the back of their legs. Have the patient grasp the arm of the wheelchair and lean forward slightly. Assist the patient to lower themselves, while shifting your weight from your back leg to the front leg with your knees bent, trunk straight, and elbows slightly bent. Allow the patient to slowly lower themselves into the wheelchair using the armrests for support. See Figure 13.23âBook-pictures-2015-603.jpgâ and âBook-pictures-2015-6041â by unknown authors are licensed under CC BY 4.0. Access for free at https://opentextbc.ca/clinicalskills/chapter/3-7-transfers-and-ambulation/for an image of a staff member assisting a patient to a wheelchair. Reflective Question: What could be improved during this transfer?</th>\n",
       "      <td>Mobility 13.2 Basic Concepts Transfer From Bed...</td>\n",
       "      <td>593</td>\n",
       "    </tr>\n",
       "  </tbody>\n",
       "</table>\n",
       "</div>"
      ],
      "text/plain": [
       "                                                                                                                                              content  \\\n",
       "title                                           heading                                                                                                 \n",
       "Oxygenation 8.2 Oxygenation Basic Concepts      Cardiovascular System In order for oxygenated b...  Oxygenation 8.2 Oxygenation Basic Concepts Car...   \n",
       "Integumentary 10.6 Applying the Nursing Process Outcome Identification An example of a broad go...  Integumentary 10.6 Applying the Nursing Proces...   \n",
       "Grief and Loss 17.2 Basic Concepts              Ethical and Legal Considerations End-of-life ca...  Grief and Loss 17.2 Basic Concepts Ethical and...   \n",
       "Mobility 13.2 Basic Concepts                    Safe Patient Handling Assisting patients with d...  Mobility 13.2 Basic Concepts Safe Patient Hand...   \n",
       "                                                Transfer From Bed to Chair or Wheelchair Patien...  Mobility 13.2 Basic Concepts Transfer From Bed...   \n",
       "\n",
       "                                                                                                    tokens  \n",
       "title                                           heading                                                     \n",
       "Oxygenation 8.2 Oxygenation Basic Concepts      Cardiovascular System In order for oxygenated b...     233  \n",
       "Integumentary 10.6 Applying the Nursing Process Outcome Identification An example of a broad go...      74  \n",
       "Grief and Loss 17.2 Basic Concepts              Ethical and Legal Considerations End-of-life ca...    1411  \n",
       "Mobility 13.2 Basic Concepts                    Safe Patient Handling Assisting patients with d...    1234  \n",
       "                                                Transfer From Bed to Chair or Wheelchair Patien...     593  "
      ]
     },
     "execution_count": 5,
     "metadata": {},
     "output_type": "execute_result"
    }
   ],
   "source": [
    "# We have hosted the processed dataset, so you can download it directly without having to recreate it.\n",
    "# This dataset has already been split into sections, one row for each section of the Wikipedia page.\n",
    "\n",
    "df = pd.read_csv('nursing_fundamental_finalwithtokens.csv')\n",
    "df = df.set_index([\"title\", \"heading\"])\n",
    "print(f\"{len(df)} rows in the data.\")\n",
    "df.sample(5)"
   ]
  },
  {
   "cell_type": "code",
   "execution_count": 6,
   "id": "ba475f30-ef7f-431c-b60d-d5970b62ad09",
   "metadata": {},
   "outputs": [],
   "source": [
    "def get_embedding(text: str, model: str=EMBEDDING_MODEL) -> list[float]:\n",
    "    result = openai.Embedding.create(\n",
    "      model=model,\n",
    "      input=text\n",
    "    )\n",
    "    time.sleep(7)\n",
    "    return result[\"data\"][0][\"embedding\"]\n",
    "\n",
    "def compute_doc_embeddings(df: pd.DataFrame) -> dict[tuple[str, str], list[float]]:\n",
    "    \"\"\"\n",
    "    Create an embedding for each row in the dataframe using the OpenAI Embeddings API.\n",
    "    \n",
    "    Return a dictionary that maps between each embedding vector and the index of the row that it corresponds to.\n",
    "    \"\"\"\n",
    "    return {\n",
    "        idx: get_embedding(r.content) for idx, r in df.iterrows()\n",
    "    }"
   ]
  },
  {
   "cell_type": "code",
   "execution_count": 7,
   "id": "737266aa-cbe7-4691-87c1-fce8a31632f1",
   "metadata": {},
   "outputs": [],
   "source": [
    "def load_embeddings(fname: str) -> dict[tuple[str, str], list[float]]:\n",
    "    \"\"\"\n",
    "    Read the document embeddings and their keys from a CSV.\n",
    "    \n",
    "    fname is the path to a CSV with exactly these named columns: \n",
    "        \"title\", \"heading\", \"0\", \"1\", ... up to the length of the embedding vectors.\n",
    "    \"\"\"\n",
    "    \n",
    "    df = pd.read_csv(fname, header=0)\n",
    "    max_dim = max([int(c) for c in df.columns if c != \"title\" and c != \"heading\"])\n",
    "    return {\n",
    "           (r.title, r.heading): [r[str(i)] for i in range(max_dim + 1)] for _, r in df.iterrows()\n",
    "    }"
   ]
  },
  {
   "cell_type": "code",
   "execution_count": 8,
   "id": "ab50bfca-cb02-41c6-b338-4400abe1d86e",
   "metadata": {},
   "outputs": [],
   "source": [
    "#document_embeddings = load_embeddings(\"embeddings.csv\")\n",
    "\n",
    "# ===== OR, uncomment the below line to recaculate the embeddings from scratch. ========\n",
    "\n",
    "document_embeddings = compute_doc_embeddings(df)\n",
    "embeddings_df = pd.DataFrame(document_embeddings)\n",
    "embeddings_df.to_csv('embeddings.csv', index=False)"
   ]
  },
  {
   "cell_type": "code",
   "execution_count": 9,
   "id": "b9a8c713-c8a9-47dc-85a4-871ee1395566",
   "metadata": {},
   "outputs": [
    {
     "name": "stdout",
     "output_type": "stream",
     "text": [
      "('Scope of Practice 1.1. Scope of Practice Introduction', 'Learning Objectives Discuss nursing scope of practice and standards of care Compare various settings in which nurses work Describe contributions of interprofessional health care team members Describe levels of nursing education and the NCLEX Discuss basic legal considerations and ethics Outline professional nursing organizations Examine quality and evidence-based practice in nursing You are probably wondering, â\\x80\\x9cWhat is scope of practice? What does it mean for me and my nursing practice?â\\x80\\x9d Scope of practice is defined as services that a trained health professional is deemed competent to perform and permitted to undertake according to the terms of their professional nursing license.American Nurses Association. (n.d.). Scope of practice. https://www.nursingworld.org/practice-policy/scope-of-practice/ Nursing scope of practice provides a framework and structured guidance for activities one can perform based on their nursing license. As a nurse and a nursing student, is always important to consider: Just because your employer asks you to do a taskâ\\x80¦can you perform this task according to your scope of practice â\\x80\\x93 or are you putting your nursing license at risk? Nurses must also follow legal standards in when providing nursing care. Standards are set by several organizations, including the American Nurses Association (ANA), your stateâ\\x80\\x99s Nurse Practice Act, agency policies and procedures, and federal regulators. These standards assure safe, competent care is provided to the public. This chapter will provide an overview of basic concepts related to nursing scope of practice and standards of care.') : [0.011423230171203613, -0.015013739466667175, 0.034945983439683914, -0.035462427884340286, -0.02192424051463604]... (1536 entries)\n"
     ]
    }
   ],
   "source": [
    "# An example embedding:\n",
    "example_entry = list(document_embeddings.items())[0]\n",
    "print(f\"{example_entry[0]} : {example_entry[1][:5]}... ({len(example_entry[1])} entries)\")"
   ]
  },
  {
   "cell_type": "code",
   "execution_count": 10,
   "id": "dcd680e9-f194-4180-b14f-fc357498eb92",
   "metadata": {},
   "outputs": [],
   "source": [
    "def vector_similarity(x: list[float], y: list[float]) -> float:\n",
    "    \"\"\"\n",
    "    Returns the similarity between two vectors.\n",
    "    \n",
    "    Because OpenAI Embeddings are normalized to length 1, the cosine similarity is the same as the dot product.\n",
    "    \"\"\"\n",
    "    return np.dot(np.array(x), np.array(y))\n",
    "\n",
    "def order_document_sections_by_query_similarity(query: str, contexts: dict[(str, str), np.array]) -> list[(float, (str, str))]:\n",
    "    \"\"\"\n",
    "    Find the query embedding for the supplied query, and compare it against all of the pre-calculated document embeddings\n",
    "    to find the most relevant sections. \n",
    "    \n",
    "    Return the list of document sections, sorted by relevance in descending order.\n",
    "    \"\"\"\n",
    "    query_embedding = get_embedding(query)\n",
    "    \n",
    "    document_similarities = sorted([\n",
    "        (vector_similarity(query_embedding, doc_embedding), doc_index) for doc_index, doc_embedding in contexts.items()\n",
    "    ], reverse=True)\n",
    "    \n",
    "    return document_similarities"
   ]
  },
  {
   "cell_type": "code",
   "execution_count": 11,
   "id": "e3a27d73-f47f-480d-b336-079414f749cb",
   "metadata": {},
   "outputs": [
    {
     "data": {
      "text/plain": [
       "[(0.8973736067055416,\n",
       "  ('Scope of Practice 1.1. Scope of Practice Introduction',\n",
       "   'Learning Objectives Discuss nursing scope of practice and standards of care Compare various settings in which nurses work Describe contributions of interprofessional health care team members Describe levels of nursing education and the NCLEX Discuss basic legal considerations and ethics Outline professional nursing organizations Examine quality and evidence-based practice in nursing You are probably wondering, â\\x80\\x9cWhat is scope of practice? What does it mean for me and my nursing practice?â\\x80\\x9d Scope of practice is defined as services that a trained health professional is deemed competent to perform and permitted to undertake according to the terms of their professional nursing license.American Nurses Association. (n.d.). Scope of practice. https://www.nursingworld.org/practice-policy/scope-of-practice/ Nursing scope of practice provides a framework and structured guidance for activities one can perform based on their nursing license. As a nurse and a nursing student, is always important to consider: Just because your employer asks you to do a taskâ\\x80¦can you perform this task according to your scope of practice â\\x80\\x93 or are you putting your nursing license at risk? Nurses must also follow legal standards in when providing nursing care. Standards are set by several organizations, including the American Nurses Association (ANA), your stateâ\\x80\\x99s Nurse Practice Act, agency policies and procedures, and federal regulators. These standards assure safe, competent care is provided to the public. This chapter will provide an overview of basic concepts related to nursing scope of practice and standards of care.')),\n",
       " (0.8717034297513861,\n",
       "  ('Scope of Practice 1.3 Regulations & Standards',\n",
       "   'ANA Scope and Standards of Practice The American Nurses Association (ANA) publishes two resources that set standards and guide professional nursing practice in the United States: The Code of Ethics for Nurses and Nursing: Scope and Standards of Practice. The Code of Ethics for Nurses establishes an ethical framework for nursing practice across all roles, levels, and settings. It is discussed in greater detail in the â\\x80\\x9cLegal Considerations and Ethicsâ\\x80\\x9d subsection of this chapter. The Nursing: Scope and Standards of Practice describes a professional nurseâ\\x80\\x99s scope of practice and defines the who, what, where, when, why, and how of nursing. It also sets 18 standards of professional practice that all registered nurses are expected to perform competently. American Nurses Association. (2021). Nursing: Scope and standards of practice (4th ed.). American Nurses Association  The â\\x80\\x9cwhoâ\\x80\\x9d of nursing practice are the nurses who have been educated, titled, and maintain active licensure to practice nursing. The â\\x80\\x9cwhatâ\\x80\\x9d of nursing is the recently revised definition of nursing: â\\x80\\x9cNursing integrates the art and science of caring and focuses on the protection, promotion, and optimization of health and human functioning; prevention of illness and injury; facilitation of healing; and alleviation of suffering through compassionate presence. Nursing is the diagnosis and treatment of human responses and advocacy in the care of individuals, families, groups, communities, and populations in recognition of the connection of all humanity.â\\x80\\x9dAmerican Nurses Association. (2021). Nursing: Scope and standards of practice (4th ed.). American Nurses Association Simply put, nurses treat human responses to health problems and life processes and advocate for the care of others. Nursing practice occurs â\\x80\\x9cwhenâ\\x80\\x9d there is a need for nursing knowledge, wisdom, caring, leadership, practice, or education, anytime, anywhere. Nursing practice occurs in any environment â\\x80\\x9cwhereâ\\x80\\x9d there is a health care consumer in need of care, information, or advocacy. The â\\x80\\x9cwhyâ\\x80\\x9d of nursing practice is described as nursingâ\\x80\\x99s response to the changing needs of society to achieve positive health care consumer outcomes in keeping with nursingâ\\x80\\x99s social contract and obligation to society. The â\\x80\\x9chowâ\\x80\\x9d of nursing practice is defined as the ways, means, methods, and manners that nurses use to practice professionally.American Nurses Association. (2021). Nursing: Scope and standards of practice (4th ed.). American Nurses Association The â\\x80\\x9chowâ\\x80\\x9d of nursing is further defined by the standards of practice set by the ANA. There are two sets of standards, the Standards of Professional Nursing Practice and the Standards of Professional Performance. The Standards of Professional Nursing Practice are â\\x80\\x9cauthoritative statements of the actions and behaviors that all registered nurses, regardless of role, population, specialty, and setting, are expected to perform competently.â\\x80\\x9dAmerican Nurses Association. (2021). Nursing: Scope and standards of practice (4th ed.). American Nurses Association These standards define a competent level of nursing practice based on the critical thinking model known as the nursing process. The nursing process includes the components of assessment, diagnosis, outcomes identification, planning, implementation, and evaluation.American Nurses Association. (2021). Nursing: Scope and standards of practice (4th ed.). American Nurses Association. Each of these standards is further discussed in the â\\x80\\x9cNursing Processâ\\x80\\x9d chapter of this book. The Standards of Professional Performance are 12 additional standards that describe a nurseâ\\x80\\x99s professional behavior, including activities related to ethics, advocacy, respectful and equitable practice, communication, collaboration, leadership, education, scholarly inquiry, quality of practice, professional practice evaluation, resource stewardship, and environmental health. All registered nurses are expected to engage in these professional role activities based on their level of education, position, and role. Registered nurses are accountable for their professional behaviors to themselves, health care consumers, peers, and ultimately to society. American Nurses Association. (2021). Nursing: Scope and standards of practice (4th ed.). American Nurses Association. The 2021 Standards of Professional Performance are as follows: Ethics. The registered nurse integrates ethics in all aspects of practice. Advocacy.Â\\xa0The registered nurse demonstrates advocacy in all roles and settings. Respectful and Equitable Practice. The registered nurse practices with cultural humility and inclusiveness. Communication. The registered nurse communicates effectively in all areas of professional practice. Collaboration. The registered nurse collaborates with the health care consumer and other key stakeholders. Leadership. The registered nurse leads within the profession and practice setting. Education. The registered nurse seeks knowledge and competence that reflects current nursing practice and promotes futuristic thinking. Scholarly Inquiry. The registered nurse integrates scholarship, evidence, and research findings into practice. Quality of Practice. The registered nurse contributes to quality nursing practice. Professional Practice Evaluation. The registered nurse evaluates oneâ\\x80\\x99s own and othersâ\\x80\\x99 nursing practice. Resource Stewardship. The registered nurse utilizes appropriate resources to plan, provide, and sustain evidence-based nursing services that are safe, effective, financially responsible, and judiciously used. Environmental Health. The registered nurse practices in a manner that advances environmental safety and health.American Nurses Association. (2021). Nursing: Scope and standards of practice (4th ed.). American Nurses Association. Years ago, nurses were required to recite the Nightingale pledge to publicly confirm their commitment to maintain the professionâ\\x80\\x99s high ethical and moral values: â\\x80\\x9cI will do all in my power to maintain and elevate the standard of my profession and will hold in confidence all personal matters committed to my keeping and family affairs coming to my knowledge in the practice of my calling, with loyalty will I endeavor to aid the physician in his work, and devote myself to the welfare of those committed to my care.â\\x80\\x9d Although some of the words are outdated, the meaning is clear: Nursing is a calling, not just a job; to answer that call, you must be dedicated to serve your community according to the ANA standards of care and code of ethics.Bostain, L. (2020, June 25). Nursing professionalism begins with you. American Nurse. https://www.myamericannurse.com/nursing-professionalism-begins-with-you/')),\n",
       " (0.8702132111149319,\n",
       "  ('Scope of Practice 1.3 Regulations & Standards',\n",
       "   'Nurse Practice Act In addition to the professional standards of practice and professional performance set by the American Nurses Association, nurses must legally follow regulations set by the Nurse Practice Act and enforced by the Board of Nursing in the state where they are employed. The Board of Nursing is the state-specific licensing and regulatory body that sets standards for safe nursing care and issues nursing licenses to qualified candidates, based on the Nurse Practice Act  enacted by that stateâ\\x80\\x99s legislature. The Nurse Practice Act establishes regulations for nursing practice within that state and defines the scope of nursing practice. If nurses do not follow the standards and scope of practice set forth by the Nurse Practice Act, they can have their nursing license revoked by the Board of Nursing. To read more about the the Wisconsin Board of Nursing, Standards of Practice, and Rules of Conduct, use the hyperlinked PDFs provided below.Wisconsin Administrative Code. (2018). Chapter N 6 standards of practice for registered nurses and licensed practical nurses. https://docs.legis.wisconsin.gov/code/admin_code/n/6.pdf Read more details about the Wisconsin Administrative Code and the Board of Nursing. Read about Wisconsin Standards of Practice for Nurses in Chapter N 6. Read about Wisconsin Rules of Conduct in Chapter N 7. Nursing students must understand their scope of practice outlined in their stateâ\\x80\\x99s Nurse Practice Act. Nursing students are legally accountable for the quality of care they provide to patients just as nurses are accountable. Students are expected to recognize the limits of their knowledge and experience and appropriately alert individuals in authority regarding situations that are beyond their competency. A violation of the standards of practice constitutes unprofessional conduct and can result in the Board of Nursing denying a license to a nursing graduate.')),\n",
       " (0.8660638896087826,\n",
       "  ('Scope of Practice 1.3 Regulations & Standards',\n",
       "   'Employer Policies, Procedures, and Protocols In addition to professional nursing standards set by the American Nurses Association and the state Nurse Practice Act where they work, nurses and nursing students must also practice according to agency policies, procedures, and protocols. For example, hospitals often set a policy that requires a thorough skin assessment must be completed and documented daily on every patient. If a nurse did not follow this policy and a patient developed a pressure injury, the nurse could be held liable. In addition, every agency has their own set of procedures and protocols that a nurse and nursing student must follow.Â\\xa0 For example, each agency has specific procedural steps for performing nursing skills, such as inserting urinary catheters. A protocol  is defined by the Wisconsin Nurse Practice Act as a â\\x80\\x9cprecise and detailed written plan for a regimen of therapy.â\\x80\\x9d For example, agencies typically have a hypoglycemia protocol that nurses automatically implement when a patientâ\\x80\\x99s blood sugar falls below a specific number. The hypoglycemia protocol includes actions such as providing orange juice and rechecking the blood sugar. These agency-specific policies, procedures, and protocols supersede the information taught in nursing school, and nurses and nursing students can be held legally liable if they donâ\\x80\\x99t follow them. Therefore, it is vital for nurses and nursing students to always review and follow current agency-specific procedures, policies, and protocols when providing patient care. Nurses and nursing students must continue to follow their scope of practice as defined by the Nurse Practice Act in the state they are practicing when following agency policies, procedures, and protocols. Situations have occurred when a nurse or nursing student was asked by an agency to do something outside their defined scope of practice that impaired their nursing license. It is always up to you to protect your nursing license and follow the stateâ\\x80\\x99s Nurse Practice Act when providing patient care.')),\n",
       " (0.8658329432827239,\n",
       "  ('Scope of Practice 1.3 Regulations & Standards',\n",
       "   'Open Resources for Nursing (Open RN) Standards for nursing care are set by several organizations, including the American Nurses Association (ANA), your stateâ\\x80\\x99s Nurse Practice Act, agency policies and procedures, federal regulators, and other professional nursing organizations. These standards assure safe, competent care is provided to the public.'))]"
      ]
     },
     "execution_count": 11,
     "metadata": {},
     "output_type": "execute_result"
    }
   ],
   "source": [
    "order_document_sections_by_query_similarity(\"What is the definition of scope of practice in nursing and how does it provide a framework for nursing activities?\", document_embeddings)[:5]"
   ]
  },
  {
   "cell_type": "code",
   "execution_count": 12,
   "id": "729c2ce7-8540-4ab2-bb3a-76c4dfcb689c",
   "metadata": {},
   "outputs": [
    {
     "data": {
      "text/plain": [
       "[(0.7220783644077484,\n",
       "  ('Comfort 11.6 Putting It All Together',\n",
       "   'Patient Scenario Mrs. Jamison is a 34-year-old woman admitted through the emergency department with kidney stones. As you reposition her in bed, she is visibly grimacing and audibly moaning. She rates her pain at an â\\x80\\x9c8 out of 10â\\x80\\x9d although she reports her pain has â\\x80\\x9cimprovedâ\\x80\\x9d since admission with the IV morphine delivered via PCA pump. You recheck her vital signs and her blood pressure is elevated at 150/90 and her heart rate is 120.')),\n",
       " (0.7219191143481808,\n",
       "  ('Mobility 13.4 Putting It All Together',\n",
       "   'Patient Scenario Mrs. Howard is a 73-year-old woman who was recently admitted to the medical surgical floor with pneumonia. She has an underlying history of emphysema and has experienced a recent exacerbation in dyspnea during activity. This morning when being assisted to the bathroom, she reports, â\\x80\\x9cI have to stop and catch my breath when walking.â\\x80\\x9d Vital signs this morning indicated oxygen saturation 91% and respiratory rate 18 on room air at rest. During report it was communicated that Mrs. Howard is able to ambulate with the assistance of one but only moves short distances around the room before she needs to stop and rest.')),\n",
       " (0.7166429489720003,\n",
       "  ('Integumentary 10.7 Putting It All Together',\n",
       "   'Patient Scenario Betty Pruitt is a 92-year-old female admitted to a skilled nursing facility after a fall at her daughterâ\\x80\\x99s home while transferring the patient from her bed to a wheelchair. See Figure 10.24 for an image of Betty Pruitt.â\\x80\\x9c1068481.jpgâ\\x80\\x9d by unknown is licensed under CC0Although no injury was sustained, it became clear to the family that they could no longer provide adequate care at home. Ms. Pruittâ\\x80\\x99s past medical history includes congestive heart failure, hypertension, hypercholesterolemia, and moderate stage Alzheimerâ\\x80\\x99s disease. Her cognitive ability has significantly declined over the last six months. Patientâ\\x80\\x99s speech continues to be mostly clear and at times coherent but she tends to be quiet and does not express her needs adequately, even with prompting. She no longer has the ability to ambulate but can stand for short periods of time, requiring two people to transfer. She rarely changes body position without encouragement and assistance, spending most of her days in a recliner or bed. Betty is 69 inches tall and currently weighs 122 pounds, having lost 22 pounds over the last 3 months. BMI is 18. Family reports her appetite is poor, and she eats only in small amounts at meal times with feeding assistance. She does take liquids well and shows no swallowing difficulties at this time. Betty is incontinent of urine and stool most of the time but will use the toilet if offered and given transfer help. Unknown to the family, a skin assessment revealed a Stage III pressure injury on coccyx area. Wound measures 4 cm long, 4 cm wide, 3 cm deep, with adipose tissue visible. No undermining, tunneling, bone, muscle, or tendons visible. Scant amount of yellowish purulent drainage noted. Slight foul odor, with redness, and increased heat around the wound present. A Braden Scale Risk Assessment was completed and revealed a total score of 12 (High Risk) with the following category scores: Sensory Perception-3, Moisture-2, Activity-2, Mobility-2, Nutrition-2, Friction & Shear-1.')),\n",
       " (0.7104656166063097,\n",
       "  ('Spirituality 18.6 Putting It All Together',\n",
       "   'Patient Scenario Mr. Yun is a 34-year-old man presenting to his physicianâ\\x80\\x99s office with complaints of difficulty concentrating, sadness, and anxiety. The patient recently experienced the loss of his wife in a motor vehicle accident and reports difficulty sleeping and weight loss of greater than 15 pounds in the previous month. He reports feeling â\\x80\\x9chopelessâ\\x80\\x9d and â\\x80\\x9cangry at Godâ\\x80\\x9d for the loss that he has experienced. He states he used to attend religious services with his wife, but â\\x80\\x9cThat was really more of â\\x80\\x98herâ\\x80\\x99 thing. I really donâ\\x80\\x99t know what to believe anymore.â\\x80\\x9d')),\n",
       " (0.707955971488202,\n",
       "  ('Elimination 16.10 Putting It All Together',\n",
       "   'Patient Scenario Mrs. Jones is a 38-year-old woman who presents to the pediatrician office with her three-year-old daughter, Aubrey. Mrs. Jones explains that her daughter has been experiencing infrequent bowel movements. She states, â\\x80\\x9cAubrey only passes stool 1 to 2 times per week. She strains to pass the stool and it is dry and hard when it passes.â\\x80\\x9d Aubrey nods and says, â\\x80\\x9cMy tummy hurts a lot when that happens.â\\x80\\x9d'))]"
      ]
     },
     "execution_count": 12,
     "metadata": {},
     "output_type": "execute_result"
    }
   ],
   "source": [
    "order_document_sections_by_query_similarity(\"Who won the women's high jump?\", document_embeddings)[:5]"
   ]
  },
  {
   "cell_type": "markdown",
   "id": "3cf71fae-abb1-46b2-a483-c1b2f1a915c2",
   "metadata": {},
   "source": [
    "We can see that the most relevant document sections for each question include the summaries for the Men's and Women's high jump competitions - which is exactly what we would expect."
   ]
  },
  {
   "cell_type": "code",
   "execution_count": 13,
   "id": "b763ace2-1946-48e0-8ff1-91ba335d47a0",
   "metadata": {},
   "outputs": [
    {
     "data": {
      "text/plain": [
       "'Context separator contains 3 tokens'"
      ]
     },
     "execution_count": 13,
     "metadata": {},
     "output_type": "execute_result"
    }
   ],
   "source": [
    "MAX_SECTION_LEN = 500\n",
    "SEPARATOR = \"\\n* \"\n",
    "ENCODING = \"gpt2\"  # encoding for text-davinci-003\n",
    "\n",
    "encoding = tiktoken.get_encoding(ENCODING)\n",
    "separator_len = len(encoding.encode(SEPARATOR))\n",
    "\n",
    "f\"Context separator contains {separator_len} tokens\""
   ]
  },
  {
   "cell_type": "code",
   "execution_count": 14,
   "id": "0c5c0509-eeb9-4552-a5d4-6ace04ef73dd",
   "metadata": {},
   "outputs": [],
   "source": [
    "def construct_prompt(question: str, context_embeddings: dict, df: pd.DataFrame) -> str:\n",
    "    \"\"\"\n",
    "    Fetch relevant \n",
    "    \"\"\"\n",
    "    most_relevant_document_sections = order_document_sections_by_query_similarity(question, context_embeddings)\n",
    "    \n",
    "    chosen_sections = []\n",
    "    chosen_sections_len = 0\n",
    "    chosen_sections_indexes = []\n",
    "     \n",
    "    for _, section_index in most_relevant_document_sections:\n",
    "        # Add contexts until we run out of space.        \n",
    "        document_section = df.loc[section_index]\n",
    "        \n",
    "        chosen_sections_len += document_section.tokens + separator_len\n",
    "        if chosen_sections_len > MAX_SECTION_LEN:\n",
    "            break\n",
    "            \n",
    "        chosen_sections.append(SEPARATOR + document_section.content.replace(\"\\n\", \" \"))\n",
    "        chosen_sections_indexes.append(str(section_index))\n",
    "            \n",
    "    # Useful diagnostic information\n",
    "    print(f\"Selected {len(chosen_sections)} document sections:\")\n",
    "    print(\"\\n\".join(chosen_sections_indexes))\n",
    "    \n",
    "    header = \"\"\"Answer the question as truthfully as possible using the provided context, and if the answer is not contained within the text below, say \"I don't know.\"\\n\\nContext:\\n\"\"\"\n",
    "    \n",
    "    return header + \"\".join(chosen_sections) + \"\\n\\n Q: \" + question + \"\\n A:\""
   ]
  },
  {
   "cell_type": "code",
   "execution_count": 15,
   "id": "f614045a-3917-4b28-9643-7e0c299ec1a7",
   "metadata": {},
   "outputs": [
    {
     "name": "stdout",
     "output_type": "stream",
     "text": [
      "Selected 2 document sections:\n",
      "('Fluids and Electrolytes 15.2 Basic Fluid and Electrolyte Concepts', 'Open Resources for Nursing (Open RN) Before learning about how to care for patients with fluid and electrolyte imbalances, it is important to understand the physiological processes of the bodyâ\\x80\\x99s regulatory mechanisms. The body is in a constant state of change as fluids and electrolytes are shifted in and out of cells within the body in an attempt to maintain a nearly perfect balance. A slight change in either direction can have significant consequences on various body systems.')\n",
      "('Fluids and Electrolytes 15.1 Fluids and Electrolytes Introduction', 'Learning Objectives Describe variables that influence fluid and electrolyte balance Identify factors related to fluid/electrolyte balance across the life span Assess a patientâ\\x80\\x99s nutritional and fluid/electrolyte status Outline specific nursing interventions to promote fluid and electrolyte balance Base decisions on the signs and symptoms of fluid volume excess and fluid volume deficit Base decisions on the interpretation of diagnostic tests and lab values indicative of a disturbance in fluid and electrolyte balance Identify evidence-based practices The human body maintains a delicate balance of fluids and electrolytes to help ensure proper functioning and homeostasis. When fluids or electrolytes become imbalanced, individuals are at risk for organ system dysfunction. If an imbalance goes undetected and is left untreated, organ systems cannot function properly and ultimately death will occur. Nurses must be able to recognize subtle changes in fluid or electrolyte balances in their patients so they can intervene promptly. Timely assessment and intervention prevent complications and save lives.')\n",
      "===\n",
      " Answer the question as truthfully as possible using the provided context, and if the answer is not contained within the text below, say \"I don't know.\"\n",
      "\n",
      "Context:\n",
      "\n",
      "* Fluids and Electrolytes 15.2 Basic Fluid and Electrolyte Concepts Open Resources for Nursing (Open RN) Before learning about how to care for patients with fluid and electrolyte imbalances, it is important to understand the physiological processes of the bodyâs regulatory mechanisms. The body is in a constant state of change as fluids and electrolytes are shifted in and out of cells within the body in an attempt to maintain a nearly perfect balance. A slight change in either direction can have significant consequences on various body systems.\n",
      "* Fluids and Electrolytes 15.1 Fluids and Electrolytes Introduction Learning Objectives Describe variables that influence fluid and electrolyte balance Identify factors related to fluid/electrolyte balance across the life span Assess a patientâs nutritional and fluid/electrolyte status Outline specific nursing interventions to promote fluid and electrolyte balance Base decisions on the signs and symptoms of fluid volume excess and fluid volume deficit Base decisions on the interpretation of diagnostic tests and lab values indicative of a disturbance in fluid and electrolyte balance Identify evidence-based practices The human body maintains a delicate balance of fluids and electrolytes to help ensure proper functioning and homeostasis. When fluids or electrolytes become imbalanced, individuals are at risk for organ system dysfunction. If an imbalance goes undetected and is left untreated, organ systems cannot function properly and ultimately death will occur. Nurses must be able to recognize subtle changes in fluid or electrolyte balances in their patients so they can intervene promptly. Timely assessment and intervention prevent complications and save lives.\n",
      "\n",
      " Q: What are Basic Fluid and Electrolyte Concepts?\n",
      " A:\n"
     ]
    }
   ],
   "source": [
    "prompt = construct_prompt(\n",
    "    \"What are Basic Fluid and Electrolyte Concepts?\",\n",
    "    document_embeddings,\n",
    "    df\n",
    ")\n",
    "\n",
    "print(\"===\\n\", prompt)"
   ]
  },
  {
   "cell_type": "code",
   "execution_count": 16,
   "id": "b0edfec7-9243-4573-92e0-253d31c771ad",
   "metadata": {},
   "outputs": [],
   "source": [
    "COMPLETIONS_API_PARAMS = {\n",
    "    # We use temperature of 0.0 because it gives the most predictable, factual answer.\n",
    "    \"temperature\": 0.0,\n",
    "    \"max_tokens\": 300,\n",
    "    \"model\": COMPLETIONS_MODEL,\n",
    "}"
   ]
  },
  {
   "cell_type": "code",
   "execution_count": 17,
   "id": "9c1c9a69-848e-4099-a90d-c8da36c153d5",
   "metadata": {},
   "outputs": [],
   "source": [
    "def answer_query_with_context(\n",
    "    query: str,\n",
    "    df: pd.DataFrame,\n",
    "    document_embeddings: dict[(str, str), np.array],\n",
    "    show_prompt: bool = False\n",
    ") -> str:\n",
    "    prompt = construct_prompt(\n",
    "        query,\n",
    "        document_embeddings,\n",
    "        df\n",
    "    )\n",
    "    \n",
    "    if show_prompt:\n",
    "        print(prompt)\n",
    "\n",
    "    response = openai.Completion.create(\n",
    "                prompt=prompt,\n",
    "                **COMPLETIONS_API_PARAMS\n",
    "            )\n",
    "\n",
    "    return response[\"choices\"][0][\"text\"].strip(\" \\n\")"
   ]
  },
  {
   "cell_type": "code",
   "execution_count": 18,
   "id": "c233e449-bf33-4c9e-b095-6a4dd278c8fd",
   "metadata": {},
   "outputs": [
    {
     "name": "stdout",
     "output_type": "stream",
     "text": [
      "Selected 1 document sections:\n",
      "('Sleep and Rest 12.1 Sleep & Rest Introduction', 'Learning Objectives Assess factors that put patients at risk for problems with sleep Identify factors related to sleep/rest across the life span Recognize characteristics of sleep deprivation Consider the use of nonpharmacological measures to promote sleep and rest Identify evidence-based practices Maslowâ\\x80\\x99s hierarchy of needs indicates sleep as one of our physiological requirements. Getting enough quality sleep at the right times according to our circadian rhythms can protect mental and physical health, safety, and quality of life. Conversely, chronic sleep deficiency increases the risk of heart disease, kidney disease, high blood pressure, diabetes, and stroke, as well as weakening the immune system.Trossman, S. (2018, November 7). Nurses offer strategies to promote patientsâ\\x80\\x99 rest and sleep. American Nurse. https://www.myamericannurse.com/strategies-promote-patients-rest-sleep/ This chapter will review the physiology of sleep and common sleep disorders, as well as interventions to promote good sleep.')\n"
     ]
    },
    {
     "data": {
      "text/plain": [
       "'Sleep & Rest Introduction is an overview of the physiology of sleep and common sleep disorders, as well as interventions to promote good sleep.'"
      ]
     },
     "execution_count": 18,
     "metadata": {},
     "output_type": "execute_result"
    }
   ],
   "source": [
    "answer_query_with_context(\"What is Sleep & Rest Introduction?\", df, document_embeddings)"
   ]
  },
  {
   "cell_type": "code",
   "execution_count": 19,
   "id": "1127867b-2884-44bb-9439-0e8ae171c835",
   "metadata": {},
   "outputs": [
    {
     "name": "stdout",
     "output_type": "stream",
     "text": [
      "Selected 1 document sections:\n",
      "('Scope of Practice 1.4 Health Care Settings & Team', 'Health Care Settings There are several levels of health care including primary, secondary, and tertiary care. Each of these levels focuses on different aspects of health care and is typically provided in different settings. Primary Care Primary care promotes wellness and prevents disease. This care includes health promotion, education, protection (such as immunizations), early disease screening, and environmental considerations. Settings providing this type of health care include physician offices, public health clinics, school nursing, and community health nursing. Secondary care Secondary care occurs when a person has contracted an illness or injury and requires medical care. Secondary care is often referred to as acute care. Secondary care can range from uncomplicated care to repair a small laceration or treat a strep throat infection to more complicated emergent care such as treating a head injury sustained in an automobile accident. Whatever the problem, the patient needs medical and nursing attention to return to a state of health and wellness. Secondary care is provided in settings such as physician offices, clinics, urgent care facilities, or hospitals. Specialized units include areas such as burn care, neurosurgery, cardiac surgery, and transplant services. Tertiary Care Tertiary care addresses the long-term effects from chronic illnesses or conditions with the purpose to restore a patientâ\\x80\\x99s maximum physical and mental function. The goal of tertiary care is to achieve the highest level of functioning possible while managing the chronic illness. For example, a patient who falls and fractures their hip will need secondary care to set the broken bones, but may need tertiary care to regain their strength and ability to walk even after the bones have healed. Patients with incurable diseases, such as dementia, may need specialized tertiary care to provide support they need for daily functioning. Tertiary care settings include rehabilitation units, assisted living facilities, adult day care, skilled nursing units, home care, and hospice centers.')\n",
      "\n",
      "Q: What is secondary care in the medical field and in what types of settings is it typically provided?\n",
      "A: Secondary care occurs when a person has contracted an illness or injury and requires medical care. Secondary care is often referred to as acute care. Secondary care can range from uncomplicated care to repair a small laceration or treat a strep throat infection to more complicated emergent care such as treating a head injury sustained in an automobile accident. Settings providing this type of health care include physician offices, clinics, urgent care facilities, or hospitals.\n"
     ]
    }
   ],
   "source": [
    "query = \"What is secondary care in the medical field and in what types of settings is it typically provided?\"\n",
    "answer = answer_query_with_context(query, df, document_embeddings)\n",
    "\n",
    "print(f\"\\nQ: {query}\\nA: {answer}\")"
   ]
  },
  {
   "cell_type": "code",
   "execution_count": 20,
   "id": "720d9e0b-b189-4101-91ee-babf736199e6",
   "metadata": {},
   "outputs": [
    {
     "name": "stdout",
     "output_type": "stream",
     "text": [
      "Selected 2 document sections:\n",
      "('Spirituality 18.6 Putting It All Together', 'Patient Scenario Mr. Yun is a 34-year-old man presenting to his physicianâ\\x80\\x99s office with complaints of difficulty concentrating, sadness, and anxiety. The patient recently experienced the loss of his wife in a motor vehicle accident and reports difficulty sleeping and weight loss of greater than 15 pounds in the previous month. He reports feeling â\\x80\\x9chopelessâ\\x80\\x9d and â\\x80\\x9cangry at Godâ\\x80\\x9d for the loss that he has experienced. He states he used to attend religious services with his wife, but â\\x80\\x9cThat was really more of â\\x80\\x98herâ\\x80\\x99 thing. I really donâ\\x80\\x99t know what to believe anymore.â\\x80\\x9d')\n",
      "('Grief and Loss 17.7 Putting It All Together', 'Patient Scenario Mr. Yun is a 34-year-old man presenting to his physicianâ\\x80\\x99s office for a follow-up visit. The patient recently experienced the loss of his wife in a motor vehicle accident and reports, â\\x80\\x9cI have problems concentrating and I canâ\\x80\\x99t sleep at night.â\\x80\\x9d The patient chart indicates he has lost 15 pounds since his previous visit last month. He reports, â\\x80\\x9cI have a hard time getting out of bed in the morning.â\\x80\\x9d On further questioning, heÂ\\xa0 admits drinking 5-6 alcoholic beverages every night to â\\x80\\x9cnumb myself.â\\x80\\x9d')\n",
      "\n",
      "Q: In the 2020 Summer Olympics, how many gold medals did the country which won the most medals win?\n",
      "A: I don't know.\n"
     ]
    }
   ],
   "source": [
    "query = \"In the 2020 Summer Olympics, how many gold medals did the country which won the most medals win?\"\n",
    "answer = answer_query_with_context(query, df, document_embeddings)\n",
    "\n",
    "print(f\"\\nQ: {query}\\nA: {answer}\")"
   ]
  },
  {
   "cell_type": "code",
   "execution_count": 21,
   "id": "4e8e51cc-e4eb-4557-9e09-2929d4df5b7f",
   "metadata": {},
   "outputs": [
    {
     "name": "stdout",
     "output_type": "stream",
     "text": [
      "Selected 2 document sections:\n",
      "('Spirituality 18.6 Putting It All Together', 'Patient Scenario Mr. Yun is a 34-year-old man presenting to his physicianâ\\x80\\x99s office with complaints of difficulty concentrating, sadness, and anxiety. The patient recently experienced the loss of his wife in a motor vehicle accident and reports difficulty sleeping and weight loss of greater than 15 pounds in the previous month. He reports feeling â\\x80\\x9chopelessâ\\x80\\x9d and â\\x80\\x9cangry at Godâ\\x80\\x9d for the loss that he has experienced. He states he used to attend religious services with his wife, but â\\x80\\x9cThat was really more of â\\x80\\x98herâ\\x80\\x99 thing. I really donâ\\x80\\x99t know what to believe anymore.â\\x80\\x9d')\n",
      "('Grief and Loss 17.7 Putting It All Together', 'Patient Scenario Mr. Yun is a 34-year-old man presenting to his physicianâ\\x80\\x99s office for a follow-up visit. The patient recently experienced the loss of his wife in a motor vehicle accident and reports, â\\x80\\x9cI have problems concentrating and I canâ\\x80\\x99t sleep at night.â\\x80\\x9d The patient chart indicates he has lost 15 pounds since his previous visit last month. He reports, â\\x80\\x9cI have a hard time getting out of bed in the morning.â\\x80\\x9d On further questioning, heÂ\\xa0 admits drinking 5-6 alcoholic beverages every night to â\\x80\\x9cnumb myself.â\\x80\\x9d')\n",
      "\n",
      "Q: What was unusual about the men’s shotput competition?\n",
      "A: I don't know.\n"
     ]
    }
   ],
   "source": [
    "query = \"What was unusual about the men’s shotput competition?\"\n",
    "answer = answer_query_with_context(query, df, document_embeddings)\n",
    "\n",
    "print(f\"\\nQ: {query}\\nA: {answer}\")"
   ]
  },
  {
   "cell_type": "code",
   "execution_count": 22,
   "id": "37c83519-e3c6-4c44-8b4a-98cbb3a5f5ba",
   "metadata": {},
   "outputs": [
    {
     "name": "stdout",
     "output_type": "stream",
     "text": [
      "Selected 3 document sections:\n",
      "('Sleep and Rest 12.4 Putting It All Together', 'Patient Scenario Mrs. Salvo is a 65-year-old woman admitted to the hospital for a gastrointestinal (GI) bleed. She has been hospitalized for three days on the medical surgical floor. During this time, she has received four units of PRBCs, has undergone a colonoscopy, upper GI series, and had hemoglobin levels drawn every four hours. The nurse reports to the patientâ\\x80\\x99s room to conduct an assessment prior to beginning the 11 p.m.-7 a.m. shift. Although Mrs. Salvoâ\\x80\\x99s hemoglobin has stabilized for the last 24 hours, Mrs. Salvo appears fatigued with bags under her eyes. In conversation with her, she yawns frequently and wanders off in her train of thought. She reports, â\\x80\\x9cYou canâ\\x80\\x99t get any rest in here. I am poked and prodded at least once an hour.â\\x80\\x9d')\n",
      "('Spirituality 18.6 Putting It All Together', 'Patient Scenario Mr. Yun is a 34-year-old man presenting to his physicianâ\\x80\\x99s office with complaints of difficulty concentrating, sadness, and anxiety. The patient recently experienced the loss of his wife in a motor vehicle accident and reports difficulty sleeping and weight loss of greater than 15 pounds in the previous month. He reports feeling â\\x80\\x9chopelessâ\\x80\\x9d and â\\x80\\x9cangry at Godâ\\x80\\x9d for the loss that he has experienced. He states he used to attend religious services with his wife, but â\\x80\\x9cThat was really more of â\\x80\\x98herâ\\x80\\x99 thing. I really donâ\\x80\\x99t know what to believe anymore.â\\x80\\x9d')\n",
      "('Safety 5.10 Putting It All Together', 'Patient Scenario Mr. Olson is a 64-year-old patient admitted to the medical surgical floor with a diagnosis of pneumonia. The patient has severe macular degeneration and limited visual acuity. He is alert and oriented but notes that he has suffered a â\\x80\\x9cfew stumblesâ\\x80\\x9d at home over the last few weeks. He ambulates without assistance but relies heavily on tactile cues to help provide guidance.')\n",
      "\n",
      "Q: In the 2020 Summer Olympics, how many silver medals did Italy win?\n",
      "A: I don't know.\n"
     ]
    }
   ],
   "source": [
    "query = \"In the 2020 Summer Olympics, how many silver medals did Italy win?\"\n",
    "answer = answer_query_with_context(query, df, document_embeddings)\n",
    "\n",
    "print(f\"\\nQ: {query}\\nA: {answer}\")"
   ]
  },
  {
   "cell_type": "code",
   "execution_count": 23,
   "id": "26a1a9ef-e1ee-4f80-a1b1-6164ccfa5bac",
   "metadata": {},
   "outputs": [
    {
     "name": "stdout",
     "output_type": "stream",
     "text": [
      "Selected 2 document sections:\n",
      "('Spirituality 18.6 Putting It All Together', 'Patient Scenario Mr. Yun is a 34-year-old man presenting to his physicianâ\\x80\\x99s office with complaints of difficulty concentrating, sadness, and anxiety. The patient recently experienced the loss of his wife in a motor vehicle accident and reports difficulty sleeping and weight loss of greater than 15 pounds in the previous month. He reports feeling â\\x80\\x9chopelessâ\\x80\\x9d and â\\x80\\x9cangry at Godâ\\x80\\x9d for the loss that he has experienced. He states he used to attend religious services with his wife, but â\\x80\\x9cThat was really more of â\\x80\\x98herâ\\x80\\x99 thing. I really donâ\\x80\\x99t know what to believe anymore.â\\x80\\x9d')\n",
      "('Nutrition 14.4 Putting It All Together', 'Patient Scenario Mr. Curtis is a 47-year-old patient admitted to the hospital with increased weakness, fatigue, and dehydration. His skin appears dry, and tenting occurs when skin turgor is evaluated. He is currently undergoing chemotherapy treatment for multiple myeloma and has experienced weight loss of 10 pounds within the last two weeks. He describes that â\\x80\\x9cnothing tastes good,â\\x80\\x9d and he feels as if there is â\\x80\\x9cmetal taste in his mouth.â\\x80\\x9d When he does eat small meals, he reports that he is often nauseous. The patientâ\\x80\\x99s serum protein level is 3.1 g/dL.')\n",
      "\n",
      "Q: What is the total number of medals won by France, multiplied by the number of Taekwondo medals given out to all countries?\n",
      "A: I don't know.\n"
     ]
    }
   ],
   "source": [
    "query = \"What is the total number of medals won by France, multiplied by the number of Taekwondo medals given out to all countries?\"\n",
    "answer = answer_query_with_context(query, df, document_embeddings)\n",
    "\n",
    "print(f\"\\nQ: {query}\\nA: {answer}\")"
   ]
  }
 ],
 "metadata": {
  "kernelspec": {
   "display_name": "Python 3",
   "language": "python",
   "name": "python3"
  },
  "language_info": {
   "codemirror_mode": {
    "name": "ipython",
    "version": 3
   },
   "file_extension": ".py",
   "mimetype": "text/x-python",
   "name": "python",
   "nbconvert_exporter": "python",
   "pygments_lexer": "ipython3",
   "version": "3.11.1"
  },
  "vscode": {
   "interpreter": {
    "hash": "80f1ed4dddd1d5fd563917308b5bc349875962a5b9194abcd8ac906ac7961ad2"
   }
  }
 },
 "nbformat": 4,
 "nbformat_minor": 5
}
